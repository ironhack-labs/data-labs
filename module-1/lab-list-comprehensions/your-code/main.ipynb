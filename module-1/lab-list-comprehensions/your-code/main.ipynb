{
 "cells": [
  {
   "cell_type": "markdown",
   "metadata": {},
   "source": [
    "# List Comprehensions Lab\n",
    "\n",
    "Complete the following set of exercises to solidify your knowledge of list comprehensions."
   ]
  },
  {
   "cell_type": "code",
   "execution_count": 1,
   "metadata": {},
   "outputs": [],
   "source": [
    "import os\n",
    "import numpy as np\n",
    "import pandas as pd"
   ]
  },
  {
   "cell_type": "markdown",
   "metadata": {},
   "source": [
    "### 1. Use a list comprehension to create and print a list of consecutive integers starting with 1 and ending with 50."
   ]
  },
  {
   "cell_type": "code",
   "execution_count": 5,
   "metadata": {},
   "outputs": [
    {
     "name": "stdout",
     "output_type": "stream",
     "text": [
      "[1, 2, 3, 4, 5, 6, 7, 8, 9, 10, 11, 12, 13, 14, 15, 16, 17, 18, 19, 20, 21, 22, 23, 24, 25, 26, 27, 28, 29, 30, 31, 32, 33, 34, 35, 36, 37, 38, 39, 40, 41, 42, 43, 44, 45, 46, 47, 48, 49, 50]\n"
     ]
    }
   ],
   "source": [
    "list_to_50 = [x for x in range(1, 51)]\n",
    "print(list_to_50)"
   ]
  },
  {
   "cell_type": "markdown",
   "metadata": {},
   "source": [
    "### 2. Use a list comprehension to create and print a list of even numbers starting with 2 and ending with 200."
   ]
  },
  {
   "cell_type": "code",
   "execution_count": 6,
   "metadata": {},
   "outputs": [
    {
     "name": "stdout",
     "output_type": "stream",
     "text": [
      "[2, 4, 6, 8, 10, 12, 14, 16, 18, 20, 22, 24, 26, 28, 30, 32, 34, 36, 38, 40, 42, 44, 46, 48, 50, 52, 54, 56, 58, 60, 62, 64, 66, 68, 70, 72, 74, 76, 78, 80, 82, 84, 86, 88, 90, 92, 94, 96, 98, 100, 102, 104, 106, 108, 110, 112, 114, 116, 118, 120, 122, 124, 126, 128, 130, 132, 134, 136, 138, 140, 142, 144, 146, 148, 150, 152, 154, 156, 158, 160, 162, 164, 166, 168, 170, 172, 174, 176, 178, 180, 182, 184, 186, 188, 190, 192, 194, 196, 198, 200]\n"
     ]
    }
   ],
   "source": [
    "list_even_200 = [x for x in range(2, 201, 2)]\n",
    "print(list_even_200)"
   ]
  },
  {
   "cell_type": "markdown",
   "metadata": {},
   "source": [
    "### 3. Use a list comprehension to create and print a list containing all elements of the 10 x 4 Numpy array below."
   ]
  },
  {
   "cell_type": "code",
   "execution_count": 8,
   "metadata": {},
   "outputs": [],
   "source": [
    "a = np.array([[0.84062117, 0.48006452, 0.7876326 , 0.77109654],\n",
    "       [0.44409793, 0.09014516, 0.81835917, 0.87645456],\n",
    "       [0.7066597 , 0.09610873, 0.41247947, 0.57433389],\n",
    "       [0.29960807, 0.42315023, 0.34452557, 0.4751035 ],\n",
    "       [0.17003563, 0.46843998, 0.92796258, 0.69814654],\n",
    "       [0.41290051, 0.19561071, 0.16284783, 0.97016248],\n",
    "       [0.71725408, 0.87702738, 0.31244595, 0.76615487],\n",
    "       [0.20754036, 0.57871812, 0.07214068, 0.40356048],\n",
    "       [0.12149553, 0.53222417, 0.9976855 , 0.12536346],\n",
    "       [0.80930099, 0.50962849, 0.94555126, 0.33364763]])"
   ]
  },
  {
   "cell_type": "code",
   "execution_count": 10,
   "metadata": {},
   "outputs": [
    {
     "name": "stdout",
     "output_type": "stream",
     "text": [
      "[0.84062117, 0.48006452, 0.7876326, 0.77109654, 0.44409793, 0.09014516, 0.81835917, 0.87645456, 0.7066597, 0.09610873, 0.41247947, 0.57433389, 0.29960807, 0.42315023, 0.34452557, 0.4751035, 0.17003563, 0.46843998, 0.92796258, 0.69814654, 0.41290051, 0.19561071, 0.16284783, 0.97016248, 0.71725408, 0.87702738, 0.31244595, 0.76615487, 0.20754036, 0.57871812, 0.07214068, 0.40356048, 0.12149553, 0.53222417, 0.9976855, 0.12536346, 0.80930099, 0.50962849, 0.94555126, 0.33364763]\n"
     ]
    }
   ],
   "source": [
    "# all_elements = []\n",
    "\n",
    "# for array in a:\n",
    "#     for element in array:\n",
    "#        all_elements.append(element)\n",
    "\n",
    "# print(all_elements)\n",
    "\n",
    "all_elements = [element for array in a for element in array]\n",
    "print(all_elements)"
   ]
  },
  {
   "cell_type": "markdown",
   "metadata": {},
   "source": [
    "### 4. Add a condition to the list comprehension above so that only values greater than or equal to 0.5 are printed."
   ]
  },
  {
   "cell_type": "code",
   "execution_count": 11,
   "metadata": {},
   "outputs": [
    {
     "name": "stdout",
     "output_type": "stream",
     "text": [
      "[0.84062117, 0.7876326, 0.77109654, 0.81835917, 0.87645456, 0.7066597, 0.57433389, 0.92796258, 0.69814654, 0.97016248, 0.71725408, 0.87702738, 0.76615487, 0.57871812, 0.53222417, 0.9976855, 0.80930099, 0.50962849, 0.94555126]\n"
     ]
    }
   ],
   "source": [
    "all_half_or_greater = [element for array in a for element in array if element >= 0.5]\n",
    "print(all_half_or_greater)"
   ]
  },
  {
   "cell_type": "markdown",
   "metadata": {},
   "source": [
    "### 5. Use a list comprehension to create and print a list containing all elements of the 5 x 2 x 3 Numpy array below."
   ]
  },
  {
   "cell_type": "code",
   "execution_count": 33,
   "metadata": {},
   "outputs": [],
   "source": [
    "b = np.array([[[0.55867166, 0.06210792, 0.08147297],\n",
    "        [0.82579068, 0.91512478, 0.06833034]],\n",
    "\n",
    "       [[0.05440634, 0.65857693, 0.30296619],\n",
    "        [0.06769833, 0.96031863, 0.51293743]],\n",
    "\n",
    "       [[0.09143215, 0.71893382, 0.45850679],\n",
    "        [0.58256464, 0.59005654, 0.56266457]],\n",
    "\n",
    "       [[0.71600294, 0.87392666, 0.11434044],\n",
    "        [0.8694668 , 0.65669313, 0.10708681]],\n",
    "\n",
    "       [[0.07529684, 0.46470767, 0.47984544],\n",
    "        [0.65368638, 0.14901286, 0.23760688]]])"
   ]
  },
  {
   "cell_type": "code",
   "execution_count": 34,
   "metadata": {},
   "outputs": [
    {
     "name": "stdout",
     "output_type": "stream",
     "text": [
      "[0.55867166, 0.06210792, 0.08147297, 0.82579068, 0.91512478, 0.06833034, 0.05440634, 0.65857693, 0.30296619, 0.06769833, 0.96031863, 0.51293743, 0.09143215, 0.71893382, 0.45850679, 0.58256464, 0.59005654, 0.56266457, 0.71600294, 0.87392666, 0.11434044, 0.8694668, 0.65669313, 0.10708681, 0.07529684, 0.46470767, 0.47984544, 0.65368638, 0.14901286, 0.23760688]\n"
     ]
    }
   ],
   "source": [
    "# all_elements = []\n",
    "\n",
    "# for x in b:\n",
    "#     for y in x:\n",
    "#         for z in y:\n",
    "#             all_elements.append(z)\n",
    "\n",
    "# print(all_elements)\n",
    "\n",
    "all_elements = [z for x in b for y in x for z in y]\n",
    "print(all_elements)"
   ]
  },
  {
   "cell_type": "markdown",
   "metadata": {},
   "source": [
    "### 5. Add a condition to the list comprehension above so that the last value in each subarray is printed, but only if it is less than or equal to 0.5."
   ]
  },
  {
   "cell_type": "code",
   "execution_count": 61,
   "metadata": {},
   "outputs": [
    {
     "name": "stdout",
     "output_type": "stream",
     "text": [
      "[0.08147297, 0.06833034, 0.30296619, 0.45850679, 0.11434044, 0.10708681, 0.47984544, 0.23760688]\n"
     ]
    }
   ],
   "source": [
    "all_elements = [z for x in b for y in x for z in y if z == y[-1] and z <= 0.5]\n",
    "print(all_elements)"
   ]
  },
  {
   "cell_type": "markdown",
   "metadata": {},
   "source": [
    "### 6. Use a list comprehension to select and print the names of all CSV files in the */data* directory."
   ]
  },
  {
   "cell_type": "code",
   "execution_count": 102,
   "metadata": {},
   "outputs": [
    {
     "name": "stdout",
     "output_type": "stream",
     "text": [
      "['sample_file_1.csv', 'sample_file_0.csv', 'sample_file_2.csv', 'sample_file_3.csv', 'sample_file_7.csv', 'sample_file_6.csv', 'sample_file_4.csv', 'sample_file_5.csv', 'sample_file_8.csv', 'sample_file_9.csv']\n"
     ]
    }
   ],
   "source": [
    "\n",
    "all_csvs = [file for file in os.listdir('../data') if file.endswith('.csv')]\n",
    "print(all_csvs)"
   ]
  },
  {
   "cell_type": "markdown",
   "metadata": {},
   "source": [
    "### 7. Use a list comprehension and the Pandas `read_csv` and `concat` methods to read all CSV files in the */data* directory and combine them into a single data frame. Display the top 10 rows of the resulting data frame."
   ]
  },
  {
   "cell_type": "code",
   "execution_count": 109,
   "metadata": {},
   "outputs": [
    {
     "name": "stdout",
     "output_type": "stream",
     "text": [
      "          0         1         2  ...        17        18        19\n",
      "0  0.276827  0.260054  0.942397  ...  0.069162  0.952291  0.286542\n",
      "1  0.995885  0.158381  0.244274  ...  0.232135  0.549324  0.572232\n",
      "2  0.641917  0.821055  0.392437  ...  0.430411  0.531757  0.489528\n",
      "3  0.806532  0.569258  0.148175  ...  0.402791  0.685976  0.246594\n",
      "4  0.311185  0.501165  0.365979  ...  0.229109  0.022881  0.479022\n",
      "0  0.734751  0.195362  0.734309  ...  0.293260  0.937828  0.880858\n",
      "1  0.772607  0.445391  0.249642  ...  0.389789  0.016787  0.503695\n",
      "2  0.226428  0.268764  0.694262  ...  0.334802  0.517694  0.646110\n",
      "3  0.362748  0.495430  0.113876  ...  0.141746  0.771144  0.489660\n",
      "\n",
      "[9 rows x 20 columns]\n"
     ]
    }
   ],
   "source": [
    "# pd.set_option('display.max_row', 10)\n",
    "# pd.set_option('display.max_columns', 7) # this was done for legibility\n",
    "\n",
    "os.chdir('../data')\n",
    "\n",
    "df = pd.concat([pd.read_csv(file) for file in all_csvs])\n",
    "\n",
    "print(df.head(9))\n"
   ]
  },
  {
   "cell_type": "markdown",
   "metadata": {},
   "source": [
    "### 8. Use a list comprehension to select and print the column numbers for columns from the data set whose median is less than 0.48."
   ]
  },
  {
   "cell_type": "code",
   "execution_count": 111,
   "metadata": {},
   "outputs": [
    {
     "name": "stdout",
     "output_type": "stream",
     "text": [
      "['2', '9', '12', '14', '17']\n"
     ]
    }
   ],
   "source": [
    "medians = [col for col in df if df[col].median() < 0.48]\n",
    "print(medians)"
   ]
  },
  {
   "cell_type": "markdown",
   "metadata": {},
   "source": [
    "### 9. Use a list comprehension to add a new column (20) to the data frame whose values are the values in column 19 minus 0.1. Display the top 10 rows of the resulting data frame."
   ]
  },
  {
   "cell_type": "code",
   "execution_count": 117,
   "metadata": {},
   "outputs": [
    {
     "name": "stdout",
     "output_type": "stream",
     "text": [
      "          0         1         2  ...        18        19        20\n",
      "0  0.276827  0.260054  0.942397  ...  0.952291  0.286542  0.186542\n",
      "1  0.995885  0.158381  0.244274  ...  0.549324  0.572232  0.472232\n",
      "2  0.641917  0.821055  0.392437  ...  0.531757  0.489528  0.389528\n",
      "3  0.806532  0.569258  0.148175  ...  0.685976  0.246594  0.146594\n",
      "4  0.311185  0.501165  0.365979  ...  0.022881  0.479022  0.379022\n",
      "0  0.734751  0.195362  0.734309  ...  0.937828  0.880858  0.780858\n",
      "1  0.772607  0.445391  0.249642  ...  0.016787  0.503695  0.403695\n",
      "2  0.226428  0.268764  0.694262  ...  0.517694  0.646110  0.546110\n",
      "3  0.362748  0.495430  0.113876  ...  0.771144  0.489660  0.389660\n",
      "\n",
      "[9 rows x 21 columns]\n"
     ]
    }
   ],
   "source": [
    "df['20'] = [(value-0.1) for value in df['19']]\n",
    "print(df.head(9))"
   ]
  },
  {
   "cell_type": "markdown",
   "metadata": {},
   "source": [
    "### 10. Use a list comprehension to extract and print all values from the data set that are between 0.7 and 0.75."
   ]
  },
  {
   "cell_type": "code",
   "execution_count": 125,
   "metadata": {},
   "outputs": [
    {
     "name": "stdout",
     "output_type": "stream",
     "text": [
      "[0.7347510852128797, 0.7025657075988269, 0.7132714209987683, 0.7280006345208285, 0.736029494090402, 0.7472962776291713, 0.7258310816144985, 0.7343092314001137, 0.7358941798147411, 0.7365416322783028, 0.7088042362916818, 0.7329024831531535, 0.7023481768180954, 0.7133695725698419, 0.7476323136755818, 0.7008930873050235, 0.7357618655811269, 0.7013619954419494, 0.7268545088531969, 0.7032248108904495, 0.7150799992177622, 0.7173964318670598, 0.7306642125209889, 0.7124169515124726, 0.71223975981198, 0.7383982036983279, 0.7298115760258881, 0.7051334608870933, 0.7321333453970806, 0.7178166705957928, 0.7374449181749492, 0.7159290265157912, 0.7294980584878026, 0.7215147068185102, 0.7045750112959754, 0.7111584953876777, 0.7209375615129192, 0.7396561066717461, 0.7303553716733908, 0.7133690799930356, 0.7356923324968598, 0.7390312927111312, 0.7078738356977186, 0.7321533684342264, 0.7490680818183477, 0.7085098152301276, 0.7130781095091867, 0.7264121114538001, 0.7196096371031628, 0.7393833032570581, 0.7244863338885654, 0.7033930409580709, 0.7274869207330491, 0.7376946446827494]\n",
      "0.7490680818183477\n",
      "0.7008930873050235\n"
     ]
    }
   ],
   "source": [
    "# last_one = []\n",
    "\n",
    "# for col in df:\n",
    "#     for rowval in df[col]:\n",
    "#         if rowval > 0.7 and rowval < 0.75:\n",
    "#             last_one.append(rowval)\n",
    "\n",
    "# print(last_one)\n",
    "\n",
    "listcomp = [row_val for col in df for row_val in df[col] if row_val > 0.7 and row_val < 0.75]\n",
    "print(listcomp)\n",
    "print(max(listcomp)) # to check\n",
    "print(min(listcomp)) # to check\n"
   ]
  },
  {
   "cell_type": "code",
   "execution_count": null,
   "metadata": {},
   "outputs": [],
   "source": []
  }
 ],
 "metadata": {
  "kernelspec": {
   "display_name": "Python 3",
   "language": "python",
   "name": "python3"
  },
  "language_info": {
   "codemirror_mode": {
    "name": "ipython",
    "version": 3
   },
   "file_extension": ".py",
   "mimetype": "text/x-python",
   "name": "python",
   "nbconvert_exporter": "python",
   "pygments_lexer": "ipython3",
   "version": "3.7.3"
  }
 },
 "nbformat": 4,
 "nbformat_minor": 2
}
