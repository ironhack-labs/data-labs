{
 "cells": [
  {
   "cell_type": "markdown",
   "metadata": {},
   "source": [
    "# Before your start:\n",
    "- Read the README.md file\n",
    "- Comment as much as you can and use the resources in the README.md file\n",
    "- Happy learning!"
   ]
  },
  {
   "cell_type": "markdown",
   "metadata": {},
   "source": [
    "# Challenge 1 - Working with JSON files\n",
    "\n",
    "Import the pandas library"
   ]
  },
  {
   "cell_type": "code",
   "execution_count": 16,
   "metadata": {},
   "outputs": [],
   "source": [
    "# Your import here:\n",
    "import pandas as pd\n"
   ]
  },
  {
   "cell_type": "markdown",
   "metadata": {},
   "source": [
    "####  After importing pandas, let's find a dataset. In this lesson we will be working with a NASA dataset.\n",
    "\n",
    "Run the code in the cell below to load the dataset containing information about asteroids that have landed on earth. This piece of code helps us open the URL for the dataset and deocde the data using UTF-8."
   ]
  },
  {
   "cell_type": "code",
   "execution_count": 17,
   "metadata": {},
   "outputs": [],
   "source": [
    "# Run this code\n",
    "\n",
    "from urllib.request import urlopen\n",
    "import json\n",
    "\n",
    "response = urlopen(\"https://data.nasa.gov/resource/y77d-th95.json\")\n",
    "json_data = response.read().decode('utf-8', 'replace')"
   ]
  },
  {
   "cell_type": "markdown",
   "metadata": {},
   "source": [
    "In the next cell, load the data in `json_data` and load it into a pandas dataframe. Name the dataframe `nasa`."
   ]
  },
  {
   "cell_type": "code",
   "execution_count": 18,
   "metadata": {},
   "outputs": [],
   "source": [
    "# Your code here:\n",
    "# print(json_data)\n",
    "nasa = pd.read_json(json_data, orient = 'records') # using records because the JSON is structured as a list with dicts, where each dict is a complete set of records\n",
    "# we didn't have to put json_data in quotes because it is not a filename, it is a variable already assigned\n",
    "\n"
   ]
  },
  {
   "cell_type": "markdown",
   "metadata": {},
   "source": [
    "Now that we have loaded the data, let's examine it using the `head()` function."
   ]
  },
  {
   "cell_type": "code",
   "execution_count": 19,
   "metadata": {},
   "outputs": [
    {
     "name": "stdout",
     "output_type": "stream",
     "text": [
      "   :@computed_region_cbhk_fwbd  :@computed_region_nnqa_25f4  fall  \\\n",
      "0                          NaN                          NaN  Fell   \n",
      "1                          NaN                          NaN  Fell   \n",
      "2                          NaN                          NaN  Fell   \n",
      "3                          NaN                          NaN  Fell   \n",
      "4                          NaN                          NaN  Fell   \n",
      "\n",
      "                                         geolocation   id      mass      name  \\\n",
      "0  {'type': 'Point', 'coordinates': [6.08333, 50....    1      21.0    Aachen   \n",
      "1  {'type': 'Point', 'coordinates': [10.23333, 56...    2     720.0    Aarhus   \n",
      "2  {'type': 'Point', 'coordinates': [-113, 54.216...    6  107000.0      Abee   \n",
      "3  {'type': 'Point', 'coordinates': [-99.9, 16.88...   10    1914.0  Acapulco   \n",
      "4  {'type': 'Point', 'coordinates': [-64.95, -33....  370     780.0   Achiras   \n",
      "\n",
      "  nametype     recclass    reclat    reclong                     year  \n",
      "0    Valid           L5  50.77500    6.08333  1880-01-01T00:00:00.000  \n",
      "1    Valid           H6  56.18333   10.23333  1951-01-01T00:00:00.000  \n",
      "2    Valid          EH4  54.21667 -113.00000  1952-01-01T00:00:00.000  \n",
      "3    Valid  Acapulcoite  16.88333  -99.90000  1976-01-01T00:00:00.000  \n",
      "4    Valid           L6 -33.16667  -64.95000  1902-01-01T00:00:00.000  \n"
     ]
    }
   ],
   "source": [
    "# Your code here:\n",
    "print(nasa.head())\n",
    "# couple odd column names come out, but still confident that orient='records' was the right call. tried the others, they look rough too "
   ]
  },
  {
   "cell_type": "markdown",
   "metadata": {},
   "source": [
    "#### The `value_counts()` function is commonly used in pandas to find the frequency of every value in a column.\n",
    "\n",
    "In the cell below, use the `value_counts()` function to determine the frequency of all types of asteroid landings by applying the function to the `fall` column."
   ]
  },
  {
   "cell_type": "code",
   "execution_count": 20,
   "metadata": {},
   "outputs": [
    {
     "data": {
      "text/plain": [
       "Fell     996\n",
       "Found      4\n",
       "Name: fall, dtype: int64"
      ]
     },
     "execution_count": 20,
     "metadata": {},
     "output_type": "execute_result"
    }
   ],
   "source": [
    "# Your code here:\n",
    "nasa['fall'].value_counts()\n"
   ]
  },
  {
   "cell_type": "markdown",
   "metadata": {},
   "source": [
    "Finally, let's save the dataframe as a json file again. Since we downloaded the file from an online source, the goal of saving the dataframe is to have a local copy. Save the dataframe using the `orient=records` argument and name the file `nasa.json`."
   ]
  },
  {
   "cell_type": "code",
   "execution_count": 21,
   "metadata": {},
   "outputs": [],
   "source": [
    "# Your code here:\n",
    "nasa.to_json('nasa.json', orient = 'records')\n"
   ]
  },
  {
   "cell_type": "markdown",
   "metadata": {},
   "source": [
    "# Challenge 2 - Working with CSV and Other Separated Files\n",
    "\n",
    "csv files are more commonly used as dataframes. In the cell below, load the file from the URL provided using the `read_csv()` function in pandas. Starting version 0.19 of pandas, you can load a csv file into a dataframe directly from a URL without having to load the file first like we did with the JSON URL. The dataset we will be using contains informtaions about NASA shuttles. \n",
    "\n",
    "In the cell below, we define the column names and the URL of the data. Following this cell, read the tst file to a variable called `shuttle`. Since the file does not contain the column names, you must add them yourself using the column names declared in `cols` using the `names` argument. Additionally, a tst file is space separated, make sure you pass ` sep=' '` to the function."
   ]
  },
  {
   "cell_type": "code",
   "execution_count": 22,
   "metadata": {},
   "outputs": [],
   "source": [
    "# Run this code:\n",
    "\n",
    "cols = ['time', 'rad_flow', 'fpv_close', 'fpv_open', 'high', 'bypass', 'bpv_close', 'bpv_open', 'class']\n",
    "tst_url = 'https://archive.ics.uci.edu/ml/machine-learning-databases/statlog/shuttle/shuttle.tst'"
   ]
  },
  {
   "cell_type": "code",
   "execution_count": 23,
   "metadata": {},
   "outputs": [],
   "source": [
    "# Your code here:\n",
    "shuttle = pd.read_csv(tst_url, sep = ' ', names = cols)\n",
    "\n"
   ]
  },
  {
   "cell_type": "markdown",
   "metadata": {},
   "source": [
    "Let's verify that this worked by looking at the `head()` function."
   ]
  },
  {
   "cell_type": "code",
   "execution_count": 24,
   "metadata": {},
   "outputs": [
    {
     "name": "stdout",
     "output_type": "stream",
     "text": [
      "    time  rad_flow  fpv_close  fpv_open  high  bypass  bpv_close  bpv_open  \\\n",
      "55     0        81          0        -6    11      25         88        64   \n",
      "56     0        96          0        52    -4      40         44         4   \n",
      "50    -1        89         -7        50     0      39         40         2   \n",
      "53     9        79          0        42    -2      25         37        12   \n",
      "55     2        82          0        54    -6      26         28         2   \n",
      "\n",
      "    class  \n",
      "55      4  \n",
      "56      4  \n",
      "50      1  \n",
      "53      4  \n",
      "55      1  \n"
     ]
    }
   ],
   "source": [
    "# Your code here:\n",
    "print(shuttle.head())\n"
   ]
  },
  {
   "cell_type": "markdown",
   "metadata": {},
   "source": [
    "To make life easier for us, let's turn this dataframe into a comma separated file by saving it using the `to_csv()` function. Save `shuttle` into the file `shuttle.csv` and ensure the file is comma separated and that we are not saving the index column."
   ]
  },
  {
   "cell_type": "code",
   "execution_count": 25,
   "metadata": {},
   "outputs": [],
   "source": [
    "# Your code here:\n",
    "shuttle.to_csv('shuttle.csv', sep = ',', index=False)\n"
   ]
  },
  {
   "cell_type": "markdown",
   "metadata": {},
   "source": [
    "# Challenge 3 - Working with Excel Files\n",
    "\n",
    "We can also use pandas to convert excel spreadsheets to dataframes. Let's use the `read_excel()` function. In this case, `astronauts.xls` is in the same folder that contains this notebook. Read this file into a variable called `astronaut`. \n",
    "\n",
    "Note: Make sure to install the `xlrd` library if it is not yet installed."
   ]
  },
  {
   "cell_type": "code",
   "execution_count": 26,
   "metadata": {},
   "outputs": [],
   "source": [
    "# Your code here:\n",
    "# pip3 install xlrd\n",
    "astronaut = pd.read_excel('astronauts.xls')\n"
   ]
  },
  {
   "cell_type": "markdown",
   "metadata": {},
   "source": [
    "Use the `head()` function to inspect the dataframe."
   ]
  },
  {
   "cell_type": "code",
   "execution_count": 27,
   "metadata": {},
   "outputs": [
    {
     "name": "stdout",
     "output_type": "stream",
     "text": [
      "               Name    Year  Group   Status Birth Date    Birth Place Gender  \\\n",
      "0   Joseph M. Acaba  2004.0   19.0   Active 1967-05-17  Inglewood, CA   Male   \n",
      "1    Loren W. Acton     NaN    NaN  Retired 1936-03-07   Lewiston, MT   Male   \n",
      "2  James C. Adamson  1984.0   10.0  Retired 1946-03-03     Warsaw, NY   Male   \n",
      "3   Thomas D. Akers  1987.0   12.0  Retired 1951-05-20  St. Louis, MO   Male   \n",
      "4       Buzz Aldrin  1963.0    3.0  Retired 1930-01-20  Montclair, NJ   Male   \n",
      "\n",
      "                                          Alma Mater     Undergraduate Major  \\\n",
      "0  University of California-Santa Barbara; Univer...                 Geology   \n",
      "1   Montana State University; University of Colorado     Engineering Physics   \n",
      "2          US Military Academy; Princeton University             Engineering   \n",
      "3                       University of Missouri-Rolla     Applied Mathematics   \n",
      "4                           US Military Academy; MIT  Mechanical Engineering   \n",
      "\n",
      "          Graduate Major Military Rank         Military Branch  Space Flights  \\\n",
      "0                Geology           NaN                     NaN              2   \n",
      "1          Solar Physics           NaN                     NaN              1   \n",
      "2  Aerospace Engineering       Colonel       US Army (Retired)              2   \n",
      "3    Applied Mathematics       Colonel  US Air Force (Retired)              4   \n",
      "4           Astronautics       Colonel  US Air Force (Retired)              2   \n",
      "\n",
      "   Space Flight (hr)  Space Walks  Space Walks (hr)  \\\n",
      "0               3307            2              13.0   \n",
      "1                190            0               0.0   \n",
      "2                334            0               0.0   \n",
      "3                814            4              29.0   \n",
      "4                289            2               8.0   \n",
      "\n",
      "                                            Missions Death Date Death Mission  \n",
      "0             STS-119 (Discovery), ISS-31/32 (Soyuz)        NaT           NaN  \n",
      "1                              STS 51-F (Challenger)        NaT           NaN  \n",
      "2               STS-28 (Columbia), STS-43 (Atlantis)        NaT           NaN  \n",
      "3  STS-41 (Discovery), STS-49 (Endeavor), STS-61 ...        NaT           NaN  \n",
      "4                               Gemini 12, Apollo 11        NaT           NaN  \n"
     ]
    }
   ],
   "source": [
    "# Your code here:\n",
    "print(astronaut.head())\n"
   ]
  },
  {
   "cell_type": "markdown",
   "metadata": {},
   "source": [
    "Use the `value_counts()` function to find the most popular undergraduate major among all astronauts."
   ]
  },
  {
   "cell_type": "code",
   "execution_count": 29,
   "metadata": {},
   "outputs": [
    {
     "name": "stdout",
     "output_type": "stream",
     "text": [
      "Physics                     35\n",
      "Aerospace Engineering       33\n",
      "Mechanical Engineering      30\n",
      "Aeronautical Engineering    28\n",
      "Electrical Engineering      23\n",
      "Name: Undergraduate Major, dtype: int64\n"
     ]
    }
   ],
   "source": [
    "# Your code here:\n",
    "print(astronaut['Undergraduate Major'].value_counts().head())\n"
   ]
  },
  {
   "cell_type": "markdown",
   "metadata": {},
   "source": [
    "Due to all the commas present in the cells of this file, let's save it as a tab separated csv file. In the cell below, save `astronaut` as a tab separated file using the `to_csv` function. Call the file `astronaut.csv` and remember to remove the index column."
   ]
  },
  {
   "cell_type": "code",
   "execution_count": 30,
   "metadata": {},
   "outputs": [],
   "source": [
    "# Your code here:\n",
    "astronaut.to_csv('astronaut.csv', sep = '\\t', index=False)\n"
   ]
  },
  {
   "cell_type": "markdown",
   "metadata": {},
   "source": [
    "# Bonus Challenge - Fertility Dataset\n",
    "\n",
    "Visit the following [URL](https://archive.ics.uci.edu/ml/datasets/Fertility) and retrieve the dataset as well as the column headers. Determine the correct separator and read the file into a variable called `fertility`. Examine the dataframe using the `head()` function."
   ]
  },
  {
   "cell_type": "code",
   "execution_count": 31,
   "metadata": {},
   "outputs": [
    {
     "name": "stdout",
     "output_type": "stream",
     "text": [
      "   season   age  diseases_as_child  trauma  surgical_intervention  \\\n",
      "0   -0.33  0.69                  0       1                      1   \n",
      "1   -0.33  0.94                  1       0                      1   \n",
      "2   -0.33  0.50                  1       0                      0   \n",
      "3   -0.33  0.75                  0       1                      1   \n",
      "4   -0.33  0.67                  1       1                      0   \n",
      "\n",
      "   fevers_this_year  freq_alcohol  smoking  sitting output  \n",
      "0                 0           0.8        0     0.88      N  \n",
      "1                 0           0.8        1     0.31      O  \n",
      "2                 0           1.0       -1     0.50      N  \n",
      "3                 0           1.0       -1     0.38      N  \n",
      "4                 0           0.8       -1     0.50      O  \n"
     ]
    }
   ],
   "source": [
    "# Your code here:\n",
    "colnames = ['season', 'age', 'diseases_as_child', 'trauma', 'surgical_intervention', 'fevers_this_year', 'freq_alcohol', 'smoking', 'sitting', 'output']\n",
    "fertility = pd.read_csv('fertility_Diagnosis.txt', sep = ',', names = colnames)\n",
    "\n",
    "print(fertility.head())\n"
   ]
  },
  {
   "cell_type": "code",
   "execution_count": null,
   "metadata": {},
   "outputs": [],
   "source": []
  }
 ],
 "metadata": {
  "kernelspec": {
   "display_name": "Python 3",
   "language": "python",
   "name": "python3"
  },
  "language_info": {
   "codemirror_mode": {
    "name": "ipython",
    "version": 3
   },
   "file_extension": ".py",
   "mimetype": "text/x-python",
   "name": "python",
   "nbconvert_exporter": "python",
   "pygments_lexer": "ipython3",
   "version": "3.7.3"
  }
 },
 "nbformat": 4,
 "nbformat_minor": 2
}
