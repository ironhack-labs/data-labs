{
 "cells": [
  {
   "cell_type": "markdown",
   "metadata": {},
   "source": [
    "# Web Scraping Lab\n",
    "\n",
    "You will find in this notebook some scrapy exercises to practise your scraping skills.\n",
    "\n",
    "**Tips:**\n",
    "\n",
    "- Check the response status code for each request to ensure you have obtained the intended contennt.\n",
    "- Print the response text in each request to understand the kind of info you are getting and its format.\n",
    "- Check for patterns in the response text to extract the data/info requested in each question.\n",
    "- Visit each url and take a look at its source through Chrome DevTools. You'll need to identify the html tags, special class names etc. used for the html content you are expected to extract."
   ]
  },
  {
   "cell_type": "markdown",
   "metadata": {},
   "source": [
    "- [Requests library](http://docs.python-requests.org/en/master/#the-user-guide) documentation \n",
    "- [Beautiful Soup Doc](https://www.crummy.com/software/BeautifulSoup/bs4/doc/)\n",
    "- [Urllib](https://docs.python.org/3/library/urllib.html#module-urllib)\n",
    "- [re lib](https://docs.python.org/3/library/re.html)\n",
    "- [lxml lib](https://lxml.de/)\n",
    "- [Scrapy](https://scrapy.org/)\n",
    "- [List of HTTP status codes](https://en.wikipedia.org/wiki/List_of_HTTP_status_codes)\n",
    "- [HTML basics](http://www.simplehtmlguide.com/cheatsheet.php)\n",
    "- [CSS basics](https://www.cssbasics.com/#page_start)"
   ]
  },
  {
   "cell_type": "markdown",
   "metadata": {},
   "source": [
    "#### Below are the libraries and modules you may need. `requests`,  `BeautifulSoup` and `pandas` are imported for you. If you prefer to use additional libraries feel free to uncomment them."
   ]
  },
  {
   "cell_type": "code",
   "execution_count": 20,
   "metadata": {},
   "outputs": [],
   "source": [
    "import requests\n",
    "from bs4 import BeautifulSoup as bs\n",
    "import pandas as pd\n",
    "# from pprint import pprint\n",
    "# from lxml import html\n",
    "# from lxml.html import fromstring\n",
    "# import urllib2\n",
    "# import re\n",
    "import urllib.request\n",
    "from urllib.request import urlopen\n",
    "# import random\n",
    "# import re\n",
    "# import scrapy"
   ]
  },
  {
   "cell_type": "markdown",
   "metadata": {},
   "source": [
    "#### Download, parse (using BeautifulSoup), and print the content from the Trending Developers page from GitHub:"
   ]
  },
  {
   "cell_type": "code",
   "execution_count": 21,
   "metadata": {},
   "outputs": [],
   "source": [
    "# This is the url you will scrape in this exercise\n",
    "url = 'https://github.com/trending/developers'"
   ]
  },
  {
   "cell_type": "code",
   "execution_count": 22,
   "metadata": {},
   "outputs": [],
   "source": [
    "#your code\n",
    "\n",
    "html = requests.get(url).content\n",
    "soup = bs(html, \"html.parser\")\n",
    "names = soup.find_all('tab',{'class':'col-md-6'})\n"
   ]
  },
  {
   "cell_type": "code",
   "execution_count": 23,
   "metadata": {},
   "outputs": [
    {
     "name": "stdout",
     "output_type": "stream",
     "text": [
      "M0nica (Monica Powell)\n",
      "route (Dmitry Vorotilin)\n",
      "alexcrichton (Alex Crichton)\n",
      "timdeschryver (Tim Deschryver)\n",
      "vmarkovtsev (Vadim Markovtsev)\n",
      "navdeep-G (Navdeep Gill)\n",
      "swapagarwal (Swapnil Agarwal)\n",
      "elprans (Elvis Pranskevichus)\n",
      "mathiasbynens (Mathias Bynens)\n",
      "mperham (Mike Perham)\n",
      "lpil (Louis Pilfold)\n",
      "rasbt (Sebastian Raschka)\n",
      "jenkoian (Ian Jenkins)\n",
      "gakonst (Georgios Konstantopoulos)\n",
      "asvetlov (Andrew Svetlov)\n",
      "cezaraugusto (Cezar Augusto)\n",
      "fzaninotto (Francois Zaninotto)\n",
      "samuelcolvin (Samuel Colvin)\n",
      "tomchristie (Tom Christie)\n",
      "johanbrandhorst (Johan Brandhorst)\n",
      "streamich (Vadim Dalecky)\n",
      "apparentlymart (Martin Atkins)\n",
      "nvie (Vincent Driessen)\n",
      "sindresorhus (Sindre Sorhus)\n",
      "developit (Jason Miller)\n"
     ]
    }
   ],
   "source": [
    "for i, el in enumerate(names):\n",
    "    if i % 2 == 0:\n",
    "        text = el.text.replace('\\n', '').split()\n",
    "        name = ' '.join(text[:-1])\n",
    "        username = text[-1]\n",
    "        \n",
    "    \n",
    "        print(username, f\"({name})\") #[-1] username [:-1] name\n",
    "       "
   ]
  },
  {
   "cell_type": "markdown",
   "metadata": {},
   "source": [
    "#### Display the names of the trending developers retrieved in the previous step.\n",
    "\n",
    "Your output should be a Python list of developer names. Each name should not contain any html tag.\n",
    "\n",
    "**Instructions:**\n",
    "\n",
    "1. Find out the html tag and class names used for the developer names. You can achieve this using Chrome DevTools.\n",
    "\n",
    "1. Use BeautifulSoup to extract all the html elements that contain the developer names.\n",
    "\n",
    "1. Use string manipulation techniques to replace whitespaces and linebreaks (i.e. `\\n`) in the *text* of each html element. Use a list to store the clean names.\n",
    "\n",
    "1. Print the list of names.\n",
    "\n",
    "Your output should look like below:\n",
    "\n",
    "```\n",
    "['trimstray (@trimstray)',\n",
    " 'joewalnes (JoeWalnes)',\n",
    " 'charlax (Charles-AxelDein)',\n",
    " 'ForrestKnight (ForrestKnight)',\n",
    " 'revery-ui (revery-ui)',\n",
    " 'alibaba (Alibaba)',\n",
    " 'Microsoft (Microsoft)',\n",
    " 'github (GitHub)',\n",
    " 'facebook (Facebook)',\n",
    " 'boazsegev (Bo)',\n",
    " 'google (Google)',\n",
    " 'cloudfetch',\n",
    " 'sindresorhus (SindreSorhus)',\n",
    " 'tensorflow',\n",
    " 'apache (TheApacheSoftwareFoundation)',\n",
    " 'DevonCrawford (DevonCrawford)',\n",
    " 'ARMmbed (ArmMbed)',\n",
    " 'vuejs (vuejs)',\n",
    " 'fastai (fast.ai)',\n",
    " 'QiShaoXuan (Qi)',\n",
    " 'joelparkerhenderson (JoelParkerHenderson)',\n",
    " 'torvalds (LinusTorvalds)',\n",
    " 'CyC2018',\n",
    " 'komeiji-satori (神楽坂覚々)',\n",
    " 'script-8']\n",
    " ```"
   ]
  },
  {
   "cell_type": "code",
   "execution_count": null,
   "metadata": {},
   "outputs": [],
   "source": []
  },
  {
   "cell_type": "code",
   "execution_count": null,
   "metadata": {},
   "outputs": [],
   "source": []
  },
  {
   "cell_type": "markdown",
   "metadata": {},
   "source": [
    "#### Display the trending Python repositories in GitHub\n",
    "\n",
    "The steps to solve this problem is similar to the previous one except that you need to find out the repository names instead of developer names."
   ]
  },
  {
   "cell_type": "code",
   "execution_count": 24,
   "metadata": {},
   "outputs": [],
   "source": [
    "# This is the url you will scrape in this exercise\n",
    "url = 'https://github.com/trending/python?since=daily'"
   ]
  },
  {
   "cell_type": "code",
   "execution_count": 27,
   "metadata": {},
   "outputs": [],
   "source": [
    "#your code\n",
    "html = requests.get(url).content\n",
    "soup = bs(html, \"html.parser\")\n",
    "names = soup.find_all('h1',{'class':'h3 lh-condensed'})"
   ]
  },
  {
   "cell_type": "code",
   "execution_count": 28,
   "metadata": {},
   "outputs": [
    {
     "name": "stdout",
     "output_type": "stream",
     "text": [
      "streamlit streamlit\n",
      "kornia arraiyopensource\n",
      "home-assistant home-assistant\n",
      "cupy cupy\n",
      "pwnagotchi evilsocket\n",
      "system-design-primer donnemartin\n",
      "odoo odoo\n",
      "calibre-web janeczku\n",
      "pytorch-CycleGAN-and-pix2pix junyanz\n",
      "openshift-ansible openshift\n",
      "edx-platform edx\n",
      "bcc iovisor\n",
      "keras keras-team\n"
     ]
    }
   ],
   "source": [
    "for i, el in enumerate(names):\n",
    "    if i % 2 == 0:\n",
    "        text = el.text.replace('\\n', '').split()  \n",
    "        print(text[-1] + ' ' + text[0]) "
   ]
  },
  {
   "cell_type": "markdown",
   "metadata": {},
   "source": [
    "#### Display all the image links from Walt Disney wikipedia page"
   ]
  },
  {
   "cell_type": "code",
   "execution_count": 29,
   "metadata": {},
   "outputs": [],
   "source": [
    "# This is the url you will scrape in this exercise\n",
    "url = 'https://en.wikipedia.org/wiki/Walt_Disney'"
   ]
  },
  {
   "cell_type": "code",
   "execution_count": 30,
   "metadata": {},
   "outputs": [
    {
     "name": "stdout",
     "output_type": "stream",
     "text": [
      "['//upload.wikimedia.org/wikipedia/en/thumb/e/e7/Cscr-featured.svg/20px-Cscr-featured.svg.png', '//upload.wikimedia.org/wikipedia/en/thumb/1/1b/Semi-protection-shackle.svg/20px-Semi-protection-shackle.svg.png', '//upload.wikimedia.org/wikipedia/commons/thumb/d/df/Walt_Disney_1946.JPG/220px-Walt_Disney_1946.JPG', '//upload.wikimedia.org/wikipedia/commons/thumb/8/87/Walt_Disney_1942_signature.svg/150px-Walt_Disney_1942_signature.svg.png', '//upload.wikimedia.org/wikipedia/commons/thumb/c/c4/Walt_Disney_envelope_ca._1921.jpg/220px-Walt_Disney_envelope_ca._1921.jpg', '//upload.wikimedia.org/wikipedia/commons/thumb/4/4d/Newman_Laugh-O-Gram_%281921%29.webm/220px-seek%3D2-Newman_Laugh-O-Gram_%281921%29.webm.jpg', '//upload.wikimedia.org/wikipedia/commons/thumb/0/0d/Trolley_Troubles_poster.jpg/170px-Trolley_Troubles_poster.jpg', '//upload.wikimedia.org/wikipedia/commons/thumb/7/71/Walt_Disney_and_his_cartoon_creation_%22Mickey_Mouse%22_-_National_Board_of_Review_Magazine.jpg/170px-Walt_Disney_and_his_cartoon_creation_%22Mickey_Mouse%22_-_National_Board_of_Review_Magazine.jpg', '//upload.wikimedia.org/wikipedia/en/thumb/4/4e/Steamboat-willie.jpg/170px-Steamboat-willie.jpg', '//upload.wikimedia.org/wikipedia/commons/thumb/5/57/Walt_Disney_1935.jpg/170px-Walt_Disney_1935.jpg', '//upload.wikimedia.org/wikipedia/commons/thumb/c/cd/Walt_Disney_Snow_white_1937_trailer_screenshot_%2813%29.jpg/220px-Walt_Disney_Snow_white_1937_trailer_screenshot_%2813%29.jpg', '//upload.wikimedia.org/wikipedia/commons/thumb/1/15/Disney_drawing_goofy.jpg/170px-Disney_drawing_goofy.jpg', '//upload.wikimedia.org/wikipedia/commons/thumb/1/13/DisneySchiphol1951.jpg/220px-DisneySchiphol1951.jpg', '//upload.wikimedia.org/wikipedia/commons/thumb/8/8c/WaltDisneyplansDisneylandDec1954.jpg/220px-WaltDisneyplansDisneylandDec1954.jpg', '//upload.wikimedia.org/wikipedia/commons/thumb/f/ff/Walt_disney_portrait_right.jpg/170px-Walt_disney_portrait_right.jpg', '//upload.wikimedia.org/wikipedia/commons/thumb/1/1a/Walt_Disney_Grave.JPG/170px-Walt_Disney_Grave.JPG', '//upload.wikimedia.org/wikipedia/commons/thumb/2/2d/Roy_O._Disney_with_Company_at_Press_Conference.jpg/170px-Roy_O._Disney_with_Company_at_Press_Conference.jpg', '//upload.wikimedia.org/wikipedia/commons/thumb/a/a9/Disney_Display_Case.JPG/170px-Disney_Display_Case.JPG', '//upload.wikimedia.org/wikipedia/commons/thumb/6/6c/Disney1968.jpg/170px-Disney1968.jpg', '//upload.wikimedia.org/wikipedia/en/thumb/8/8a/OOjs_UI_icon_edit-ltr-progressive.svg/10px-OOjs_UI_icon_edit-ltr-progressive.svg.png', '//upload.wikimedia.org/wikipedia/commons/thumb/d/da/Animation_disc.svg/30px-Animation_disc.svg.png', '//upload.wikimedia.org/wikipedia/en/thumb/6/69/P_vip.svg/29px-P_vip.svg.png', '//upload.wikimedia.org/wikipedia/commons/thumb/1/1a/Magic_Kingdom_castle.jpg/24px-Magic_Kingdom_castle.jpg', '//upload.wikimedia.org/wikipedia/en/thumb/e/e7/Video-x-generic.svg/30px-Video-x-generic.svg.png', '//upload.wikimedia.org/wikipedia/commons/thumb/a/a3/Flag_of_Los_Angeles_County%2C_California.svg/30px-Flag_of_Los_Angeles_County%2C_California.svg.png', '//upload.wikimedia.org/wikipedia/commons/thumb/8/8c/Blank_television_set.svg/30px-Blank_television_set.svg.png', '//upload.wikimedia.org/wikipedia/en/thumb/a/a4/Flag_of_the_United_States.svg/30px-Flag_of_the_United_States.svg.png', '//upload.wikimedia.org/wikipedia/en/thumb/4/4a/Commons-logo.svg/22px-Commons-logo.svg.png', '//upload.wikimedia.org/wikipedia/commons/thumb/f/fa/Wikiquote-logo.svg/25px-Wikiquote-logo.svg.png', '//upload.wikimedia.org/wikipedia/commons/thumb/f/ff/Wikidata-logo.svg/30px-Wikidata-logo.svg.png', '//upload.wikimedia.org/wikipedia/en/thumb/8/8a/OOjs_UI_icon_edit-ltr-progressive.svg/10px-OOjs_UI_icon_edit-ltr-progressive.svg.png', '//en.wikipedia.org/wiki/Special:CentralAutoLogin/start?type=1x1', '/static/images/wikimedia-button.png', '/static/images/poweredby_mediawiki_88x31.png']\n"
     ]
    }
   ],
   "source": [
    "html = requests.get(url).content\n",
    "soup = bs(html, \"html.parser\")\n",
    "\n",
    "link_images = []\n",
    "for img in soup.find_all('img'):\n",
    "    link_images.append(img.get('src')) \n",
    "\n",
    "print(link_images)\n",
    "\n",
    "\n",
    "#will need to rearrange, clean list\n",
    "\n",
    "# list_of_links\n",
    "# names = soup.find_all('h1',{'class':'h3 lh-condensed'})\n",
    "# names\n",
    "#your code"
   ]
  },
  {
   "cell_type": "markdown",
   "metadata": {},
   "source": [
    "#### Retrieve an arbitary Wikipedia page of \"Python\" and create a list of links on that page"
   ]
  },
  {
   "cell_type": "code",
   "execution_count": 44,
   "metadata": {},
   "outputs": [],
   "source": [
    "# This is the url you will scrape in this exercise\n",
    "url ='https://en.wikipedia.org/wiki/Python' "
   ]
  },
  {
   "cell_type": "code",
   "execution_count": 50,
   "metadata": {},
   "outputs": [
    {
     "name": "stdout",
     "output_type": "stream",
     "text": [
      "[('https://en.wikipedia.org/wiki/Python', 'http'), ('https://en.wiktionary.org/wiki/Python', 'http'), ('https://en.wiktionary.org/wiki/python', 'http'), ('https://en.wikipedia.org/w/index.php?title=Special:WhatLinksHere/Python&amp;namespace=0', 'http'), ('https://en.wikipedia.org/w/index.php?title=Python&amp;oldid=918851926', 'http'), ('https://donate.wikimedia.org/wiki/Special:FundraiserRedirector?utm_source=donate&amp;utm_medium=sidebar&amp;utm_campaign=C13_en.wikipedia.org&amp;uselang=en', 'http'), ('https://www.wikidata.org/wiki/Special:EntityPage/Q747452', 'http'), ('https://commons.wikimedia.org/wiki/Category:Python', 'http'), ('https://af.wikipedia.org/wiki/Python', 'http'), ('https://als.wikipedia.org/wiki/Python', 'http'), ('https://az.wikipedia.org/wiki/Python', 'http'), ('https://bn.wikipedia.org/wiki/%E0%A6%AA%E0%A6%BE%E0%A6%87%E0%A6%A5%E0%A6%A8_(%E0%A6%A6%E0%A7%8D%E0%A6%AC%E0%A7%8D%E0%A6%AF%E0%A6%B0%E0%A7%8D%E0%A6%A5%E0%A6%A4%E0%A6%BE_%E0%A6%A8%E0%A6%BF%E0%A6%B0%E0%A6%B8%E0%A6%A8)', 'http'), ('https://be.wikipedia.org/wiki/Python', 'http'), ('https://bg.wikipedia.org/wiki/%D0%9F%D0%B8%D1%82%D0%BE%D0%BD_(%D0%BF%D0%BE%D1%8F%D1%81%D0%BD%D0%B5%D0%BD%D0%B8%D0%B5)', 'http'), ('https://cs.wikipedia.org/wiki/Python_(rozcestn%C3%ADk)', 'http'), ('https://da.wikipedia.org/wiki/Python', 'http'), ('https://de.wikipedia.org/wiki/Python', 'http'), ('https://eo.wikipedia.org/wiki/Pitono_(apartigilo)', 'http'), ('https://eu.wikipedia.org/wiki/Python_(argipena)', 'http'), ('https://fa.wikipedia.org/wiki/%D9%BE%D8%A7%DB%8C%D8%AA%D9%88%D9%86', 'http'), ('https://fr.wikipedia.org/wiki/Python', 'http'), ('https://ko.wikipedia.org/wiki/%ED%8C%8C%EC%9D%B4%EC%84%A0', 'http'), ('https://hr.wikipedia.org/wiki/Python_(razdvojba)', 'http'), ('https://io.wikipedia.org/wiki/Pitono', 'http'), ('https://id.wikipedia.org/wiki/Python', 'http'), ('https://ia.wikipedia.org/wiki/Python_(disambiguation)', 'http'), ('https://is.wikipedia.org/wiki/Python_(a%C3%B0greining)', 'http'), ('https://it.wikipedia.org/wiki/Python_(disambigua)', 'http'), ('https://he.wikipedia.org/wiki/%D7%A4%D7%99%D7%AA%D7%95%D7%9F', 'http'), ('https://ka.wikipedia.org/wiki/%E1%83%9E%E1%83%98%E1%83%97%E1%83%9D%E1%83%9C%E1%83%98_(%E1%83%9B%E1%83%A0%E1%83%90%E1%83%95%E1%83%90%E1%83%9A%E1%83%9B%E1%83%9C%E1%83%98%E1%83%A8%E1%83%95%E1%83%9C%E1%83%94%E1%83%9A%E1%83%9D%E1%83%95%E1%83%90%E1%83%9C%E1%83%98)', 'http'), ('https://kg.wikipedia.org/wiki/Mboma_(nyoka)', 'http'), ('https://la.wikipedia.org/wiki/Python_(discretiva)', 'http'), ('https://lb.wikipedia.org/wiki/Python', 'http'), ('https://hu.wikipedia.org/wiki/Python_(egy%C3%A9rtelm%C5%B1s%C3%ADt%C5%91_lap)', 'http'), ('https://mr.wikipedia.org/wiki/%E0%A4%AA%E0%A4%BE%E0%A4%AF%E0%A4%A5%E0%A5%89%E0%A4%A8_(%E0%A4%86%E0%A4%9C%E0%A5%8D%E0%A4%9E%E0%A4%BE%E0%A4%B5%E0%A4%B2%E0%A5%80_%E0%A4%AD%E0%A4%BE%E0%A4%B7%E0%A4%BE)', 'http'), ('https://nl.wikipedia.org/wiki/Python', 'http'), ('https://ja.wikipedia.org/wiki/%E3%83%91%E3%82%A4%E3%82%BD%E3%83%B3', 'http'), ('https://no.wikipedia.org/wiki/Pyton', 'http'), ('https://pl.wikipedia.org/wiki/Pyton', 'http'), ('https://pt.wikipedia.org/wiki/Python_(desambigua%C3%A7%C3%A3o)', 'http'), ('https://ru.wikipedia.org/wiki/Python_(%D0%B7%D0%BD%D0%B0%D1%87%D0%B5%D0%BD%D0%B8%D1%8F)', 'http'), ('https://sd.wikipedia.org/wiki/%D8%A7%D8%B1%DA%99', 'http'), ('https://sk.wikipedia.org/wiki/Python', 'http'), ('https://sh.wikipedia.org/wiki/Python', 'http'), ('https://fi.wikipedia.org/wiki/Python', 'http'), ('https://sv.wikipedia.org/wiki/Pyton', 'http'), ('https://th.wikipedia.org/wiki/%E0%B9%84%E0%B8%9E%E0%B8%97%E0%B8%AD%E0%B8%99', 'http'), ('https://tr.wikipedia.org/wiki/Python', 'http'), ('https://uk.wikipedia.org/wiki/%D0%9F%D1%96%D1%84%D0%BE%D0%BD', 'http'), ('https://ur.wikipedia.org/wiki/%D9%BE%D8%A7%D8%A6%DB%8C%D8%AA%DA%BE%D9%88%D9%86', 'http'), ('https://vi.wikipedia.org/wiki/Python', 'http'), ('https://zh.wikipedia.org/wiki/Python_(%E6%B6%88%E6%AD%A7%E4%B9%89)', 'http'), ('https://www.wikidata.org/wiki/Special:EntityPage/Q747452#sitelinks-wikipedia', 'http'), ('https://foundation.wikimedia.org/wiki/Privacy_policy', 'http'), ('https://www.mediawiki.org/wiki/Special:MyLanguage/How_to_contribute', 'http'), ('https://foundation.wikimedia.org/wiki/Cookie_statement', 'http'), ('https://wikimediafoundation.org/', 'http'), ('https://www.mediawiki.org/', 'http')]\n"
     ]
    }
   ],
   "source": [
    "#your code\n",
    "html = requests.get(url).content\n",
    "soup = bs(html, \"html.parser\")\n",
    "links = re.findall('\"((http|ftp)s?://.*?)\"', str(soup))\n",
    "\n",
    "print(links)"
   ]
  },
  {
   "cell_type": "markdown",
   "metadata": {},
   "source": [
    "#### Number of Titles that have changed in the United States Code since its last release point "
   ]
  },
  {
   "cell_type": "code",
   "execution_count": 118,
   "metadata": {},
   "outputs": [],
   "source": [
    "# This is the url you will scrape in this exercise\n",
    "# url = 'http://uscode.house.gov/download/download.shtml'\n",
    "\n",
    "url = 'https://uscode.house.gov/detailed_guide.xhtml'"
   ]
  },
  {
   "cell_type": "code",
   "execution_count": 120,
   "metadata": {},
   "outputs": [
    {
     "data": {
      "text/plain": [
       "[<p class=\"aboutclass\">\n",
       " <ol id=\"tbl\" type=\"I\">\n",
       " <li><a href=\"#general\">In General</a></li>\n",
       " <li><a href=\"#second\">Section Designation and Editing</a></li>\n",
       " <li><a href=\"#source_credits\">Source Credits</a></li>\n",
       " <li><a href=\"#statutory\">Statutory Notes</a></li>\n",
       " <li><a href=\"#editorial\">Editorial Notes</a></li>\n",
       " <li><a href=\"#appendices\">Appendices</a></li>\n",
       " <li><a href=\"#tables_popnames\">Tables, Popular Names, and General Index</a></li>\n",
       " <li><a href=\"#code_versions\">Code Versions</a></li>\n",
       " <li><a href=\"#currency_updating\">Currency and Updating</a></li>\n",
       " <li><a href=\"#class_laws\">Classification of Laws</a></li>\n",
       " <li><a href=\"#positive_law\">Positive Law Codification</a></li>\n",
       " <li><a href=\"#faq\">Frequently Asked Questions and Glossary</a></li>\n",
       " </ol>\n",
       " </p>,\n",
       " <p class=\"aboutclass\">The United States Code (\"Code\") contains the general and\n",
       "             permanent laws of the United States, arranged into 54 broad titles\n",
       "             according to subject matter. The organization of the Code was\n",
       "             originally established by Congress in 1926 with the enactment of the\n",
       "             act of June 30, 1926, chapter 712. Since then, 27 of the titles,\n",
       "             referred to as positive law titles, have been restated and enacted\n",
       "             into law by Congress as titles of the Code. The remaining titles,\n",
       "             referred to as non-positive law titles, are made up of sections from\n",
       "             many acts of Congress that were either included in the original Code\n",
       "             or subsequently added by the editors of the Code, i.e., the Office of\n",
       "             the Law Revision Counsel, and its predecessors in the House of\n",
       "             Representatives. Positive law titles are identified by an asterisk on\n",
       "             the \n",
       "             <a href=\"/browse.xhtml\">Search &amp; Browse</a> page. For an explanation of the meaning of\n",
       "             positive law, see the \n",
       "             <a href=\"/codification/legislation.shtml\">Positive Law Codification</a> page.</p>,\n",
       " <p class=\"aboutclass\">Each title of the Code is subdivided into a combination of smaller\n",
       "             units such as subtitles, chapters, subchapters, parts, subparts, and\n",
       "             sections, not necessarily in that order. Sections are often subdivided\n",
       "             into a combination of smaller units such as subsections, paragraphs,\n",
       "             subparagraphs, clauses, subclauses, and items. In the case of a\n",
       "             positive law title, the units are determined by Congress in the laws\n",
       "             that enact and later amend the title. In the case of a non-positive\n",
       "             law title, the organization of the title since 1926 has been\n",
       "             determined by the editors of the Code and has generally followed the\n",
       "             organization of the underlying acts \n",
       "             <a href=\"#_ftn1\" name=\"_ftnref1\" style=\"text-decoration:none; vertical-align:                  super;font-size:8.0pt;\">[1]</a>\n",
       "             as much as possible. For example,\n",
       "             chapter 7 of title 42 sets out the titles, parts, and sections of the\n",
       "             Social Security Act as corresponding subchapters, parts, and sections\n",
       "             of the chapter.</p>,\n",
       " <p class=\"aboutclass\">In addition to the sections themselves, the Code includes\n",
       "             statutory provisions set out as \n",
       "             <a href=\"#statutory\">statutory notes</a>, the Constitution,\n",
       "             several sets of Federal court rules, and certain Presidential\n",
       "             documents, such as Executive orders, determinations, notices, and\n",
       "             proclamations, that implement or relate to statutory provisions in the\n",
       "             Code. The Code does not include treaties, agency regulations, State or\n",
       "             District of Columbia laws, or most acts that are temporary or special,\n",
       "             such as those that appropriate money for specific years or that apply\n",
       "             to only a limited number of people or a specific place. For an\n",
       "             explanation of the process of determining which new acts are included\n",
       "             in the Code, see the \n",
       "             <a href=\"/about_classification.xhtml\">About Classification</a> page.</p>,\n",
       " <p class=\"aboutclass\">The Code also contains editorially created \n",
       "             <a href=\"#source_credits\">source credits</a>,\n",
       "             <a href=\"#editorial\">notes</a>, and \n",
       "             <a href=\"#tables_popnames\">tables</a> that provide information about the source of Code\n",
       "             sections, their arrangement, the references they contain, and their\n",
       "             history.</p>,\n",
       " <p class=\"aboutclass\">The law contained in the Code is the product of over 200 years\n",
       "             of legislating. Drafting styles have changed over the years, and the\n",
       "             resulting differences in laws are reflected in the Code. Similarly,\n",
       "             Code editorial styles and policies have evolved over the 80-plus years\n",
       "             since the Code was first adopted. As a result, not all acts have been\n",
       "             handled in a consistent manner in the Code over time. This guide\n",
       "             explains the editorial styles and policies currently used to produce\n",
       "             the Code, but the reader should be aware that some things may have\n",
       "             been done differently in the past. However, despite the evolution of\n",
       "             style over the years, the accuracy of the information presented in the\n",
       "             Code has always been, and will always remain, a top priority.</p>,\n",
       " <p class=\"aboutclass\">The basic unit of every Code title is the section, and the way\n",
       "             in which Code sections are composed can differ depending on whether\n",
       "             the section is in a positive or non-positive law title. In a positive\n",
       "             law title, all the sections have been enacted as sections of the title\n",
       "             and appear in the Code in the same order, with the same section\n",
       "             numbers, and with the exact same text as in the enacting and amending\n",
       "             acts. In other words, a positive law title is set out in the Code just\n",
       "             as enacted by Congress.</p>,\n",
       " <p class=\"aboutclass\">In a non-positive law title, the text of a Code section is\n",
       "             based on the text of a section of an act as enacted by Congress, but\n",
       "             certain editorial changes are made to integrate the section into the\n",
       "             Code.</p>,\n",
       " <p class=\"aboutclass\">Four common types of changes are discussed below:</p>,\n",
       " <p class=\"aboutclass\"><b>Section designation</b>. The first type of change involves\n",
       "             changing the section number, known as the designation. Almost every\n",
       "             provision of an act that is classified as a section of the Code is\n",
       "             assigned a designation that differs from its act section number. For\n",
       "             example, section 401 of the Social Security Act (act of August 14,\n",
       "             1935, chapter 531) is classified to section 601 of title 42. Most Code\n",
       "             sections are based on an entire act section, but a few sections, such\n",
       "             as section 2191b of title 22 and section 3642 of title 16, are based\n",
       "             on less than an entire act section, and a few of the oldest Code\n",
       "             sections, such as section 111 of title 16, are based on provisions\n",
       "             from more than one act section. The source credit for each\n",
       "             non-positive law section tells the reader what section or other unit\n",
       "             of an act the Code section is based on, and, for some sections, a\n",
       "             Codification note provides further information about the origin of the\n",
       "             section.</p>,\n",
       " <p class=\"aboutclass\"><b>Headings</b>. The second type of change involves adding or\n",
       "             modifying section and subsection headings. If a Code section is based\n",
       "             on an act section that has headings, the Code will usually retain the\n",
       "             original headings. However, in some cases, such as where there are no\n",
       "             headings in the original act or where the section text is amended in\n",
       "             such a way as to make the act headings inaccurate, the Code editors\n",
       "             will provide or modify headings for the Code section.</p>,\n",
       " <p class=\"aboutclass\"><b>Bracketed citations</b>. The third type of change involves\n",
       "             inserting bracketed citation information in the text following a cross\n",
       "             reference. For example, in section 1440(c) of title 20, the bracketed\n",
       "             citation “[42 U.S.C. 1396 et seq.]” was editorially inserted following\n",
       "             a reference to title XIX of the Social Security Act. A reader can\n",
       "             assume that almost every citation in the Code that is enclosed in\n",
       "             square brackets (“[…]”) was added by the Code editors and was not in\n",
       "             the original act. When statutory text contains a Code citation in\n",
       "             parentheses, however, that citation is almost always as it appeared in\n",
       "             the underlying act.</p>,\n",
       " <p class=\"aboutclass\" id=\"translations\"><b>Translations</b>. The fourth type of change involves\n",
       "             changing the actual text of the original act and is known as a\n",
       "             “translation”. Most translations involve changing a cross reference in\n",
       "             an act into a reference to the corresponding provision in the Code or\n",
       "             changing a reference to the date of enactment of a certain provision\n",
       "             into that actual date. Using the example from above, what appears in\n",
       "             act text as a reference to “section 401 of the Social Security Act (42\n",
       "             U.S.C. 601)” will be translated to “section 601 of title 42” when put\n",
       "             into the Code. Similarly, if a provision has a reference to a certain\n",
       "             task required to be completed “no later than 1 year after the date of\n",
       "             enactment of this act” and the act was enacted on October 28, 2009,\n",
       "             that reference will be translated to “no later than 1 year after\n",
       "             October 28, 2009”. Other common translations include deletion of the\n",
       "             words “United States Code” following a reference to a positive law\n",
       "             title and substitution of references such as “this chapter” for “this\n",
       "             Act”, “this subchapter” for “this title”, and the like, where\n",
       "             appropriate. Often there will be References in Text notes under a\n",
       "             section that provide further editorial explanation of the cross\n",
       "             references found in the section text.</p>,\n",
       " <p class=\"aboutclass\">\n",
       " \t\t\tIn the past, it was the Code style to add words such as “of this subsection”, “of this section”, and “of this chapter” following references to a paragraph, subsection, or subchapter. This practice was not only discontinued several years ago, but there has also been ongoing work to delete these editorial additions throughout all non-positive law titles. However, the words “of this title” continue to be editorially added in the course of translating references to other sections in the same title.</p>,\n",
       " <p class=\"aboutclass\">\n",
       " \t\t\tStatutory notes contain features of both positive and non-positive law titles. As in positive law sections, the text of statutory notes is quoted exactly as it appears in the original act, without translations. However, as in non-positive law sections, brackets are inserted when needed to indicate editorial material, such as cross reference citations, dates of enactment, or classification information in Short Title and Effective Date notes.</p>,\n",
       " <p class=\"aboutclass\">\n",
       " \t\t\tThe translations and editorial changes made to sections of non-positive law titles are purely technical and do not change the meaning of the law. No other changes are made to the text, except pursuant to a specific amendment or global-type amendment, such as a change of name or transfer of functions that is explained in a note under the section. Errors in spelling, grammar, and punctuation in the original act are not editorially corrected in the Code. In both positive and non-positive law titles, if a statutory provision is enacted with misspelled words or duplicate or missing punctuation, it is put into the Code exactly as it was enacted, with a footnote inserted as needed to indicate the probable error. Minor inconsistencies in the format of the text, such as the font, spacing, or margins appearing in the enacted law, are occasionally adjusted to match the style of the Code without comment.</p>,\n",
       " <p class=\"aboutclass\">Source credits (“credits”) appear after the text of a Code\n",
       "             section and consist of citations to each act that enacted, amended, or\n",
       "             otherwise affected the section. With very few exceptions, source\n",
       "             credits refer to public laws or other acts of Congress. The citation\n",
       "             for each enacting and amending act includes the public law or chapter\n",
       "             number\n",
       "             <a href=\"#_ftn2\" name=\"_ftnref2\" style=\"text-decoration:none; vertical-align:                  super;font-size:8.0pt;\">[2]</a>\n",
       "             , division, title, and section numbers (if any), the date of\n",
       "             enactment, and the Statutes at Large volume and page number. For\n",
       "             example, section 1301 of title 25 is based on section 201 of title II\n",
       "             of Public Law (“Pub. L.”) 90-284 which was enacted on April 11, 1968,\n",
       "             and appears at page 77 of volume 82 of the Statutes at Large. The\n",
       "             section has also been amended by subsections (b) and (c) of section\n",
       "             8077 of Public Law 101-511. The credit for section 1301 reads:</p>,\n",
       " <p class=\"aboutclass\" style=\"font-weight:bold;\">(Pub. L. 90-284, title II, §201, Apr. 11, 1968, 82 Stat. 77;\n",
       "             Pub. L. 101-511, title VIII, §8077(b), (c), Nov. 5, 1990, 104 Stat.\n",
       "             1892.)</p>,\n",
       " <p class=\"aboutclass\"><b>Base law</b>. In non-positive law titles, the first act in the\n",
       "             source credit is almost always the “base law”. The base law is the act\n",
       "             on which the Code section is based and of which it remains a part. In\n",
       "             the above example of section 1301 of title 25, the base law is Public\n",
       "             Law 90-284 because section 1301 is based on section 201 of Public Law\n",
       "             90-284. The base law is a feature only in non-positive law titles\n",
       "             because in positive law titles, the sections were enacted by Congress\n",
       "             as part of the Code title itself.</p>,\n",
       " <p class=\"aboutclass\">A small number of Code sections are based on sections of the\n",
       "             Revised Statutes (which was enacted in 1874 and published with\n",
       "             corrections in a second edition in 1878). In those cases, the credit\n",
       "             includes a Revised Statutes section number. For example, section 1983\n",
       "             of title 42 is based on section 1979 of the Revised Statutes (“R.S.”)\n",
       "             and has been amended by section 1 of Public Law 96-170 and section\n",
       "             309(c) of Public Law 104-317. The credit for section 1983 reads:</p>,\n",
       " <p class=\"aboutclass\" style=\"font-weight:bold;\">(R.S. §1979; Pub. L. 96-170, §1, Dec. 29, 1979, 93 Stat. 1284;\n",
       "             Pub. L. 104-317, title III, §309(c), Oct. 19, 1996, 110 Stat. 3853.)</p>,\n",
       " <p class=\"aboutclass\"><b>“As added” sections</b>. In most cases, a Code section in a\n",
       "             non-positive law title is based on an act section that was part of its\n",
       "             base law when the base law was first enacted. However, it is often the\n",
       "             case that a Code section is based on an act section that was added to\n",
       "             its base law by a later act. When this happens, the first citation in\n",
       "             the source credit contains the public law or chapter number of the\n",
       "             base law, division and title (if present), and section number of the\n",
       "             new section within that act, followed by “as added” and a citation to\n",
       "             the act that added the section. For example, section 653a of title 42\n",
       "             is based on section 453A of the Social Security Act (act of August 14,\n",
       "             1935, chapter 531). However, the Social Security Act did not contain a\n",
       "             section 453A when it was first enacted. Section 453A was added to\n",
       "             title IV of the Social Security Act by Public Law 104-193 and later\n",
       "             amended by Public Law 105-33. The source credit for section 653a\n",
       "             reads:</p>,\n",
       " <p class=\"aboutclass\" style=\"font-weight:bold;\">(Aug. 14, 1935, ch. 531, title IV, §453A, as added Pub. L.\n",
       "             104-193, title III, §313(b), Aug. 22, 1996, 110 Stat. 2209; amended\n",
       "             Pub. L. 105-33, title V, §5533, Aug. 5, 1997, 111 Stat. 627.)</p>,\n",
       " <p class=\"aboutclass\">The only information given about the base law is the\n",
       "             identifying information for the act (Aug. 14, 1935, ch. 531) and the\n",
       "             title and section number of the new section. Because the new section\n",
       "             was not part of the base law when that law was first enacted and\n",
       "             published, there is no Statutes at Large information provided.</p>,\n",
       " <p class=\"aboutclass\"><b>Renumbered sections</b>. Occasionally, an act section is\n",
       "             renumbered by another act. When this happens, the source credit\n",
       "             contains both the current section number, which always appears as the\n",
       "             main section number in the base law, and any intermediate section\n",
       "             numbers (if the section has been renumbered more than once). The\n",
       "             section number following “formerly” in the base law is the original\n",
       "             act section number when the section was first enacted. For example,\n",
       "             section 5183 of title 42 is currently section 416 of Public Law\n",
       "             93-288. However, it was first enacted as section 413 of that act, and\n",
       "             Public Law 100-707 renumbered it as section 416:</p>,\n",
       " <p class=\"aboutclass\" style=\"font-weight:bold;\">(Pub. L. 93-288, title IV, §416, formerly §413, May 22, 1974,\n",
       "             88 Stat. 157; renumbered §416 and amended Pub. L. 100-707, title I,\n",
       "             §106(i), Nov. 23, 1988, 102 Stat. 4705.)</p>,\n",
       " <p class=\"aboutclass\">Note that the renumbering of an act section does not always\n",
       "             trigger the renumbering of the Code section. In fact, in the interest\n",
       "             of Code consistency, the Code editors often retain the current Code\n",
       "             section number even though the underlying act section number has\n",
       "             changed.</p>,\n",
       " <p class=\"aboutclass\"><b>Special situations</b>. Though uncommon, there are Code\n",
       "             sections in non-positive law titles that are based on less than an\n",
       "             entire act section, on two or more different acts, or on provisions\n",
       "             that are undesignated in the original act. Sections like these can be\n",
       "             identified by the section designation information in the citation for\n",
       "             the base law and, in some cases, by the information provided in a\n",
       "             Codification note.</p>,\n",
       " <p class=\"aboutclass\">Source credits in positive law titles are similar to those in\n",
       "             non-positive law titles, except that there is no base law. Instead,\n",
       "             sections in a positive law title are part of the title itself and\n",
       "             neither come from nor are part of any other law. The first citation in\n",
       "             the credit is to the act that enacted the section. If the section was\n",
       "             included in the title when the title was enacted as positive law, the\n",
       "             act enacting the title simply appears as the first citation in the\n",
       "             source credit with nothing before it\n",
       "             <a href=\"#_ftn3\" name=\"_ftnref3\" style=\"text-decoration:none; vertical-align:                  super;font-size:8.0pt;\">[3]</a>\n",
       "             . For example, title 31 was\n",
       "             enacted as a positive law title by Public Law 97-258. Section 304 of\n",
       "             title 31 was included in title 31 at the time the title was enacted\n",
       "             and therefore has Public Law 97-258 as its first citation. The section\n",
       "             was further amended by Public Law 102-390. The source credit for\n",
       "             section 304 reads:</p>,\n",
       " <p class=\"aboutclass\" style=\"font-weight:bold;\">(Pub. L. 97-258, Sept. 13, 1982, 96 Stat. 877; Pub. L. 102-390,\n",
       "             title II, Sec. 225(a), (b)(1), (2), Oct. 6, 1992, 106 Stat. 1629.)</p>,\n",
       " <p class=\"aboutclass\"><b>Added sections</b>. If the section of the positive law title\n",
       "             was not included in the title when it was enacted as positive law but\n",
       "             was added to the title by a later act, the source credit will begin\n",
       "             with the word “Added” followed by a citation to the act that amended\n",
       "             the title to add the section. For example, section 1558 of title 31\n",
       "             was not originally part of the title when the title was enacted as\n",
       "             positive law but was added to the title by Public Law 101-189. The\n",
       "             section was further amended by Public Law 104-106. The credit for\n",
       "             section 1558 reads:</p>,\n",
       " <p class=\"aboutclass\" style=\"font-weight:bold;\">(Added Pub. L. 101-189, div. A, title VIII, §813(a), Nov. 29,\n",
       "             1989, 103 Stat. 1494; amended Pub. L. 104-106, div. E, title LV,\n",
       "             §5502(a), (b), Feb. 10, 1996, 110 Stat. 698, 699.)</p>,\n",
       " <p class=\"aboutclass\"><b>Renumbered sections</b>. When a section of a positive law\n",
       "             title is renumbered, the original section number is included at the\n",
       "             end of the first citation in the source credit and the citation to the\n",
       "             act that did the renumbering indicates the renumbered section number.\n",
       "             For example, section 140 of title 10 was originally added as section\n",
       "             137 of title 10 by Public Law 87-651. The section was renumbered as\n",
       "             section 139 by Public Law 99-433 and renumbered again as section 140\n",
       "             by Public Law 103-160. The credit reads:</p>,\n",
       " <p class=\"aboutclass\" style=\"font-weight:bold;\">(Added Pub. L. 87-651, title II, §202, Sept. 7, 1962, 76 Stat.\n",
       "             519, §137; amended Pub. L. 88-426, title III, §305(9), Aug. 14, 1964,\n",
       "             78 Stat. 423; renumbered §139 and amended Pub. L. 99-433, title I,\n",
       "             §§101(a)(7), 110(d)(11), Oct. 1, 1986, 100 Stat. 995, 1003; renumbered\n",
       "             §140, Pub. L. 103-160, div. A, title IX, §901(a)(1), Nov. 30, 1993,\n",
       "             107 Stat. 1726.)</p>,\n",
       " <p class=\"aboutclass\">Unlike a non-positive law title, the renumbering of a section\n",
       "             in a positive law title is by definition a renumbering of the section\n",
       "             in the Code.</p>,\n",
       " <p class=\"aboutclass\">Each act listed in the source credit affected the section in\n",
       "             some way. Typically, the act directly amended the section, and\n",
       "             information about the amendments made by each act can be found in\n",
       "             editorial amendment notes under the section. Sometimes the changes are\n",
       "             more subtle, and other editorial notes, such as Change of Name or\n",
       "             Transfer of Functions, explain those changes made by certain laws\n",
       "             listed in the credit.</p>,\n",
       " <p class=\"aboutclass\">Some acts in the credit amend a prior act that amended the\n",
       "             section, rather than amend the section itself. Such an act is listed\n",
       "             in the credit in the same manner as one that amended the section\n",
       "             directly. Amendment notes or other editorial notes clarify whether an\n",
       "             act amended the section or amended a prior amendatory act.</p>,\n",
       " <p class=\"aboutclass\">Generally speaking, a note is anything appearing after the text\n",
       "             and source credit of a Code section. There are two main kinds of\n",
       "             notes, statutory and \n",
       "             <a href=\"#editorial\">editorial</a>. Statutory notes are provisions of law\n",
       "             that are set out as notes under a Code section rather than as a Code\n",
       "             section. A statutory note can consist of as much as an entire act\n",
       "             (such as Public Law 108-347 set out under 22 U.S.C. 5811) or as little\n",
       "             as a clause (such as section 1013(a)(4)(B)(iii) of Public Law 100-647\n",
       "             set out under 26 U.S.C. 144). Whether a provision in an act (other\n",
       "             than an amendment to a positive law title) appears in the Code as a\n",
       "             section or as a statutory note is an editorial decision based on a\n",
       "             number of factors. See the \n",
       "             <a href=\"/about_classification.xhtml\">About Classification</a> page for more\n",
       "             information.</p>,\n",
       " <p class=\"aboutclass\">Statutory notes typically begin with a source credit, which is\n",
       "             similar in content and form to the \n",
       "             <a href=\"#source_credits\">source credit</a> for a Code section.\n",
       "             The statutory text in a note is quoted verbatim without \n",
       "             <a href=\"#translations\">translations</a>,\n",
       "             although editorial brackets are inserted when needed to assist the\n",
       "             user in finding cross references or other information. Every note or\n",
       "             series of related notes grouped together have a note heading that is\n",
       "             usually, but not always, taken from the heading appearing in the\n",
       "             statutory text. Notes are updated for amendments just as Code sections\n",
       "             are, but amendment notes are not written. Other types of editorial\n",
       "             notes often found following Code sections, such as Codification and\n",
       "             References in Text notes, are also not written for statutory notes.\n",
       "             However, a bracketed note sometimes appears after the text of a\n",
       "             statutory note and provides important additional information about the\n",
       "             note.</p>,\n",
       " <p class=\"aboutclass\">There are several categories of statutory notes. The most\n",
       "             common are Change of Name, Effective Date, Short Title, Regulations,\n",
       "             Construction, and miscellaneous notes. Miscellaneous notes include\n",
       "             things like congressional findings, study and reporting requirements,\n",
       "             and other provisions related to the subject matter of the Code section\n",
       "             under which they appear. Notes of the same category are grouped\n",
       "             together. Within each group, the notes are usually arranged in reverse\n",
       "             chronological order by law, but multiple notes from the same law are\n",
       "             put in ascending law order.</p>,\n",
       " <p class=\"aboutclass\">In a Short Title or Effective Date note, cross references to an\n",
       "             act or unit of an act are often followed by bracketed information\n",
       "             indicating where the act or unit is classified to the Code. This\n",
       "             classification information is accurate as of the date of enactment of\n",
       "             the short title or effective date provision but is not updated to\n",
       "             reflect any later changes in classification.</p>,\n",
       " <p class=\"aboutclass\">There are some statutory notes in the Code that have a source\n",
       "             credit followed by a paraphrase or brief description of a statutory\n",
       "             provision instead of quoted text. These notes, some of which are\n",
       "             contained in tables, are similar to other statutory notes in that they\n",
       "             are based on statutory provisions, have full source credits, and are\n",
       "             updated as appropriate for any amendments.</p>,\n",
       " <p class=\"aboutclass\">A provision of a Federal statute is the law whether the\n",
       "             provision appears in the Code as section text or as a statutory note,\n",
       "             and even when it does not appear in the Code at all. The fact that a\n",
       "             provision is set out as a note is merely the result of an editorial\n",
       "             decision and has no effect on its meaning or validity.</p>,\n",
       " <p class=\"aboutclass\">Most sections in the Code are followed by editorial notes.\n",
       "             These notes are prepared by the Code editors to assist users of the\n",
       "             Code. They provide information about the section's source, derivation,\n",
       "             history, references, translations, effectiveness and applicability,\n",
       "             codification, defined terms, prospective amendments, and related\n",
       "             matters.</p>,\n",
       " <p class=\"aboutclass\">The following is an explanation of some of the types of\n",
       "             editorial notes that may appear under a section:</p>,\n",
       " <p class=\"aboutclass\"><b>Future Amendment notes</b> appear in italic type and provide\n",
       "             information about acts that amend the section effective in the future,\n",
       "             such as on a specific future effective date, or contingent on some\n",
       "             occurrence that has not yet happened. These notes have headings such\n",
       "             as “Amendment of Section” and “Termination of Amendment” and usually\n",
       "             appear immediately following the source credit.</p>,\n",
       " <p class=\"aboutclass\"><b>Historical and Revision notes</b> appear only in positive law\n",
       "             titles and specify the laws that formed the basis of sections that\n",
       "             were included in the title when the title was first enacted into\n",
       "             positive law. The first act in the source credits for such a section\n",
       "             is the act that enacted the title into positive law. The Historical\n",
       "             and Revision notes provide information about those earlier acts and\n",
       "             how they were reorganized into the section as it was enacted as part\n",
       "             of the new positive law title. For most titles, the Historical and\n",
       "             Revision notes are the reviser's notes that were contained in the\n",
       "             congressional committee report accompanying the codification bill that\n",
       "             enacted the title.</p>,\n",
       " <p class=\"aboutclass\"><b>References in Text notes</b> provide information about certain\n",
       "             references contained in the text of the section. These references\n",
       "             typically include popular names of acts such as the “Social Security\n",
       "             Act” and names of Code units, such as “this chapter”. A References in\n",
       "             Text note for the name of a Code unit is usually included to alert the\n",
       "             reader that the named Code unit may not be a precise translation of\n",
       "             the corresponding act unit appearing in the original statutory text.\n",
       "             For example, under section 101 of title 6, there is a References in\n",
       "             Text note that alerts the reader that “this chapter” in the Code\n",
       "             section text is a translation of “this Act” in the original act, which\n",
       "             is the Homeland Security Act of 2002 (Public Law 107-296). The note\n",
       "             explains that the Homeland Security Act of 2002 is classified\n",
       "             “principally” to chapter 1 of title 6, which means that while most of\n",
       "             the act is classified to chapter 1, some provisions are classified\n",
       "             elsewhere, perhaps because they amended laws in other parts of the\n",
       "             Code or are set out as statutory notes\n",
       "             <a href=\"#_ftn4\" name=\"_ftnref4\" style=\"text-decoration:none; vertical-align:                  super;font-size:8.0pt;\">[4]</a>\n",
       "             . The reader is then advised to\n",
       "             consult “Tables”, meaning Code \n",
       "             <a href=\"table3/table3years.htm\">Table III</a> and the \n",
       "             <a href=\"classification/tables.shtml\">Classification Tables</a>, for the complete classification of the Homeland Security Act\n",
       "             of 2002 to the Code.</p>,\n",
       " <p class=\"aboutclass\">Occasionally, a reference in section text is accompanied by the\n",
       "             footnote “See References in Text note below”. The footnote serves to\n",
       "             point out an erroneous or misleading reference not discernible from\n",
       "             the reference itself.</p>,\n",
       " <p class=\"aboutclass\"><b>Codification notes</b> provide several kinds of information about a\n",
       "             section, such as its relationship to other sections in the same\n",
       "             chapter, its derivation, updating, or problems in the underlying acts.\n",
       "             Some codification notes alert the reader that the section is not part\n",
       "             of the act that comprises the chapter or other unit in which the\n",
       "             section appears. For example, as described in the above section on\n",
       "             References in Text notes, chapter 1 of title 6 is based on the\n",
       "             Homeland Security Act of 2002, and the References in Text note in\n",
       "             section 101 of title 6 explains that whenever “this chapter” appears\n",
       "             in that section, the original statutory text reads “this Act”. Section\n",
       "             453a of title 6 was editorially placed in chapter 1 as well, but it is\n",
       "             not part of the Homeland Security Act of 2002. Because section 453a is\n",
       "             not part of the Homeland Security Act of 2002, which is what “this\n",
       "             Act” refers to in the original text, it is likewise not considered to\n",
       "             be part of chapter 1 for purposes of the reference to “this chapter”\n",
       "             contained in section 101, even though section 453a is physically\n",
       "             located within that chapter. To alert the reader to this situation, a\n",
       "             Codification note appears under section 453a saying that the section\n",
       "             “was enacted as part of the Department of Homeland Security\n",
       "             Appropriations Act, 2004, and not as part of the Homeland Security Act\n",
       "             of 2002 which comprises” chapter 1. This note is important because it\n",
       "             tells the user to exclude section 453a from any reference to that\n",
       "             chapter.</p>,\n",
       " <p class=\"aboutclass\"><b>Prior Provisions notes</b> indicate other sections that have\n",
       "             had the same section number as the current section and what has since\n",
       "             happened to them. Prior provisions notes are supplied for both prior\n",
       "             Code sections and prior act sections that had the same section number\n",
       "             as the current Code or act section.</p>,\n",
       " <p class=\"aboutclass\"><b>Amendment notes </b>provide explanations of how amendments\n",
       "             have affected the section. Amendment notes are grouped by year in\n",
       "             reverse chronological order. Within each year, the notes are arranged\n",
       "             in order by unit of the section affected, such as subsection or\n",
       "             paragraph. If more than one amendment affects the same unit during the\n",
       "             year, the amendments are listed in reverse act order. Generally, an\n",
       "             amendment note identifies the amending public law and section numbers.\n",
       "             However, no section number is given when it can be uniquely identified\n",
       "             from the act information already given in the source credit. If the\n",
       "             amendment note describes an amendment as temporary, that means that\n",
       "             the amendment was or will be undone on the date specified for its\n",
       "             termination in the applicable effective date provision.</p>,\n",
       " <p class=\"aboutclass\"><b>Subsidiary notes </b>appear when the section is affected by\n",
       "             a statutory provision classified elsewhere in the Code. A statutory\n",
       "             provision equally relevant to multiple sections in the Code is\n",
       "             nevertheless classified as a statutory note or section to only one\n",
       "             place in the Code. Subsidiary notes are editorially placed under the\n",
       "             other affected Code sections to alert the reader to the existence of\n",
       "             the provision and indicate where the full text can be found. See\n",
       "             paragraphs below for description of specific types of subsidiary\n",
       "             notes.</p>,\n",
       " <p class=\"aboutclass\"><b>Change of Name subsidiary notes</b> indicate that there\n",
       "             is a statutory change of name provision elsewhere in the Code that\n",
       "             changes a name or term used in the section other than by direct\n",
       "             amendment, such as when an act changes the name of a governmental\n",
       "             entity and generally deems all references to the old name to be\n",
       "             references to the new name.</p>,\n",
       " <p class=\"aboutclass\"><b>Effective Date subsidiary notes </b>indicate that there is a\n",
       "             statutory effective date provision elsewhere in the Code that provides\n",
       "             an effective date for the section or a particular amendment to the\n",
       "             section. To the extent that the effective date of a provision is\n",
       "             different from its date of enactment, subsidiary effective date notes\n",
       "             are generally included under every section to which the statutory\n",
       "             effective date provision applies. However, there are exceptions. If an\n",
       "             effective date provision applies to the enactment of an entire chapter\n",
       "             or subchapter, the effective date note will appear only under the\n",
       "             first section of the chapter or subchapter, and no subsidiary notes\n",
       "             will appear under the other sections. A subsidiary note is likewise\n",
       "             usually not provided when the effective date provision applies to the\n",
       "             enactment or amendment of a statutory note or to the amendment of\n",
       "             analysis material (i.e., tables of contents) in positive law titles.</p>,\n",
       " <p class=\"aboutclass\"><b>Transfer of Functions subsidiary notes</b> indicate\n",
       "             that there is a provision (from an act or a Presidential document)\n",
       "             elsewhere in the Code that transfers duties originally assigned to be\n",
       "             performed by one official or entity to a different official or entity.</p>,\n",
       " <p class=\"aboutclass\"><b>Definitions subsidiary notes</b> indicate that there is\n",
       "             a statutory provision elsewhere in the Code that defines a term used\n",
       "             in the section. Definitions subsidiary notes do not appear for terms\n",
       "             occurring in section text that are defined within the same unit of the\n",
       "             Code, such as a chapter or subchapter, and do not exist for some\n",
       "             definition provisions that are more than 15 years old.</p>,\n",
       " <p class=\"aboutclass\">There are four appendices in the Code. The appendices to titles 11, 18, and 28 mostly contain Federal court rules, with a couple of additional freestanding laws in the appendix to title 18. The appendix to title 5 contains freestanding laws that relate to the subject matter of title 5 but were not incorporated into that title by Congress. Sections in the appendices to titles 5 and 18 retain their act section numbers, and translations are not made. The fact that an act is included in an appendix does not affect its meaning or validity.</p>,\n",
       " <p class=\"aboutclass\">The <a href=\"/classification/tables.shtml\">Classification Tables</a> show where recently enacted laws will\n",
       "             appear in the Code and which sections of the Code have been amended by\n",
       "             those laws.</p>,\n",
       " <p class=\"aboutclass\"><b>Table I—Revised Titles</b>. \n",
       "             <a href=\"/tables/usctable1.htm\">Table I</a>\n",
       "             indicates where provisions of\n",
       "             certain former titles have been incorporated when those titles were\n",
       "             enacted as positive law since the original adoption of the Code in\n",
       "             1926.</p>,\n",
       " <p class=\"aboutclass\"><b>Table II—Revised Statutes 1878</b>. \n",
       "             <a href=\"/tables/usctable2.htm\">Table II</a> indicates where\n",
       "             sections of the Revised Statutes of the United States of 1878, the\n",
       "             first codification of acts of Congress, have been classified to the\n",
       "             Code.</p>,\n",
       " <p class=\"aboutclass\"><b>Table III—Statutes at Large</b>. \n",
       "             <a href=\"/table3/table3years.htm\">Table III</a> lists provisions of\n",
       "             public laws that have been classified to the Code at any time,\n",
       "             starting from the First Congress in 1789.</p>,\n",
       " <p class=\"aboutclass\"><b>Table IV—Executive Orders</b>. \n",
       "             <a href=\"/tables/usctable4.htm\">Table IV</a> indicates where provisions\n",
       "             from Executive Orders appear in the Code.</p>,\n",
       " <p class=\"aboutclass\"><b>Table V—Proclamations</b>. \n",
       "             <a href=\"/tables/usctable5.htm\">Table V</a> indicates where provisions from\n",
       "             Presidential Proclamations appear in the Code.</p>,\n",
       " <p class=\"aboutclass\"><b>Table VI—Reorganization Plans</b>. \n",
       "             <a href=\"/tables/usctable6.htm\">Table VI</a> lists reorganization\n",
       "             plans that have been classified to the Code at any time.</p>,\n",
       " <p class=\"aboutclass\">The <a href=\"/popularnames/popularnames.htm\">Popular Names Table</a> lists acts of Congress\n",
       "             in alphabetical order by popular or statutory name.</p>,\n",
       " <p class=\"aboutclass\">In the print version of the Code, the General Index provides an\n",
       "             alphabetical listing of subjects and the Code title and section where\n",
       "             each subject is addressed. The General Index does not appear in the\n",
       "             online version of the Code.</p>,\n",
       " <p class=\"aboutclass\">For information about the various online and printed versions\n",
       "             of the Code, see the <a href=\"/about_code.xhtml\">About the Code</a> page.</p>,\n",
       " <p class=\"aboutclass\">For information about the currency of the Code data on this\n",
       "             website, see the <a href=\"/currency/currency.shtml\">Currency and Updating</a> page.</p>,\n",
       " <p class=\"aboutclass\">For an explanation of how laws are classified to the Code, see\n",
       "             the <a href=\"/about_classification.xhtml\">About Classification</a> page.</p>,\n",
       " <p class=\"aboutclass\">For information about positive law codification and current\n",
       "             projects to enact new titles of the Code into positive law, see the \n",
       "             <a href=\"/codification/legislation.shtml\">Positive Law Codification</a> page.</p>,\n",
       " <p class=\"aboutclass\">For frequently asked questions about the Code and a glossary of terms used in the Code and on this website, see the \n",
       "             <a href=\"/faq.xhtml\">FAQ</a> page.</p>]"
      ]
     },
     "execution_count": 120,
     "metadata": {},
     "output_type": "execute_result"
    }
   ],
   "source": [
    "#your code\n",
    "html = requests.get(url).content\n",
    "soup = bs(html, \"html.parser\")\n",
    "names = soup.find_all('p',{'class':'aboutclass'})\n",
    "names"
   ]
  },
  {
   "cell_type": "markdown",
   "metadata": {},
   "source": [
    "#### A Python list with the top ten FBI's Most Wanted names "
   ]
  },
  {
   "cell_type": "code",
   "execution_count": 54,
   "metadata": {},
   "outputs": [],
   "source": [
    "# This is the url you will scrape in this exercise\n",
    "url = 'https://www.fbi.gov/wanted/topten'"
   ]
  },
  {
   "cell_type": "code",
   "execution_count": 59,
   "metadata": {},
   "outputs": [
    {
     "data": {
      "text/plain": [
       "'                                                                                                                                                                                                                                                                                                                                                                                                                                                                                                                                                                                                                                                                                                                                                                                              ROBERT WILLIAM FISHER                                                                                                                                                                                                  ROBERT WILLIAM FISHER                                                                                                                                                                                                                                                                                                                                                                                                                                                                                                                                                                                                                                                      BHADRESHKUMAR CHETANBHAI PATEL                                                                                                                                                                                                                    BHADRESHKUMAR CHETANBHAI PATEL                                                                                                                                                                                                                                                                                                                                                                                                                                                                                                                                                                                                                                             ARNOLDO JIMENEZ                                                                                                                                                                                      ARNOLDO JIMENEZ                                                                                                                                                                                                                                                                                                                                                                                                                                                                                                                                                                                                                                                     ALEJANDRO ROSALES CASTILLO                                                                                                                                                                                            ALEJANDRO ROSALES CASTILLO                                                                                                                                                                                                                                                                                                                                                                                                                                                                                                                                                                                                                                                YASER ABDEL SAID                                                                                                                                                                                        YASER ABDEL SAID                                                                                                                                                                                                                                                                                                                                                                                                                                                                                                                                                                                                                                                 JASON DEREK BROWN                                                                                                                                                                                          JASON DEREK BROWN                                                                                                                                                                                                                                                                                                                                                                                                                                                                                                                                                                                                                                            ALEXIS FLORES                                                                                                                                                                                  ALEXIS FLORES                                                                                                                                                                                                                                                                                                                                                                                                                                                                                                                                                                                                                                 EUGENE PALMER                                                                                                                                                                                  EUGENE PALMER                                                                                                                                                                                                                                                                                                                                                                                                                                                                                                                                                                                                                                                 SANTIAGO VILLALBA MEDEROS                                                                                                                                                                                        SANTIAGO VILLALBA MEDEROS                                                                                                                                                                                                                                                                                                                                                                                                                                                                                                                                                                                                                                                        RAFAEL CARO QUINTERO                                                                                                                                                                                                RAFAEL CARO QUINTERO                       '"
      ]
     },
     "execution_count": 59,
     "metadata": {},
     "output_type": "execute_result"
    }
   ],
   "source": [
    "# #your code \n",
    "import re\n",
    "\n",
    "html = requests.get(url).content\n",
    "soup = bs(html, \"html.parser\")\n",
    "names = soup.find_all('ul',{'class':'full-grid wanted-grid-natural infinity castle-grid-block-xs-2 castle-grid-block-sm-2castle-grid-block-md-3 castle-grid-block-lg-5 dt-grid'})\n",
    "\n",
    "\n",
    "list_of_names = re.sub('[^A-Z]', ' ', str(names))\n",
    "list_of_names\n",
    "        # \n",
    "# top10 = []\n",
    "# for top10 in list_of_names:\n",
    "#     if top10 not in top10:\n",
    "#         top10.append(top10)\n",
    "    \n",
    "# top10\n",
    "    "
   ]
  },
  {
   "cell_type": "markdown",
   "metadata": {},
   "source": [
    "####  20 latest earthquakes info (date, time, latitude, longitude and region name) by the EMSC as a pandas dataframe"
   ]
  },
  {
   "cell_type": "code",
   "execution_count": 63,
   "metadata": {},
   "outputs": [],
   "source": [
    "# This is the url you will scrape in this exercise\n",
    "url = 'https://www.emsc-csem.org/Earthquake/'"
   ]
  },
  {
   "cell_type": "code",
   "execution_count": 65,
   "metadata": {},
   "outputs": [
    {
     "data": {
      "text/html": [
       "<div>\n",
       "<style scoped>\n",
       "    .dataframe tbody tr th:only-of-type {\n",
       "        vertical-align: middle;\n",
       "    }\n",
       "\n",
       "    .dataframe tbody tr th {\n",
       "        vertical-align: top;\n",
       "    }\n",
       "\n",
       "    .dataframe thead th {\n",
       "        text-align: right;\n",
       "    }\n",
       "</style>\n",
       "<table border=\"1\" class=\"dataframe\">\n",
       "  <thead>\n",
       "    <tr style=\"text-align: right;\">\n",
       "      <th></th>\n",
       "      <th>Date</th>\n",
       "      <th>Time</th>\n",
       "      <th>Latitude</th>\n",
       "      <th>Longitude</th>\n",
       "      <th>Region</th>\n",
       "    </tr>\n",
       "  </thead>\n",
       "  <tbody>\n",
       "    <tr>\n",
       "      <th>0</th>\n",
       "      <td>2019-10-06</td>\n",
       "      <td>15:58:00</td>\n",
       "      <td>19.34 N</td>\n",
       "      <td>155.19 W</td>\n",
       "      <td>ISLAND OF HAWAII, HAWAII</td>\n",
       "    </tr>\n",
       "    <tr>\n",
       "      <th>1</th>\n",
       "      <td>2019-10-06</td>\n",
       "      <td>15:51:13</td>\n",
       "      <td>22.94 S</td>\n",
       "      <td>69.25 W</td>\n",
       "      <td>ANTOFAGASTA, CHILE</td>\n",
       "    </tr>\n",
       "    <tr>\n",
       "      <th>2</th>\n",
       "      <td>2019-10-06</td>\n",
       "      <td>15:50:34</td>\n",
       "      <td>0.98 N</td>\n",
       "      <td>126.67 E</td>\n",
       "      <td>MOLUCCA SEA</td>\n",
       "    </tr>\n",
       "    <tr>\n",
       "      <th>3</th>\n",
       "      <td>2019-10-06</td>\n",
       "      <td>15:45:31</td>\n",
       "      <td>44.16 N</td>\n",
       "      <td>4.69 E</td>\n",
       "      <td>FRANCE</td>\n",
       "    </tr>\n",
       "    <tr>\n",
       "      <th>4</th>\n",
       "      <td>2019-10-06</td>\n",
       "      <td>15:10:43</td>\n",
       "      <td>19.48 N</td>\n",
       "      <td>64.60 W</td>\n",
       "      <td>VIRGIN ISLANDS REGION</td>\n",
       "    </tr>\n",
       "    <tr>\n",
       "      <th>5</th>\n",
       "      <td>2019-10-06</td>\n",
       "      <td>14:49:38</td>\n",
       "      <td>19.16 N</td>\n",
       "      <td>155.46 W</td>\n",
       "      <td>ISLAND OF HAWAII, HAWAII</td>\n",
       "    </tr>\n",
       "    <tr>\n",
       "      <th>6</th>\n",
       "      <td>2019-10-06</td>\n",
       "      <td>14:48:00</td>\n",
       "      <td>37.64 N</td>\n",
       "      <td>118.95 W</td>\n",
       "      <td>LONG VALLEY AREA, CALIFORNIA</td>\n",
       "    </tr>\n",
       "    <tr>\n",
       "      <th>7</th>\n",
       "      <td>2019-10-06</td>\n",
       "      <td>14:03:12</td>\n",
       "      <td>42.87 N</td>\n",
       "      <td>11.72 E</td>\n",
       "      <td>CENTRAL ITALY</td>\n",
       "    </tr>\n",
       "    <tr>\n",
       "      <th>8</th>\n",
       "      <td>2019-10-06</td>\n",
       "      <td>13:37:15</td>\n",
       "      <td>15.34 N</td>\n",
       "      <td>98.91 W</td>\n",
       "      <td>OFF COAST OF OAXACA, MEXICO</td>\n",
       "    </tr>\n",
       "    <tr>\n",
       "      <th>9</th>\n",
       "      <td>2019-10-06</td>\n",
       "      <td>13:36:44</td>\n",
       "      <td>42.86 N</td>\n",
       "      <td>11.72 E</td>\n",
       "      <td>CENTRAL ITALY</td>\n",
       "    </tr>\n",
       "    <tr>\n",
       "      <th>10</th>\n",
       "      <td>2019-10-06</td>\n",
       "      <td>13:35:47</td>\n",
       "      <td>19.17 N</td>\n",
       "      <td>155.47 W</td>\n",
       "      <td>ISLAND OF HAWAII, HAWAII</td>\n",
       "    </tr>\n",
       "    <tr>\n",
       "      <th>11</th>\n",
       "      <td>2019-10-06</td>\n",
       "      <td>13:33:21</td>\n",
       "      <td>19.17 N</td>\n",
       "      <td>155.46 W</td>\n",
       "      <td>ISLAND OF HAWAII, HAWAII</td>\n",
       "    </tr>\n",
       "    <tr>\n",
       "      <th>12</th>\n",
       "      <td>2019-10-06</td>\n",
       "      <td>13:28:48</td>\n",
       "      <td>21.89 S</td>\n",
       "      <td>68.70 W</td>\n",
       "      <td>ANTOFAGASTA, CHILE</td>\n",
       "    </tr>\n",
       "    <tr>\n",
       "      <th>13</th>\n",
       "      <td>2019-10-06</td>\n",
       "      <td>13:06:44</td>\n",
       "      <td>19.42 N</td>\n",
       "      <td>68.46 W</td>\n",
       "      <td>DOMINICAN REPUBLIC REGION</td>\n",
       "    </tr>\n",
       "    <tr>\n",
       "      <th>14</th>\n",
       "      <td>2019-10-06</td>\n",
       "      <td>12:59:30</td>\n",
       "      <td>15.82 N</td>\n",
       "      <td>94.95 W</td>\n",
       "      <td>OFFSHORE OAXACA, MEXICO</td>\n",
       "    </tr>\n",
       "    <tr>\n",
       "      <th>15</th>\n",
       "      <td>2019-10-06</td>\n",
       "      <td>12:55:29</td>\n",
       "      <td>51.91 N</td>\n",
       "      <td>157.03 E</td>\n",
       "      <td>NEAR EAST COAST OF KAMCHATKA</td>\n",
       "    </tr>\n",
       "    <tr>\n",
       "      <th>16</th>\n",
       "      <td>2019-10-06</td>\n",
       "      <td>12:45:05</td>\n",
       "      <td>5.97 S</td>\n",
       "      <td>130.47 E</td>\n",
       "      <td>BANDA SEA</td>\n",
       "    </tr>\n",
       "    <tr>\n",
       "      <th>17</th>\n",
       "      <td>2019-10-06</td>\n",
       "      <td>12:31:12</td>\n",
       "      <td>19.13 N</td>\n",
       "      <td>67.12 W</td>\n",
       "      <td>PUERTO RICO REGION</td>\n",
       "    </tr>\n",
       "    <tr>\n",
       "      <th>18</th>\n",
       "      <td>2019-10-06</td>\n",
       "      <td>12:30:19</td>\n",
       "      <td>37.70 N</td>\n",
       "      <td>36.28 E</td>\n",
       "      <td>CENTRAL TURKEY</td>\n",
       "    </tr>\n",
       "    <tr>\n",
       "      <th>19</th>\n",
       "      <td>2019-10-06</td>\n",
       "      <td>11:40:22</td>\n",
       "      <td>1.55 N</td>\n",
       "      <td>122.34 E</td>\n",
       "      <td>MINAHASA, SULAWESI, INDONESIA</td>\n",
       "    </tr>\n",
       "  </tbody>\n",
       "</table>\n",
       "</div>"
      ],
      "text/plain": [
       "          Date      Time Latitude Longitude                         Region\n",
       "0   2019-10-06  15:58:00  19.34 N  155.19 W       ISLAND OF HAWAII, HAWAII\n",
       "1   2019-10-06  15:51:13  22.94 S   69.25 W             ANTOFAGASTA, CHILE\n",
       "2   2019-10-06  15:50:34   0.98 N  126.67 E                    MOLUCCA SEA\n",
       "3   2019-10-06  15:45:31  44.16 N    4.69 E                         FRANCE\n",
       "4   2019-10-06  15:10:43  19.48 N   64.60 W          VIRGIN ISLANDS REGION\n",
       "5   2019-10-06  14:49:38  19.16 N  155.46 W       ISLAND OF HAWAII, HAWAII\n",
       "6   2019-10-06  14:48:00  37.64 N  118.95 W   LONG VALLEY AREA, CALIFORNIA\n",
       "7   2019-10-06  14:03:12  42.87 N   11.72 E                  CENTRAL ITALY\n",
       "8   2019-10-06  13:37:15  15.34 N   98.91 W    OFF COAST OF OAXACA, MEXICO\n",
       "9   2019-10-06  13:36:44  42.86 N   11.72 E                  CENTRAL ITALY\n",
       "10  2019-10-06  13:35:47  19.17 N  155.47 W       ISLAND OF HAWAII, HAWAII\n",
       "11  2019-10-06  13:33:21  19.17 N  155.46 W       ISLAND OF HAWAII, HAWAII\n",
       "12  2019-10-06  13:28:48  21.89 S   68.70 W             ANTOFAGASTA, CHILE\n",
       "13  2019-10-06  13:06:44  19.42 N   68.46 W      DOMINICAN REPUBLIC REGION\n",
       "14  2019-10-06  12:59:30  15.82 N   94.95 W        OFFSHORE OAXACA, MEXICO\n",
       "15  2019-10-06  12:55:29  51.91 N  157.03 E   NEAR EAST COAST OF KAMCHATKA\n",
       "16  2019-10-06  12:45:05   5.97 S  130.47 E                      BANDA SEA\n",
       "17  2019-10-06  12:31:12  19.13 N   67.12 W             PUERTO RICO REGION\n",
       "18  2019-10-06  12:30:19  37.70 N   36.28 E                 CENTRAL TURKEY\n",
       "19  2019-10-06  11:40:22   1.55 N  122.34 E  MINAHASA, SULAWESI, INDONESIA"
      ]
     },
     "execution_count": 65,
     "metadata": {},
     "output_type": "execute_result"
    }
   ],
   "source": [
    "#your code\n",
    "import re\n",
    "import requests\n",
    "\n",
    "html = requests.get(url).content\n",
    "soup = bs(html, \"html.parser\")\n",
    "names = soup.find_all('tr')\n",
    "\n",
    "\n",
    "#Scrape site\n",
    "# elements = return_html(url).find_all('tr')\n",
    "\n",
    "elements_list = [el.text.split('\\xa0') for el in names if 'earthquake' in el.text.split('\\xa0')[0]]\n",
    "\n",
    "#Convert html data to dataframe\n",
    "df = pd.DataFrame(elements_list)\n",
    "\n",
    "#Clean dataframe\n",
    "df['Date'] = df[0].str.replace('.*earthquake', '')\n",
    "\n",
    "df['Longitude'] = df[6] + ' ' + df[7]\n",
    "\n",
    "df['Region'] = df[10].str.replace('\\d.*', '')\n",
    "\n",
    "df['Latitude'] = df[3].str.replace('\\d.*ago', '') + ' ' + df[4]\n",
    "\n",
    "df['Time'] = df[3].str.replace('\\..*', '')\n",
    "\n",
    "#Select columns to display in final dataframe\n",
    "latest_earthquakes = df[['Date', 'Time', 'Latitude', 'Longitude', 'Region']]\n",
    "\n",
    "#Print out dataframe\n",
    "latest_earthquakes.head(20)\n",
    "\n",
    "# clean = re.sub('[^A-Za-z0-9]+', ' ', str(list_of))\n",
    "# clean\n",
    "# # list_of_names\n",
    "# df = pd.DataFrame(clean)\n",
    "\n",
    "# df = []\n",
    "# for rows in soup.find_all(\"tr\"):\n",
    "#     if (\"oddrow\" in rows[\"class\"]) or (\"evenrow\" in rows[\"class\"]):\n",
    "#         date = rows.find(\"ligne1 normal\", class=\"href\").a.get_text()\n",
    "# #         hometown = rows.find_all(\"td\")[1].get_text()\n",
    "# #         school = hometown[hometown.find(\",\")+4:]\n",
    "# #         city = hometown[:hometown.find(\",\")+4]\n",
    "# #         position = rows.find_all(\"td\")[2].get_text()\n",
    "# #         grade = rows.find_all(\"td\")[4].get_text()\n",
    "#         df.append([date]) #, school, city, position, grade\n",
    "        \n",
    "\n",
    "# list_of_names = re.sub('[^A-Za-z0-9]+', ' ',str(names))\n",
    "\n",
    "# list_of_names\n",
    "# for x in names:\n",
    "# df = pd.DataFrame(list_of_names)\n",
    "# df.head(20)\n",
    "# df[4]\n",
    "\n",
    "# list_of_names = re.sub('[^A-Z]', ' ', str(names))\n",
    "# list_of_names"
   ]
  },
  {
   "cell_type": "markdown",
   "metadata": {},
   "source": [
    "#### Display the date, days, title, city, country of next 25 hackathon events as a Pandas dataframe table"
   ]
  },
  {
   "cell_type": "code",
   "execution_count": null,
   "metadata": {},
   "outputs": [],
   "source": [
    "# This is the url you will scrape in this exercise\n",
    "url ='https://hackevents.co/hackathons'"
   ]
  },
  {
   "cell_type": "code",
   "execution_count": null,
   "metadata": {},
   "outputs": [],
   "source": [
    "#your code"
   ]
  },
  {
   "cell_type": "markdown",
   "metadata": {},
   "source": [
    "#### Count number of tweets by a given Twitter account."
   ]
  },
  {
   "cell_type": "markdown",
   "metadata": {},
   "source": [
    "You will need to include a ***try/except block*** for account names not found. \n",
    "<br>***Hint:*** the program should count the number of tweets for any provided account"
   ]
  },
  {
   "cell_type": "code",
   "execution_count": null,
   "metadata": {},
   "outputs": [],
   "source": [
    "# This is the url you will scrape in this exercise \n",
    "# You will need to add the account credentials to this url\n",
    "url = 'https://twitter.com/'"
   ]
  },
  {
   "cell_type": "code",
   "execution_count": null,
   "metadata": {},
   "outputs": [],
   "source": [
    "#your code"
   ]
  },
  {
   "cell_type": "markdown",
   "metadata": {},
   "source": [
    "#### Number of followers of a given twitter account"
   ]
  },
  {
   "cell_type": "markdown",
   "metadata": {},
   "source": [
    "You will need to include a ***try/except block*** in case account/s name not found. \n",
    "<br>***Hint:*** the program should count the followers for any provided account"
   ]
  },
  {
   "cell_type": "code",
   "execution_count": null,
   "metadata": {},
   "outputs": [],
   "source": [
    "# This is the url you will scrape in this exercise \n",
    "# You will need to add the account credentials to this url\n",
    "url = 'https://twitter.com/'"
   ]
  },
  {
   "cell_type": "code",
   "execution_count": null,
   "metadata": {},
   "outputs": [],
   "source": [
    "#your code"
   ]
  },
  {
   "cell_type": "markdown",
   "metadata": {},
   "source": [
    "#### List all language names and number of related articles in the order they appear in wikipedia.org"
   ]
  },
  {
   "cell_type": "code",
   "execution_count": null,
   "metadata": {},
   "outputs": [],
   "source": [
    "# This is the url you will scrape in this exercise\n",
    "url = 'https://www.wikipedia.org/'"
   ]
  },
  {
   "cell_type": "code",
   "execution_count": null,
   "metadata": {},
   "outputs": [],
   "source": [
    "#your code"
   ]
  },
  {
   "cell_type": "markdown",
   "metadata": {},
   "source": [
    "#### A list with the different kind of datasets available in data.gov.uk "
   ]
  },
  {
   "cell_type": "code",
   "execution_count": null,
   "metadata": {},
   "outputs": [],
   "source": [
    "# This is the url you will scrape in this exercise\n",
    "url = 'https://data.gov.uk/'"
   ]
  },
  {
   "cell_type": "code",
   "execution_count": null,
   "metadata": {},
   "outputs": [],
   "source": [
    "#your code "
   ]
  },
  {
   "cell_type": "markdown",
   "metadata": {},
   "source": [
    "#### Top 10 languages by number of native speakers stored in a Pandas Dataframe"
   ]
  },
  {
   "cell_type": "code",
   "execution_count": 24,
   "metadata": {},
   "outputs": [],
   "source": [
    "# This is the url you will scrape in this exercise\n",
    "url = 'https://en.wikipedia.org/wiki/List_of_languages_by_number_of_native_speakers'"
   ]
  },
  {
   "cell_type": "code",
   "execution_count": 28,
   "metadata": {},
   "outputs": [],
   "source": [
    "#your code\n",
    "html = requests.get(url).content\n",
    "\n",
    "soup = BeautifulSoup(html, \"lxml\")\n"
   ]
  },
  {
   "cell_type": "code",
   "execution_count": 27,
   "metadata": {},
   "outputs": [
    {
     "ename": "IndexError",
     "evalue": "list index out of range",
     "output_type": "error",
     "traceback": [
      "\u001b[0;31m---------------------------------------------------------------------------\u001b[0m",
      "\u001b[0;31mIndexError\u001b[0m                                Traceback (most recent call last)",
      "\u001b[0;32m<ipython-input-27-3ee933b3fd6d>\u001b[0m in \u001b[0;36m<module>\u001b[0;34m\u001b[0m\n\u001b[0;32m----> 1\u001b[0;31m \u001b[0mnames\u001b[0m \u001b[0;34m=\u001b[0m \u001b[0msoup\u001b[0m\u001b[0;34m.\u001b[0m\u001b[0mfind_all\u001b[0m\u001b[0;34m(\u001b[0m\u001b[0;34m'table'\u001b[0m\u001b[0;34m,\u001b[0m\u001b[0;34m{\u001b[0m\u001b[0;34m'class'\u001b[0m\u001b[0;34m:\u001b[0m\u001b[0;34m'Box-row d-flex'\u001b[0m\u001b[0;34m}\u001b[0m\u001b[0;34m)\u001b[0m\u001b[0;34m[\u001b[0m\u001b[0;36m0\u001b[0m\u001b[0;34m]\u001b[0m\u001b[0;34m\u001b[0m\u001b[0;34m\u001b[0m\u001b[0m\n\u001b[0m\u001b[1;32m      2\u001b[0m \u001b[0mnames\u001b[0m\u001b[0;34m\u001b[0m\u001b[0;34m\u001b[0m\u001b[0m\n",
      "\u001b[0;31mIndexError\u001b[0m: list index out of range"
     ]
    }
   ],
   "source": [
    "names = soup.find_all('table',{'class':'Box-row d-flex'})[0]\n",
    "names\n",
    "tags = ['h1', 'h2', 'h3', 'h4', 'h5', 'h6', 'h7', 'p']\n",
    "text = [element.text for element in soup.find_all(tags)]\n",
    "text"
   ]
  },
  {
   "cell_type": "markdown",
   "metadata": {},
   "source": [
    "### BONUS QUESTIONS"
   ]
  },
  {
   "cell_type": "markdown",
   "metadata": {},
   "source": [
    "#### Scrape a certain number of tweets of a given Twitter account."
   ]
  },
  {
   "cell_type": "code",
   "execution_count": null,
   "metadata": {},
   "outputs": [],
   "source": [
    "# This is the url you will scrape in this exercise \n",
    "# You will need to add the account credentials to this url\n",
    "url = 'https://twitter.com/'"
   ]
  },
  {
   "cell_type": "code",
   "execution_count": null,
   "metadata": {},
   "outputs": [],
   "source": [
    "# your code"
   ]
  },
  {
   "cell_type": "markdown",
   "metadata": {},
   "source": [
    "#### IMDB's Top 250 data (movie name, Initial release, director name and stars) as a pandas dataframe"
   ]
  },
  {
   "cell_type": "code",
   "execution_count": null,
   "metadata": {},
   "outputs": [],
   "source": [
    "# This is the url you will scrape in this exercise \n",
    "url = 'https://www.imdb.com/chart/top'"
   ]
  },
  {
   "cell_type": "code",
   "execution_count": null,
   "metadata": {},
   "outputs": [],
   "source": [
    "# your code"
   ]
  },
  {
   "cell_type": "markdown",
   "metadata": {},
   "source": [
    "#### Movie name, year and a brief summary of the top 10 random movies (IMDB) as a pandas dataframe."
   ]
  },
  {
   "cell_type": "code",
   "execution_count": null,
   "metadata": {},
   "outputs": [],
   "source": [
    "#This is the url you will scrape in this exercise\n",
    "url = 'http://www.imdb.com/chart/top'"
   ]
  },
  {
   "cell_type": "code",
   "execution_count": null,
   "metadata": {},
   "outputs": [],
   "source": [
    "#your code"
   ]
  },
  {
   "cell_type": "markdown",
   "metadata": {},
   "source": [
    "#### Find the live weather report (temperature, wind speed, description and weather) of a given city."
   ]
  },
  {
   "cell_type": "code",
   "execution_count": null,
   "metadata": {},
   "outputs": [],
   "source": [
    "#https://openweathermap.org/current\n",
    "city = city=input('Enter the city:')\n",
    "url = 'http://api.openweathermap.org/data/2.5/weather?'+'q='+city+'&APPID=b35975e18dc93725acb092f7272cc6b8&units=metric'"
   ]
  },
  {
   "cell_type": "code",
   "execution_count": null,
   "metadata": {},
   "outputs": [],
   "source": [
    "# your code"
   ]
  },
  {
   "cell_type": "markdown",
   "metadata": {},
   "source": [
    "#### Book name,price and stock availability as a pandas dataframe."
   ]
  },
  {
   "cell_type": "code",
   "execution_count": null,
   "metadata": {},
   "outputs": [],
   "source": [
    "# This is the url you will scrape in this exercise. \n",
    "# It is a fictional bookstore created to be scraped. \n",
    "url = 'http://books.toscrape.com/'"
   ]
  },
  {
   "cell_type": "code",
   "execution_count": null,
   "metadata": {},
   "outputs": [],
   "source": [
    "#your code"
   ]
  }
 ],
 "metadata": {
  "kernelspec": {
   "display_name": "Python 3",
   "language": "python",
   "name": "python3"
  },
  "language_info": {
   "codemirror_mode": {
    "name": "ipython",
    "version": 3
   },
   "file_extension": ".py",
   "mimetype": "text/x-python",
   "name": "python",
   "nbconvert_exporter": "python",
   "pygments_lexer": "ipython3",
   "version": "3.7.3"
  }
 },
 "nbformat": 4,
 "nbformat_minor": 2
}
