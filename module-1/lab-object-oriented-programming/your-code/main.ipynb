{
 "cells": [
  {
   "cell_type": "markdown",
   "metadata": {},
   "source": [
    "# Before your start:\n",
    "- Read the README.md file\n",
    "- Comment as much as you can and use the resources in the README.md file\n",
    "- Happy learning!"
   ]
  },
  {
   "cell_type": "markdown",
   "metadata": {},
   "source": [
    "# Challenge 1 - Matrix Functions\n",
    "\n",
    "#### We would like to create our own matrix. To make life simple for us, we can represent matrices as a list of lists. For the sake of simplicity, we will assume that the maximum number of dimensions a matrix will have is 2.\n",
    "\n",
    "The most basic thing we would like to do with two matrices is to add them together. To add two matrices, we must perform a number of checks. The first check we would like to perform is whether the matrix is two dimesional. This is because we want to limit ourselves to two dimensional matrices to simplify our problem. In the cell below write a function that checks is a matrix is two dimesional. "
   ]
  },
  {
   "cell_type": "code",
   "execution_count": 7,
   "metadata": {},
   "outputs": [],
   "source": [
    "def twodim(mat):\n",
    "    # This function takes a list of lists and checks that it is of depth 2. \n",
    "    # If the depth is not 2, either return false or return informative errors that let the user know the depth of the list.\n",
    "    # Input: nested list\n",
    "    # Output: Boolean (or error)\n",
    "    # Sample Input: [[1,2,3], [4,5,6]]\n",
    "    # Sample Output: True\n",
    "    \n",
    "    # Your Code Here:\n",
    "    for lst in mat:\n",
    "        for idk in lst:\n",
    "            if isinstance(idk, list):\n",
    "                return False\n",
    "    return True\n",
    "    "
   ]
  },
  {
   "cell_type": "code",
   "execution_count": 10,
   "metadata": {},
   "outputs": [
    {
     "data": {
      "text/plain": [
       "False"
      ]
     },
     "execution_count": 10,
     "metadata": {},
     "output_type": "execute_result"
    }
   ],
   "source": [
    "twodim([[2,[1,2]], [1,2,3],[1,2,3]])"
   ]
  },
  {
   "cell_type": "markdown",
   "metadata": {},
   "source": [
    "# Bonus Challenge 1 - Write the function recursively\n",
    "\n",
    "Rewrite the `twodim` function using recursion. \n",
    "Read more about recursion [here](https://www.cs.utah.edu/~germain/PPS/Topics/recursion.html)\n",
    "\n",
    "Hint: stop your recursion when there are no more lists, this wil be the depth of your matrix. Check that this depth is equal to 2.\n",
    "Second Hint: At every level of the recursion, use the filter function to keep only the members of the list that are lists."
   ]
  },
  {
   "cell_type": "code",
   "execution_count": 13,
   "metadata": {},
   "outputs": [],
   "source": [
    "def twodimrecursive(mat, depth = 0):\n",
    "    # Your code here:\n",
    "    level = [lst for lst in mat if isinstance(lst, list)]\n",
    "    \n",
    "    if depth != 2:\n",
    "        return twodimrecursive(level, depth + 1)\n",
    "    else:\n",
    "        return depth\n",
    "    "
   ]
  },
  {
   "cell_type": "code",
   "execution_count": 14,
   "metadata": {},
   "outputs": [
    {
     "data": {
      "text/plain": [
       "2"
      ]
     },
     "execution_count": 14,
     "metadata": {},
     "output_type": "execute_result"
    }
   ],
   "source": [
    "twodimrecursive([[1,2,3],[1,2]])"
   ]
  },
  {
   "cell_type": "markdown",
   "metadata": {},
   "source": [
    "#### Next, we will write a function that checks for the number of rows and columns of a matrix. \n",
    "\n",
    "Recall that the outer list will tell us the number of rows and the inner lists will tell us the number of columns. Make sure that all inner lists are of the same length."
   ]
  },
  {
   "cell_type": "code",
   "execution_count": 61,
   "metadata": {},
   "outputs": [],
   "source": [
    "def rowcolumn(mat):\n",
    "    # This function takes a list of lists and returns the size of the rows and the columns \n",
    "    # Input: list of lists\n",
    "    # Output: Tuple of rows and columns\n",
    "    #\n",
    "    # Sample input: [[1,2,3],[4,5,6]]\n",
    "    # Sample Output: (2, 3)\n",
    "    \n",
    "    # Your code here:\n",
    "    rows = len(mat)\n",
    "    columns = len([col for row in mat for col in row if row is mat[0]])\n",
    "    \n",
    "    len_of_rows = []\n",
    "    for i in range(len(mat)):\n",
    "        len_of_rows.append(len(mat[i]))\n",
    "    \n",
    "    first_v = len_of_rows[0]\n",
    "    \n",
    "    for n in len_of_rows:\n",
    "        if n != first_v:\n",
    "            return \"The row #\" + str(len_of_rows.index(n)+1) + \" does not have the same amount of columns as the first one\"\n",
    "        else:\n",
    "            answer = (rows, columns)\n",
    "    return answer\n",
    "    "
   ]
  },
  {
   "cell_type": "code",
   "execution_count": 65,
   "metadata": {},
   "outputs": [
    {
     "data": {
      "text/plain": [
       "(3, 4)"
      ]
     },
     "execution_count": 65,
     "metadata": {},
     "output_type": "execute_result"
    }
   ],
   "source": [
    "rowcolumn([[1,2,3,4], [1,2,3,4],[1,2,3,4]])"
   ]
  },
  {
   "cell_type": "markdown",
   "metadata": {},
   "source": [
    "#### Our next step is to write a function that compares two matrices and tells us whether they are of equal size.\n",
    "\n",
    "In this function we will check whether the number of rows and number of columns is the same."
   ]
  },
  {
   "cell_type": "code",
   "execution_count": 77,
   "metadata": {},
   "outputs": [],
   "source": [
    "def compare(mat1, mat2):\n",
    "    # This function takes a two lists of lists and checks whether they have the same number of rows and columns\n",
    "    # Input: two list of lists\n",
    "    # Output: True or False\n",
    "    #\n",
    "    # Sample input: [[1,2,3],[4,5,6]], [[7,8,9], [10,11,12]]\n",
    "    # Sample Output: True\n",
    "    \n",
    "    # Your code here:\n",
    "    rows1 = len(mat1)\n",
    "    rows2 = len(mat2)\n",
    "    \n",
    "    columns1 = len([col for row in mat1 for col in row if row is mat1[0]])\n",
    "    columns2 = len([col for row in mat1 for col in row if row is mat2[0]])\n",
    "    \n",
    "    len_of_rows1 = []\n",
    "    len_of_rows2 = []\n",
    "    \n",
    "    for i in range(len(mat1)):\n",
    "        len_of_rows1.append(len(mat1[i]))\n",
    "    \n",
    "    for i in range(len(mat2)):\n",
    "        len_of_rows2.append(len(mat2[i]))\n",
    "    \n",
    "    first_v1= len_of_rows1[0]\n",
    "    first_v2= len_of_rows2[0]\n",
    "    \n",
    "    for n in len_of_rows1:\n",
    "        if n != first_v1:\n",
    "            return \"The row #\" + str(len_of_rows1.index(n)+1) + \" does not have the same amount of columns as the first one in the first matrix\"\n",
    "    \n",
    "    for n in len_of_rows2:\n",
    "        if n != first_v2:\n",
    "            return \"The row #\" + str(len_of_rows2.index(n)+1) + \" does not have the same amount of columns as the first one in the second matrix\"\n",
    "       \n",
    "    if len(len_of_rows1) == len(len_of_rows2):        \n",
    "        return True\n",
    "    else:\n",
    "        return False\n",
    "        \n",
    "    "
   ]
  },
  {
   "cell_type": "code",
   "execution_count": 79,
   "metadata": {},
   "outputs": [
    {
     "data": {
      "text/plain": [
       "True"
      ]
     },
     "execution_count": 79,
     "metadata": {},
     "output_type": "execute_result"
    }
   ],
   "source": [
    "compare([[1,2,3],[4,5,6]], [[7,8,9], [10,11,12]])"
   ]
  },
  {
   "cell_type": "markdown",
   "metadata": {},
   "source": [
    "#### Now that we have all the tools we need, write a function that adds two matrices together. \n",
    "\n",
    "Remember that a matrix is represented as a list of lists. Therefore, we must add each element in the list. The plus symbol is used for concatenating two lists and not for adding every element in two lists."
   ]
  },
  {
   "cell_type": "code",
   "execution_count": 80,
   "metadata": {},
   "outputs": [],
   "source": [
    "def addition(mat1, mat2):\n",
    "    # This function takes a two lists of lists and adds each cell together\n",
    "    # Input: two list of lists\n",
    "    # Output: one summed list of lists\n",
    "    #\n",
    "    # Sample input: [[1,2,3],[4,5,6]], [[7,8,9], [10,11,12]]\n",
    "    # Sample Output: [[8,10,12],[14,16,18]]\n",
    "    \n",
    "    # Your code here:\n",
    "    if len(mat1[0]) == len(mat2[0]):\n",
    "        num_cols = len(mat1[0])\n",
    "    else:\n",
    "        return \"not the name sized matrixies!\"\n",
    "    \n",
    "    if len(mat1) == len(mat2):\n",
    "        num_rows = len(mat1)\n",
    "    else:\n",
    "        return \"not the name sized matrixies!\" \n",
    "    \n",
    "    final_matrix = []\n",
    "    \n",
    "    for i in range(num_rows):\n",
    "        dummy_row = []\n",
    "        for j in range(num_cols):\n",
    "            s = mat1[i][j] + mat2[i][j]\n",
    "            dummy_row.append(s)\n",
    "        final_matrix.append(dummy_row)\n",
    "                \n",
    "    return final_matrix        \n",
    "    "
   ]
  },
  {
   "cell_type": "code",
   "execution_count": 81,
   "metadata": {},
   "outputs": [
    {
     "data": {
      "text/plain": [
       "[[8, 10, 12], [14, 16, 18]]"
      ]
     },
     "execution_count": 81,
     "metadata": {},
     "output_type": "execute_result"
    }
   ],
   "source": [
    "addition([[1,2,3],[4,5,6]], [[7,8,9], [10,11,12]])"
   ]
  },
  {
   "cell_type": "markdown",
   "metadata": {},
   "source": [
    "# Challenge 2 - Creating the Class\n",
    "\n",
    "In the cell below, you will be creating the class Matrix2D. Use the functions you have written above and tweak them according to the instructions in the comments. You got this!"
   ]
  },
  {
   "cell_type": "code",
   "execution_count": 101,
   "metadata": {},
   "outputs": [],
   "source": [
    "class Matrix2D:\n",
    "    # First, we will write the __init__ function. \n",
    "    # In this function, we will initialize rows and the columns using the matrix that we have passed to the class.\n",
    "    \n",
    "    def __init__(self, mat):\n",
    "        # Assign mat to self.mat\n",
    "        # Assign rows and cols to self.rows and self.cols\n",
    "        # To find the rows and the cols, use the rowcolumn function and pass self.mat to the function.\n",
    "        # Since the rowcolumn function is now a member of the class, make sure to refer to the function as self.rowcolumn\n",
    "        \n",
    "        # Your code here:\n",
    "        \n",
    "        \n",
    "        \n",
    "        \n",
    "        \n",
    "    \n",
    "    \n",
    "    # Insert the twodim function here.\n",
    "    # The only change you need to make is that now we are passing self and mat to the function (make sure self is first).\n",
    "    \n",
    "    # Your code here:\n",
    "    \n",
    "        def twodim(self,mat):\n",
    "    \n",
    "            for lst in mat:\n",
    "                for idk in lst:\n",
    "                    if isinstance(idk, list):\n",
    "                        return False\n",
    "            return True\n",
    "\n",
    "    \n",
    "    # Insert the rowcolumn function here.\n",
    "    # The changes you need to make: \n",
    "    # 1. The function now takes self and mat as arguments (make sure to pass self first).\n",
    "    # 2. Any reference to twodim will be changed to self.twodim since this function is a member of the class and takes self \n",
    "    \n",
    "    # Your code here:\n",
    "        def rowcolumn(self,mat):\n",
    "    \n",
    "            rows = len(mat)\n",
    "            columns = len([col for row in mat for col in row if row is mat[0]])\n",
    "    \n",
    "            len_of_rows = []\n",
    "            for i in range(len(mat)):\n",
    "                len_of_rows.append(len(mat[i]))\n",
    "    \n",
    "            first_v = len_of_rows[0]\n",
    "    \n",
    "            for n in len_of_rows:\n",
    "                if n != first_v:\n",
    "                    return \"The row #\" + str(len_of_rows.index(n)+1) + \" does not have the same amount of columns as the first one\"\n",
    "                else:\n",
    "                    answer = (rows, columns)\n",
    "            return answer\n",
    "    \n",
    "    \n",
    "    # Insert the compare function here\n",
    "    # Add self as the first argument passed to the function\n",
    "    \n",
    "    # Your code here:\n",
    "        def compare(self, mat1, mat2):\n",
    "    \n",
    "            rows1 = len(mat1)\n",
    "            rows2 = len(mat2)\n",
    "    \n",
    "            columns1 = len([col for row in mat1 for col in row if row is mat1[0]])\n",
    "            columns2 = len([col for row in mat1 for col in row if row is mat2[0]])\n",
    "    \n",
    "            len_of_rows1 = []\n",
    "            len_of_rows2 = []\n",
    "    \n",
    "            for i in range(len(mat1)):\n",
    "                len_of_rows1.append(len(mat1[i]))\n",
    "    \n",
    "            for i in range(len(mat2)):\n",
    "                len_of_rows2.append(len(mat2[i]))\n",
    "    \n",
    "            first_v1= len_of_rows1[0]\n",
    "            first_v2= len_of_rows2[0]\n",
    "    \n",
    "            for n in len_of_rows1:\n",
    "                if n != first_v1:\n",
    "                    return \"The row #\" + str(len_of_rows1.index(n)+1) + \" does not have the same amount of columns as the first one in the first matrix\"\n",
    "    \n",
    "            for n in len_of_rows2:\n",
    "                if n != first_v2:\n",
    "                    return \"The row #\" + str(len_of_rows2.index(n)+1) + \" does not have the same amount of columns as the first one in the second matrix\"\n",
    "       \n",
    "            if len(len_of_rows1) == len(len_of_rows2):        \n",
    "                return True\n",
    "            else:\n",
    "                return False\n",
    "\n",
    "\n",
    "    # Insert the addition function here\n",
    "    # This function now takes self and matrix (another matrix of the Matrix2D class)\n",
    "    # Change the compare function to self.compare \n",
    "    # Change any reference to mat1 and mat2 to self.mat and matrix.mat respectively\n",
    "    # Return your result as a Matrix2D(result). This will ensure that we return a new matrix and not a list of lists.\n",
    "    \n",
    "    # Your code here:\n",
    "        def addition(self, mat1, mat2):\n",
    "    \n",
    "            if len(mat1[0]) == len(mat2[0]):\n",
    "                num_cols = len(mat1[0])\n",
    "            else:\n",
    "                return \"not the name sized matrixies!\"\n",
    "    \n",
    "            if len(mat1) == len(mat2):\n",
    "                num_rows = len(mat1)\n",
    "            else:\n",
    "                return \"not the name sized matrixies!\" \n",
    "    \n",
    "            final_matrix = []\n",
    "    \n",
    "            for i in range(num_rows):\n",
    "                dummy_row = []\n",
    "                for j in range(num_cols):\n",
    "                    s = mat1[i][j] + mat2[i][j]\n",
    "                    dummy_row.append(s)\n",
    "                \n",
    "                final_matrix.append(dummy_row)\n",
    "                \n",
    "            return final_matrix\n",
    "\n",
    "        self.mat = mat\n",
    "        rct = rowcolumn(self, mat)\n",
    "        rc = [i for i in rct]\n",
    "        rows = rc[0]\n",
    "        cols = rc[1]\n",
    "        self.rows = rows\n",
    "        self.cols = cols\n",
    "            "
   ]
  },
  {
   "cell_type": "code",
   "execution_count": 102,
   "metadata": {},
   "outputs": [
    {
     "ename": "AttributeError",
     "evalue": "'Matrix2D' object has no attribute 'addition'",
     "output_type": "error",
     "traceback": [
      "\u001b[0;31m---------------------------------------------------------------------------\u001b[0m",
      "\u001b[0;31mAttributeError\u001b[0m                            Traceback (most recent call last)",
      "\u001b[0;32m<ipython-input-102-da0ae68dc203>\u001b[0m in \u001b[0;36m<module>\u001b[0;34m\u001b[0m\n\u001b[0;32m----> 1\u001b[0;31m \u001b[0mMatrix2D\u001b[0m\u001b[0;34m(\u001b[0m\u001b[0;34m[\u001b[0m\u001b[0;34m[\u001b[0m\u001b[0;36m1\u001b[0m\u001b[0;34m,\u001b[0m\u001b[0;36m2\u001b[0m\u001b[0;34m,\u001b[0m\u001b[0;36m3\u001b[0m\u001b[0;34m]\u001b[0m\u001b[0;34m,\u001b[0m\u001b[0;34m[\u001b[0m\u001b[0;36m4\u001b[0m\u001b[0;34m,\u001b[0m\u001b[0;36m5\u001b[0m\u001b[0;34m,\u001b[0m\u001b[0;36m6\u001b[0m\u001b[0;34m]\u001b[0m\u001b[0;34m]\u001b[0m\u001b[0;34m)\u001b[0m\u001b[0;34m.\u001b[0m\u001b[0maddition\u001b[0m\u001b[0;34m(\u001b[0m\u001b[0mMatrix2D\u001b[0m\u001b[0;34m(\u001b[0m\u001b[0;34m[\u001b[0m\u001b[0;34m[\u001b[0m\u001b[0;36m7\u001b[0m\u001b[0;34m,\u001b[0m\u001b[0;36m8\u001b[0m\u001b[0;34m,\u001b[0m\u001b[0;36m9\u001b[0m\u001b[0;34m]\u001b[0m\u001b[0;34m,\u001b[0m\u001b[0;34m[\u001b[0m\u001b[0;36m10\u001b[0m\u001b[0;34m,\u001b[0m\u001b[0;36m11\u001b[0m\u001b[0;34m,\u001b[0m\u001b[0;36m12\u001b[0m\u001b[0;34m]\u001b[0m\u001b[0;34m]\u001b[0m\u001b[0;34m)\u001b[0m\u001b[0;34m)\u001b[0m\u001b[0;34m.\u001b[0m\u001b[0mmat\u001b[0m\u001b[0;34m\u001b[0m\u001b[0;34m\u001b[0m\u001b[0m\n\u001b[0m",
      "\u001b[0;31mAttributeError\u001b[0m: 'Matrix2D' object has no attribute 'addition'"
     ]
    }
   ],
   "source": [
    "Matrix2D([[1,2,3],[4,5,6]]).addition(Matrix2D([[7,8,9],[10,11,12]])).mat"
   ]
  },
  {
   "cell_type": "markdown",
   "metadata": {},
   "source": [
    "# Bonus Challenge 2 - Transpose Function\n",
    "\n",
    "#### Write a function that transposes the matrix and add it to your class.\n",
    "\n",
    "You can read more about the transpose of a matrix [here](https://en.wikipedia.org/wiki/Transpose).\n",
    "\n",
    "Hint: Use the zip function. Read about it [here](https://docs.python.org/3.3/library/functions.html#zip)\n",
    "\n",
    "Second Hint: Read about the asterisk in Python [here](https://docs.python.org/3/reference/expressions.html#expression-lists)"
   ]
  },
  {
   "cell_type": "code",
   "execution_count": 22,
   "metadata": {},
   "outputs": [],
   "source": [
    "def transpose(mat):\n",
    "    # This function takes a list of lists and returns a transposed list of lists.\n",
    "    # Input: list of lists\n",
    "    # Output: list of lists\n",
    "    \n",
    "    # Sample Input: [[1,2,3],[4,5,6]]\n",
    "    # Sample Output: [[1,4], [2,5], [3,6]]\n",
    "    \n",
    "    # Your code here:\n",
    "    "
   ]
  },
  {
   "cell_type": "code",
   "execution_count": 23,
   "metadata": {},
   "outputs": [
    {
     "data": {
      "text/plain": [
       "[[1, 4], [2, 5], [3, 6]]"
      ]
     },
     "execution_count": 23,
     "metadata": {},
     "output_type": "execute_result"
    }
   ],
   "source": [
    "transpose([[1,2,3],[4,5,6]])"
   ]
  },
  {
   "cell_type": "code",
   "execution_count": null,
   "metadata": {},
   "outputs": [],
   "source": []
  }
 ],
 "metadata": {
  "kernelspec": {
   "display_name": "Python 3",
   "language": "python",
   "name": "python3"
  },
  "language_info": {
   "codemirror_mode": {
    "name": "ipython",
    "version": 3
   },
   "file_extension": ".py",
   "mimetype": "text/x-python",
   "name": "python",
   "nbconvert_exporter": "python",
   "pygments_lexer": "ipython3",
   "version": "3.7.3"
  }
 },
 "nbformat": 4,
 "nbformat_minor": 2
}
