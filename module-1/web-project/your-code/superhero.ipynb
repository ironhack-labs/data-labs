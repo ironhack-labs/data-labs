{
 "cells": [
  {
   "cell_type": "markdown",
   "metadata": {},
   "source": [
    "### API Scraping"
   ]
  },
  {
   "cell_type": "code",
   "execution_count": 6,
   "metadata": {},
   "outputs": [],
   "source": [
    "from utilitybelt import API_access_token\n",
    "import requests\n",
    "# from requests import get\n",
    "import json\n",
    "import pandas as pd\n",
    "from pandas.io.json import json_normalize\n",
    "\n"
   ]
  },
  {
   "cell_type": "code",
   "execution_count": 7,
   "metadata": {},
   "outputs": [],
   "source": [
    "# url = 'https://superheroapi.com/api/{accesstoken}/{char_id}'\n",
    "# response = requests.get(url)\n",
    "# result = response.json()\n",
    "# print(result)\n"
   ]
  },
  {
   "cell_type": "code",
   "execution_count": 10,
   "metadata": {},
   "outputs": [
    {
     "name": "stdout",
     "output_type": "stream",
     "text": [
      "{'response': 'success', 'id': '1', 'name': 'A-Bomb', 'powerstats': {'intelligence': '38', 'strength': '100', 'speed': '17', 'durability': '80', 'power': '24', 'combat': '64'}, 'biography': {'full-name': 'Richard Milhouse Jones', 'alter-egos': 'No alter egos found.', 'aliases': ['Rick Jones'], 'place-of-birth': 'Scarsdale, Arizona', 'first-appearance': 'Hulk Vol 2 #2 (April, 2008) (as A-Bomb)', 'publisher': 'Marvel Comics', 'alignment': 'good'}, 'appearance': {'gender': 'Male', 'race': 'Human', 'height': [\"6'8\", '203 cm'], 'weight': ['980 lb', '441 kg'], 'eye-color': 'Yellow', 'hair-color': 'No Hair'}, 'work': {'occupation': 'Musician, adventurer, author; formerly talk show host', 'base': '-'}, 'connections': {'group-affiliation': 'Hulk Family; Excelsior (sponsor), Avengers (honorary member); formerly partner of the Hulk, Captain America and Captain Marvel; Teen Brigade; ally of Rom', 'relatives': 'Marlo Chandler-Jones (wife); Polly (aunt); Mrs. Chandler (mother-in-law); Keith Chandler, Ray Chandler, three unidentified others (brothers-in-law); unidentified father (deceased); Jackie Shorr (alleged mother; unconfirmed)'}, 'image': {'url': 'https://www.superherodb.com/pictures2/portraits/10/100/10060.jpg'}}\n"
     ]
    }
   ],
   "source": [
    "#  For accessing Character Information, URL format is url = 'https://superheroapi.com/api/{accesstoken}/{char_id}'\n",
    "for num in range(1,2): # shortened this range to take a peek at the data\n",
    "    response = requests.get(f'https://superheroapi.com/api/{API_access_token}/{num}')\n",
    "    print(response.json())"
   ]
  },
  {
   "cell_type": "code",
   "execution_count": 11,
   "metadata": {},
   "outputs": [
    {
     "name": "stdout",
     "output_type": "stream",
     "text": [
      "{'response': 'success', 'id': '620', 'name': 'Spider-Man', 'powerstats': {'intelligence': '90', 'strength': '55', 'speed': '67', 'durability': '75', 'power': '74', 'combat': '85'}, 'biography': {'full-name': 'Peter Parker', 'alter-egos': 'No alter egos found.', 'aliases': ['Spiderman', 'Bag-Man', 'Black Marvel', 'Captain Universe', 'Dusk', 'Green Hood', 'Hornet', 'Mad Dog 336', 'Peter Palmer', 'Prodigy', 'Ricochet', 'Scarlet Spider', 'Spider-Boy', 'Spider-Hulk', 'Spider-Morphosis'], 'place-of-birth': 'New York, New York', 'first-appearance': 'Amazing Fantasy #15', 'publisher': 'Marvel Comics', 'alignment': 'good'}, 'appearance': {'gender': 'Male', 'race': 'Human', 'height': [\"5'10\", '178 cm'], 'weight': ['165 lb', '74 kg'], 'eye-color': 'Hazel', 'hair-color': 'Brown'}, 'work': {'occupation': 'Freelance photographer, teacher', 'base': 'New York, New York'}, 'connections': {'group-affiliation': 'Member of the Avengers, formerly member of Outlaws, alternate Fantastic Four', 'relatives': 'Richard Parker (father, deceased), Mary Parker(mother, deceased), Benjamin Parker (uncle, deceased), May Parker (aunt), Mary Jane Watson-Parker (wife), May Parker (daughter, allegedly deceased)'}, 'image': {'url': 'https://www.superherodb.com/pictures2/portraits/10/100/133.jpg'}}\n"
     ]
    }
   ],
   "source": [
    "spiderman_json = requests.get(f'https://superheroapi.com/api/{API_access_token}/620').json()\n",
    "print(spiderman_json)"
   ]
  },
  {
   "cell_type": "code",
   "execution_count": 29,
   "metadata": {},
   "outputs": [],
   "source": [
    "superherolist = []\n",
    "for num in range(1, 6):\n",
    "    url = f'https://superheroapi.com/api/{API_access_token}/{num}'\n",
    "    response = requests.get(url).json()\n",
    "    flattened_data = json_normalize(response)\n",
    "    superherolist.append(pd.DataFrame(flattened_data))\n"
   ]
  },
  {
   "cell_type": "code",
   "execution_count": 28,
   "metadata": {},
   "outputs": [
    {
     "name": "stdout",
     "output_type": "stream",
     "text": [
      "appearance.eye-color\n",
      "appearance.gender\n",
      "appearance.hair-color\n",
      "appearance.height\n",
      "appearance.race\n",
      "appearance.weight\n",
      "biography.aliases\n",
      "biography.alignment\n",
      "biography.alter-egos\n",
      "biography.first-appearance\n",
      "biography.full-name\n",
      "biography.place-of-birth\n",
      "biography.publisher\n",
      "connections.group-affiliation\n",
      "connections.relatives\n",
      "id\n",
      "image.url\n",
      "name\n",
      "powerstats.combat\n",
      "powerstats.durability\n",
      "powerstats.intelligence\n",
      "powerstats.power\n",
      "powerstats.speed\n",
      "powerstats.strength\n",
      "response\n",
      "work.base\n",
      "work.occupation\n",
      "appearance.eye-color\n",
      "appearance.gender\n",
      "appearance.hair-color\n",
      "appearance.height\n",
      "appearance.race\n",
      "appearance.weight\n",
      "biography.aliases\n",
      "biography.alignment\n",
      "biography.alter-egos\n",
      "biography.first-appearance\n",
      "biography.full-name\n",
      "biography.place-of-birth\n",
      "biography.publisher\n",
      "connections.group-affiliation\n",
      "connections.relatives\n",
      "id\n",
      "image.url\n",
      "name\n",
      "powerstats.combat\n",
      "powerstats.durability\n",
      "powerstats.intelligence\n",
      "powerstats.power\n",
      "powerstats.speed\n",
      "powerstats.strength\n",
      "response\n",
      "work.base\n",
      "work.occupation\n"
     ]
    }
   ],
   "source": [
    "for row in superherolist:\n",
    "    for col in row:\n",
    "        print(col)"
   ]
  },
  {
   "cell_type": "code",
   "execution_count": 30,
   "metadata": {},
   "outputs": [],
   "source": [
    "superhero_df = pd.concat(superherolist)"
   ]
  },
  {
   "cell_type": "code",
   "execution_count": 33,
   "metadata": {},
   "outputs": [
    {
     "name": "stdout",
     "output_type": "stream",
     "text": [
      "['appearance.eye-color', 'appearance.gender', 'appearance.hair-color', 'appearance.height', 'appearance.race', 'appearance.weight', 'biography.aliases', 'biography.alignment', 'biography.alter-egos', 'biography.first-appearance', 'biography.full-name', 'biography.place-of-birth', 'biography.publisher', 'connections.group-affiliation', 'connections.relatives', 'id', 'image.url', 'name', 'powerstats.combat', 'powerstats.durability', 'powerstats.intelligence', 'powerstats.power', 'powerstats.speed', 'powerstats.strength', 'response', 'work.base', 'work.occupation']\n"
     ]
    }
   ],
   "source": [
    "# print(superhero_df.head(2))\n",
    "# print(superhero_df.dtypes)\n",
    "print(list(superhero_df))"
   ]
  },
  {
   "cell_type": "code",
   "execution_count": 54,
   "metadata": {},
   "outputs": [
    {
     "name": "stdout",
     "output_type": "stream",
     "text": [
      "0         A-Bomb\n",
      "0     Abe Sapien\n",
      "0       Abin Sur\n",
      "0    Abomination\n",
      "0        Abraxas\n",
      "Name: name, dtype: object 0    1\n",
      "0    2\n",
      "0    3\n",
      "0    4\n",
      "0    5\n",
      "Name: id, dtype: object\n"
     ]
    }
   ],
   "source": [
    "print(superhero_df['name'], superhero_df['id'])"
   ]
  },
  {
   "cell_type": "code",
   "execution_count": 48,
   "metadata": {},
   "outputs": [
    {
     "ename": "ValueError",
     "evalue": "Item wrong length 1 instead of 5.",
     "output_type": "error",
     "traceback": [
      "\u001b[0;31m---------------------------------------------------------------------------\u001b[0m",
      "\u001b[0;31mValueError\u001b[0m                                Traceback (most recent call last)",
      "\u001b[0;32m<ipython-input-48-2379688f84e6>\u001b[0m in \u001b[0;36m<module>\u001b[0;34m\u001b[0m\n\u001b[1;32m      2\u001b[0m print(\n\u001b[1;32m      3\u001b[0m     superhero_df[\n\u001b[0;32m----> 4\u001b[0;31m     \u001b[0;34m[\u001b[0m\u001b[0msuperhero_df\u001b[0m\u001b[0;34m[\u001b[0m\u001b[0;34m'powerstats.combat'\u001b[0m\u001b[0;34m]\u001b[0m\u001b[0;34m.\u001b[0m\u001b[0mastype\u001b[0m\u001b[0;34m(\u001b[0m\u001b[0mint\u001b[0m\u001b[0;34m)\u001b[0m \u001b[0;34m>=\u001b[0m \u001b[0;36m0\u001b[0m\u001b[0;34m]\u001b[0m\u001b[0;34m\u001b[0m\u001b[0;34m\u001b[0m\u001b[0m\n\u001b[0m\u001b[1;32m      5\u001b[0m     ])\n\u001b[1;32m      6\u001b[0m \u001b[0;31m# print(superhero_df['powerstats.combat'])\u001b[0m\u001b[0;34m\u001b[0m\u001b[0;34m\u001b[0m\u001b[0;34m\u001b[0m\u001b[0m\n",
      "\u001b[0;32m/anaconda3/lib/python3.7/site-packages/pandas/core/frame.py\u001b[0m in \u001b[0;36m__getitem__\u001b[0;34m(self, key)\u001b[0m\n\u001b[1;32m   2916\u001b[0m         \u001b[0;31m# Do we have a (boolean) 1d indexer?\u001b[0m\u001b[0;34m\u001b[0m\u001b[0;34m\u001b[0m\u001b[0;34m\u001b[0m\u001b[0m\n\u001b[1;32m   2917\u001b[0m         \u001b[0;32mif\u001b[0m \u001b[0mcom\u001b[0m\u001b[0;34m.\u001b[0m\u001b[0mis_bool_indexer\u001b[0m\u001b[0;34m(\u001b[0m\u001b[0mkey\u001b[0m\u001b[0;34m)\u001b[0m\u001b[0;34m:\u001b[0m\u001b[0;34m\u001b[0m\u001b[0;34m\u001b[0m\u001b[0m\n\u001b[0;32m-> 2918\u001b[0;31m             \u001b[0;32mreturn\u001b[0m \u001b[0mself\u001b[0m\u001b[0;34m.\u001b[0m\u001b[0m_getitem_bool_array\u001b[0m\u001b[0;34m(\u001b[0m\u001b[0mkey\u001b[0m\u001b[0;34m)\u001b[0m\u001b[0;34m\u001b[0m\u001b[0;34m\u001b[0m\u001b[0m\n\u001b[0m\u001b[1;32m   2919\u001b[0m \u001b[0;34m\u001b[0m\u001b[0m\n\u001b[1;32m   2920\u001b[0m         \u001b[0;31m# We are left with two options: a single key, and a collection of keys,\u001b[0m\u001b[0;34m\u001b[0m\u001b[0;34m\u001b[0m\u001b[0;34m\u001b[0m\u001b[0m\n",
      "\u001b[0;32m/anaconda3/lib/python3.7/site-packages/pandas/core/frame.py\u001b[0m in \u001b[0;36m_getitem_bool_array\u001b[0;34m(self, key)\u001b[0m\n\u001b[1;32m   2961\u001b[0m         \u001b[0;32melif\u001b[0m \u001b[0mlen\u001b[0m\u001b[0;34m(\u001b[0m\u001b[0mkey\u001b[0m\u001b[0;34m)\u001b[0m \u001b[0;34m!=\u001b[0m \u001b[0mlen\u001b[0m\u001b[0;34m(\u001b[0m\u001b[0mself\u001b[0m\u001b[0;34m.\u001b[0m\u001b[0mindex\u001b[0m\u001b[0;34m)\u001b[0m\u001b[0;34m:\u001b[0m\u001b[0;34m\u001b[0m\u001b[0;34m\u001b[0m\u001b[0m\n\u001b[1;32m   2962\u001b[0m             raise ValueError('Item wrong length %d instead of %d.' %\n\u001b[0;32m-> 2963\u001b[0;31m                              (len(key), len(self.index)))\n\u001b[0m\u001b[1;32m   2964\u001b[0m \u001b[0;34m\u001b[0m\u001b[0m\n\u001b[1;32m   2965\u001b[0m         \u001b[0;31m# check_bool_indexer will throw exception if Series key cannot\u001b[0m\u001b[0;34m\u001b[0m\u001b[0;34m\u001b[0m\u001b[0;34m\u001b[0m\u001b[0m\n",
      "\u001b[0;31mValueError\u001b[0m: Item wrong length 1 instead of 5."
     ]
    }
   ],
   "source": [
    "# A list of the name and Group Affiliations of Superheros with a combat score greater than 80\n",
    "print(\n",
    "    superhero_df[\n",
    "    [superhero_df['powerstats.combat'].astype(int) >= 0]\n",
    "    ])\n",
    "# print(superhero_df['powerstats.combat'])"
   ]
  },
  {
   "cell_type": "code",
   "execution_count": 57,
   "metadata": {
    "scrolled": true
   },
   "outputs": [
    {
     "name": "stdout",
     "output_type": "stream",
     "text": [
      "          name id\n",
      "0       A-Bomb  1\n",
      "0   Abe Sapien  2\n",
      "0     Abin Sur  3\n",
      "0  Abomination  4\n",
      "0      Abraxas  5\n"
     ]
    }
   ],
   "source": [
    "print(superhero_df[['name', 'id']])"
   ]
  },
  {
   "cell_type": "code",
   "execution_count": 68,
   "metadata": {},
   "outputs": [
    {
     "name": "stdout",
     "output_type": "stream",
     "text": [
      "  appearance.eye-color appearance.gender appearance.hair-color  \\\n",
      "0               Yellow              Male               No Hair   \n",
      "\n",
      "  appearance.height appearance.race appearance.weight biography.aliases  \\\n",
      "0     [6'8, 203 cm]           Human  [980 lb, 441 kg]      [Rick Jones]   \n",
      "\n",
      "  biography.alignment  biography.alter-egos  \\\n",
      "0                good  No alter egos found.   \n",
      "\n",
      "                biography.first-appearance  ...    name powerstats.combat  \\\n",
      "0  Hulk Vol 2 #2 (April, 2008) (as A-Bomb)  ...  A-Bomb                64   \n",
      "\n",
      "  powerstats.durability powerstats.intelligence powerstats.power  \\\n",
      "0                    80                      38               24   \n",
      "\n",
      "  powerstats.speed powerstats.strength response work.base  \\\n",
      "0               17                 100  success         -   \n",
      "\n",
      "                                     work.occupation  \n",
      "0  Musician, adventurer, author; formerly talk sh...  \n",
      "\n",
      "[1 rows x 27 columns]\n"
     ]
    }
   ],
   "source": [
    "print(\n",
    "    superhero_df[\n",
    "        (superhero_df['name'] == 'A-Bomb') & (superhero_df['id'] == '1')\n",
    "    ])"
   ]
  },
  {
   "cell_type": "code",
   "execution_count": 70,
   "metadata": {},
   "outputs": [],
   "source": [
    "superherolist = []\n",
    "for num in range(1, 732):\n",
    "    url = f'https://superheroapi.com/api/{API_access_token}/{num}'\n",
    "    response = requests.get(url).json()\n",
    "    flattened_data = json_normalize(response)\n",
    "    superherolist.append(pd.DataFrame(flattened_data))\n",
    "\n",
    "superhero_df = pd.concat(superherolist)"
   ]
  },
  {
   "cell_type": "code",
   "execution_count": 71,
   "metadata": {},
   "outputs": [
    {
     "name": "stdout",
     "output_type": "stream",
     "text": [
      "  appearance.eye-color appearance.gender appearance.hair-color  \\\n",
      "0               Yellow              Male               No Hair   \n",
      "0                 Blue              Male               No Hair   \n",
      "0                 Blue              Male               No Hair   \n",
      "0                Green              Male               No Hair   \n",
      "0                 Blue              Male                 Black   \n",
      "\n",
      "  appearance.height    appearance.race appearance.weight  \\\n",
      "0     [6'8, 203 cm]              Human  [980 lb, 441 kg]   \n",
      "0     [6'3, 191 cm]      Icthyo Sapien   [145 lb, 65 kg]   \n",
      "0     [6'1, 185 cm]            Ungaran   [200 lb, 90 kg]   \n",
      "0     [6'8, 203 cm]  Human / Radiation  [980 lb, 441 kg]   \n",
      "0         [-, 0 cm]      Cosmic Entity      [- lb, 0 kg]   \n",
      "\n",
      "                                   biography.aliases biography.alignment  \\\n",
      "0                                       [Rick Jones]                good   \n",
      "0  [Langdon Everett Caul, Abraham Sapien, Langdon...                good   \n",
      "0                                           [Lagzia]                good   \n",
      "0                     [Agent R-7, Ravager of Worlds]                 bad   \n",
      "0                                                [-]                 bad   \n",
      "\n",
      "   biography.alter-egos               biography.first-appearance  ...  \\\n",
      "0  No alter egos found.  Hulk Vol 2 #2 (April, 2008) (as A-Bomb)  ...   \n",
      "0  No alter egos found.      Hellboy: Seed of Destruction (1993)  ...   \n",
      "0  No alter egos found.             Showcase #22 (October, 1959)  ...   \n",
      "0  No alter egos found.                    Tales to Astonish #90  ...   \n",
      "0  No alter egos found.              Fantastic Four Annual #2001  ...   \n",
      "\n",
      "          name powerstats.combat powerstats.durability  \\\n",
      "0       A-Bomb                64                    80   \n",
      "0   Abe Sapien                85                    65   \n",
      "0     Abin Sur                65                    64   \n",
      "0  Abomination                95                    90   \n",
      "0      Abraxas                55                   100   \n",
      "\n",
      "  powerstats.intelligence powerstats.power powerstats.speed  \\\n",
      "0                      38               24               17   \n",
      "0                      88              100               35   \n",
      "0                      50               99               53   \n",
      "0                      63               62               53   \n",
      "0                      88              100               83   \n",
      "\n",
      "  powerstats.strength response work.base  \\\n",
      "0                 100  success         -   \n",
      "0                  28  success         -   \n",
      "0                  90  success        Oa   \n",
      "0                  80  success    Mobile   \n",
      "0                  63  success         -   \n",
      "\n",
      "                                     work.occupation  \n",
      "0  Musician, adventurer, author; formerly talk sh...  \n",
      "0                            Paranormal Investigator  \n",
      "0            Green Lantern, former history professor  \n",
      "0                                             Ex-Spy  \n",
      "0                              Dimensional destroyer  \n",
      "\n",
      "[5 rows x 27 columns]\n"
     ]
    }
   ],
   "source": [
    "print(superhero_df.head())"
   ]
  },
  {
   "cell_type": "code",
   "execution_count": 72,
   "metadata": {},
   "outputs": [
    {
     "name": "stdout",
     "output_type": "stream",
     "text": [
      "Saved to CSV!\n"
     ]
    }
   ],
   "source": [
    "# output_df.to_csv(f'hashtag_content_{hashtag}.csv', sep = ',', index=False)\n",
    "superhero_df.to_csv('APIoutput.csv', sep = ',', index = False)\n",
    "print(\"Saved to CSV!\")"
   ]
  },
  {
   "cell_type": "markdown",
   "metadata": {},
   "source": [
    "### Web Scraping"
   ]
  },
  {
   "cell_type": "code",
   "execution_count": 175,
   "metadata": {},
   "outputs": [],
   "source": [
    "import requests\n",
    "from bs4 import BeautifulSoup as bs\n",
    "import pandas as pd"
   ]
  },
  {
   "cell_type": "code",
   "execution_count": 176,
   "metadata": {},
   "outputs": [
    {
     "name": "stdout",
     "output_type": "stream",
     "text": [
      "<table class=\"wikitable\" style=\"width:100%;\">\n",
      " <tbody>\n",
      "  <tr>\n",
      "   <th width=\"14%\">\n",
      "    Character\n",
      "   </th>\n",
      "   <th width=\"20%\">\n",
      "    Real name\n",
      "   </th>\n",
      "   <th width=\"20%\">\n",
      "    Joined in\n",
      "   </th>\n",
      "   <th>\n",
      "    Notes\n",
      "   </th>\n",
      "  </tr>\n",
      "  <tr>\n",
      "   <td>\n",
      "    <a href=\"/wiki/Luke_Cage\" title=\"Luke Cage\">\n",
      "     Luke Cage\n",
      "    </a>\n",
      "    <br/>\n",
      "    a.k.a. Power Man\n",
      "   </td>\n",
      "   <td>\n",
      "    Carl Lucas (birth name)\n",
      "    <br/>\n",
      "    Lucas Cage (legal name)\n",
      "   </td>\n",
      "   <td>\n",
      "    <i>\n",
      "     New Avengers\n",
      "    </i>\n",
      "    #3\n",
      "    <br/>\n",
      "    (March 2005)\n",
      "   </td>\n",
      "   <td>\n",
      "    Former leader of the New Avengers.\n",
      "    <sup class=\"reference\" id=\"cite_ref-24\">\n",
      "     <a href=\"#cite_note-24\">\n",
      "      [24]\n",
      "     </a>\n",
      "    </sup>\n",
      "    Left the team in\n",
      "    <i>\n",
      "     New Avengers\n",
      "    </i>\n",
      "    vol. 2 #30. Former leader of the Mighty Avengers.\n",
      "   </td>\n",
      "  </tr>\n",
      "  <tr>\n",
      "   <td>\n",
      "    <a href=\"/wiki/Wolverine_(character)\" title=\"Wolverine (character)\">\n",
      "     Wolverine\n",
      "    </a>\n",
      "   </td>\n",
      "   <td>\n",
      "    James \"Logan\" Howlett\n",
      "   </td>\n",
      "   <td>\n",
      "    <i>\n",
      "     New Avengers\n",
      "    </i>\n",
      "    #6\n",
      "    <br/>\n",
      "    (June 2005)\n",
      "   </td>\n",
      "   <td>\n",
      "    Current member of the\n",
      "    <a href=\"/wiki/Savage_Avengers\" title=\"Savage Avengers\">\n",
      "     Savage Avengers\n",
      "    </a>\n",
      "    and X-Men.  Former member of the main Avengers team and the Avengers Unity Squad. Maintained simultaneous membership in the Avengers and the X-Men.\n",
      "   </td>\n",
      "  </tr>\n",
      "  <tr>\n",
      "   <td>\n",
      "    <a href=\"/wiki/Sentry_(Robert_Reynolds)\" title=\"Sentry (Robert Reynolds)\">\n",
      "     Sentry\n",
      "    </a>\n",
      "   </td>\n",
      "   <td>\n",
      "    Robert Reynolds\n",
      "   </td>\n",
      "   <td>\n",
      "    <i>\n",
      "     New Avengers\n",
      "    </i>\n",
      "    #10\n",
      "    <br/>\n",
      "    (October 2005)\n",
      "   </td>\n",
      "   <td>\n",
      "    Became a member of the Mighty Avengers after the Civil War and the Dark Avengers during\n",
      "    <a href=\"/wiki/Dark_Reign_(comics)\" title=\"Dark Reign (comics)\">\n",
      "     Dark Reign\n",
      "    </a>\n",
      "    . Went rogue in\n",
      "    <i>\n",
      "     Siege\n",
      "    </i>\n",
      "    #3 before being killed in\n",
      "    <i>\n",
      "     Siege\n",
      "    </i>\n",
      "    #4.\n",
      "   </td>\n",
      "  </tr>\n",
      "  <tr>\n",
      "   <td>\n",
      "    <a href=\"/wiki/Echo_(Marvel_Comics)\" title=\"Echo (Marvel Comics)\">\n",
      "     Echo\n",
      "    </a>\n",
      "    <br/>\n",
      "    a.k.a. Ronin\n",
      "   </td>\n",
      "   <td>\n",
      "    Maya Lopez\n",
      "   </td>\n",
      "   <td>\n",
      "    <i>\n",
      "     New Avengers\n",
      "    </i>\n",
      "    #11\n",
      "    <br/>\n",
      "    (November 2005) (as Ronin)\n",
      "   </td>\n",
      "   <td>\n",
      "    Joined as Ronin in\n",
      "    <i>\n",
      "     New Avengers\n",
      "    </i>\n",
      "    #11 (2005); active as Echo in\n",
      "    <i>\n",
      "     New Avengers\n",
      "    </i>\n",
      "    #27 (2007). Killed in\n",
      "    <i>\n",
      "     Moon Knight\n",
      "    </i>\n",
      "    vol. 4 #9.\n",
      "   </td>\n",
      "  </tr>\n",
      " </tbody>\n",
      "</table>\n",
      "\n"
     ]
    }
   ],
   "source": [
    "url = 'https://en.wikipedia.org/wiki/List_of_Avengers_members'\n",
    "html_content = requests.get(url).content\n",
    "soup = bs(html_content, \"html.parser\")\n",
    "my_table = soup.find_all('table', {'class':'wikitable'})[8]\n",
    "print(my_table.prettify())"
   ]
  },
  {
   "cell_type": "code",
   "execution_count": 177,
   "metadata": {},
   "outputs": [],
   "source": [
    "# create my dataframe, and enter the column headers from the Wikipedia table, pulled dynamically\n",
    "# wiki_df = pd.DataFrame(columns = [element.text.replace('\\n', '') for element in my_table.find_all('th')])\n",
    "# confirm the columns are named as expected\n",
    "# print(list(wiki_df))"
   ]
  },
  {
   "cell_type": "code",
   "execution_count": 178,
   "metadata": {
    "scrolled": true
   },
   "outputs": [
    {
     "name": "stdout",
     "output_type": "stream",
     "text": [
      "[<tr>\n",
      "<th width=\"14%\">Character\n",
      "</th>\n",
      "<th width=\"20%\">Real name\n",
      "</th>\n",
      "<th width=\"20%\">Joined in\n",
      "</th>\n",
      "<th>Notes\n",
      "</th></tr>, <tr>\n",
      "<td><a href=\"/wiki/Luke_Cage\" title=\"Luke Cage\">Luke Cage</a><br/>a.k.a. Power Man\n",
      "</td>\n",
      "<td>Carl Lucas (birth name)<br/>Lucas Cage (legal name)\n",
      "</td>\n",
      "<td><i>New Avengers</i> #3<br/> (March 2005)\n",
      "</td>\n",
      "<td>Former leader of the New Avengers.<sup class=\"reference\" id=\"cite_ref-24\"><a href=\"#cite_note-24\">[24]</a></sup> Left the team in <i>New Avengers</i> vol. 2 #30. Former leader of the Mighty Avengers.\n",
      "</td></tr>, <tr>\n",
      "<td><a href=\"/wiki/Wolverine_(character)\" title=\"Wolverine (character)\">Wolverine</a>\n",
      "</td>\n",
      "<td>James \"Logan\" Howlett\n",
      "</td>\n",
      "<td><i>New Avengers</i> #6<br/> (June 2005)\n",
      "</td>\n",
      "<td>Current member of the <a href=\"/wiki/Savage_Avengers\" title=\"Savage Avengers\">Savage Avengers</a> and X-Men.  Former member of the main Avengers team and the Avengers Unity Squad. Maintained simultaneous membership in the Avengers and the X-Men.\n",
      "</td></tr>, <tr>\n",
      "<td><a href=\"/wiki/Sentry_(Robert_Reynolds)\" title=\"Sentry (Robert Reynolds)\">Sentry</a>\n",
      "</td>\n",
      "<td>Robert Reynolds\n",
      "</td>\n",
      "<td><i>New Avengers</i> #10<br/> (October 2005)\n",
      "</td>\n",
      "<td>Became a member of the Mighty Avengers after the Civil War and the Dark Avengers during <a href=\"/wiki/Dark_Reign_(comics)\" title=\"Dark Reign (comics)\">Dark Reign</a>. Went rogue in <i>Siege</i> #3 before being killed in <i>Siege</i> #4.\n",
      "</td></tr>, <tr>\n",
      "<td><a href=\"/wiki/Echo_(Marvel_Comics)\" title=\"Echo (Marvel Comics)\">Echo</a><br/>a.k.a. Ronin\n",
      "</td>\n",
      "<td>Maya Lopez\n",
      "</td>\n",
      "<td><i>New Avengers</i> #11<br/> (November 2005) (as Ronin)\n",
      "</td>\n",
      "<td>Joined as Ronin in <i>New Avengers</i> #11 (2005); active as Echo in <i>New Avengers</i> #27 (2007). Killed in <i>Moon Knight</i> vol. 4 #9.\n",
      "</td></tr>]\n"
     ]
    }
   ],
   "source": [
    "table_rows = my_table.find_all('tr')\n",
    "print(table_rows)"
   ]
  },
  {
   "cell_type": "code",
   "execution_count": 179,
   "metadata": {},
   "outputs": [
    {
     "name": "stdout",
     "output_type": "stream",
     "text": [
      "[['', 'Character', '', 'Real name', '', 'Joined in', '', 'Notes', ''], ['', 'Luke Cagea.k.a. Power Man', '', 'Carl Lucas (birth name)Lucas Cage (legal name)', '', 'New Avengers #3 (March 2005)', '', 'Former leader of the New Avengers.[24] Left the team in New Avengers vol. 2 #30. Former leader of the Mighty Avengers.', ''], ['', 'Wolverine', '', 'James \"Logan\" Howlett', '', 'New Avengers #6 (June 2005)', '', 'Current member of the Savage Avengers and X-Men.  Former member of the main Avengers team and the Avengers Unity Squad. Maintained simultaneous membership in the Avengers and the X-Men.', ''], ['', 'Sentry', '', 'Robert Reynolds', '', 'New Avengers #10 (October 2005)', '', 'Became a member of the Mighty Avengers after the Civil War and the Dark Avengers during Dark Reign. Went rogue in Siege #3 before being killed in Siege #4.', ''], ['', 'Echoa.k.a. Ronin', '', 'Maya Lopez', '', 'New Avengers #11 (November 2005) (as Ronin)', '', 'Joined as Ronin in New Avengers #11 (2005); active as Echo in New Avengers #27 (2007). Killed in Moon Knight vol. 4 #9.', '']]\n",
      "[['Character', 'Real name', 'Joined in', 'Notes'], ['Luke Cagea.k.a. Power Man', 'Carl Lucas (birth name)Lucas Cage (legal name)', 'New Avengers #3 (March 2005)', 'Former leader of the New Avengers.[24] Left the team in New Avengers vol. 2 #30. Former leader of the Mighty Avengers.'], ['Wolverine', 'James \"Logan\" Howlett', 'New Avengers #6 (June 2005)', 'Current member of the Savage Avengers and X-Men.  Former member of the main Avengers team and the Avengers Unity Squad. Maintained simultaneous membership in the Avengers and the X-Men.'], ['Sentry', 'Robert Reynolds', 'New Avengers #10 (October 2005)', 'Became a member of the Mighty Avengers after the Civil War and the Dark Avengers during Dark Reign. Went rogue in Siege #3 before being killed in Siege #4.'], ['Echoa.k.a. Ronin', 'Maya Lopez', 'New Avengers #11 (November 2005) (as Ronin)', 'Joined as Ronin in New Avengers #11 (2005); active as Echo in New Avengers #27 (2007). Killed in Moon Knight vol. 4 #9.']]\n"
     ]
    }
   ],
   "source": [
    "# table_rows2 = [\" \".join(element.text.replace('\\n', '').split()) for element in table_rows]\n",
    "# table_rows2 = [[element for element in cells] for cells in table_rows]\n",
    "table_rows2 = [element.text.split('\\n') for element in table_rows]\n",
    "print(table_rows2)\n",
    "\n",
    "true_table_rows = [[element for element in items if element] for items in table_rows2]\n",
    "print(true_table_rows)\n"
   ]
  },
  {
   "cell_type": "code",
   "execution_count": 180,
   "metadata": {},
   "outputs": [],
   "source": [
    "# table_rows3 = table_rows2.pop([0])\n",
    "# table_rows3 = table_rows2.pop(table_rows2[0])\n",
    "\n",
    "# print(type(table_rows2))\n",
    "# print(table_rows2.pop(0))\n",
    "# print(table_rows2.pop(0))\n",
    "# print(table_rows2)\n",
    "# wiki_df = pd.concat(table_rows2)\n",
    "\n",
    "table_data = pd.DataFrame(true_table_rows[1:], columns = true_table_rows[0])\n"
   ]
  },
  {
   "cell_type": "code",
   "execution_count": 181,
   "metadata": {
    "scrolled": true
   },
   "outputs": [
    {
     "name": "stdout",
     "output_type": "stream",
     "text": [
      "                   Character                                       Real name  \\\n",
      "0  Luke Cagea.k.a. Power Man  Carl Lucas (birth name)Lucas Cage (legal name)   \n",
      "1                  Wolverine                           James \"Logan\" Howlett   \n",
      "2                     Sentry                                 Robert Reynolds   \n",
      "3           Echoa.k.a. Ronin                                      Maya Lopez   \n",
      "\n",
      "                                     Joined in  \\\n",
      "0                 New Avengers #3 (March 2005)   \n",
      "1                  New Avengers #6 (June 2005)   \n",
      "2              New Avengers #10 (October 2005)   \n",
      "3  New Avengers #11 (November 2005) (as Ronin)   \n",
      "\n",
      "                                               Notes  \n",
      "0  Former leader of the New Avengers.[24] Left th...  \n",
      "1  Current member of the Savage Avengers and X-Me...  \n",
      "2  Became a member of the Mighty Avengers after t...  \n",
      "3  Joined as Ronin in New Avengers #11 (2005); ac...  \n"
     ]
    }
   ],
   "source": [
    "print(table_data)"
   ]
  },
  {
   "cell_type": "code",
   "execution_count": 182,
   "metadata": {},
   "outputs": [
    {
     "name": "stdout",
     "output_type": "stream",
     "text": [
      "Saved to CSV!\n"
     ]
    }
   ],
   "source": [
    "table_data.to_csv('webscrapeoutput.csv', sep = ',', index=False)\n",
    "print(\"Saved to CSV!\")"
   ]
  },
  {
   "cell_type": "code",
   "execution_count": 183,
   "metadata": {},
   "outputs": [],
   "source": [
    "# table_data = pd.DataFrame(columns = ['Character', 'Real name', 'Joined in', 'Notes'])\n",
    "# table_data = pd.Series()\n",
    "# for tablerow in my_table.find_all('tr'):\n",
    "# #     for cell in tablerow.find_all('td'):\n",
    "#     table_data.append(pd.Series([tablerow.text.replace('\\n', '')]))\n",
    "# print(table_data)\n",
    "# table_data = [element.text.replace('\\n', '') for element in my_table.find_all('td')]\n",
    "# print(table_data)\n",
    "# table_data = pd.Series([element.text.replace('\\n', '') for element in my_table.find_all('td')])\n",
    "# print(table_data)\n",
    "# table_data = pd.DataFrame(columns = ['Character', 'Real name', 'Joined in', 'Notes'])\n",
    "# for row in my_table.find_all('td'):\n",
    "#     table_data.append(row.text)"
   ]
  },
  {
   "cell_type": "markdown",
   "metadata": {},
   "source": [
    "Attempts to tweak the data, character name values were joined, resulting in \"Luke Cageaka Power Man\""
   ]
  },
  {
   "cell_type": "code",
   "execution_count": 187,
   "metadata": {},
   "outputs": [
    {
     "name": "stdout",
     "output_type": "stream",
     "text": [
      "[' Character  Real name  Joined in  Notes ', ' Luke Cagea.k.a. Power Man  Carl Lucas (birth name)Lucas Cage (legal name)  New Avengers #3 (March 2005)  Former leader of the New Avengers.[24] Left the team in New Avengers vol. 2 #30. Former leader of the Mighty Avengers. ', ' Wolverine  James \"Logan\" Howlett  New Avengers #6 (June 2005)  Current member of the Savage Avengers and X-Men.  Former member of the main Avengers team and the Avengers Unity Squad. Maintained simultaneous membership in the Avengers and the X-Men. ', ' Sentry  Robert Reynolds  New Avengers #10 (October 2005)  Became a member of the Mighty Avengers after the Civil War and the Dark Avengers during Dark Reign. Went rogue in Siege #3 before being killed in Siege #4. ', ' Echoa.k.a. Ronin  Maya Lopez  New Avengers #11 (November 2005) (as Ronin)  Joined as Ronin in New Avengers #11 (2005); active as Echo in New Avengers #27 (2007). Killed in Moon Knight vol. 4 #9. ']\n",
      "[['CharacterReal', 'nameJoined', 'inNotes'], ['Luke', 'Cagea.k.a.', 'Power', 'ManCarl', 'Lucas', '(birth', 'name)Lucas', 'Cage', '(legal', 'name)New', 'Avengers', '#3', '(March', '2005)Former', 'leader', 'of', 'the', 'New', 'Avengers.[24]', 'Left', 'the', 'team', 'in', 'New', 'Avengers', 'vol.', '2', '#30.', 'Former', 'leader', 'of', 'the', 'Mighty', 'Avengers.'], ['WolverineJames', '\"Logan\"', 'HowlettNew', 'Avengers', '#6', '(June', '2005)Current', 'member', 'of', 'the', 'Savage', 'Avengers', 'and', 'X-Men.', 'Former', 'member', 'of', 'the', 'main', 'Avengers', 'team', 'and', 'the', 'Avengers', 'Unity', 'Squad.', 'Maintained', 'simultaneous', 'membership', 'in', 'the', 'Avengers', 'and', 'the', 'X-Men.'], ['SentryRobert', 'ReynoldsNew', 'Avengers', '#10', '(October', '2005)Became', 'a', 'member', 'of', 'the', 'Mighty', 'Avengers', 'after', 'the', 'Civil', 'War', 'and', 'the', 'Dark', 'Avengers', 'during', 'Dark', 'Reign.', 'Went', 'rogue', 'in', 'Siege', '#3', 'before', 'being', 'killed', 'in', 'Siege', '#4.'], ['Echoa.k.a.', 'RoninMaya', 'LopezNew', 'Avengers', '#11', '(November', '2005)', '(as', 'Ronin)Joined', 'as', 'Ronin', 'in', 'New', 'Avengers', '#11', '(2005);', 'active', 'as', 'Echo', 'in', 'New', 'Avengers', '#27', '(2007).', 'Killed', 'in', 'Moon', 'Knight', 'vol.', '4', '#9.']]\n"
     ]
    }
   ],
   "source": [
    "# table_rows10 = [element.text.replace('\\n', ' ') for element in table_rows]\n",
    "# table_rows11 = [element.text.replace('\\n', '').split() for element in table_rows]\n",
    "# print(table_rows10)\n",
    "# print(table_rows11) # by this point, its already too late.\n",
    "\n"
   ]
  },
  {
   "cell_type": "code",
   "execution_count": 192,
   "metadata": {
    "scrolled": true
   },
   "outputs": [
    {
     "name": "stdout",
     "output_type": "stream",
     "text": [
      "['Luke Cagea.k.a. Power Man', 'Carl Lucas (birth name)Lucas Cage (legal name)', 'New Avengers #3 (March 2005)', 'Former leader of the New Avengers.[24] Left the team in New Avengers vol. 2 #30. Former leader of the Mighty Avengers.', 'Wolverine', 'James \"Logan\" Howlett', 'New Avengers #6 (June 2005)', 'Current member of the Savage Avengers and X-Men. Former member of the main Avengers team and the Avengers Unity Squad. Maintained simultaneous membership in the Avengers and the X-Men.', 'Sentry', 'Robert Reynolds', 'New Avengers #10 (October 2005)', 'Became a member of the Mighty Avengers after the Civil War and the Dark Avengers during Dark Reign. Went rogue in Siege #3 before being killed in Siege #4.', 'Echoa.k.a. Ronin', 'Maya Lopez', 'New Avengers #11 (November 2005) (as Ronin)', 'Joined as Ronin in New Avengers #11 (2005); active as Echo in New Avengers #27 (2007). Killed in Moon Knight vol. 4 #9.']\n"
     ]
    }
   ],
   "source": [
    "# table_rows12 = [\" \".join(element.text.split()) for element in my_table.find_all('td')]\n",
    "# print(table_rows12)"
   ]
  },
  {
   "cell_type": "code",
   "execution_count": null,
   "metadata": {},
   "outputs": [],
   "source": []
  },
  {
   "cell_type": "code",
   "execution_count": null,
   "metadata": {},
   "outputs": [],
   "source": []
  }
 ],
 "metadata": {
  "kernelspec": {
   "display_name": "Python 3",
   "language": "python",
   "name": "python3"
  },
  "language_info": {
   "codemirror_mode": {
    "name": "ipython",
    "version": 3
   },
   "file_extension": ".py",
   "mimetype": "text/x-python",
   "name": "python",
   "nbconvert_exporter": "python",
   "pygments_lexer": "ipython3",
   "version": "3.7.3"
  }
 },
 "nbformat": 4,
 "nbformat_minor": 2
}
