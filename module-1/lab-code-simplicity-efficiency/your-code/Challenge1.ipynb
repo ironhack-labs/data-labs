{
 "cells": [
  {
   "cell_type": "code",
   "execution_count": null,
   "metadata": {},
   "outputs": [],
   "source": [
    "print('Welcome to this calculator!')\n",
    "print('It can add and subtract whole numbers from zero to five')\n",
    "a = int(input('Please choose your first number (zero to five): '))\n",
    "b = input('What do you want to do? plus or minus: ')\n",
    "c = int(input('Please choose your second number (zero to five): '))\n",
    "\n",
    "\n",
    "\n",
    "\n",
    "if b == 'plus' and a < 6:\n",
    "    print(a + c)\n",
    "elif b == 'minus' and a < 6:\n",
    "    print(a - c)\n",
    "else:\n",
    "    print(\"I am not able to answer this question. Check your input.\")\n",
    "            \n",
    "print(\"Thanks for using this calculator, goodbye :)\")"
   ]
  },
  {
   "cell_type": "code",
   "execution_count": null,
   "metadata": {},
   "outputs": [],
   "source": []
  }
 ],
 "metadata": {
  "kernelspec": {
   "display_name": "Python 3",
   "language": "python",
   "name": "python3"
  },
  "language_info": {
   "codemirror_mode": {
    "name": "ipython",
    "version": 3
   },
   "file_extension": ".py",
   "mimetype": "text/x-python",
   "name": "python",
   "nbconvert_exporter": "python",
   "pygments_lexer": "ipython3",
   "version": "3.7.3"
  }
 },
 "nbformat": 4,
 "nbformat_minor": 2
}
