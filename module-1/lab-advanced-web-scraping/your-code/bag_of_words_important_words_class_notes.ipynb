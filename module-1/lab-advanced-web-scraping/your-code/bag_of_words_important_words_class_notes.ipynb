{
 "cells": [
  {
   "cell_type": "markdown",
   "metadata": {},
   "source": [
    "# Term Frequency / Inverse Document Frequency (TF-IDF)"
   ]
  },
  {
   "cell_type": "code",
   "execution_count": 1,
   "metadata": {},
   "outputs": [],
   "source": [
    "import pandas as pd"
   ]
  },
  {
   "cell_type": "code",
   "execution_count": 2,
   "metadata": {},
   "outputs": [],
   "source": [
    "corpus = [\n",
    "    \"the house had a tiny little mouse\",\n",
    "    \"the cat saw the mouse\",\n",
    "    \"the mouse ran away from the house\",\n",
    "    \"the cat finally ate the mouse\",\n",
    "    \"the end of the mouse story\"\n",
    "    ]"
   ]
  },
  {
   "cell_type": "code",
   "execution_count": 3,
   "metadata": {},
   "outputs": [
    {
     "data": {
      "text/plain": [
       "[['the', 'house', 'had', 'a', 'tiny', 'little', 'mouse'],\n",
       " ['the', 'cat', 'saw', 'the', 'mouse'],\n",
       " ['the', 'mouse', 'ran', 'away', 'from', 'the', 'house'],\n",
       " ['the', 'cat', 'finally', 'ate', 'the', 'mouse'],\n",
       " ['the', 'end', 'of', 'the', 'mouse', 'story']]"
      ]
     },
     "execution_count": 3,
     "metadata": {},
     "output_type": "execute_result"
    }
   ],
   "source": [
    "word_lists = [txt.split() for txt in corpus]\n",
    "word_lists"
   ]
  },
  {
   "cell_type": "code",
   "execution_count": 4,
   "metadata": {},
   "outputs": [
    {
     "data": {
      "text/html": [
       "<div>\n",
       "<style scoped>\n",
       "    .dataframe tbody tr th:only-of-type {\n",
       "        vertical-align: middle;\n",
       "    }\n",
       "\n",
       "    .dataframe tbody tr th {\n",
       "        vertical-align: top;\n",
       "    }\n",
       "\n",
       "    .dataframe thead th {\n",
       "        text-align: right;\n",
       "    }\n",
       "</style>\n",
       "<table border=\"1\" class=\"dataframe\">\n",
       "  <thead>\n",
       "    <tr style=\"text-align: right;\">\n",
       "      <th></th>\n",
       "      <th>house</th>\n",
       "      <th>had</th>\n",
       "      <th>a</th>\n",
       "      <th>tiny</th>\n",
       "      <th>little</th>\n",
       "      <th>mouse</th>\n",
       "      <th>the</th>\n",
       "      <th>cat</th>\n",
       "      <th>saw</th>\n",
       "      <th>away</th>\n",
       "      <th>ran</th>\n",
       "      <th>from</th>\n",
       "      <th>ate</th>\n",
       "      <th>finally</th>\n",
       "      <th>end</th>\n",
       "      <th>story</th>\n",
       "      <th>of</th>\n",
       "    </tr>\n",
       "  </thead>\n",
       "  <tbody>\n",
       "    <tr>\n",
       "      <th>0</th>\n",
       "      <td>1.0</td>\n",
       "      <td>1.0</td>\n",
       "      <td>1.0</td>\n",
       "      <td>1.0</td>\n",
       "      <td>1.0</td>\n",
       "      <td>1</td>\n",
       "      <td>1</td>\n",
       "      <td>NaN</td>\n",
       "      <td>NaN</td>\n",
       "      <td>NaN</td>\n",
       "      <td>NaN</td>\n",
       "      <td>NaN</td>\n",
       "      <td>NaN</td>\n",
       "      <td>NaN</td>\n",
       "      <td>NaN</td>\n",
       "      <td>NaN</td>\n",
       "      <td>NaN</td>\n",
       "    </tr>\n",
       "    <tr>\n",
       "      <th>1</th>\n",
       "      <td>NaN</td>\n",
       "      <td>NaN</td>\n",
       "      <td>NaN</td>\n",
       "      <td>NaN</td>\n",
       "      <td>NaN</td>\n",
       "      <td>1</td>\n",
       "      <td>2</td>\n",
       "      <td>1.0</td>\n",
       "      <td>1.0</td>\n",
       "      <td>NaN</td>\n",
       "      <td>NaN</td>\n",
       "      <td>NaN</td>\n",
       "      <td>NaN</td>\n",
       "      <td>NaN</td>\n",
       "      <td>NaN</td>\n",
       "      <td>NaN</td>\n",
       "      <td>NaN</td>\n",
       "    </tr>\n",
       "    <tr>\n",
       "      <th>2</th>\n",
       "      <td>1.0</td>\n",
       "      <td>NaN</td>\n",
       "      <td>NaN</td>\n",
       "      <td>NaN</td>\n",
       "      <td>NaN</td>\n",
       "      <td>1</td>\n",
       "      <td>2</td>\n",
       "      <td>NaN</td>\n",
       "      <td>NaN</td>\n",
       "      <td>1.0</td>\n",
       "      <td>1.0</td>\n",
       "      <td>1.0</td>\n",
       "      <td>NaN</td>\n",
       "      <td>NaN</td>\n",
       "      <td>NaN</td>\n",
       "      <td>NaN</td>\n",
       "      <td>NaN</td>\n",
       "    </tr>\n",
       "    <tr>\n",
       "      <th>3</th>\n",
       "      <td>NaN</td>\n",
       "      <td>NaN</td>\n",
       "      <td>NaN</td>\n",
       "      <td>NaN</td>\n",
       "      <td>NaN</td>\n",
       "      <td>1</td>\n",
       "      <td>2</td>\n",
       "      <td>1.0</td>\n",
       "      <td>NaN</td>\n",
       "      <td>NaN</td>\n",
       "      <td>NaN</td>\n",
       "      <td>NaN</td>\n",
       "      <td>1.0</td>\n",
       "      <td>1.0</td>\n",
       "      <td>NaN</td>\n",
       "      <td>NaN</td>\n",
       "      <td>NaN</td>\n",
       "    </tr>\n",
       "    <tr>\n",
       "      <th>4</th>\n",
       "      <td>NaN</td>\n",
       "      <td>NaN</td>\n",
       "      <td>NaN</td>\n",
       "      <td>NaN</td>\n",
       "      <td>NaN</td>\n",
       "      <td>1</td>\n",
       "      <td>2</td>\n",
       "      <td>NaN</td>\n",
       "      <td>NaN</td>\n",
       "      <td>NaN</td>\n",
       "      <td>NaN</td>\n",
       "      <td>NaN</td>\n",
       "      <td>NaN</td>\n",
       "      <td>NaN</td>\n",
       "      <td>1.0</td>\n",
       "      <td>1.0</td>\n",
       "      <td>1.0</td>\n",
       "    </tr>\n",
       "  </tbody>\n",
       "</table>\n",
       "</div>"
      ],
      "text/plain": [
       "   house  had    a  tiny  little  mouse  the  cat  saw  away  ran  from  ate  \\\n",
       "0    1.0  1.0  1.0   1.0     1.0      1    1  NaN  NaN   NaN  NaN   NaN  NaN   \n",
       "1    NaN  NaN  NaN   NaN     NaN      1    2  1.0  1.0   NaN  NaN   NaN  NaN   \n",
       "2    1.0  NaN  NaN   NaN     NaN      1    2  NaN  NaN   1.0  1.0   1.0  NaN   \n",
       "3    NaN  NaN  NaN   NaN     NaN      1    2  1.0  NaN   NaN  NaN   NaN  1.0   \n",
       "4    NaN  NaN  NaN   NaN     NaN      1    2  NaN  NaN   NaN  NaN   NaN  NaN   \n",
       "\n",
       "   finally  end  story   of  \n",
       "0      NaN  NaN    NaN  NaN  \n",
       "1      NaN  NaN    NaN  NaN  \n",
       "2      NaN  NaN    NaN  NaN  \n",
       "3      1.0  NaN    NaN  NaN  \n",
       "4      NaN  1.0    1.0  1.0  "
      ]
     },
     "execution_count": 4,
     "metadata": {},
     "output_type": "execute_result"
    }
   ],
   "source": [
    "def count_words(word_lists):\n",
    "    dfs = []\n",
    "    for list_ in word_lists:\n",
    "        df = pd.DataFrame()\n",
    "        for word in set(list_):\n",
    "            df[word] = [list_.count(word)]\n",
    "        dfs.append(df)\n",
    "    return pd.concat(dfs, sort = False).reset_index(drop = True)\n",
    "            \n",
    "bag_of_words = count_words(word_lists)\n",
    "bag_of_words"
   ]
  },
  {
   "cell_type": "code",
   "execution_count": 7,
   "metadata": {},
   "outputs": [
    {
     "data": {
      "text/plain": [
       "the        0.290323\n",
       "mouse      0.161290\n",
       "house      0.064516\n",
       "cat        0.064516\n",
       "had        0.032258\n",
       "a          0.032258\n",
       "tiny       0.032258\n",
       "little     0.032258\n",
       "of         0.032258\n",
       "story      0.032258\n",
       "away       0.032258\n",
       "ran        0.032258\n",
       "from       0.032258\n",
       "ate        0.032258\n",
       "finally    0.032258\n",
       "end        0.032258\n",
       "saw        0.032258\n",
       "dtype: float64"
      ]
     },
     "execution_count": 7,
     "metadata": {},
     "output_type": "execute_result"
    }
   ],
   "source": [
    "def tf(bag_of_words):\n",
    "    totals = bag_of_words.sum()\n",
    "    n_words = totals.sum()\n",
    "    return totals / n_words\n",
    "\n",
    "tf(bag_of_words).sort_values(ascending = False)"
   ]
  },
  {
   "cell_type": "code",
   "execution_count": 8,
   "metadata": {},
   "outputs": [],
   "source": [
    "from math import log"
   ]
  },
  {
   "cell_type": "code",
   "execution_count": 10,
   "metadata": {},
   "outputs": [
    {
     "data": {
      "text/plain": [
       "of         1.609438\n",
       "away       1.609438\n",
       "had        1.609438\n",
       "a          1.609438\n",
       "tiny       1.609438\n",
       "little     1.609438\n",
       "story      1.609438\n",
       "saw        1.609438\n",
       "ran        1.609438\n",
       "from       1.609438\n",
       "ate        1.609438\n",
       "finally    1.609438\n",
       "end        1.609438\n",
       "cat        0.916291\n",
       "house      0.916291\n",
       "the        0.000000\n",
       "mouse      0.000000\n",
       "dtype: float64"
      ]
     },
     "execution_count": 10,
     "metadata": {},
     "output_type": "execute_result"
    }
   ],
   "source": [
    "def idf(bag_of_words):\n",
    "    n_docs = bag_of_words.shape[0]\n",
    "    doc_freq = bag_of_words.notnull().astype('int').sum()\n",
    "    return (n_docs/doc_freq).apply(log)\n",
    "\n",
    "idf(bag_of_words).sort_values(ascending = False)"
   ]
  },
  {
   "cell_type": "code",
   "execution_count": 11,
   "metadata": {},
   "outputs": [
    {
     "data": {
      "text/plain": [
       "house      0.059116\n",
       "cat        0.059116\n",
       "story      0.051917\n",
       "had        0.051917\n",
       "a          0.051917\n",
       "tiny       0.051917\n",
       "little     0.051917\n",
       "of         0.051917\n",
       "away       0.051917\n",
       "ran        0.051917\n",
       "from       0.051917\n",
       "ate        0.051917\n",
       "finally    0.051917\n",
       "end        0.051917\n",
       "saw        0.051917\n",
       "the        0.000000\n",
       "mouse      0.000000\n",
       "dtype: float64"
      ]
     },
     "execution_count": 11,
     "metadata": {},
     "output_type": "execute_result"
    }
   ],
   "source": [
    "def tf_idf(bag_of_words):\n",
    "    return (tf(bag_of_words) * idf(bag_of_words))\n",
    "\n",
    "tf_idf(bag_of_words).sort_values(ascending = False)"
   ]
  },
  {
   "cell_type": "code",
   "execution_count": null,
   "metadata": {},
   "outputs": [],
   "source": []
  }
 ],
 "metadata": {
  "kernelspec": {
   "display_name": "Python 3",
   "language": "python",
   "name": "python3"
  },
  "language_info": {
   "codemirror_mode": {
    "name": "ipython",
    "version": 3
   },
   "file_extension": ".py",
   "mimetype": "text/x-python",
   "name": "python",
   "nbconvert_exporter": "python",
   "pygments_lexer": "ipython3",
   "version": "3.7.4"
  }
 },
 "nbformat": 4,
 "nbformat_minor": 2
}
