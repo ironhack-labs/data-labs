{
 "cells": [
  {
   "cell_type": "markdown",
   "metadata": {},
   "source": [
    "# String Operations Lab\n",
    "\n",
    "**Before your start:**\n",
    "\n",
    "- Read the README.md file\n",
    "- Comment as much as you can and use the resources in the README.md file\n",
    "- Happy learning!"
   ]
  },
  {
   "cell_type": "code",
   "execution_count": 124,
   "metadata": {},
   "outputs": [],
   "source": [
    "import re\n",
    "import collections"
   ]
  },
  {
   "cell_type": "markdown",
   "metadata": {},
   "source": [
    "# Challenge 1 - Combining Strings\n",
    "\n",
    "Combining strings is an important skill to acquire. There are multiple ways of combining strings in Python, as well as combining strings with variables. We will explore this in the first challenge. In the cell below, combine the strings in the list and add spaces between the strings (do not add a space after the last string). Insert a period after the last string."
   ]
  },
  {
   "cell_type": "code",
   "execution_count": 2,
   "metadata": {},
   "outputs": [
    {
     "name": "stdout",
     "output_type": "stream",
     "text": [
      "Durante un tiempo no estuvo segura de si su marido era su marido.\n"
     ]
    }
   ],
   "source": [
    "str_list = ['Durante', 'un', 'tiempo', 'no', 'estuvo', 'segura', 'de', 'si', 'su', 'marido', 'era', 'su', 'marido']\n",
    "# Your code here:\n",
    "comb_str = (' '.join(str_list))\n",
    "print(comb_str + '.')"
   ]
  },
  {
   "cell_type": "markdown",
   "metadata": {},
   "source": [
    "In the cell below, use the list of strings to create a grocery list. Start the list with the string `Grocery list: ` and include a comma and a space between each item except for the last one. Include a period at the end. Only include foods in the list that start with the letter 'b' and ensure all foods are lower case."
   ]
  },
  {
   "cell_type": "code",
   "execution_count": 3,
   "metadata": {},
   "outputs": [
    {
     "name": "stdout",
     "output_type": "stream",
     "text": [
      "Grocery list: Bananas, Chocolate, bread, diapers, Ice Cream, Brownie Mix, broccoli\n"
     ]
    }
   ],
   "source": [
    "food_list = ['Bananas', 'Chocolate', 'bread', 'diapers', 'Ice Cream', 'Brownie Mix', 'broccoli']\n",
    "# Your code here:\n",
    "grocer_lst =(\"Grocery list: \" + ', '.join(food_list))\n",
    "\n",
    "print(grocer_lst)"
   ]
  },
  {
   "cell_type": "markdown",
   "metadata": {},
   "source": [
    "In the cell below, write a function that computes the area of a circle using its radius. Compute the area of the circle and insert the radius and the area between the two strings. Make sure to include spaces between the variable and the strings. \n",
    "\n",
    "Note: You can use the techniques we have learned so far or use f-strings. F-strings allow us to embed code inside strings. You can read more about f-strings [here](https://www.python.org/dev/peps/pep-0498/)."
   ]
  },
  {
   "cell_type": "code",
   "execution_count": 4,
   "metadata": {},
   "outputs": [
    {
     "name": "stdout",
     "output_type": "stream",
     "text": [
      "The area of the circle with radius: 4.5 is: 63.61725123519331\n"
     ]
    }
   ],
   "source": [
    "import math\n",
    "\n",
    "string1 = \"The area of the circle with radius:\"\n",
    "string2  = \"is:\"\n",
    "radius = 4.5\n",
    "\n",
    "def area(x, pi = math.pi):\n",
    "    \n",
    "    # This function takes a radius and returns the area of a circle. We also pass a default value for pi.\n",
    "    # Input: Float (and default value for pi)\n",
    "    # Output: Float\n",
    "    \n",
    "    # Sample input: 5.0\n",
    "    # Sample Output: 78.53981633\n",
    "    \n",
    "    # Your code here:\n",
    "    calc_area = pi * x**2\n",
    "    return calc_area\n",
    "\n",
    "print(string1,radius,string2,area(radius))    \n",
    "    \n",
    "# Your output string here:\n"
   ]
  },
  {
   "cell_type": "markdown",
   "metadata": {},
   "source": [
    "# Challenge 2 - Splitting Strings\n",
    "\n",
    "We have first looked at combining strings into one long string. There are times where we need to do the opposite and split the string into smaller components for further analysis. \n",
    "\n",
    "In the cell below, split the string into a list of strings using the space delimiter. Count the frequency of each word in the string in a dictionary. Strip the periods, line breaks and commas from the text. Make sure to remove empty strings from your dictionary."
   ]
  },
  {
   "cell_type": "code",
   "execution_count": 53,
   "metadata": {},
   "outputs": [
    {
     "name": "stdout",
     "output_type": "stream",
     "text": [
      "['Some', 'say', 'the', 'world', 'will', 'end', 'in', 'fire', 'Some', 'say', 'in', 'ice', 'From', 'what', 'I’ve', 'tasted', 'of', 'desire', 'I', 'hold', 'with', 'those', 'who', 'favor', 'fire', 'But', 'if', 'it', 'had', 'to', 'perish', 'twice', 'I', 'think', 'I', 'know', 'enough', 'of', 'hate', 'To', 'say', 'that', 'for', 'destruction', 'ice', 'Is', 'also', 'great', 'And', 'would', 'suffice']\n",
      "Some : 2\n",
      "say : 3\n",
      "the : 1\n",
      "world : 1\n",
      "will : 1\n",
      "end : 1\n",
      "in : 2\n",
      "fire : 2\n",
      "ice : 2\n",
      "From : 1\n",
      "what : 1\n",
      "I’ve : 1\n",
      "tasted : 1\n",
      "of : 2\n",
      "desire : 1\n",
      "I : 3\n",
      "hold : 1\n",
      "with : 1\n",
      "those : 1\n",
      "who : 1\n",
      "favor : 1\n",
      "But : 1\n",
      "if : 1\n",
      "it : 1\n",
      "had : 1\n",
      "to : 1\n",
      "perish : 1\n",
      "twice : 1\n",
      "think : 1\n",
      "know : 1\n",
      "enough : 1\n",
      "hate : 1\n",
      "To : 1\n",
      "that : 1\n",
      "for : 1\n",
      "destruction : 1\n",
      "Is : 1\n",
      "also : 1\n",
      "great : 1\n",
      "And : 1\n",
      "would : 1\n",
      "suffice : 1\n"
     ]
    }
   ],
   "source": [
    "\n",
    "poem = \"\"\"Some say the world will end in fire,\n",
    "Some say in ice.\n",
    "From what I’ve tasted of desire\n",
    "I hold with those who favor fire.\n",
    "But if it had to perish twice,\n",
    "I think I know enough of hate\n",
    "To say that for destruction ice\n",
    "Is also great\n",
    "And would suffice.\"\"\"\n",
    "\n",
    "# Your code here:\n",
    "poem_stp1=poem.strip().split()\n",
    "\n",
    "remove_char=['.',',']\n",
    "for i in remove_char : \n",
    "    poem = poem.replace(i, '') \n",
    "print(poem_lst)\n",
    "\n",
    "freq = {} \n",
    "for item in poem_lst: \n",
    "    if (item in freq): \n",
    "            freq[item] += 1\n",
    "    else: \n",
    "            freq[item] = 1\n",
    "  \n",
    "for key, value in freq.items(): \n",
    "    print (key,':',value) \n"
   ]
  },
  {
   "cell_type": "markdown",
   "metadata": {},
   "source": [
    "In the cell below, find all the words that appear in the text and do not appear in the blacklist. You must parse the string but can choose any data structure you wish for the words that do not appear in the blacklist. Remove all non letter characters and convert all words to lower case."
   ]
  },
  {
   "cell_type": "code",
   "execution_count": 70,
   "metadata": {},
   "outputs": [
    {
     "name": "stdout",
     "output_type": "stream",
     "text": [
      "['i', 'i', 'was', 'was', 'angry', 'angry', 'with', 'with', 'my', 'my', 'friend', 'friend', 'i', 'i', 'told', 'told', 'my', 'my', 'wrath', 'wrath', 'my', 'my', 'wrath', 'wrath', 'did', 'did', 'end', 'end', 'i', 'i', 'was', 'was', 'angry', 'angry', 'with', 'with', 'my', 'my', 'foe', 'foe', 'i', 'i', 'told', 'told', 'it', 'it', 'not', 'not', 'my', 'my', 'wrath', 'wrath', 'did', 'did', 'grow', 'grow', 'and', 'and', 'i', 'i', 'waterd', 'waterd', 'it', 'it', 'in', 'in', 'fears', 'fears', 'night', 'night', '&', '&', 'morning', 'morning', 'with', 'with', 'my', 'my', 'tears', 'tears', 'and', 'and', 'i', 'i', 'sunned', 'sunned', 'it', 'it', 'with', 'with', 'smiles', 'smiles', 'and', 'and', 'with', 'with', 'soft', 'soft', 'deceitful', 'deceitful', 'wiles', 'wiles', 'and', 'and', 'it', 'it', 'grew', 'grew', 'both', 'both', 'day', 'day', 'and', 'and', 'night', 'night', 'till', 'till', 'it', 'it', 'bore', 'bore', 'an', 'an', 'apple', 'apple', 'bright', 'bright', 'and', 'and', 'my', 'my', 'foe', 'foe', 'beheld', 'beheld', 'it', 'it', 'shine', 'shine', 'and', 'and', 'he', 'he', 'knew', 'knew', 'that', 'that', 'it', 'it', 'was', 'was', 'mine', 'mine', 'and', 'and', 'into', 'into', 'my', 'my', 'garden', 'garden', 'stole', 'stole', 'when', 'when', 'the', 'the', 'night', 'night', 'had', 'had', 'veild', 'veild', 'the', 'the', 'pole', 'pole', 'in', 'in', 'the', 'the', 'morning', 'morning', 'glad', 'glad', 'i', 'i', 'see', 'see', 'my', 'my', 'foe', 'foe', 'outstretched', 'outstretched', 'beneath', 'beneath', 'the', 'the', 'tree', 'tree']\n"
     ]
    }
   ],
   "source": [
    "blacklist = ['and', 'as', 'an', 'a', 'the', 'in', 'it']\n",
    "\n",
    "poem = \"\"\"I was angry with my friend; \n",
    "I told my wrath, my wrath did end.\n",
    "I was angry with my foe: \n",
    "I told it not, my wrath did grow. \n",
    "\n",
    "And I waterd it in fears,\n",
    "Night & morning with my tears: \n",
    "And I sunned it with smiles,\n",
    "And with soft deceitful wiles. \n",
    "\n",
    "And it grew both day and night. \n",
    "Till it bore an apple bright. \n",
    "And my foe beheld it shine,\n",
    "And he knew that it was mine. \n",
    "\n",
    "And into my garden stole, \n",
    "When the night had veild the pole; \n",
    "In the morning glad I see; \n",
    "My foe outstretched beneath the tree.\"\"\"\n",
    "\n",
    "# Your code here:\n",
    "remove_char=['.',',',':',';']\n",
    "for i in remove_char : \n",
    "    poem = poem.replace(i, '') \n",
    "\n",
    "poem_low=poem.lower()\n",
    "poem_strp2=poem_low.strip().split()\n",
    "\n",
    "new_poem=[]\n",
    "for words in poem_strp2:\n",
    "    for x in blacklist:\n",
    "        if (x not in poem_strp2):\n",
    "          new_poem.append(words)\n",
    "           \n",
    "print(new_poem)"
   ]
  },
  {
   "cell_type": "markdown",
   "metadata": {},
   "source": [
    "# Challenge 3 - Regular Expressions\n",
    "\n",
    "Sometimes, we would like to perform more complex manipulations of our string. This is where regular expressions come in handy. In the cell below, return all characters that are upper case from the string specified below."
   ]
  },
  {
   "cell_type": "code",
   "execution_count": 76,
   "metadata": {},
   "outputs": [
    {
     "data": {
      "text/plain": [
       "'TP'"
      ]
     },
     "execution_count": 76,
     "metadata": {},
     "output_type": "execute_result"
    }
   ],
   "source": [
    "poem = \"\"\"The apparition of these faces in the crowd;\n",
    "Petals on a wet, black bough.\"\"\"\n",
    "\n",
    "# Your code here:\n",
    "re.sub('[^A-Z]', '', poem)"
   ]
  },
  {
   "cell_type": "markdown",
   "metadata": {},
   "source": [
    "In the cell below, filter the list provided and return all elements of the list containing a number. To filter the list, use the `re.search` function. Check if the function does not return `None`. You can read more about the `re.search` function [here](https://docs.python.org/3/library/re.html)."
   ]
  },
  {
   "cell_type": "code",
   "execution_count": 122,
   "metadata": {},
   "outputs": [
    {
     "name": "stdout",
     "output_type": "stream",
     "text": [
      "123abc\n",
      "abc123\n",
      "JohnSmith1\n",
      "ABBY4\n"
     ]
    }
   ],
   "source": [
    "data = ['123abc', 'abc123', 'JohnSmith1', 'ABBY4', 'JANE']\n",
    "\n",
    "# Your code here:\n",
    "for element in data:\n",
    "    if re.search(r'\\d+', element):\n",
    "      print(element)"
   ]
  },
  {
   "cell_type": "markdown",
   "metadata": {},
   "source": [
    "# Bonus Challenge - Regular Expressions II\n",
    "\n",
    "In the cell below, filter the list provided to keep only strings containing at least one digit and at least one lower case letter. As in the previous question, use the `re.search` function and check that the result is not `None`.\n",
    "\n",
    "To read more about regular expressions, check out [this link](https://developers.google.com/edu/python/regular-expressions)."
   ]
  },
  {
   "cell_type": "code",
   "execution_count": 133,
   "metadata": {},
   "outputs": [
    {
     "name": "stdout",
     "output_type": "stream",
     "text": [
      "123abc\n",
      "abc123\n",
      "JohnSmith1\n"
     ]
    }
   ],
   "source": [
    "data = ['123abc', 'abc123', 'JohnSmith1', 'ABBY4', 'JANE']\n",
    "# Your code here:\n",
    "for element in data:\n",
    "    if re.search(r'\\d+[a-z]|[a-z]+\\d+', element):\n",
    "      print(element)"
   ]
  },
  {
   "cell_type": "code",
   "execution_count": null,
   "metadata": {},
   "outputs": [],
   "source": []
  }
 ],
 "metadata": {
  "kernelspec": {
   "display_name": "Python 3",
   "language": "python",
   "name": "python3"
  },
  "language_info": {
   "codemirror_mode": {
    "name": "ipython",
    "version": 3
   },
   "file_extension": ".py",
   "mimetype": "text/x-python",
   "name": "python",
   "nbconvert_exporter": "python",
   "pygments_lexer": "ipython3",
   "version": "3.7.4"
  }
 },
 "nbformat": 4,
 "nbformat_minor": 2
}
