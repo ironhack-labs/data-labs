{
 "cells": [
  {
   "cell_type": "code",
   "execution_count": null,
   "metadata": {},
   "outputs": [],
   "source": [
    "# LIST COMPREHENSION\n",
    "\n",
    "# Reading Multiple Files\n",
    "# One use case where list comprehensions come in handy is when data is split across multiple files. For example, suppose we had a data directory that contained several CSV files (among other files), each with the same information (columns) for separate groups or divisions. We could use a list comprehension with an endswith('.csv') condition in it to get a list of just the CSV files in that directory. We could use another list comprehension to have Pandas read each of those files and then the pd.concat method to combine them all into a single data set that we can analyze as follows.\n",
    "\n",
    "import os\n",
    "import pandas as pd\n",
    "\n",
    "file_list = [f for f in os.listdir('./data') if f.endswith('.csv')]\n",
    "data_sets = [pd.read_csv(os.path.join('./data', f)) for f in file_list]\n",
    "data = pd.concat(data_sets, axis=0)\n",
    "\n",
    "# Selecting Data Frame Columns Based on Conditions\n",
    "\n",
    "data = pd.read_csv('vehicles.csv')\n",
    "\n",
    "selected_columns = [col for col in data._get_numeric_data() if data[col].mean() > 15]\n",
    "print(selected_columns)\n",
    "\n",
    "['Year', 'Fuel Barrels/Year', 'City MPG', 'Highway MPG', 'Combined MPG', 'CO2 Emission Grams/Mile', 'Fuel Cost/Year']"
   ]
  },
  {
   "cell_type": "code",
   "execution_count": null,
   "metadata": {},
   "outputs": [],
   "source": [
    "# TUPLES\n",
    "\n",
    "# Tuples are sequences just like list. However, the main difference between tuples and lists is that tuples are immutable. This means that the values inside of a tuple cannot be overwritten (or mutated) once the tuple is defined.\n",
    "\n",
    "# We define tuples using parentheses and specify the sequence in our tuple as follows:\n",
    "\n",
    "chocolates = ('dark', 'milk', 'semi sweet')"
   ]
  },
  {
   "cell_type": "code",
   "execution_count": 1,
   "metadata": {},
   "outputs": [
    {
     "name": "stdout",
     "output_type": "stream",
     "text": [
      "John\n",
      "Paul\n",
      "George\n",
      "Ringo\n",
      "312-555-1234\n",
      "312-555-3123\n",
      "312-555-3333\n",
      "312-555-2222\n",
      "John: 312-555-1234\n",
      "Paul: 312-555-3123\n",
      "George: 312-555-3333\n",
      "Ringo: 312-555-2222\n"
     ]
    }
   ],
   "source": [
    "# DICTS\n",
    "\n",
    "# Sometimes we don't just want to store data in a sequence. There are cases where we want to easily retrieve our data rather than iterate through an entire list. There are also cases where we need to label our data. For example, the phone numbers stored in our phone are labeled using the name of our contacts. In these cases, it is better to use a dict. Dicts are a sequence of key value pairs. We store the data behind the scenes in a hash map. This means that we use the key to generate a unique index (called a hash) and store the value in the location marked by that index. This makes retrieval very fast.\n",
    "\n",
    "# We can manually create a dict by specifying all keys and values separated by a colon within curly braces.\n",
    "\n",
    "contacts = {'John': '312-555-1234', 'Paul': '312-555-3123', 'George': '312-555-3333', 'Ringo': '312-555-2222'}\n",
    "\n",
    "# Iterating Through a Dict\n",
    "\n",
    "# We can use keys to iterate through the keys, values() to iterate through the values and items() to iterate through both simultaneously.\n",
    "\n",
    "for i in contacts.keys():\n",
    "     print(i)\n",
    "\n",
    "for i in contacts.values():\n",
    "    print(i)\n",
    "\n",
    "for k, v in contacts.items():\n",
    "     print(k+\": \"+v)\n"
   ]
  },
  {
   "cell_type": "code",
   "execution_count": null,
   "metadata": {},
   "outputs": [],
   "source": []
  }
 ],
 "metadata": {
  "kernelspec": {
   "display_name": "Python 3",
   "language": "python",
   "name": "python3"
  },
  "language_info": {
   "codemirror_mode": {
    "name": "ipython",
    "version": 3
   },
   "file_extension": ".py",
   "mimetype": "text/x-python",
   "name": "python",
   "nbconvert_exporter": "python",
   "pygments_lexer": "ipython3",
   "version": "3.7.3"
  }
 },
 "nbformat": 4,
 "nbformat_minor": 2
}
