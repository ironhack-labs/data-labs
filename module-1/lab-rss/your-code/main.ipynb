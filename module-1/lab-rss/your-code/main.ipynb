{
 "cells": [
  {
   "cell_type": "markdown",
   "metadata": {},
   "source": [
    "# Working with RSS Feeds Lab\n",
    "\n",
    "Complete the following set of exercises to solidify your knowledge of parsing RSS feeds and extracting information from them."
   ]
  },
  {
   "cell_type": "code",
   "execution_count": 1,
   "metadata": {},
   "outputs": [],
   "source": [
    "import feedparser"
   ]
  },
  {
   "cell_type": "markdown",
   "metadata": {},
   "source": [
    "### 1. Use feedparser to parse the following RSS feed URL."
   ]
  },
  {
   "cell_type": "code",
   "execution_count": 2,
   "metadata": {},
   "outputs": [],
   "source": [
    "url = 'http://feeds.feedburner.com/oreilly/radar/atom'"
   ]
  },
  {
   "cell_type": "code",
   "execution_count": 3,
   "metadata": {},
   "outputs": [
    {
     "name": "stdout",
     "output_type": "stream",
     "text": [
      "{'feed': {'title': 'Radar', 'title_detail': {'type': 'text/plain', 'language': None, 'base': 'http://feeds.feedburner.com/oreilly/radar/atom', 'value': 'Radar'}, 'links': [{'rel': 'alternate', 'type': 'text/html', 'href': 'https://www.oreilly.com/radar'}, {'rel': 'self', 'type': 'application/rss+xml', 'href': 'http://feeds.feedburner.com/oreilly/radar/atom'}, {'rel': 'hub', 'href': 'http://pubsubhubbub.appspot.com/', 'type': 'text/html'}], 'link': 'https://www.oreilly.com/radar', 'subtitle': 'Now, next, and beyond: Tracking need-to-know trends at the intersection of business and technology', 'subtitle_detail': {'type': 'text/html', 'language': None, 'base': 'http://feeds.feedburner.com/oreilly/radar/atom', 'value': 'Now, next, and beyond: Tracking need-to-know trends at the intersection of business and technology'}, 'updated': 'Mon, 07 Oct 2019 16:49:55 +0000', 'updated_parsed': time.struct_time(tm_year=2019, tm_mon=10, tm_mday=7, tm_hour=16, tm_min=49, tm_sec=55, tm_wday=0, tm_yday=280, tm_isdst=0), 'language': 'en-US', 'sy_updateperiod': 'hourly', 'sy_updatefrequency': '1', 'generator_detail': {'name': 'https://wordpress.org/?v=5.2.3'}, 'generator': 'https://wordpress.org/?v=5.2.3', 'feedburner_info': {'uri': 'oreilly/radar/atom'}, 'geo_lat': '38.393314', 'geo_long': '-122.836667', 'feedburner_emailserviceid': 'oreilly/radar/atom', 'feedburner_feedburnerhostname': 'https://feedburner.google.com'}, 'entries': [{'title': 'Radar trends to watch: October 2019', 'title_detail': {'type': 'text/plain', 'language': None, 'base': 'http://feeds.feedburner.com/oreilly/radar/atom', 'value': 'Radar trends to watch: October 2019'}, 'links': [{'rel': 'alternate', 'type': 'text/html', 'href': 'http://feedproxy.google.com/~r/oreilly/radar/atom/~3/gNaIpZ2P9us/'}], 'link': 'http://feedproxy.google.com/~r/oreilly/radar/atom/~3/gNaIpZ2P9us/', 'comments': 'https://www.oreilly.com/radar/radar-trends-to-watch-october-2019/#respond', 'published': 'Mon, 07 Oct 2019 12:00:09 +0000', 'published_parsed': time.struct_time(tm_year=2019, tm_mon=10, tm_mday=7, tm_hour=12, tm_min=0, tm_sec=9, tm_wday=0, tm_yday=280, tm_isdst=0), 'authors': [{'name': 'Mac Slocum'}], 'author': 'Mac Slocum', 'author_detail': {'name': 'Mac Slocum'}, 'tags': [{'term': 'Radar Trends', 'scheme': None, 'label': None}, {'term': 'Signals', 'scheme': None, 'label': None}], 'id': 'https://www.oreilly.com/radar/?p=9859', 'guidislink': False, 'summary': 'Open source and activism trends A new kind of developer activism is emerging: “open source” licenses that restrict how the software can be used—i.e., not by US Immigration and Customs Enforcement (ICE) or the military. By archiving two of his projects on GitHub because Chef has a contract with ICE, developer Seth Vargo has lit [&#8230;]', 'summary_detail': {'type': 'text/html', 'language': None, 'base': 'http://feeds.feedburner.com/oreilly/radar/atom', 'value': 'Open source and activism trends A new kind of developer activism is emerging: “open source” licenses that restrict how the software can be used—i.e., not by US Immigration and Customs Enforcement (ICE) or the military. By archiving two of his projects on GitHub because Chef has a contract with ICE, developer Seth Vargo has lit [&#8230;]'}, 'content': [{'type': 'text/html', 'language': None, 'base': 'http://feeds.feedburner.com/oreilly/radar/atom', 'value': '<h2>Open source and activism trends</h2>\\n<p>A new kind of developer activism is emerging: “open source” licenses that restrict how the software can be used—i.e., not by US Immigration and Customs Enforcement (ICE) or the military. By <a href=\"https://arstechnica.com/information-technology/2019/09/coder-deletes-open-source-add-on-for-chef-in-protest-over-ice-contract/\">archiving</a> two of his projects on GitHub because Chef has a contract with ICE, developer Seth Vargo has lit a fire that isn’t likely to die down. And he was effective; Chef <a href=\"https://www.wired.com/story/software-company-chef-wont-renew-ice-contact/\">announced</a> it would not renew its contracts with ICE when they expire. Vargo’s action raises significant questions about the meaning of open source. Is it open if certain users, or types of uses, are forbidden?</p>\\n<h2>Quantum computing trends</h2>\\n<p>IBM and Google are sparring over quantum computing. This month, <a href=\"https://techxplore.com/news/2019-09-big-blue-quantum-center-qubit.html\">IBM</a> will be making a 53-qubit system accessible via the cloud, and in a paper from <a href=\"https://www.theverge.com/2019/9/23/20879485/google-quantum-supremacy-qubits-nasa\">Google</a>, the company says it has achieved “quantum supremacy” because its system completed a calculation that can only be solved on a quantum computer. (The Google paper appears to have been posted inadvertently by NASA, and then pulled down.) <a href=\"https://www.scottaaronson.com/blog/?p=4342\">Scott Aaronson</a> has a good explanation of what Google has done, why it’s important, and why it doesn’t mean the sky is falling. Truth is, we’re still 10 years away from useful quantum computing.</p>\\n<h2>AR/VR trends</h2>\\n<p>There was a rumor that Apple was going to unveil <a href=\"https://www.macrumors.com/roundup/apple-glasses/\">Apple glasses</a> with the new iPhones. That announcement didn’t happen, so it’s possible this was just a rumor with no basis in a current or future product. I’m inclined to think that’s the case. But what’s interesting is that Facebook is in the <a href=\"https://www.cnbc.com/2019/09/17/facebook-enlists-ray-ban-maker-luxottica-to-make-orion-ar-glasses.html\">glasses game</a>, too. So is Amazon (with lots of <a href=\"https://www.technologyreview.com/f/614436/amazons-new-products-show-it-wants-alexa-to-always-be-with-you/\">Alexa-themed accessories</a>: rings, glasses, earbuds). And Google has never gotten out of the market (Google Glass survives as an <a href=\"https://www.google.com/glass/start/\">enterprise product</a>). So regardless of Apple, keep on watching AR and VR.</p>\\n<p><a href=\"https://www.digitaltrends.com/cool-tech/artificial-skin-haptic-feedback/\">Artificial skin with haptic feedback</a> is more futuristic than VR glasses, but it could lead to yet another dimension for VR experiences. (Remember Feelies in <em>Brave New World</em>?) Peeling your artificial skin on and off sounds even less convenient than wearing bulky VR goggles, though.</p>\\n<h2>Other trends</h2>\\n<p>GitHub is becoming even more of a platform. The company is integrating features that are normally associated with integrated development environments (IDEs), adding <a href=\"https://venturebeat.com/2019/09/18/github-acquires-semmle-to-help-developers-spot-code-exploits/\">security tools</a>, and a repository for vulnerabilities.</p>\\n<p>There’s yet another web framework: <a href=\"https://svelte.dev/\">Svelte</a>. It’s more reactive than React, eliminates the virtual DOM, and eliminates boilerplate code. The framework wars will probably continue indefinitely.</p>\\n<p><a href=\"https://en.wikipedia.org/wiki/Libra_(cryptocurrency)\">Libra</a>, Facebook’s digital currency, has been much in the news, though there’s still little clarity on exactly what it is. <a href=\"https://techxplore.com/news/2019-09-stormclouds-facebook-libra-currency.html\">Regulatory issues</a> (particularly in the <a href=\"https://www.technologyreview.com/f/614321/facebook-libra-france-and-germany-say-they-will-oppose-facebooks-digital-currency/\">EU</a>) are going to be a huge issue. Germany and France have said they will oppose Libra, and I suspect a lot of the EU will follow their lead. The <a href=\"https://www.wsj.com/articles/visa-mastercard-others-reconsider-involvement-in-facebook-s-libra-network-11569967023\"><em>Wall Street Journal</em></a> says Visa and Mastercard are “reconsidering.” PayPal is <a href=\"https://www.cnbc.com/2019/10/04/paypal-withdraws-from-facebooks-libra-cryptocurrency.html\">out</a>.</p>\\n<p>One recent announcement from Apple I considered interesting was that the company is getting into <a href=\"https://www.theguardian.com/technology/2019/sep/10/apple-arcade-launch-netflix-for-games-will-cost-499-a-month\">video game streaming</a>. On Twitter, I’ve seen some complaints from game authors and gaming companies about pricing and compensation. We’ll see if Apple manages to suck all the air out of the market.</p>\\n<p>California’s new employment law (<a href=\"https://www.latimes.com/california/story/2019-09-18/gavin-newsom-signs-ab5-employees0independent-contractors-california\">AB5</a>) could be a trendsetter for a lot of states. The responses from <a href=\"https://www.uber.com/newsroom/ab5-update/\">Uber</a> and <a href=\"https://www.salon.com/2019/09/11/uber-and-lyft-launch-anti-labor-misinformation-campaign-in-response-to-historic-california-bill/\">Lyft</a> have been nothing short of incredible. It’s hard to see how drivers <a href=\"https://www.cnn.com/2019/09/11/tech/ab5-uber-lyft/index.html\">perform work that is outside the usual course of business for the companies</a>. I don’t think anyone is prepared to accept the idea that these companies are <em>only</em> in the business of providing ride-sharing apps.</p>\\n<p><a href=\"https://www.vox.com/2019/8/30/20835137/facebook-zuckerberg-elon-musk-brain-mind-reading-neuroethics\">Neuroethics</a> is likely to become a topic of discussion, in response to all the talk about brain interfaces. Despite Elon Musk’s claims (<a href=\"https://www.theverge.com/2019/7/16/20697123/elon-musk-neuralink-brain-reading-thread-robot\">and some legitimate progress</a>, including an interface that can enable <a href=\"https://www.bbc.com/news/health-49907356\">people with paralysis</a> to move using a mechanical exoskeleton), I don’t think we’ll ever have general-purpose wired interfaces. And unwired interfaces have huge problems with noise and resolution. But regardless of the hype, brain interfaces will become much more useful in the next few years, and they will bring new ethical challenges.</p>\\n<p>Sentiment analysis for social media has always been tough, but we’re starting to see more projects on <a href=\"https://techxplore.com/news/2019-09-body-language.html\">sentiment analysis for body language</a> and emotion. That might work a lot better; it’s hard for your body language to lie or be ironic.</p>\\n<img src=\"http://feeds.feedburner.com/~r/oreilly/radar/atom/~4/gNaIpZ2P9us\" height=\"1\" width=\"1\" alt=\"\"/>'}], 'wfw_commentrss': 'https://www.oreilly.com/radar/radar-trends-to-watch-october-2019/feed/', 'slash_comments': '0', 'feedburner_origlink': 'https://www.oreilly.com/radar/radar-trends-to-watch-october-2019/'}, {'title': 'Four short links: 7 October 2019', 'title_detail': {'type': 'text/plain', 'language': None, 'base': 'http://feeds.feedburner.com/oreilly/radar/atom', 'value': 'Four short links: 7 October 2019'}, 'links': [{'rel': 'alternate', 'type': 'text/html', 'href': 'http://feedproxy.google.com/~r/oreilly/radar/atom/~3/bR0SRT0cgQ0/'}], 'link': 'http://feedproxy.google.com/~r/oreilly/radar/atom/~3/bR0SRT0cgQ0/', 'comments': 'https://www.oreilly.com/radar/four-short-links-7-october-2019/#respond', 'published': 'Mon, 07 Oct 2019 04:01:40 +0000', 'published_parsed': time.struct_time(tm_year=2019, tm_mon=10, tm_mday=7, tm_hour=4, tm_min=1, tm_sec=40, tm_wday=0, tm_yday=280, tm_isdst=0), 'authors': [{'email': 'jwebb@oreilly.com'}], 'author': 'jwebb@oreilly.com', 'author_detail': {'email': 'jwebb@oreilly.com'}, 'tags': [{'term': 'Four Short Links', 'scheme': None, 'label': None}, {'term': 'Signals', 'scheme': None, 'label': None}], 'id': 'https://www.oreilly.com/radar/?p=9908', 'guidislink': False, 'summary': 'Addicted to Screens? That’s Really a You Problem (NY Times) &#8212; In “Indistractable,” which was published last month, Mr. Eyal has written a guide to free people from an addiction he argues they never had in the first place. It was all just sloughing off personal responsibility, he figures. So the solution is to reclaim [&#8230;]', 'summary_detail': {'type': 'text/html', 'language': None, 'base': 'http://feeds.feedburner.com/oreilly/radar/atom', 'value': 'Addicted to Screens? That’s Really a You Problem (NY Times) &#8212; In “Indistractable,” which was published last month, Mr. Eyal has written a guide to free people from an addiction he argues they never had in the first place. It was all just sloughing off personal responsibility, he figures. So the solution is to reclaim [&#8230;]'}, 'content': [{'type': 'text/html', 'language': None, 'base': 'http://feeds.feedburner.com/oreilly/radar/atom', 'value': '<ol><li><a href=\"https://www.nytimes.com/2019/10/06/technology/phone-screen-addiction-tech-nir-eyal.html\">Addicted to Screens? That’s Really a You Problem</a> (NY Times) &#8212; <em>In “Indistractable,” which was published last month, Mr. Eyal has written a guide to free people from an addiction he argues they never had in the first place. It was all just sloughing off personal responsibility, he figures. So the solution is to reclaim responsibility in myriad small ways. For instance: have your phone on silent so there will be fewer external triggers. Email less and faster. Don’t hang out on Slack. Have only one laptop out during meetings. Introduce social pressure like sitting next to someone who can see your screen. Set “price pacts” with people so you pay them if you get distracted—though be sure to “learn self-compassion before making a price pact.”</em></li><li><a href=\"https://www.perceptualedge.com/blog/?p=2957\">The Perceptual and Cognitive Limits of Multivariate Data Visualization</a> &#8212; <em>Almost all data visualizations are multivariate (i.e., they display more than one variable), but there are practical limits to the number of variables that a single graph can display. These limits vary depending on the approach that’s used. Three graphical approaches are currently available for displaying multiple variables: (1) encode each variable using a different visual attribute; (2) encode every variable using the same visual attribute; (3) increase the number of variables using small multiples. In this article, we’ll consider each.</em></li><li><a href=\"http://www.afutureworththinkingabout.com/?p=5442\">Any Sufficiently Advanced Neglect is Indistinguishable from Malice: Assumptions and Bias in Algorithmic Systems</a> &#8212; <em>A harm created through persistent ignorance, through willful ignorance of harm raised, is not necessarily very different from harm intentionally done.</em></li><li><a href=\"https://numinous.productions/ttft/\">How Can We Develop Transformative Tools for Thought?</a> &#8212; <em>We believe now is a good time to work hard on this vision again. In this essay, we sketch out a set of ideas we believe can be used to help develop transformative new tools for thought. In the first part of the essay, we describe an experimental prototype system we&#8217;ve built, a kind of mnemonic medium intended to augment human memory. This is a snapshot of an ongoing project, detailing both encouraging progress as well as many challenges and opportunities. In the second part of the essay, we broaden the focus. We sketch several other prototype systems, and we address the question: why is it that the technology industry has made comparatively little effort developing this vision of transformative tools for thought?</em></li></ol>\\n<img src=\"http://feeds.feedburner.com/~r/oreilly/radar/atom/~4/bR0SRT0cgQ0\" height=\"1\" width=\"1\" alt=\"\"/>'}], 'wfw_commentrss': 'https://www.oreilly.com/radar/four-short-links-7-october-2019/feed/', 'slash_comments': '0', 'feedburner_origlink': 'https://www.oreilly.com/radar/four-short-links-7-october-2019/'}, {'title': 'Four short links: 4 October 2019', 'title_detail': {'type': 'text/plain', 'language': None, 'base': 'http://feeds.feedburner.com/oreilly/radar/atom', 'value': 'Four short links: 4 October 2019'}, 'links': [{'rel': 'alternate', 'type': 'text/html', 'href': 'http://feedproxy.google.com/~r/oreilly/radar/atom/~3/JSi-w11QkHc/'}], 'link': 'http://feedproxy.google.com/~r/oreilly/radar/atom/~3/JSi-w11QkHc/', 'comments': 'https://www.oreilly.com/radar/four-short-links-4-october-2019/#respond', 'published': 'Fri, 04 Oct 2019 04:01:01 +0000', 'published_parsed': time.struct_time(tm_year=2019, tm_mon=10, tm_mday=4, tm_hour=4, tm_min=1, tm_sec=1, tm_wday=4, tm_yday=277, tm_isdst=0), 'authors': [{'email': 'jwebb@oreilly.com'}], 'author': 'jwebb@oreilly.com', 'author_detail': {'email': 'jwebb@oreilly.com'}, 'tags': [{'term': 'Four Short Links', 'scheme': None, 'label': None}, {'term': 'Signals', 'scheme': None, 'label': None}], 'id': 'https://www.oreilly.com/radar/?p=9850', 'guidislink': False, 'summary': 'SQL Queries Don&#8217;t Start with SELECT (Julia Evans) &#8212; today I learned&#8230; Vickery Auctions to Discover Demand Curve &#8212; this is gold! Hydra &#8212; A framework for elegantly configuring complex applications. Python library that makes config, command-line flags, logging, etc. EU Wants Global Control of Facebook Content (Verge) &#8212; On Thursday, the European Union’s top [&#8230;]', 'summary_detail': {'type': 'text/html', 'language': None, 'base': 'http://feeds.feedburner.com/oreilly/radar/atom', 'value': 'SQL Queries Don&#8217;t Start with SELECT (Julia Evans) &#8212; today I learned&#8230; Vickery Auctions to Discover Demand Curve &#8212; this is gold! Hydra &#8212; A framework for elegantly configuring complex applications. Python library that makes config, command-line flags, logging, etc. EU Wants Global Control of Facebook Content (Verge) &#8212; On Thursday, the European Union’s top [&#8230;]'}, 'content': [{'type': 'text/html', 'language': None, 'base': 'http://feeds.feedburner.com/oreilly/radar/atom', 'value': '<ol><li><a href=\"https://jvns.ca/blog/2019/10/03/sql-queries-don-t-start-with-select/\">SQL Queries Don&#8217;t Start with SELECT</a> (Julia Evans) &#8212; today I learned&#8230;</li><li><a href=\"https://kevinlynagh.com/notes/pricing-niche-products/\">Vickery Auctions to Discover Demand Curve</a> &#8212; this is gold!</li><li><a href=\"https://cli.dev/\">Hydra</a> &#8212; <em>A framework for elegantly configuring complex applications.</em> Python library that makes config, command-line flags, logging, etc.</li><li><a href=\"https://www.theverge.com/2019/10/3/20896839/facebook-global-takedown-content-ban-austria-moderation-illegal-freedom\">EU Wants Global Control of Facebook Content</a> (Verge) &#8212; <em>On Thursday, the European Union’s top court ruled that lower court judges could order Facebook to remove illegal comments from its platform, expanding on the power individual countries have to extend content bans across the world.</em> See <a href=\"https://twitter.com/daphnehk/status/1179751175836426241\">this thread</a> for more commentary. <em>Aside from substance issues, there is a major process issue: this ruling affects billions of Facebook users, but they were not represented in court. Important legal arguments about their rights were simply not raised or considered.</em></li></ol>\\n<img src=\"http://feeds.feedburner.com/~r/oreilly/radar/atom/~4/JSi-w11QkHc\" height=\"1\" width=\"1\" alt=\"\"/>'}], 'wfw_commentrss': 'https://www.oreilly.com/radar/four-short-links-4-october-2019/feed/', 'slash_comments': '0', 'feedburner_origlink': 'https://www.oreilly.com/radar/four-short-links-4-october-2019/'}, {'title': 'Four short links: 3 October 2019', 'title_detail': {'type': 'text/plain', 'language': None, 'base': 'http://feeds.feedburner.com/oreilly/radar/atom', 'value': 'Four short links: 3 October 2019'}, 'links': [{'rel': 'alternate', 'type': 'text/html', 'href': 'http://feedproxy.google.com/~r/oreilly/radar/atom/~3/_g56wTJ49Ak/'}], 'link': 'http://feedproxy.google.com/~r/oreilly/radar/atom/~3/_g56wTJ49Ak/', 'comments': 'https://www.oreilly.com/radar/four-short-links-3-october-2019/#respond', 'published': 'Thu, 03 Oct 2019 04:01:45 +0000', 'published_parsed': time.struct_time(tm_year=2019, tm_mon=10, tm_mday=3, tm_hour=4, tm_min=1, tm_sec=45, tm_wday=3, tm_yday=276, tm_isdst=0), 'authors': [{'email': 'jwebb@oreilly.com'}], 'author': 'jwebb@oreilly.com', 'author_detail': {'email': 'jwebb@oreilly.com'}, 'tags': [{'term': 'Four Short Links', 'scheme': None, 'label': None}, {'term': 'Signals', 'scheme': None, 'label': None}], 'id': 'https://www.oreilly.com/radar/?p=9847', 'guidislink': False, 'summary': 'Why Do Companies With Huge Resources Still Have Terrible Moderation? &#8212; an extremely readable explanation of why it&#8217;s so damn hard. Hint: AI isn&#8217;t it. ent &#8212; An entity framework for Go. Simple, yet powerful ORM for modeling and querying data. Open source, from Facebook. Adversarial Interoperability (Cory Doctorow) &#8212; collection of articles on when [&#8230;]', 'summary_detail': {'type': 'text/html', 'language': None, 'base': 'http://feeds.feedburner.com/oreilly/radar/atom', 'value': 'Why Do Companies With Huge Resources Still Have Terrible Moderation? &#8212; an extremely readable explanation of why it&#8217;s so damn hard. Hint: AI isn&#8217;t it. ent &#8212; An entity framework for Go. Simple, yet powerful ORM for modeling and querying data. Open source, from Facebook. Adversarial Interoperability (Cory Doctorow) &#8212; collection of articles on when [&#8230;]'}, 'content': [{'type': 'text/html', 'language': None, 'base': 'http://feeds.feedburner.com/oreilly/radar/atom', 'value': '<ol><li><a href=\"https://moultano.wordpress.com/2019/10/02/why-do-companies-with-huge-resources-still-have-terrible-moderation/\">Why Do Companies With Huge Resources Still Have Terrible Moderation?</a> &#8212; an extremely readable explanation of why it&#8217;s so damn hard. Hint: AI isn&#8217;t it.</li><li><a href=\"https://entgo.io/\">ent</a> &#8212; <em>An entity framework for Go. Simple, yet powerful ORM for modeling and querying data.</em> Open source, from Facebook.</li><li><a href=\"https://boingboing.net/2019/10/02/plug-and-play.html\">Adversarial Interoperability</a> (Cory Doctorow) &#8212; collection of articles on <em>when you create a new product or service that plugs into the existing ones without the permission of the companies that make them.</em></li><li><a href=\"https://www.chaum.com/publications/Random-Sample%20Elections.pdf\">Random Sample Elections</a> (David Chaum) &#8212; <em>The number of voters sampled can be small, depending on how close the contest, yet give overwhelming confidence. For instance, if the margin is at least 10%, then a thousand votes will likely yield a result that itself, without any assumption about the margin and with only a one-in-a million chance of error, establishes that a majority are in favor—even with an electorate of millions or billions. This dramatic reduction in the number of voters participating in each election compared to a conventional election today yields a substantially proportionate reduction in cost.</em></li></ol>\\n<img src=\"http://feeds.feedburner.com/~r/oreilly/radar/atom/~4/_g56wTJ49Ak\" height=\"1\" width=\"1\" alt=\"\"/>'}], 'wfw_commentrss': 'https://www.oreilly.com/radar/four-short-links-3-october-2019/feed/', 'slash_comments': '0', 'feedburner_origlink': 'https://www.oreilly.com/radar/four-short-links-3-october-2019/'}, {'title': 'Four short links: 2 October 2019', 'title_detail': {'type': 'text/plain', 'language': None, 'base': 'http://feeds.feedburner.com/oreilly/radar/atom', 'value': 'Four short links: 2 October 2019'}, 'links': [{'rel': 'alternate', 'type': 'text/html', 'href': 'http://feedproxy.google.com/~r/oreilly/radar/atom/~3/iA2TwNaZER0/'}], 'link': 'http://feedproxy.google.com/~r/oreilly/radar/atom/~3/iA2TwNaZER0/', 'comments': 'https://www.oreilly.com/radar/four-short-links-2-october-2019/#respond', 'published': 'Wed, 02 Oct 2019 04:01:09 +0000', 'published_parsed': time.struct_time(tm_year=2019, tm_mon=10, tm_mday=2, tm_hour=4, tm_min=1, tm_sec=9, tm_wday=2, tm_yday=275, tm_isdst=0), 'authors': [{'email': 'jwebb@oreilly.com'}], 'author': 'jwebb@oreilly.com', 'author_detail': {'email': 'jwebb@oreilly.com'}, 'tags': [{'term': 'Four Short Links', 'scheme': None, 'label': None}, {'term': 'Signals', 'scheme': None, 'label': None}], 'id': 'https://www.oreilly.com/radar/?p=9832', 'guidislink': False, 'summary': 'Data Fallacies to Avoid &#8212; nifty infographic for the beginning torturer of data. Transparency Reports Suffering &#8212; “The momentum has faded,” says Peter Micek, general counsel with Access Now. The digital rights advocacy group is updating its index of transparency reports, which it last posted in 2016, and this pending revision will document serious stagnation [&#8230;]', 'summary_detail': {'type': 'text/html', 'language': None, 'base': 'http://feeds.feedburner.com/oreilly/radar/atom', 'value': 'Data Fallacies to Avoid &#8212; nifty infographic for the beginning torturer of data. Transparency Reports Suffering &#8212; “The momentum has faded,” says Peter Micek, general counsel with Access Now. The digital rights advocacy group is updating its index of transparency reports, which it last posted in 2016, and this pending revision will document serious stagnation [&#8230;]'}, 'content': [{'type': 'text/html', 'language': None, 'base': 'http://feeds.feedburner.com/oreilly/radar/atom', 'value': '<ol><li><a href=\"https://www.geckoboard.com/assets/data-fallacies-to-avoid.pdf\">Data Fallacies to Avoid</a> &#8212; nifty infographic for the beginning torturer of data.</li><li><a href=\"https://www.theatlantic.com/technology/archive/2019/09/what-happened-transparency-reports/599035/\">Transparency Reports Suffering</a> &#8212; <em>“The momentum has faded,” says Peter Micek, general counsel with Access Now. The digital rights advocacy group is updating its index of transparency reports, which it last posted in 2016, and this pending revision will document serious stagnation in these disclosures. The worst rollbacks have happened when companies have merged or sold off large parts of their customer base, leaving the people involved doing business with new management that lacks the old management’s commitment to transparency.</em></li><li><a href=\"https://www.lawfareblog.com/how-long-will-unbreakable-commercial-encryption-last\">How Long Will Unbreakable Commercial Encryption Last?</a> (Lawfare) &#8212; <em>I believe the tech companies are slowly losing the battle over encryption. They’ve been able to bottle up legislation in the United States, where the tech lobby represents a domestic industry producing millions of jobs and trillions in personal wealth. But they have not been strong enough to stop the Justice Department from campaigning for lawful access. And now the department is unabashedly encouraging other countries to keep circling the tech industry, biting off more and more in the form of law enforcement mandates. That’s a lot easier in countries where Silicon Valley is seen as an alien and often hostile force, casually destroying domestic industries and mores.</em></li><li><a href=\"https://sentient-lang.org/\">Sentient</a> &#8212; an interesting experimental language to describe problems (Prolog-like), with SAT solvers under the hood to find solutions.</li></ol>\\n<img src=\"http://feeds.feedburner.com/~r/oreilly/radar/atom/~4/iA2TwNaZER0\" height=\"1\" width=\"1\" alt=\"\"/>'}], 'wfw_commentrss': 'https://www.oreilly.com/radar/four-short-links-2-october-2019/feed/', 'slash_comments': '0', 'feedburner_origlink': 'https://www.oreilly.com/radar/four-short-links-2-october-2019/'}, {'title': 'Four short links: 1 October 2019', 'title_detail': {'type': 'text/plain', 'language': None, 'base': 'http://feeds.feedburner.com/oreilly/radar/atom', 'value': 'Four short links: 1 October 2019'}, 'links': [{'rel': 'alternate', 'type': 'text/html', 'href': 'http://feedproxy.google.com/~r/oreilly/radar/atom/~3/G7AqPM7C9n0/'}], 'link': 'http://feedproxy.google.com/~r/oreilly/radar/atom/~3/G7AqPM7C9n0/', 'comments': 'https://www.oreilly.com/radar/four-short-links-1-october-2019/#respond', 'published': 'Tue, 01 Oct 2019 04:05:11 +0000', 'published_parsed': time.struct_time(tm_year=2019, tm_mon=10, tm_mday=1, tm_hour=4, tm_min=5, tm_sec=11, tm_wday=1, tm_yday=274, tm_isdst=0), 'authors': [{'email': 'jwebb@oreilly.com'}], 'author': 'jwebb@oreilly.com', 'author_detail': {'email': 'jwebb@oreilly.com'}, 'tags': [{'term': 'Four Short Links', 'scheme': None, 'label': None}, {'term': 'Signals', 'scheme': None, 'label': None}], 'id': 'https://www.oreilly.com/radar/?p=9792', 'guidislink': False, 'summary': 'Just Enough Research &#8212; a book that comes recommended by Simon Willison. Observations on Observability &#8212; I think the future of operating software systems at scale will look like process engineering. We will rely on continuous signals and look at software systems as dynamical systems. We will embrace similar techniques for process control and continuous [&#8230;]', 'summary_detail': {'type': 'text/html', 'language': None, 'base': 'http://feeds.feedburner.com/oreilly/radar/atom', 'value': 'Just Enough Research &#8212; a book that comes recommended by Simon Willison. Observations on Observability &#8212; I think the future of operating software systems at scale will look like process engineering. We will rely on continuous signals and look at software systems as dynamical systems. We will embrace similar techniques for process control and continuous [&#8230;]'}, 'content': [{'type': 'text/html', 'language': None, 'base': 'http://feeds.feedburner.com/oreilly/radar/atom', 'value': '<ol><li><a href=\"https://abookapart.com/products/just-enough-research\">Just Enough Research</a> &#8212; a book that comes recommended by <a href=\"https://simonwillison.net/2019/Sep/30/weeknotes-first-week-stanford/\">Simon Willison</a>.</li><li><a href=\"https://blog.colinbreck.com/observations-on-observability/\">Observations on Observability</a> &#8212; <em>I think the future of operating software systems at scale will look like process engineering. We will rely on continuous signals and look at software systems as dynamical systems. We will embrace similar techniques for process control and continuous improvement. This is why I do not like the term observability as it is currently used. In operating software systems at scale, we may want to reserve the traditional definition of observability as it relates to controllability.</em></li><li><a href=\"https://mobile.twitter.com/robinhouston/status/1177636866671157248\">History of Self-Enumerating Pangram Tweet</a> &#8212; a history of the work that went into making sentences (and now tweets) that enumerate their contents accurately.</li><li><a href=\"https://eigenfoo.xyz/prob-prog-frameworks/\">Anatomy of a Probabilistic Programming Framework</a> &#8212; <em>I realized that despite knowing a thing or two about Bayesian modeling, I don’t understand how probabilistic programming frameworks are structured, and therefore couldn’t appreciate the sophisticated design work going into PyMC4. So, I trawled through papers, documentation, and source code of various open source probabilistic programming frameworks, and this is what I’ve managed to take away from it.</em></li></ol>\\n<img src=\"http://feeds.feedburner.com/~r/oreilly/radar/atom/~4/G7AqPM7C9n0\" height=\"1\" width=\"1\" alt=\"\"/>'}], 'wfw_commentrss': 'https://www.oreilly.com/radar/four-short-links-1-october-2019/feed/', 'slash_comments': '0', 'feedburner_origlink': 'https://www.oreilly.com/radar/four-short-links-1-october-2019/'}, {'title': 'TinyML: The challenges and opportunities of low-power ML applications', 'title_detail': {'type': 'text/plain', 'language': None, 'base': 'http://feeds.feedburner.com/oreilly/radar/atom', 'value': 'TinyML: The challenges and opportunities of low-power ML applications'}, 'links': [{'rel': 'alternate', 'type': 'text/html', 'href': 'http://feedproxy.google.com/~r/oreilly/radar/atom/~3/RA9Zhu9rP6U/'}], 'link': 'http://feedproxy.google.com/~r/oreilly/radar/atom/~3/RA9Zhu9rP6U/', 'comments': 'https://www.oreilly.com/radar/tinyml-the-challenges-and-opportunities-of-low-power-ml-applications/#respond', 'published': 'Tue, 01 Oct 2019 04:01:53 +0000', 'published_parsed': time.struct_time(tm_year=2019, tm_mon=10, tm_mday=1, tm_hour=4, tm_min=1, tm_sec=53, tm_wday=1, tm_yday=274, tm_isdst=0), 'authors': [{'name': 'Mac Slocum'}], 'author': 'Mac Slocum', 'author_detail': {'name': 'Mac Slocum'}, 'tags': [{'term': '~home', 'scheme': None, 'label': None}, {'term': 'AI & ML', 'scheme': None, 'label': None}, {'term': 'Radar Column', 'scheme': None, 'label': None}, {'term': 'Commentary', 'scheme': None, 'label': None}], 'id': 'https://www.oreilly.com/radar/?p=9378', 'guidislink': False, 'summary': 'Pete Warden has an ambitious goal: he wants to build machine learning (ML) applications that can run on a microcontroller for a year using only a hearing aid battery for power. This goal means that the system&#8217;s power consumption has to be under a milliwatt, ideally a few tens of microwatts. This power level places [&#8230;]', 'summary_detail': {'type': 'text/html', 'language': None, 'base': 'http://feeds.feedburner.com/oreilly/radar/atom', 'value': 'Pete Warden has an ambitious goal: he wants to build machine learning (ML) applications that can run on a microcontroller for a year using only a hearing aid battery for power. This goal means that the system&#8217;s power consumption has to be under a milliwatt, ideally a few tens of microwatts. This power level places [&#8230;]'}, 'content': [{'type': 'text/html', 'language': None, 'base': 'http://feeds.feedburner.com/oreilly/radar/atom', 'value': '<p>Pete Warden has an ambitious goal: he wants to build machine learning (ML) applications that can <a href=\"https://petewarden.com/2019/03/27/scaling-machine-learning-models-to-embedded-devices/\">run on a microcontroller for a year</a> using only a hearing aid battery for power. This goal means that the system&#8217;s power consumption has to be under a milliwatt, ideally a few tens of microwatts. This power level places severe constraints on processor complexity, speed, and memory size. Equally important, it places constraints on communications; communications typically requires more power than computation, even with technologies like Bluetooth Low Energy (BLE).</p>\\n<p>If a low-power device needs to communicate with the outside world, it can&#8217;t be &#8220;chatty&#8221;; it needs to turn off the radio, turning it on only to transmit short bursts of data. Turning off the radio inverts our models for machine learning on small devices. On a phone, we typically gather data (say, an audio stream) and send it to a server for processing. That’s just too power-hungry for <a href=\"https://learning.oreilly.com/library/view/tinyml/9781492052036/\">TinyML</a>; we can’t do machine learning by sending data to big iron in the cloud. Any significant processing (for example, listening for a “wake word” like “OK Google”) needs to be done locally&#8211;on a small, slow processor with limited memory. The model that detects the phrase can be trained elsewhere, but the model itself has to run on the phone.</p>\\n<p>We&#8217;ve made a lot of progress at running ML models on small processors. TensorFlow has run on the Raspberry Pi for some time, though Raspberry Pi isn&#8217;t really small; it&#8217;s easy to use a recent Pi as a personal computer (and it can be used for training). TensorFlow Lite can be used to run models on Android and iOS phones; though, like the Raspberry Pi, it&#8217;s hard to consider a modern smartphone a &#8220;small&#8221; processor.</p>\\n<p>TensorFlow Lite for Microcontrollers (a port of TensorFlow Lite) takes &#8220;small&#8221; a big step farther. This version can run on a Cortex M3 processor, occupying only 16KB of RAM for the core (yes, that&#8217;s K, not M), and a total of 22KB for a system capable of detecting keywords in speech. If you want to play with this system, the <a href=\"https://www.sparkfun.com/products/15170\">Sparkfun Edge Development Board</a> is available for $15. This board is fairly typical for a microcontroller; if anything, with 384KB of RAM and 1MB of Flash memory, it&#8217;s generous. And it draws 1.6 mA, allowing it to run for about 10 days on a common coin battery. That&#8217;s not yet where we want to be, but it&#8217;s getting close.</p>\\n<p>That we can make machine learning work on a controller this small is surprising. But what applications can we build, aside from listening for a wake word on a phone? And why do we want to build them?</p>\\n<p>TinyML can be used anywhere it’s difficult to supply power. “Difficult” doesn’t just mean that power is unavailable; it might mean that supplying power is inconvenient. Think about a factory floor, with hundreds of machines. And think about using thousands of sensors to monitor those machines for problems (vibration, temperature, etc.) and order maintenance before a machine breaks down. You don’t want to string the factory with wires and cables to supply power to all the monitors; that would be a hazard all its own. Ideally, you would like intelligent sensors that can send wireless notifications only when needed; they might be powered by a battery, or even by generating electricity from vibration. The smart sensor might be as simple as a sticker with an embedded processor and a tiny battery. We’re at the point where we can start building that.</p>\\n<p>Think about medical equipment. Several years ago, a friend of mine built custom equipment for medical research labs. Many of his devices couldn’t tolerate the noise created by a traditional power supply and had to be battery powered. I’m sure the successors to those devices are now incorporating machine learning, and I’m sure that massive battery packs are no more welcome now than they were then.</p>\\n<p>I have talked to researchers who are building devices to count bird populations on uninhabited islands. (Recognizing birds by bird call is an extremely difficult problem.) I’ve seen displays in city halls that show every unoccupied parking space. There are startups working on garbage collection: rather than send a truck around once a week, they collect your garbage only when the can is full. Farmers use sensors to report <a href=\"https://mytrellis.com/\">soil moisture</a>. All of these applications require machine learning and sensors in places where it’s inconvenient or impossible to supply commercial power. Solar power is available, but solar is intermittent, and places you on a limited power budget.</p>\\n<p>What could we do if all the devices in our houses were voice controlled? It’s easy to think smart multicolored light bulbs controlled by an app on your phone are silly (I do), but we’ve all needed to turn on a light when our hands were full. We’ve all needed to turn off the stove when our hands were covered in goo. TinyML, with language models capable of recognizing more than a single word, would be ideal for these applications.</p>\\n<p>Think of all the <a href=\"https://www.edgefx.in/importance-of-embedded-systems-in-automobiles-with-applications/\">processors embedded in any car</a>: processors for controlling the brakes, managing the engine, detecting tire pressure, running diagnostics, and many more. These processors have to operate under a very wide range of temperatures, they have to tolerate vibration, they may even need to tolerate moisture. While these constraints differ from TinyML, they have the same solution: processors have to be slow, reliable, with limited memory, and as small a footprint as possible. A high-end Intel or AMD processor, like you’d find in a laptop, can’t work under those conditions. While the constraints are different, the solution is the same; and as these processors incorporate machine learning, the answer will be (and already is) TinyML.</p>\\n<p>TinyML requires us to address problems that haven’t been solved at any scale. Designers for small, embedded devices have to be aware of the “creep factor”: they have to make it clear what data is being used, how it’s used, and how it’s communicated. One solution might be not to send data at all: to build devices that are never networked, with software that is pre-installed and never updated. A device that’s not on a network can’t become a victim of a hostile attack, nor can it violate the user’s privacy. No device can be more private than one that is never online–though such devices can never be updated with improved, more accurate models. Another challenge will be creating mechanisms for creating and recycling these devices; it’s too easy to imagine millions of tiny devices with batteries leaking mercury or lithium into the environment.</p>\\n<p>There are many, many opportunities for smart sensors with embedded machine learning. Almost all of these opportunities are in places where supplying power is inconvenient at best. Even when power is available, other constraints often require slow, small, low-power processors. Every device isn’t a laptop, and we shouldn’t expect it to be; paradoxically, our fascination with bigger, faster processors with gigabytes and terabytes of RAM may be causing us to miss opportunities right in front of us.</p>\\n<p>What can we do with clouds of small, slow-power, memory-limited microcontrollers? What are the opportunities for TinyML? As broad as our imagination. <em>&#8212; Mike Loukides</em></p>\\n<hr>\\n<h2>Data points: Recent research and analysis</h2>\\n<p>At Radar, our insights come from many sources: our own reading of the industry tea leaves, our many contacts in the industry, our analysis of usage on the <a href=\"https://www.oreilly.com/online-learning/\">O’Reilly online learning platform</a>, and data we assemble on technology trends.</p>\\n<p>Every month we share notable, useful, or just plain weird results we find in the data. Below you’ll find nuggets from our recent research and analysis.</p>\\n<p>Our examination of Strata Data Conference speaker proposals (“<a href=\"https://www.oreilly.com/radar/topics-to-watch-at-the-strata-data-conference-in-new-york-2019/\">Topics to watch at the Strata Data Conference in New York 2019</a>”) surfaced several notable findings:</p>\\n<ul>\\n<li>Machine learning (ML) and artificial intelligence (AI) terms predominate. The term “ML” is No. 2 in frequency in proposal topics; a related term, “models,” is No. 1. The term “AI,” meanwhile, is No. 3.</li>\\n<li>Terms that relate to data engineering, data management, and data analytics dominate the top tiers of proposal topics. But although the terms and many of the practices sound familiar, the tools, use cases, and even some of the techniques have changed.</li>\\n<li>Data engineering is an intense focus of interest and innovation, with data-in-motion—e.g., stream, time-series—starting to displace the batch-centric, data-at-rest paradigm.</li>\\n<li>Spark has emerged as the general-purpose data processing engine of choice; interest in Hadoop is waning, although reports of its death are greatly exaggerated.</li>\\n</ul>\\n<p>In “<a href=\"https://www.oreilly.com/radar/ai-adoption-is-being-fueled-by-an-improved-tool-ecosystem/\">AI adoption is being fueled by an improved tool ecosystem</a>,” Ben Lorica explored results from a World Intellectual Patent Office (WIPO) <a href=\"https://www.wipo.int/publications/en/details.jsp?id=4386\">study</a> that examined worldwide patent filings in areas pertaining to AI and ML.</p>\\n<p>One of WIPO&#8217;s key findings is that the number of patent filings is growing fast: in fact, the ratio of patent filings to scientific publications indicates that patent filings are growing at a faster rate than publications.</p>\\n<p>The WIPO study also found that “computer vision” is mentioned in 49% of all AI-related patents (167,000+). In addition, the number of computer vision patent filings is growing annually by an average of 24%, with more than 21,000 patent applications filed in 2016 alone.</p>\\n<hr>\\n<h2>Upcoming events</h2>\\n<p><a href=\"https://www.oreilly.com/conferences\">O’Reilly conferences</a> combine expert insights from industry leaders with hands-on guidance about today’s most important technology topics.</p>\\n<p>We hope you’ll join us at our upcoming events:</p>\\n<p><a href=\"https://conferences.oreilly.com/artificial-intelligence/ai-eu\">O’Reilly Artificial Intelligence Conference in London</a>, Oct. 14-17</p>\\n<p><a href=\"https://conferences.oreilly.com/tensorflow/tf-ca\">TensorFlow World in Santa Clara, Calif.</a>, Oct. 28-31</p>\\n<p><a href=\"https://conferences.oreilly.com/software-architecture/sa-eu\">O’Reilly Software Architecture Conference in Berlin</a>, Nov. 4-7</p>\\n<p><a href=\"https://conferences.oreilly.com/velocity/vl-eu\">O’Reilly Velocity Conference in Berlin</a>, Nov. 4-7</p>\\n<img src=\"http://feeds.feedburner.com/~r/oreilly/radar/atom/~4/RA9Zhu9rP6U\" height=\"1\" width=\"1\" alt=\"\"/>'}], 'wfw_commentrss': 'https://www.oreilly.com/radar/tinyml-the-challenges-and-opportunities-of-low-power-ml-applications/feed/', 'slash_comments': '0', 'feedburner_origlink': 'https://www.oreilly.com/radar/tinyml-the-challenges-and-opportunities-of-low-power-ml-applications/'}, {'title': 'Four short links: 30 September 2019', 'title_detail': {'type': 'text/plain', 'language': None, 'base': 'http://feeds.feedburner.com/oreilly/radar/atom', 'value': 'Four short links: 30 September 2019'}, 'links': [{'rel': 'alternate', 'type': 'text/html', 'href': 'http://feedproxy.google.com/~r/oreilly/radar/atom/~3/x15MP6ezMSE/'}], 'link': 'http://feedproxy.google.com/~r/oreilly/radar/atom/~3/x15MP6ezMSE/', 'comments': 'https://www.oreilly.com/radar/four-short-links-30-september-2019/#respond', 'published': 'Mon, 30 Sep 2019 04:01:40 +0000', 'published_parsed': time.struct_time(tm_year=2019, tm_mon=9, tm_mday=30, tm_hour=4, tm_min=1, tm_sec=40, tm_wday=0, tm_yday=273, tm_isdst=0), 'authors': [{'name': 'Mac Slocum'}], 'author': 'Mac Slocum', 'author_detail': {'name': 'Mac Slocum'}, 'tags': [{'term': 'Four Short Links', 'scheme': None, 'label': None}, {'term': 'Signals', 'scheme': None, 'label': None}], 'id': 'https://www.oreilly.com/radar/?p=9768', 'guidislink': False, 'summary': 'Stamos on CLOUD Act — cogent and informative set of tweets (words I never thought I would say) from Alex Stamos, with context for the latest piece of Internet regulation to get alarmist and wrong media coverage. Migrating from Cloudflare — This is pretty cool, and it’s why I’ve used Cloudflare for a few years. [&#8230;]', 'summary_detail': {'type': 'text/html', 'language': None, 'base': 'http://feeds.feedburner.com/oreilly/radar/atom', 'value': 'Stamos on CLOUD Act — cogent and informative set of tweets (words I never thought I would say) from Alex Stamos, with context for the latest piece of Internet regulation to get alarmist and wrong media coverage. Migrating from Cloudflare — This is pretty cool, and it’s why I’ve used Cloudflare for a few years. [&#8230;]'}, 'content': [{'type': 'text/html', 'language': None, 'base': 'http://feeds.feedburner.com/oreilly/radar/atom', 'value': '<ol>\\n<li><a href=\"https://twitter.com/alexstamos/status/1178308065268920320\">Stamos on CLOUD Act</a> — cogent and informative set of tweets (words I never thought I would say) from Alex Stamos, with context for the latest piece of Internet regulation to get alarmist and wrong media coverage.</li>\\n<li><a href=\"https://ashfurrow.com/blog/migrating-from-cloudflare/\">Migrating from Cloudflare</a> — <i>This is pretty cool, and it’s why I’ve used Cloudflare for a few years. However, I don’t really like Cloudflare. I don’t like how they protect hate forums, where mass shootings are planned; I don’t like how they have grown to the point where a huge portion of the internet’s total traffic flows through their infrastructure; I don’t like how un-seriously they treat their responsibilities. So, I wanted to move off.</i> More datapoints for the emerging Ethical Consumption of Bits.</li>\\n<li><a href=\"https://twitter.com/random_walker/status/1177570679232876544\">Three Recent Papers on the Tracking in TVs</a> (Arvind Narayanan) — <i>Here’s a doozy: Roku has a “Limit Ad Tracking” option. Turning it on increased the number of tracking servers contacted <img src=\"https://s.w.org/images/core/emoji/12.0.0-1/72x72/1f643.png\" alt=\"🙃\" class=\"wp-smiley\" style=\"height: 1em; max-height: 1em;\" /> . It did prevent Roku’s AD ID from being leaked, but a whole bunch of other unique IDs are available. Even Pi-hole wasn’t that effective at limiting tracking.</i> (via <a href=\"https://news.ycombinator.com/item?id=21100274\">Hacker News</a>)</li>\\n<li><a href=\"http://benbrostoff.github.io/2019/09/28/long-projects.html\">Strategies for Long Projects</a> (Ben Brostoff) — <i>Relentless, irrational optimism is the only attitude that works.</i></li>\\n</ol>\\n<img src=\"http://feeds.feedburner.com/~r/oreilly/radar/atom/~4/x15MP6ezMSE\" height=\"1\" width=\"1\" alt=\"\"/>'}], 'wfw_commentrss': 'https://www.oreilly.com/radar/four-short-links-30-september-2019/feed/', 'slash_comments': '0', 'feedburner_origlink': 'https://www.oreilly.com/radar/four-short-links-30-september-2019/'}, {'title': 'Highlights from the Strata Data Conference in New York 2019', 'title_detail': {'type': 'text/plain', 'language': None, 'base': 'http://feeds.feedburner.com/oreilly/radar/atom', 'value': 'Highlights from the Strata Data Conference in New York 2019'}, 'links': [{'rel': 'alternate', 'type': 'text/html', 'href': 'http://feedproxy.google.com/~r/oreilly/radar/atom/~3/ZJcZLnnPaB8/'}], 'link': 'http://feedproxy.google.com/~r/oreilly/radar/atom/~3/ZJcZLnnPaB8/', 'comments': 'https://www.oreilly.com/radar/highlights-from-strata-ny-2019/#respond', 'published': 'Fri, 27 Sep 2019 12:00:52 +0000', 'published_parsed': time.struct_time(tm_year=2019, tm_mon=9, tm_mday=27, tm_hour=12, tm_min=0, tm_sec=52, tm_wday=4, tm_yday=270, tm_isdst=0), 'authors': [{'name': 'Mac Slocum'}], 'author': 'Mac Slocum', 'author_detail': {'name': 'Mac Slocum'}, 'tags': [{'term': 'AI & ML', 'scheme': None, 'label': None}, {'term': 'Data', 'scheme': None, 'label': None}, {'term': 'Signals', 'scheme': None, 'label': None}, {'term': 'Strata NY 19', 'scheme': None, 'label': None}], 'id': 'https://www.oreilly.com/radar/?p=9487', 'guidislink': False, 'summary': 'People from across the data world came together in New York for the Strata Data Conference. Below you&#8217;ll find links to highlights from the event. AI isn&#8217;t magic. It’s computer science. Rob Thomas and Tim O’Reilly discuss the hard work and mass experimentation that will lead to AI breakthroughs. Watch &#8220;AI isn&#8217;t magic. It’s computer [&#8230;]', 'summary_detail': {'type': 'text/html', 'language': None, 'base': 'http://feeds.feedburner.com/oreilly/radar/atom', 'value': 'People from across the data world came together in New York for the Strata Data Conference. Below you&#8217;ll find links to highlights from the event. AI isn&#8217;t magic. It’s computer science. Rob Thomas and Tim O’Reilly discuss the hard work and mass experimentation that will lead to AI breakthroughs. Watch &#8220;AI isn&#8217;t magic. It’s computer [&#8230;]'}, 'content': [{'type': 'text/html', 'language': None, 'base': 'http://feeds.feedburner.com/oreilly/radar/atom', 'value': '<p>People from across the data world came together in New York for the <a href=\"https://conferences.oreilly.com/strata/strata-ny\">Strata Data Conference</a>. Below you&#8217;ll find links to highlights from the event.</p>\\n<h2>AI isn&#8217;t magic. It’s computer science.</h2>\\n<p>Rob Thomas and Tim O’Reilly discuss the hard work and mass experimentation that will lead to AI breakthroughs.</p>\\n<ul>\\n<li>Watch &#8220;<a href=\"https://www.oreilly.com/radar/ai-isnt-magic-its-computer-science\">AI isn&#8217;t magic. It’s computer science.</a>&#8220;</li>\\n</ul>\\n<h2>Staying safe in the AI era</h2>\\n<p>Cassie Kozyrkov offers actionable advice for taking advantage of machine learning, navigating the AI era, and staying safe as you innovate.</p>\\n<ul>\\n<li>Watch &#8220;<a href=\"https://www.oreilly.com/radar/staying-safe-in-the-ai-era\">Staying safe in the AI era</a>&#8220;</li>\\n</ul>\\n<h2>Recent trends in data and machine learning technologies</h2>\\n<p>Ben Lorica dives into emerging technologies for building data infrastructures and machine learning platforms.</p>\\n<ul>\\n<li>Watch &#8220;<a href=\"https://www.oreilly.com/radar/recent-trends-in-data-and-machine-learning-technologies\">Recent trends in data and machine learning technologies</a>&#8220;</li>\\n</ul>\\n<h2>Interactive sports analytics</h2>\\n<p>Patrick Lucey explains methods to find play similarity using multi-agent trajectory data, as well as predicting fine-grain plays.</p>\\n<ul>\\n<li>Watch &#8220;<a href=\"https://www.oreilly.com/radar/interactive-sports-analytics\">Interactive sports analytics</a>&#8220;</li>\\n</ul>\\n<h2>Data sonification: Making music from the yield curve</h2>\\n<p>Alan Smith says combining visualization and sonification could take the presentation of data into the expanding universe of screenless devices and products.</p>\\n<ul>\\n<li>Watch &#8220;<a href=\"https://www.oreilly.com/radar/data-sonification-making-music-from-the-yield-curve\">Data sonification: Making music from the yield curve</a>&#8220;</li>\\n</ul>\\n<h2>How disruptive tech is reshaping the financial services industry</h2>\\n<p>Swatee Singh looks at how the financial services industry is using AI, ML, mixed reality and other technologies.</p>\\n<ul>\\n<li>Watch &#8220;<a href=\"https://www.oreilly.com/radar/how-disruptive-tech-is-reshaping-the-financial-services-industry\">How disruptive tech is reshaping the financial services industry</a>&#8220;</li>\\n</ul>\\n<h2>Say what? The ethical challenges of designing for humanlike interaction</h2>\\n<p>Jonathan Foster explains why language reveals ethical challenges we couldn’t encounter with GUI-powered experiences.</p>\\n<ul>\\n<li>Watch &#8220;<a href=\"https://www.oreilly.com/radar/say-what-the-ethical-challenges-of-designing-for-humanlike-interaction\">Say what? The ethical challenges of designing for humanlike interaction</a>&#8220;</li>\\n</ul>\\n<h2>Everything is connected and the clock is ticking</h2>\\n<p>Sara Menker and Nemo Semret outline the complex and interconnected factors that shape the agriculture industry.</p>\\n<ul>\\n<li>Watch &#8220;<a href=\"https://www.oreilly.com/radar/everything-is-connected-and-the-clock-is-ticking\">Everything is connected and the clock is ticking</a>&#8220;</li>\\n</ul>\\n<h2>Delivering the enterprise data cloud</h2>\\n<p>Arun Murthy introduces the open source Cloudera Data Platform (CDP).</p>\\n<ul>\\n<li>Watch &#8220;<a href=\"https://www.oreilly.com/radar/delivering-the-enterprise-data-cloud\">Delivering the enterprise data cloud</a>&#8220;</li>\\n</ul>\\n<img src=\"http://feeds.feedburner.com/~r/oreilly/radar/atom/~4/ZJcZLnnPaB8\" height=\"1\" width=\"1\" alt=\"\"/>'}], 'wfw_commentrss': 'https://www.oreilly.com/radar/highlights-from-strata-ny-2019/feed/', 'slash_comments': '0', 'feedburner_origlink': 'https://www.oreilly.com/radar/highlights-from-strata-ny-2019/'}, {'title': 'Four short links: 27 September 2019', 'title_detail': {'type': 'text/plain', 'language': None, 'base': 'http://feeds.feedburner.com/oreilly/radar/atom', 'value': 'Four short links: 27 September 2019'}, 'links': [{'rel': 'alternate', 'type': 'text/html', 'href': 'http://feedproxy.google.com/~r/oreilly/radar/atom/~3/jczDkr2huvM/'}], 'link': 'http://feedproxy.google.com/~r/oreilly/radar/atom/~3/jczDkr2huvM/', 'comments': 'https://www.oreilly.com/radar/four-short-links-27-september-2019/#respond', 'published': 'Fri, 27 Sep 2019 04:01:35 +0000', 'published_parsed': time.struct_time(tm_year=2019, tm_mon=9, tm_mday=27, tm_hour=4, tm_min=1, tm_sec=35, tm_wday=4, tm_yday=270, tm_isdst=0), 'authors': [{'name': 'Mac Slocum'}], 'author': 'Mac Slocum', 'author_detail': {'name': 'Mac Slocum'}, 'tags': [{'term': 'Four Short Links', 'scheme': None, 'label': None}, {'term': 'Signals', 'scheme': None, 'label': None}], 'id': 'https://www.oreilly.com/radar/?p=9715', 'guidislink': False, 'summary': 'Intro to Creative Coding — this is the repo, also check out p5.js demos and tone.js demos. (via @mattdesl) The Dynamics of Collective Social Behavior in a Crowd-Controlled Game — We find that having a fraction of players who do not follow the crowd’s average behavior is key to succeed in the game. Recent Programming [&#8230;]', 'summary_detail': {'type': 'text/html', 'language': None, 'base': 'http://feeds.feedburner.com/oreilly/radar/atom', 'value': 'Intro to Creative Coding — this is the repo, also check out p5.js demos and tone.js demos. (via @mattdesl) The Dynamics of Collective Social Behavior in a Crowd-Controlled Game — We find that having a fraction of players who do not follow the crowd’s average behavior is key to succeed in the game. Recent Programming [&#8230;]'}, 'content': [{'type': 'text/html', 'language': None, 'base': 'http://feeds.feedburner.com/oreilly/radar/atom', 'value': '<ol>\\n<li><a href=\"https://github.com/mattdesl/workshop-p5-intro\">Intro to Creative Coding</a> — this is the repo, also check out <a href=\"https://p5-demos.glitch.me/\">p5.js demos</a> and <a href=\"https://tone-demos.glitch.me/\">tone.js demos</a>. (via <a href=\"https://twitter.com/mattdesl/status/1177136627455537152\">@mattdesl</a>)</li>\\n<li><a href=\"https://epjdatascience.springeropen.com/articles/10.1140/epjds/s13688-019-0200-1\">The Dynamics of Collective Social Behavior in a Crowd-Controlled Game</a> — <i>We find that having a fraction of players who do not follow the crowd’s average behavior is key to succeed in the game.</i></li>\\n<li><a href=\"https://blog.sigplan.org/2019/09/25/highlighting-pl-research-to-the-cs-community/\">Recent Programming Language Research</a> (SIGPLAN) — <i>These papers showcase PL [Programming Language] connections to areas as diverse as chemical microfluidics, blockchain smart contracts, and automated debugging.</i></li>\\n<li><a href=\"https://comprop.oii.ox.ac.uk/wp-content/uploads/sites/93/2019/09/CyberTroop-Report19.pdf\">2019 Global Inventory of Organized Social Media Manipulation</a> — <i>Evidence of organized social media manipulation campaigns, which have taken place in 70 countries, up from 48 countries in 2018 and 28 countries in 2017. Social media has become co-opted by many authoritarian regimes. In 26 countries, computational propaganda is being used as a tool of information control in three distinct ways: to suppress fundamental human rights, discredit political opponents, and drown out dissenting opinions.</i> Again, understand dystopic possible futures for your presently-democratic nation so you design your software to avoid them.</li>\\n</ol>\\n<img src=\"http://feeds.feedburner.com/~r/oreilly/radar/atom/~4/jczDkr2huvM\" height=\"1\" width=\"1\" alt=\"\"/>'}], 'wfw_commentrss': 'https://www.oreilly.com/radar/four-short-links-27-september-2019/feed/', 'slash_comments': '0', 'feedburner_origlink': 'https://www.oreilly.com/radar/four-short-links-27-september-2019/'}, {'title': 'Delivering the enterprise data cloud', 'title_detail': {'type': 'text/plain', 'language': None, 'base': 'http://feeds.feedburner.com/oreilly/radar/atom', 'value': 'Delivering the enterprise data cloud'}, 'links': [{'rel': 'alternate', 'type': 'text/html', 'href': 'http://feedproxy.google.com/~r/oreilly/radar/atom/~3/oVDB5S3B2co/'}], 'link': 'http://feedproxy.google.com/~r/oreilly/radar/atom/~3/oVDB5S3B2co/', 'comments': 'https://www.oreilly.com/radar/delivering-the-enterprise-data-cloud/#respond', 'published': 'Fri, 27 Sep 2019 00:00:48 +0000', 'published_parsed': time.struct_time(tm_year=2019, tm_mon=9, tm_mday=27, tm_hour=0, tm_min=0, tm_sec=48, tm_wday=4, tm_yday=270, tm_isdst=0), 'authors': [{'name': 'Mac Slocum'}], 'author': 'Mac Slocum', 'author_detail': {'name': 'Mac Slocum'}, 'tags': [{'term': 'AI & ML', 'scheme': None, 'label': None}, {'term': 'Data', 'scheme': None, 'label': None}, {'term': 'Strata NY 19', 'scheme': None, 'label': None}], 'id': 'https://www.oreilly.com/radar/?p=9452', 'guidislink': False, 'summary': 'This is a keynote highlight from the Strata Data Conference in New York 2019. Watch the full version of this keynote on the O&#8217;Reilly online learning platform. You can also see other highlights from the event.', 'summary_detail': {'type': 'text/html', 'language': None, 'base': 'http://feeds.feedburner.com/oreilly/radar/atom', 'value': 'This is a keynote highlight from the Strata Data Conference in New York 2019. Watch the full version of this keynote on the O&#8217;Reilly online learning platform. You can also see other highlights from the event.'}, 'content': [{'type': 'text/html', 'language': None, 'base': 'http://feeds.feedburner.com/oreilly/radar/atom', 'value': '<p>This is a keynote highlight from the Strata Data Conference in New York 2019. <a href=\"https://learning.oreilly.com/videos/strata-data-conference/9781492050681/9781492050681-video327542\">Watch the full version of this keynote on the O&#8217;Reilly online learning platform</a>.</p>\\n<p>You can also <a href=\"https://www.oreilly.com/radar/highlights-from-strata-ny-2019\">see other highlights from the event</a>.</p>\\n<img src=\"http://feeds.feedburner.com/~r/oreilly/radar/atom/~4/oVDB5S3B2co\" height=\"1\" width=\"1\" alt=\"\"/>'}], 'wfw_commentrss': 'https://www.oreilly.com/radar/delivering-the-enterprise-data-cloud/feed/', 'slash_comments': '0', 'feedburner_origlink': 'https://www.oreilly.com/radar/delivering-the-enterprise-data-cloud/'}, {'title': 'Data Science Pioneers: Conquering the next frontier, a documentary investigating the future of data science', 'title_detail': {'type': 'text/plain', 'language': None, 'base': 'http://feeds.feedburner.com/oreilly/radar/atom', 'value': 'Data Science Pioneers: Conquering the next frontier, a documentary investigating the future of data science'}, 'links': [{'rel': 'alternate', 'type': 'text/html', 'href': 'http://feedproxy.google.com/~r/oreilly/radar/atom/~3/gCq9Kt-nkCg/'}], 'link': 'http://feedproxy.google.com/~r/oreilly/radar/atom/~3/gCq9Kt-nkCg/', 'comments': 'https://www.oreilly.com/radar/data-science-pioneers/#respond', 'published': 'Fri, 27 Sep 2019 00:00:43 +0000', 'published_parsed': time.struct_time(tm_year=2019, tm_mon=9, tm_mday=27, tm_hour=0, tm_min=0, tm_sec=43, tm_wday=4, tm_yday=270, tm_isdst=0), 'authors': [{'name': 'Mac Slocum'}], 'author': 'Mac Slocum', 'author_detail': {'name': 'Mac Slocum'}, 'tags': [{'term': 'AI & ML', 'scheme': None, 'label': None}, {'term': 'Data', 'scheme': None, 'label': None}, {'term': 'Strata NY 19', 'scheme': None, 'label': None}], 'id': 'https://www.oreilly.com/radar/?p=9479', 'guidislink': False, 'summary': 'This is a keynote from the Strata Data Conference in New York 2019. See other highlights from the event. This keynote was sponsored by Dataiku.', 'summary_detail': {'type': 'text/html', 'language': None, 'base': 'http://feeds.feedburner.com/oreilly/radar/atom', 'value': 'This is a keynote from the Strata Data Conference in New York 2019. See other highlights from the event. This keynote was sponsored by Dataiku.'}, 'content': [{'type': 'text/html', 'language': None, 'base': 'http://feeds.feedburner.com/oreilly/radar/atom', 'value': '<p>This is a keynote from the Strata Data Conference in New York 2019. <a href=\"https://www.oreilly.com/radar/highlights-from-strata-ny-2019\">See other highlights from the event</a>.</p>\\n<p><em>This keynote was sponsored by Dataiku.</em></p>\\n<img src=\"http://feeds.feedburner.com/~r/oreilly/radar/atom/~4/gCq9Kt-nkCg\" height=\"1\" width=\"1\" alt=\"\"/>'}], 'wfw_commentrss': 'https://www.oreilly.com/radar/data-science-pioneers/feed/', 'slash_comments': '0', 'feedburner_origlink': 'https://www.oreilly.com/radar/data-science-pioneers/'}, {'title': 'Postrevolutionary big data: Promoting the general welfare', 'title_detail': {'type': 'text/plain', 'language': None, 'base': 'http://feeds.feedburner.com/oreilly/radar/atom', 'value': 'Postrevolutionary big data: Promoting the general welfare'}, 'links': [{'rel': 'alternate', 'type': 'text/html', 'href': 'http://feedproxy.google.com/~r/oreilly/radar/atom/~3/qV0P1i6K-6s/'}], 'link': 'http://feedproxy.google.com/~r/oreilly/radar/atom/~3/qV0P1i6K-6s/', 'comments': 'https://www.oreilly.com/radar/postrevolutionary-big-data-promoting-the-general-welfare/#respond', 'published': 'Fri, 27 Sep 2019 00:00:39 +0000', 'published_parsed': time.struct_time(tm_year=2019, tm_mon=9, tm_mday=27, tm_hour=0, tm_min=0, tm_sec=39, tm_wday=4, tm_yday=270, tm_isdst=0), 'authors': [{'name': 'Mac Slocum'}], 'author': 'Mac Slocum', 'author_detail': {'name': 'Mac Slocum'}, 'tags': [{'term': 'AI & ML', 'scheme': None, 'label': None}, {'term': 'Data', 'scheme': None, 'label': None}, {'term': 'Strata NY 19', 'scheme': None, 'label': None}], 'id': 'https://www.oreilly.com/radar/?p=9457', 'guidislink': False, 'summary': 'This is a keynote from the Strata Data Conference in New York 2019. See other highlights from the event. This keynote was sponsored by Io-Tahoe.', 'summary_detail': {'type': 'text/html', 'language': None, 'base': 'http://feeds.feedburner.com/oreilly/radar/atom', 'value': 'This is a keynote from the Strata Data Conference in New York 2019. See other highlights from the event. This keynote was sponsored by Io-Tahoe.'}, 'content': [{'type': 'text/html', 'language': None, 'base': 'http://feeds.feedburner.com/oreilly/radar/atom', 'value': '<p>This is a keynote from the Strata Data Conference in New York 2019. <a href=\"https://www.oreilly.com/radar/highlights-from-strata-ny-2019\">See other highlights from the event</a>.</p>\\n<p><em>This keynote was sponsored by Io-Tahoe.</em></p>\\n<img src=\"http://feeds.feedburner.com/~r/oreilly/radar/atom/~4/qV0P1i6K-6s\" height=\"1\" width=\"1\" alt=\"\"/>'}], 'wfw_commentrss': 'https://www.oreilly.com/radar/postrevolutionary-big-data-promoting-the-general-welfare/feed/', 'slash_comments': '0', 'feedburner_origlink': 'https://www.oreilly.com/radar/postrevolutionary-big-data-promoting-the-general-welfare/'}, {'title': 'Say what? The ethical challenges of designing for humanlike interaction', 'title_detail': {'type': 'text/plain', 'language': None, 'base': 'http://feeds.feedburner.com/oreilly/radar/atom', 'value': 'Say what? The ethical challenges of designing for humanlike interaction'}, 'links': [{'rel': 'alternate', 'type': 'text/html', 'href': 'http://feedproxy.google.com/~r/oreilly/radar/atom/~3/wxIihapuMc4/'}], 'link': 'http://feedproxy.google.com/~r/oreilly/radar/atom/~3/wxIihapuMc4/', 'comments': 'https://www.oreilly.com/radar/say-what-the-ethical-challenges-of-designing-for-humanlike-interaction/#respond', 'published': 'Fri, 27 Sep 2019 00:00:38 +0000', 'published_parsed': time.struct_time(tm_year=2019, tm_mon=9, tm_mday=27, tm_hour=0, tm_min=0, tm_sec=38, tm_wday=4, tm_yday=270, tm_isdst=0), 'authors': [{'name': 'Mac Slocum'}], 'author': 'Mac Slocum', 'author_detail': {'name': 'Mac Slocum'}, 'tags': [{'term': 'AI & ML', 'scheme': None, 'label': None}, {'term': 'Data', 'scheme': None, 'label': None}, {'term': 'Strata NY 19', 'scheme': None, 'label': None}], 'id': 'https://www.oreilly.com/radar/?p=9475', 'guidislink': False, 'summary': 'This is a keynote highlight from the Strata Data Conference in New York 2019. Watch the full version of this keynote on the O&#8217;Reilly online learning platform. You can also see other highlights from the event.', 'summary_detail': {'type': 'text/html', 'language': None, 'base': 'http://feeds.feedburner.com/oreilly/radar/atom', 'value': 'This is a keynote highlight from the Strata Data Conference in New York 2019. Watch the full version of this keynote on the O&#8217;Reilly online learning platform. You can also see other highlights from the event.'}, 'content': [{'type': 'text/html', 'language': None, 'base': 'http://feeds.feedburner.com/oreilly/radar/atom', 'value': '<p>This is a keynote highlight from the Strata Data Conference in New York 2019. <a href=\"https://learning.oreilly.com/videos/strata-data-conference/9781492050681/9781492050681-video327546\">Watch the full version of this keynote on the O&#8217;Reilly online learning platform</a>.</p>\\n<p>You can also <a href=\"https://www.oreilly.com/radar/highlights-from-strata-ny-2019\">see other highlights from the event</a>.</p>\\n<img src=\"http://feeds.feedburner.com/~r/oreilly/radar/atom/~4/wxIihapuMc4\" height=\"1\" width=\"1\" alt=\"\"/>'}], 'wfw_commentrss': 'https://www.oreilly.com/radar/say-what-the-ethical-challenges-of-designing-for-humanlike-interaction/feed/', 'slash_comments': '0', 'feedburner_origlink': 'https://www.oreilly.com/radar/say-what-the-ethical-challenges-of-designing-for-humanlike-interaction/'}, {'title': 'RL in real life: Bringing reinforcement learning to the enterprise', 'title_detail': {'type': 'text/plain', 'language': None, 'base': 'http://feeds.feedburner.com/oreilly/radar/atom', 'value': 'RL in real life: Bringing reinforcement learning to the enterprise'}, 'links': [{'rel': 'alternate', 'type': 'text/html', 'href': 'http://feedproxy.google.com/~r/oreilly/radar/atom/~3/hS5AZcF-Sww/'}], 'link': 'http://feedproxy.google.com/~r/oreilly/radar/atom/~3/hS5AZcF-Sww/', 'comments': 'https://www.oreilly.com/radar/rl-in-real-life-bringing-reinforcement-learning-to-the-enterprise/#respond', 'published': 'Fri, 27 Sep 2019 00:00:19 +0000', 'published_parsed': time.struct_time(tm_year=2019, tm_mon=9, tm_mday=27, tm_hour=0, tm_min=0, tm_sec=19, tm_wday=4, tm_yday=270, tm_isdst=0), 'authors': [{'name': 'Mac Slocum'}], 'author': 'Mac Slocum', 'author_detail': {'name': 'Mac Slocum'}, 'tags': [{'term': 'AI & ML', 'scheme': None, 'label': None}, {'term': 'Data', 'scheme': None, 'label': None}, {'term': 'Strata NY 19', 'scheme': None, 'label': None}], 'id': 'https://www.oreilly.com/radar/?p=9463', 'guidislink': False, 'summary': 'This is a keynote from the Strata Data Conference in New York 2019. See other highlights from the event. This keynote was sponsored by Microsoft.', 'summary_detail': {'type': 'text/html', 'language': None, 'base': 'http://feeds.feedburner.com/oreilly/radar/atom', 'value': 'This is a keynote from the Strata Data Conference in New York 2019. See other highlights from the event. This keynote was sponsored by Microsoft.'}, 'content': [{'type': 'text/html', 'language': None, 'base': 'http://feeds.feedburner.com/oreilly/radar/atom', 'value': '<p>This is a keynote from the Strata Data Conference in New York 2019. <a href=\"https://www.oreilly.com/radar/highlights-from-strata-ny-2019\">See other highlights from the event</a>.</p>\\n<p><em>This keynote was sponsored by Microsoft.</em></p>\\n<img src=\"http://feeds.feedburner.com/~r/oreilly/radar/atom/~4/hS5AZcF-Sww\" height=\"1\" width=\"1\" alt=\"\"/>'}], 'wfw_commentrss': 'https://www.oreilly.com/radar/rl-in-real-life-bringing-reinforcement-learning-to-the-enterprise/feed/', 'slash_comments': '0', 'feedburner_origlink': 'https://www.oreilly.com/radar/rl-in-real-life-bringing-reinforcement-learning-to-the-enterprise/'}, {'title': 'Strata Data Awards winners 2019', 'title_detail': {'type': 'text/plain', 'language': None, 'base': 'http://feeds.feedburner.com/oreilly/radar/atom', 'value': 'Strata Data Awards winners 2019'}, 'links': [{'rel': 'alternate', 'type': 'text/html', 'href': 'http://feedproxy.google.com/~r/oreilly/radar/atom/~3/Ee2S2vGAB38/'}], 'link': 'http://feedproxy.google.com/~r/oreilly/radar/atom/~3/Ee2S2vGAB38/', 'comments': 'https://www.oreilly.com/radar/strata-data-awards-2019/#respond', 'published': 'Fri, 27 Sep 2019 00:00:14 +0000', 'published_parsed': time.struct_time(tm_year=2019, tm_mon=9, tm_mday=27, tm_hour=0, tm_min=0, tm_sec=14, tm_wday=4, tm_yday=270, tm_isdst=0), 'authors': [{'name': 'Mac Slocum'}], 'author': 'Mac Slocum', 'author_detail': {'name': 'Mac Slocum'}, 'tags': [{'term': 'AI & ML', 'scheme': None, 'label': None}, {'term': 'Data', 'scheme': None, 'label': None}, {'term': 'Strata NY 19', 'scheme': None, 'label': None}], 'id': 'https://www.oreilly.com/radar/?p=9467', 'guidislink': False, 'summary': 'This is a presentation from from the Strata Data Conference in New York 2019. See full keynotes and sessions from this event on the O&#8217;Reilly online learning platform. You can also view other Strata NY &#8217;19 highlights.', 'summary_detail': {'type': 'text/html', 'language': None, 'base': 'http://feeds.feedburner.com/oreilly/radar/atom', 'value': 'This is a presentation from from the Strata Data Conference in New York 2019. See full keynotes and sessions from this event on the O&#8217;Reilly online learning platform. You can also view other Strata NY &#8217;19 highlights.'}, 'content': [{'type': 'text/html', 'language': None, 'base': 'http://feeds.feedburner.com/oreilly/radar/atom', 'value': '<p>This is a presentation from from the Strata Data Conference in New York 2019. <a href=\"https://learning.oreilly.com/videos/strata-data-conference/9781492050681\">See full keynotes and sessions from this event on the O&#8217;Reilly online learning platform</a>.</p>\\n<p>You can also <a href=\"https://www.oreilly.com/radar/highlights-from-strata-ny-2019\">view other Strata NY &#8217;19 highlights</a>.</p>\\n<img src=\"http://feeds.feedburner.com/~r/oreilly/radar/atom/~4/Ee2S2vGAB38\" height=\"1\" width=\"1\" alt=\"\"/>'}], 'wfw_commentrss': 'https://www.oreilly.com/radar/strata-data-awards-2019/feed/', 'slash_comments': '0', 'feedburner_origlink': 'https://www.oreilly.com/radar/strata-data-awards-2019/'}, {'title': 'Staying safe in the AI era', 'title_detail': {'type': 'text/plain', 'language': None, 'base': 'http://feeds.feedburner.com/oreilly/radar/atom', 'value': 'Staying safe in the AI era'}, 'links': [{'rel': 'alternate', 'type': 'text/html', 'href': 'http://feedproxy.google.com/~r/oreilly/radar/atom/~3/0rD6SUx5r3Q/'}], 'link': 'http://feedproxy.google.com/~r/oreilly/radar/atom/~3/0rD6SUx5r3Q/', 'comments': 'https://www.oreilly.com/radar/staying-safe-in-the-ai-era/#respond', 'published': 'Fri, 27 Sep 2019 00:00:14 +0000', 'published_parsed': time.struct_time(tm_year=2019, tm_mon=9, tm_mday=27, tm_hour=0, tm_min=0, tm_sec=14, tm_wday=4, tm_yday=270, tm_isdst=0), 'authors': [{'name': 'Mac Slocum'}], 'author': 'Mac Slocum', 'author_detail': {'name': 'Mac Slocum'}, 'tags': [{'term': 'AI & ML', 'scheme': None, 'label': None}, {'term': 'Data', 'scheme': None, 'label': None}, {'term': 'Strata NY 19', 'scheme': None, 'label': None}], 'id': 'https://www.oreilly.com/radar/?p=9441', 'guidislink': False, 'summary': 'This is a keynote highlight from the Strata Data Conference in New York 2019. Watch the full version of this keynote on the O&#8217;Reilly online learning platform. You can also see other highlights from the event.', 'summary_detail': {'type': 'text/html', 'language': None, 'base': 'http://feeds.feedburner.com/oreilly/radar/atom', 'value': 'This is a keynote highlight from the Strata Data Conference in New York 2019. Watch the full version of this keynote on the O&#8217;Reilly online learning platform. You can also see other highlights from the event.'}, 'content': [{'type': 'text/html', 'language': None, 'base': 'http://feeds.feedburner.com/oreilly/radar/atom', 'value': '<p>This is a keynote highlight from the Strata Data Conference in New York 2019. <a href=\"https://learning.oreilly.com/videos/strata-data-conference/9781492050681/9781492050681-video327551\">Watch the full version of this keynote on the O&#8217;Reilly online learning platform</a>.</p>\\n<p>You can also <a href=\"https://www.oreilly.com/radar/highlights-from-strata-ny-2019\">see other highlights from the event</a>.</p>\\n<img src=\"http://feeds.feedburner.com/~r/oreilly/radar/atom/~4/0rD6SUx5r3Q\" height=\"1\" width=\"1\" alt=\"\"/>'}], 'wfw_commentrss': 'https://www.oreilly.com/radar/staying-safe-in-the-ai-era/feed/', 'slash_comments': '0', 'feedburner_origlink': 'https://www.oreilly.com/radar/staying-safe-in-the-ai-era/'}, {'title': 'Data sonification: Making music from the yield curve', 'title_detail': {'type': 'text/plain', 'language': None, 'base': 'http://feeds.feedburner.com/oreilly/radar/atom', 'value': 'Data sonification: Making music from the yield curve'}, 'links': [{'rel': 'alternate', 'type': 'text/html', 'href': 'http://feedproxy.google.com/~r/oreilly/radar/atom/~3/3PblW8qadI8/'}], 'link': 'http://feedproxy.google.com/~r/oreilly/radar/atom/~3/3PblW8qadI8/', 'comments': 'https://www.oreilly.com/radar/data-sonification-making-music-from-the-yield-curve/#respond', 'published': 'Fri, 27 Sep 2019 00:00:11 +0000', 'published_parsed': time.struct_time(tm_year=2019, tm_mon=9, tm_mday=27, tm_hour=0, tm_min=0, tm_sec=11, tm_wday=4, tm_yday=270, tm_isdst=0), 'authors': [{'name': 'Mac Slocum'}], 'author': 'Mac Slocum', 'author_detail': {'name': 'Mac Slocum'}, 'tags': [{'term': 'AI & ML', 'scheme': None, 'label': None}, {'term': 'Data', 'scheme': None, 'label': None}, {'term': 'Strata NY 19', 'scheme': None, 'label': None}], 'id': 'https://www.oreilly.com/radar/?p=9482', 'guidislink': False, 'summary': 'This is a keynote highlight from the Strata Data Conference in New York 2019. Watch the full version of this keynote on the O&#8217;Reilly online learning platform. You can also see other highlights from the event.', 'summary_detail': {'type': 'text/html', 'language': None, 'base': 'http://feeds.feedburner.com/oreilly/radar/atom', 'value': 'This is a keynote highlight from the Strata Data Conference in New York 2019. Watch the full version of this keynote on the O&#8217;Reilly online learning platform. You can also see other highlights from the event.'}, 'content': [{'type': 'text/html', 'language': None, 'base': 'http://feeds.feedburner.com/oreilly/radar/atom', 'value': '<p>This is a keynote highlight from the Strata Data Conference in New York 2019. <a href=\"https://learning.oreilly.com/videos/strata-data-conference/9781492050681/9781492050681-video327540\">Watch the full version of this keynote on the O&#8217;Reilly online learning platform</a>.</p>\\n<p>You can also <a href=\"https://www.oreilly.com/radar/highlights-from-strata-ny-2019\">see other highlights from the event</a>.</p>\\n<img src=\"http://feeds.feedburner.com/~r/oreilly/radar/atom/~4/3PblW8qadI8\" height=\"1\" width=\"1\" alt=\"\"/>'}], 'wfw_commentrss': 'https://www.oreilly.com/radar/data-sonification-making-music-from-the-yield-curve/feed/', 'slash_comments': '0', 'feedburner_origlink': 'https://www.oreilly.com/radar/data-sonification-making-music-from-the-yield-curve/'}], 'bozo': 0, 'headers': {'Content-Type': 'text/xml; charset=UTF-8', 'ETag': 'm9d0NkLr+Fl9nlU9dJE2HMskORk', 'Last-Modified': 'Tue, 08 Oct 2019 02:01:03 GMT', 'Content-Encoding': 'gzip', 'Transfer-Encoding': 'chunked', 'Date': 'Tue, 08 Oct 2019 02:57:09 GMT', 'Expires': 'Tue, 08 Oct 2019 02:57:09 GMT', 'Cache-Control': 'private, max-age=0', 'X-Content-Type-Options': 'nosniff', 'X-XSS-Protection': '1; mode=block', 'Server': 'GSE', 'Connection': 'close'}, 'etag': 'm9d0NkLr+Fl9nlU9dJE2HMskORk', 'updated': 'Tue, 08 Oct 2019 02:01:03 GMT', 'updated_parsed': time.struct_time(tm_year=2019, tm_mon=10, tm_mday=8, tm_hour=2, tm_min=1, tm_sec=3, tm_wday=1, tm_yday=281, tm_isdst=0), 'href': 'http://feeds.feedburner.com/oreilly/radar/atom', 'status': 200, 'encoding': 'UTF-8', 'version': 'rss20', 'namespaces': {'content': 'http://purl.org/rss/1.0/modules/content/', 'wfw': 'http://wellformedweb.org/CommentAPI/', 'dc': 'http://purl.org/dc/elements/1.1/', '': 'http://www.w3.org/2005/Atom', 'sy': 'http://purl.org/rss/1.0/modules/syndication/', 'slash': 'http://purl.org/rss/1.0/modules/slash/', 'geo': 'http://www.w3.org/2003/01/geo/wgs84_pos#', 'feedburner': 'http://rssnamespace.org/feedburner/ext/1.0'}}\n"
     ]
    }
   ],
   "source": [
    "fburner = feedparser.parse(url)\n",
    "print(fburner)"
   ]
  },
  {
   "cell_type": "markdown",
   "metadata": {},
   "source": [
    "### 2. Obtain a list of components (keys) that are available for this feed."
   ]
  },
  {
   "cell_type": "code",
   "execution_count": 4,
   "metadata": {},
   "outputs": [
    {
     "data": {
      "text/plain": [
       "dict_keys(['feed', 'entries', 'bozo', 'headers', 'etag', 'updated', 'updated_parsed', 'href', 'status', 'encoding', 'version', 'namespaces'])"
      ]
     },
     "execution_count": 4,
     "metadata": {},
     "output_type": "execute_result"
    }
   ],
   "source": [
    "fburner.keys()"
   ]
  },
  {
   "cell_type": "markdown",
   "metadata": {},
   "source": [
    "### 3. Obtain a list of components (keys) that are available for the *feed* component of this RSS feed."
   ]
  },
  {
   "cell_type": "code",
   "execution_count": 5,
   "metadata": {},
   "outputs": [
    {
     "data": {
      "text/plain": [
       "dict_keys(['title', 'title_detail', 'links', 'link', 'subtitle', 'subtitle_detail', 'updated', 'updated_parsed', 'language', 'sy_updateperiod', 'sy_updatefrequency', 'generator_detail', 'generator', 'feedburner_info', 'geo_lat', 'geo_long', 'feedburner_emailserviceid', 'feedburner_feedburnerhostname'])"
      ]
     },
     "execution_count": 5,
     "metadata": {},
     "output_type": "execute_result"
    }
   ],
   "source": [
    "fburner.feed.keys()"
   ]
  },
  {
   "cell_type": "markdown",
   "metadata": {},
   "source": [
    "### 4. Extract and print the feed title, subtitle, author, and link."
   ]
  },
  {
   "cell_type": "code",
   "execution_count": 6,
   "metadata": {},
   "outputs": [
    {
     "data": {
      "text/plain": [
       "'Radar'"
      ]
     },
     "execution_count": 6,
     "metadata": {},
     "output_type": "execute_result"
    }
   ],
   "source": [
    "fburner.feed.title"
   ]
  },
  {
   "cell_type": "code",
   "execution_count": 7,
   "metadata": {},
   "outputs": [
    {
     "data": {
      "text/plain": [
       "'Now, next, and beyond: Tracking need-to-know trends at the intersection of business and technology'"
      ]
     },
     "execution_count": 7,
     "metadata": {},
     "output_type": "execute_result"
    }
   ],
   "source": [
    "fburner.feed.subtitle"
   ]
  },
  {
   "cell_type": "code",
   "execution_count": 8,
   "metadata": {},
   "outputs": [
    {
     "data": {
      "text/plain": [
       "{'type': 'text/plain',\n",
       " 'language': None,\n",
       " 'base': 'http://feeds.feedburner.com/oreilly/radar/atom',\n",
       " 'value': 'Radar'}"
      ]
     },
     "execution_count": 8,
     "metadata": {},
     "output_type": "execute_result"
    }
   ],
   "source": [
    "fburner.feed.title_detail"
   ]
  },
  {
   "cell_type": "code",
   "execution_count": 9,
   "metadata": {},
   "outputs": [
    {
     "data": {
      "text/plain": [
       "'https://www.oreilly.com/radar'"
      ]
     },
     "execution_count": 9,
     "metadata": {},
     "output_type": "execute_result"
    }
   ],
   "source": [
    "fburner.feed.link"
   ]
  },
  {
   "cell_type": "markdown",
   "metadata": {},
   "source": [
    "### 5. Count the number of entries that are contained in this RSS feed."
   ]
  },
  {
   "cell_type": "code",
   "execution_count": 10,
   "metadata": {},
   "outputs": [
    {
     "data": {
      "text/plain": [
       "title                  18\n",
       "title_detail           18\n",
       "links                  18\n",
       "link                   18\n",
       "comments               18\n",
       "published              18\n",
       "published_parsed       18\n",
       "authors                18\n",
       "author                 18\n",
       "author_detail          18\n",
       "tags                   18\n",
       "id                     18\n",
       "guidislink             18\n",
       "summary                18\n",
       "summary_detail         18\n",
       "content                18\n",
       "wfw_commentrss         18\n",
       "slash_comments         18\n",
       "feedburner_origlink    18\n",
       "dtype: int64"
      ]
     },
     "execution_count": 10,
     "metadata": {},
     "output_type": "execute_result"
    }
   ],
   "source": [
    "import pandas as pd\n",
    "import re \n",
    "\n",
    "df = pd.DataFrame(fburner.entries)\n",
    "df.tail(10)\n",
    "df.count()"
   ]
  },
  {
   "cell_type": "markdown",
   "metadata": {},
   "source": [
    "### 6. Obtain a list of components (keys) available for an entry.\n",
    "\n",
    "*Hint: Remember to index first before requesting the keys*"
   ]
  },
  {
   "cell_type": "code",
   "execution_count": 11,
   "metadata": {},
   "outputs": [
    {
     "data": {
      "text/plain": [
       "Index(['title', 'title_detail', 'links', 'link', 'comments', 'published',\n",
       "       'published_parsed', 'authors', 'author', 'author_detail', 'tags', 'id',\n",
       "       'guidislink', 'summary', 'summary_detail', 'content', 'wfw_commentrss',\n",
       "       'slash_comments', 'feedburner_origlink'],\n",
       "      dtype='object')"
      ]
     },
     "execution_count": 11,
     "metadata": {},
     "output_type": "execute_result"
    }
   ],
   "source": [
    "df.columns"
   ]
  },
  {
   "cell_type": "markdown",
   "metadata": {},
   "source": [
    "### 7. Extract a list of entry titles."
   ]
  },
  {
   "cell_type": "code",
   "execution_count": 12,
   "metadata": {},
   "outputs": [
    {
     "name": "stdout",
     "output_type": "stream",
     "text": [
      "['Radar trends to watch: October 2019', 'Four short links: 7 October 2019', 'Four short links: 4 October 2019', 'Four short links: 3 October 2019', 'Four short links: 2 October 2019', 'Four short links: 1 October 2019', 'TinyML: The challenges and opportunities of low-power ML applications', 'Four short links: 30 September 2019', 'Highlights from the Strata Data Conference in New York 2019', 'Four short links: 27 September 2019', 'Delivering the enterprise data cloud', 'Data Science Pioneers: Conquering the next frontier, a documentary investigating the future of data science', 'Postrevolutionary big data: Promoting the general welfare', 'Say what? The ethical challenges of designing for humanlike interaction', 'RL in real life: Bringing reinforcement learning to the enterprise', 'Strata Data Awards winners 2019', 'Staying safe in the AI era', 'Data sonification: Making music from the yield curve']\n"
     ]
    }
   ],
   "source": [
    "lst=[fburner.entries[i].title for i in range(len(fburner.entries))]\n",
    "print(lst)"
   ]
  },
  {
   "cell_type": "markdown",
   "metadata": {},
   "source": [
    "### 8. Calculate the percentage of \"Four short links\" entry titles."
   ]
  },
  {
   "cell_type": "code",
   "execution_count": 13,
   "metadata": {},
   "outputs": [
    {
     "name": "stdout",
     "output_type": "stream",
     "text": [
      "38\n"
     ]
    }
   ],
   "source": [
    "f_sh=[]\n",
    "for element in lst:\n",
    "    if re.search(r'Four short links', element):\n",
    "        f_sh.append(element)\n",
    "percentage = len(f_sh)/len(lst)*100\n",
    "print(int(percentage))"
   ]
  },
  {
   "cell_type": "markdown",
   "metadata": {},
   "source": [
    "### 9. Create a Pandas data frame from the feed's entries."
   ]
  },
  {
   "cell_type": "code",
   "execution_count": 31,
   "metadata": {},
   "outputs": [],
   "source": [
    "import pandas as pd"
   ]
  },
  {
   "cell_type": "code",
   "execution_count": 32,
   "metadata": {},
   "outputs": [
    {
     "data": {
      "text/html": [
       "<div>\n",
       "<style scoped>\n",
       "    .dataframe tbody tr th:only-of-type {\n",
       "        vertical-align: middle;\n",
       "    }\n",
       "\n",
       "    .dataframe tbody tr th {\n",
       "        vertical-align: top;\n",
       "    }\n",
       "\n",
       "    .dataframe thead th {\n",
       "        text-align: right;\n",
       "    }\n",
       "</style>\n",
       "<table border=\"1\" class=\"dataframe\">\n",
       "  <thead>\n",
       "    <tr style=\"text-align: right;\">\n",
       "      <th></th>\n",
       "      <th>title</th>\n",
       "      <th>title_detail</th>\n",
       "      <th>links</th>\n",
       "      <th>link</th>\n",
       "      <th>comments</th>\n",
       "      <th>published</th>\n",
       "      <th>published_parsed</th>\n",
       "      <th>authors</th>\n",
       "      <th>author</th>\n",
       "      <th>author_detail</th>\n",
       "      <th>tags</th>\n",
       "      <th>id</th>\n",
       "      <th>guidislink</th>\n",
       "      <th>summary</th>\n",
       "      <th>summary_detail</th>\n",
       "      <th>content</th>\n",
       "      <th>wfw_commentrss</th>\n",
       "      <th>slash_comments</th>\n",
       "      <th>feedburner_origlink</th>\n",
       "    </tr>\n",
       "  </thead>\n",
       "  <tbody>\n",
       "    <tr>\n",
       "      <td>0</td>\n",
       "      <td>Radar trends to watch: October 2019</td>\n",
       "      <td>{'type': 'text/plain', 'language': None, 'base...</td>\n",
       "      <td>[{'rel': 'alternate', 'type': 'text/html', 'hr...</td>\n",
       "      <td>http://feedproxy.google.com/~r/oreilly/radar/a...</td>\n",
       "      <td>https://www.oreilly.com/radar/radar-trends-to-...</td>\n",
       "      <td>Mon, 07 Oct 2019 12:00:09 +0000</td>\n",
       "      <td>(2019, 10, 7, 12, 0, 9, 0, 280, 0)</td>\n",
       "      <td>[{'name': 'Mac Slocum'}]</td>\n",
       "      <td>Mac Slocum</td>\n",
       "      <td>{'name': 'Mac Slocum'}</td>\n",
       "      <td>[{'term': 'Radar Trends', 'scheme': None, 'lab...</td>\n",
       "      <td>https://www.oreilly.com/radar/?p=9859</td>\n",
       "      <td>False</td>\n",
       "      <td>Open source and activism trends A new kind of ...</td>\n",
       "      <td>{'type': 'text/html', 'language': None, 'base'...</td>\n",
       "      <td>[{'type': 'text/html', 'language': None, 'base...</td>\n",
       "      <td>https://www.oreilly.com/radar/radar-trends-to-...</td>\n",
       "      <td>0</td>\n",
       "      <td>https://www.oreilly.com/radar/radar-trends-to-...</td>\n",
       "    </tr>\n",
       "    <tr>\n",
       "      <td>1</td>\n",
       "      <td>Four short links: 7 October 2019</td>\n",
       "      <td>{'type': 'text/plain', 'language': None, 'base...</td>\n",
       "      <td>[{'rel': 'alternate', 'type': 'text/html', 'hr...</td>\n",
       "      <td>http://feedproxy.google.com/~r/oreilly/radar/a...</td>\n",
       "      <td>https://www.oreilly.com/radar/four-short-links...</td>\n",
       "      <td>Mon, 07 Oct 2019 04:01:40 +0000</td>\n",
       "      <td>(2019, 10, 7, 4, 1, 40, 0, 280, 0)</td>\n",
       "      <td>[{'email': 'jwebb@oreilly.com'}]</td>\n",
       "      <td>jwebb@oreilly.com</td>\n",
       "      <td>{'email': 'jwebb@oreilly.com'}</td>\n",
       "      <td>[{'term': 'Four Short Links', 'scheme': None, ...</td>\n",
       "      <td>https://www.oreilly.com/radar/?p=9908</td>\n",
       "      <td>False</td>\n",
       "      <td>Addicted to Screens? That’s Really a You Probl...</td>\n",
       "      <td>{'type': 'text/html', 'language': None, 'base'...</td>\n",
       "      <td>[{'type': 'text/html', 'language': None, 'base...</td>\n",
       "      <td>https://www.oreilly.com/radar/four-short-links...</td>\n",
       "      <td>0</td>\n",
       "      <td>https://www.oreilly.com/radar/four-short-links...</td>\n",
       "    </tr>\n",
       "    <tr>\n",
       "      <td>2</td>\n",
       "      <td>Four short links: 4 October 2019</td>\n",
       "      <td>{'type': 'text/plain', 'language': None, 'base...</td>\n",
       "      <td>[{'rel': 'alternate', 'type': 'text/html', 'hr...</td>\n",
       "      <td>http://feedproxy.google.com/~r/oreilly/radar/a...</td>\n",
       "      <td>https://www.oreilly.com/radar/four-short-links...</td>\n",
       "      <td>Fri, 04 Oct 2019 04:01:01 +0000</td>\n",
       "      <td>(2019, 10, 4, 4, 1, 1, 4, 277, 0)</td>\n",
       "      <td>[{'email': 'jwebb@oreilly.com'}]</td>\n",
       "      <td>jwebb@oreilly.com</td>\n",
       "      <td>{'email': 'jwebb@oreilly.com'}</td>\n",
       "      <td>[{'term': 'Four Short Links', 'scheme': None, ...</td>\n",
       "      <td>https://www.oreilly.com/radar/?p=9850</td>\n",
       "      <td>False</td>\n",
       "      <td>SQL Queries Don&amp;#8217;t Start with SELECT (Jul...</td>\n",
       "      <td>{'type': 'text/html', 'language': None, 'base'...</td>\n",
       "      <td>[{'type': 'text/html', 'language': None, 'base...</td>\n",
       "      <td>https://www.oreilly.com/radar/four-short-links...</td>\n",
       "      <td>0</td>\n",
       "      <td>https://www.oreilly.com/radar/four-short-links...</td>\n",
       "    </tr>\n",
       "    <tr>\n",
       "      <td>3</td>\n",
       "      <td>Four short links: 3 October 2019</td>\n",
       "      <td>{'type': 'text/plain', 'language': None, 'base...</td>\n",
       "      <td>[{'rel': 'alternate', 'type': 'text/html', 'hr...</td>\n",
       "      <td>http://feedproxy.google.com/~r/oreilly/radar/a...</td>\n",
       "      <td>https://www.oreilly.com/radar/four-short-links...</td>\n",
       "      <td>Thu, 03 Oct 2019 04:01:45 +0000</td>\n",
       "      <td>(2019, 10, 3, 4, 1, 45, 3, 276, 0)</td>\n",
       "      <td>[{'email': 'jwebb@oreilly.com'}]</td>\n",
       "      <td>jwebb@oreilly.com</td>\n",
       "      <td>{'email': 'jwebb@oreilly.com'}</td>\n",
       "      <td>[{'term': 'Four Short Links', 'scheme': None, ...</td>\n",
       "      <td>https://www.oreilly.com/radar/?p=9847</td>\n",
       "      <td>False</td>\n",
       "      <td>Why Do Companies With Huge Resources Still Hav...</td>\n",
       "      <td>{'type': 'text/html', 'language': None, 'base'...</td>\n",
       "      <td>[{'type': 'text/html', 'language': None, 'base...</td>\n",
       "      <td>https://www.oreilly.com/radar/four-short-links...</td>\n",
       "      <td>0</td>\n",
       "      <td>https://www.oreilly.com/radar/four-short-links...</td>\n",
       "    </tr>\n",
       "    <tr>\n",
       "      <td>4</td>\n",
       "      <td>Four short links: 2 October 2019</td>\n",
       "      <td>{'type': 'text/plain', 'language': None, 'base...</td>\n",
       "      <td>[{'rel': 'alternate', 'type': 'text/html', 'hr...</td>\n",
       "      <td>http://feedproxy.google.com/~r/oreilly/radar/a...</td>\n",
       "      <td>https://www.oreilly.com/radar/four-short-links...</td>\n",
       "      <td>Wed, 02 Oct 2019 04:01:09 +0000</td>\n",
       "      <td>(2019, 10, 2, 4, 1, 9, 2, 275, 0)</td>\n",
       "      <td>[{'email': 'jwebb@oreilly.com'}]</td>\n",
       "      <td>jwebb@oreilly.com</td>\n",
       "      <td>{'email': 'jwebb@oreilly.com'}</td>\n",
       "      <td>[{'term': 'Four Short Links', 'scheme': None, ...</td>\n",
       "      <td>https://www.oreilly.com/radar/?p=9832</td>\n",
       "      <td>False</td>\n",
       "      <td>Data Fallacies to Avoid &amp;#8212; nifty infograp...</td>\n",
       "      <td>{'type': 'text/html', 'language': None, 'base'...</td>\n",
       "      <td>[{'type': 'text/html', 'language': None, 'base...</td>\n",
       "      <td>https://www.oreilly.com/radar/four-short-links...</td>\n",
       "      <td>0</td>\n",
       "      <td>https://www.oreilly.com/radar/four-short-links...</td>\n",
       "    </tr>\n",
       "  </tbody>\n",
       "</table>\n",
       "</div>"
      ],
      "text/plain": [
       "                                 title  \\\n",
       "0  Radar trends to watch: October 2019   \n",
       "1     Four short links: 7 October 2019   \n",
       "2     Four short links: 4 October 2019   \n",
       "3     Four short links: 3 October 2019   \n",
       "4     Four short links: 2 October 2019   \n",
       "\n",
       "                                        title_detail  \\\n",
       "0  {'type': 'text/plain', 'language': None, 'base...   \n",
       "1  {'type': 'text/plain', 'language': None, 'base...   \n",
       "2  {'type': 'text/plain', 'language': None, 'base...   \n",
       "3  {'type': 'text/plain', 'language': None, 'base...   \n",
       "4  {'type': 'text/plain', 'language': None, 'base...   \n",
       "\n",
       "                                               links  \\\n",
       "0  [{'rel': 'alternate', 'type': 'text/html', 'hr...   \n",
       "1  [{'rel': 'alternate', 'type': 'text/html', 'hr...   \n",
       "2  [{'rel': 'alternate', 'type': 'text/html', 'hr...   \n",
       "3  [{'rel': 'alternate', 'type': 'text/html', 'hr...   \n",
       "4  [{'rel': 'alternate', 'type': 'text/html', 'hr...   \n",
       "\n",
       "                                                link  \\\n",
       "0  http://feedproxy.google.com/~r/oreilly/radar/a...   \n",
       "1  http://feedproxy.google.com/~r/oreilly/radar/a...   \n",
       "2  http://feedproxy.google.com/~r/oreilly/radar/a...   \n",
       "3  http://feedproxy.google.com/~r/oreilly/radar/a...   \n",
       "4  http://feedproxy.google.com/~r/oreilly/radar/a...   \n",
       "\n",
       "                                            comments  \\\n",
       "0  https://www.oreilly.com/radar/radar-trends-to-...   \n",
       "1  https://www.oreilly.com/radar/four-short-links...   \n",
       "2  https://www.oreilly.com/radar/four-short-links...   \n",
       "3  https://www.oreilly.com/radar/four-short-links...   \n",
       "4  https://www.oreilly.com/radar/four-short-links...   \n",
       "\n",
       "                         published                    published_parsed  \\\n",
       "0  Mon, 07 Oct 2019 12:00:09 +0000  (2019, 10, 7, 12, 0, 9, 0, 280, 0)   \n",
       "1  Mon, 07 Oct 2019 04:01:40 +0000  (2019, 10, 7, 4, 1, 40, 0, 280, 0)   \n",
       "2  Fri, 04 Oct 2019 04:01:01 +0000   (2019, 10, 4, 4, 1, 1, 4, 277, 0)   \n",
       "3  Thu, 03 Oct 2019 04:01:45 +0000  (2019, 10, 3, 4, 1, 45, 3, 276, 0)   \n",
       "4  Wed, 02 Oct 2019 04:01:09 +0000   (2019, 10, 2, 4, 1, 9, 2, 275, 0)   \n",
       "\n",
       "                            authors             author  \\\n",
       "0          [{'name': 'Mac Slocum'}]         Mac Slocum   \n",
       "1  [{'email': 'jwebb@oreilly.com'}]  jwebb@oreilly.com   \n",
       "2  [{'email': 'jwebb@oreilly.com'}]  jwebb@oreilly.com   \n",
       "3  [{'email': 'jwebb@oreilly.com'}]  jwebb@oreilly.com   \n",
       "4  [{'email': 'jwebb@oreilly.com'}]  jwebb@oreilly.com   \n",
       "\n",
       "                    author_detail  \\\n",
       "0          {'name': 'Mac Slocum'}   \n",
       "1  {'email': 'jwebb@oreilly.com'}   \n",
       "2  {'email': 'jwebb@oreilly.com'}   \n",
       "3  {'email': 'jwebb@oreilly.com'}   \n",
       "4  {'email': 'jwebb@oreilly.com'}   \n",
       "\n",
       "                                                tags  \\\n",
       "0  [{'term': 'Radar Trends', 'scheme': None, 'lab...   \n",
       "1  [{'term': 'Four Short Links', 'scheme': None, ...   \n",
       "2  [{'term': 'Four Short Links', 'scheme': None, ...   \n",
       "3  [{'term': 'Four Short Links', 'scheme': None, ...   \n",
       "4  [{'term': 'Four Short Links', 'scheme': None, ...   \n",
       "\n",
       "                                      id  guidislink  \\\n",
       "0  https://www.oreilly.com/radar/?p=9859       False   \n",
       "1  https://www.oreilly.com/radar/?p=9908       False   \n",
       "2  https://www.oreilly.com/radar/?p=9850       False   \n",
       "3  https://www.oreilly.com/radar/?p=9847       False   \n",
       "4  https://www.oreilly.com/radar/?p=9832       False   \n",
       "\n",
       "                                             summary  \\\n",
       "0  Open source and activism trends A new kind of ...   \n",
       "1  Addicted to Screens? That’s Really a You Probl...   \n",
       "2  SQL Queries Don&#8217;t Start with SELECT (Jul...   \n",
       "3  Why Do Companies With Huge Resources Still Hav...   \n",
       "4  Data Fallacies to Avoid &#8212; nifty infograp...   \n",
       "\n",
       "                                      summary_detail  \\\n",
       "0  {'type': 'text/html', 'language': None, 'base'...   \n",
       "1  {'type': 'text/html', 'language': None, 'base'...   \n",
       "2  {'type': 'text/html', 'language': None, 'base'...   \n",
       "3  {'type': 'text/html', 'language': None, 'base'...   \n",
       "4  {'type': 'text/html', 'language': None, 'base'...   \n",
       "\n",
       "                                             content  \\\n",
       "0  [{'type': 'text/html', 'language': None, 'base...   \n",
       "1  [{'type': 'text/html', 'language': None, 'base...   \n",
       "2  [{'type': 'text/html', 'language': None, 'base...   \n",
       "3  [{'type': 'text/html', 'language': None, 'base...   \n",
       "4  [{'type': 'text/html', 'language': None, 'base...   \n",
       "\n",
       "                                      wfw_commentrss slash_comments  \\\n",
       "0  https://www.oreilly.com/radar/radar-trends-to-...              0   \n",
       "1  https://www.oreilly.com/radar/four-short-links...              0   \n",
       "2  https://www.oreilly.com/radar/four-short-links...              0   \n",
       "3  https://www.oreilly.com/radar/four-short-links...              0   \n",
       "4  https://www.oreilly.com/radar/four-short-links...              0   \n",
       "\n",
       "                                 feedburner_origlink  \n",
       "0  https://www.oreilly.com/radar/radar-trends-to-...  \n",
       "1  https://www.oreilly.com/radar/four-short-links...  \n",
       "2  https://www.oreilly.com/radar/four-short-links...  \n",
       "3  https://www.oreilly.com/radar/four-short-links...  \n",
       "4  https://www.oreilly.com/radar/four-short-links...  "
      ]
     },
     "execution_count": 32,
     "metadata": {},
     "output_type": "execute_result"
    }
   ],
   "source": [
    "df = pd.DataFrame(fburner.entries)\n",
    "df.head(5)"
   ]
  },
  {
   "cell_type": "markdown",
   "metadata": {},
   "source": [
    "### 10. Count the number of entries per author and sort them in descending order."
   ]
  },
  {
   "cell_type": "code",
   "execution_count": 33,
   "metadata": {},
   "outputs": [
    {
     "data": {
      "text/html": [
       "<div>\n",
       "<style scoped>\n",
       "    .dataframe tbody tr th:only-of-type {\n",
       "        vertical-align: middle;\n",
       "    }\n",
       "\n",
       "    .dataframe tbody tr th {\n",
       "        vertical-align: top;\n",
       "    }\n",
       "\n",
       "    .dataframe thead th {\n",
       "        text-align: right;\n",
       "    }\n",
       "</style>\n",
       "<table border=\"1\" class=\"dataframe\">\n",
       "  <thead>\n",
       "    <tr style=\"text-align: right;\">\n",
       "      <th></th>\n",
       "      <th>author</th>\n",
       "      <th>title</th>\n",
       "    </tr>\n",
       "  </thead>\n",
       "  <tbody>\n",
       "    <tr>\n",
       "      <td>0</td>\n",
       "      <td>Mac Slocum</td>\n",
       "      <td>13</td>\n",
       "    </tr>\n",
       "    <tr>\n",
       "      <td>1</td>\n",
       "      <td>jwebb@oreilly.com</td>\n",
       "      <td>5</td>\n",
       "    </tr>\n",
       "  </tbody>\n",
       "</table>\n",
       "</div>"
      ],
      "text/plain": [
       "              author  title\n",
       "0         Mac Slocum     13\n",
       "1  jwebb@oreilly.com      5"
      ]
     },
     "execution_count": 33,
     "metadata": {},
     "output_type": "execute_result"
    }
   ],
   "source": [
    "authors = df.groupby('author', as_index=False).agg({'title':'count'})\n",
    "authors.sort_values(by=['title'], ascending= False)"
   ]
  },
  {
   "cell_type": "markdown",
   "metadata": {},
   "source": [
    "### 11. Add a new column to the data frame that contains the length (number of characters) of each entry title. Return a data frame that contains the title, author, and title length of each entry in descending order (longest title length at the top)."
   ]
  },
  {
   "cell_type": "code",
   "execution_count": 38,
   "metadata": {},
   "outputs": [
    {
     "data": {
      "text/html": [
       "<div>\n",
       "<style scoped>\n",
       "    .dataframe tbody tr th:only-of-type {\n",
       "        vertical-align: middle;\n",
       "    }\n",
       "\n",
       "    .dataframe tbody tr th {\n",
       "        vertical-align: top;\n",
       "    }\n",
       "\n",
       "    .dataframe thead th {\n",
       "        text-align: right;\n",
       "    }\n",
       "</style>\n",
       "<table border=\"1\" class=\"dataframe\">\n",
       "  <thead>\n",
       "    <tr style=\"text-align: right;\">\n",
       "      <th></th>\n",
       "      <th>title</th>\n",
       "      <th>author</th>\n",
       "      <th>Title lenght</th>\n",
       "    </tr>\n",
       "  </thead>\n",
       "  <tbody>\n",
       "    <tr>\n",
       "      <td>11</td>\n",
       "      <td>Data Science Pioneers: Conquering the next fro...</td>\n",
       "      <td>Mac Slocum</td>\n",
       "      <td>107</td>\n",
       "    </tr>\n",
       "    <tr>\n",
       "      <td>13</td>\n",
       "      <td>Say what? The ethical challenges of designing ...</td>\n",
       "      <td>Mac Slocum</td>\n",
       "      <td>71</td>\n",
       "    </tr>\n",
       "    <tr>\n",
       "      <td>6</td>\n",
       "      <td>TinyML: The challenges and opportunities of lo...</td>\n",
       "      <td>Mac Slocum</td>\n",
       "      <td>69</td>\n",
       "    </tr>\n",
       "    <tr>\n",
       "      <td>14</td>\n",
       "      <td>RL in real life: Bringing reinforcement learni...</td>\n",
       "      <td>Mac Slocum</td>\n",
       "      <td>66</td>\n",
       "    </tr>\n",
       "    <tr>\n",
       "      <td>8</td>\n",
       "      <td>Highlights from the Strata Data Conference in ...</td>\n",
       "      <td>Mac Slocum</td>\n",
       "      <td>59</td>\n",
       "    </tr>\n",
       "    <tr>\n",
       "      <td>12</td>\n",
       "      <td>Postrevolutionary big data: Promoting the gene...</td>\n",
       "      <td>Mac Slocum</td>\n",
       "      <td>57</td>\n",
       "    </tr>\n",
       "    <tr>\n",
       "      <td>17</td>\n",
       "      <td>Data sonification: Making music from the yield...</td>\n",
       "      <td>Mac Slocum</td>\n",
       "      <td>52</td>\n",
       "    </tr>\n",
       "    <tr>\n",
       "      <td>10</td>\n",
       "      <td>Delivering the enterprise data cloud</td>\n",
       "      <td>Mac Slocum</td>\n",
       "      <td>36</td>\n",
       "    </tr>\n",
       "    <tr>\n",
       "      <td>0</td>\n",
       "      <td>Radar trends to watch: October 2019</td>\n",
       "      <td>Mac Slocum</td>\n",
       "      <td>35</td>\n",
       "    </tr>\n",
       "    <tr>\n",
       "      <td>7</td>\n",
       "      <td>Four short links: 30 September 2019</td>\n",
       "      <td>Mac Slocum</td>\n",
       "      <td>35</td>\n",
       "    </tr>\n",
       "    <tr>\n",
       "      <td>9</td>\n",
       "      <td>Four short links: 27 September 2019</td>\n",
       "      <td>Mac Slocum</td>\n",
       "      <td>35</td>\n",
       "    </tr>\n",
       "    <tr>\n",
       "      <td>1</td>\n",
       "      <td>Four short links: 7 October 2019</td>\n",
       "      <td>jwebb@oreilly.com</td>\n",
       "      <td>32</td>\n",
       "    </tr>\n",
       "    <tr>\n",
       "      <td>5</td>\n",
       "      <td>Four short links: 1 October 2019</td>\n",
       "      <td>jwebb@oreilly.com</td>\n",
       "      <td>32</td>\n",
       "    </tr>\n",
       "    <tr>\n",
       "      <td>4</td>\n",
       "      <td>Four short links: 2 October 2019</td>\n",
       "      <td>jwebb@oreilly.com</td>\n",
       "      <td>32</td>\n",
       "    </tr>\n",
       "    <tr>\n",
       "      <td>3</td>\n",
       "      <td>Four short links: 3 October 2019</td>\n",
       "      <td>jwebb@oreilly.com</td>\n",
       "      <td>32</td>\n",
       "    </tr>\n",
       "    <tr>\n",
       "      <td>2</td>\n",
       "      <td>Four short links: 4 October 2019</td>\n",
       "      <td>jwebb@oreilly.com</td>\n",
       "      <td>32</td>\n",
       "    </tr>\n",
       "    <tr>\n",
       "      <td>15</td>\n",
       "      <td>Strata Data Awards winners 2019</td>\n",
       "      <td>Mac Slocum</td>\n",
       "      <td>31</td>\n",
       "    </tr>\n",
       "    <tr>\n",
       "      <td>16</td>\n",
       "      <td>Staying safe in the AI era</td>\n",
       "      <td>Mac Slocum</td>\n",
       "      <td>26</td>\n",
       "    </tr>\n",
       "  </tbody>\n",
       "</table>\n",
       "</div>"
      ],
      "text/plain": [
       "                                                title             author  \\\n",
       "11  Data Science Pioneers: Conquering the next fro...         Mac Slocum   \n",
       "13  Say what? The ethical challenges of designing ...         Mac Slocum   \n",
       "6   TinyML: The challenges and opportunities of lo...         Mac Slocum   \n",
       "14  RL in real life: Bringing reinforcement learni...         Mac Slocum   \n",
       "8   Highlights from the Strata Data Conference in ...         Mac Slocum   \n",
       "12  Postrevolutionary big data: Promoting the gene...         Mac Slocum   \n",
       "17  Data sonification: Making music from the yield...         Mac Slocum   \n",
       "10               Delivering the enterprise data cloud         Mac Slocum   \n",
       "0                 Radar trends to watch: October 2019         Mac Slocum   \n",
       "7                 Four short links: 30 September 2019         Mac Slocum   \n",
       "9                 Four short links: 27 September 2019         Mac Slocum   \n",
       "1                    Four short links: 7 October 2019  jwebb@oreilly.com   \n",
       "5                    Four short links: 1 October 2019  jwebb@oreilly.com   \n",
       "4                    Four short links: 2 October 2019  jwebb@oreilly.com   \n",
       "3                    Four short links: 3 October 2019  jwebb@oreilly.com   \n",
       "2                    Four short links: 4 October 2019  jwebb@oreilly.com   \n",
       "15                    Strata Data Awards winners 2019         Mac Slocum   \n",
       "16                         Staying safe in the AI era         Mac Slocum   \n",
       "\n",
       "    Title lenght  \n",
       "11           107  \n",
       "13            71  \n",
       "6             69  \n",
       "14            66  \n",
       "8             59  \n",
       "12            57  \n",
       "17            52  \n",
       "10            36  \n",
       "0             35  \n",
       "7             35  \n",
       "9             35  \n",
       "1             32  \n",
       "5             32  \n",
       "4             32  \n",
       "3             32  \n",
       "2             32  \n",
       "15            31  \n",
       "16            26  "
      ]
     },
     "execution_count": 38,
     "metadata": {},
     "output_type": "execute_result"
    }
   ],
   "source": [
    "count_tit=[]\n",
    "for element in df['title']:\n",
    "    x=(len(element))\n",
    "    count_tit.append(x)\n",
    "\n",
    "df['Title lenght']=count_tit\n",
    "df_count= df[['title','author','Title lenght']]\n",
    "df_count.sort_values(by=['Title lenght'],ascending=False)"
   ]
  },
  {
   "cell_type": "markdown",
   "metadata": {},
   "source": [
    "### 12. Create a list of entry titles whose summary includes the phrase \"machine learning.\""
   ]
  },
  {
   "cell_type": "code",
   "execution_count": 43,
   "metadata": {},
   "outputs": [
    {
     "name": "stdout",
     "output_type": "stream",
     "text": [
      "['Pete Warden has an ambitious goal: he wants to build machine learning (ML) applications that can run on a microcontroller for a year using only a hearing aid battery for power. This goal means that the system&#8217;s power consumption has to be under a milliwatt, ideally a few tens of microwatts. This power level places [&#8230;]']\n"
     ]
    }
   ],
   "source": [
    "mac=[]\n",
    "for element in df['summary']:\n",
    "    if re.search(r'machine learning', element):\n",
    "        mac.append(element)\n",
    "print(mac)"
   ]
  }
 ],
 "metadata": {
  "kernelspec": {
   "display_name": "Python 3",
   "language": "python",
   "name": "python3"
  },
  "language_info": {
   "codemirror_mode": {
    "name": "ipython",
    "version": 3
   },
   "file_extension": ".py",
   "mimetype": "text/x-python",
   "name": "python",
   "nbconvert_exporter": "python",
   "pygments_lexer": "ipython3",
   "version": "3.7.4"
  }
 },
 "nbformat": 4,
 "nbformat_minor": 2
}
