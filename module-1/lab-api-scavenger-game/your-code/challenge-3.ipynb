{
 "cells": [
  {
   "cell_type": "markdown",
   "metadata": {},
   "source": [
    "Moved to Jupyter notebook for Challenge 3, just expecting to keep hitting the rate_limit otherwise"
   ]
  },
  {
   "cell_type": "code",
   "execution_count": 108,
   "metadata": {},
   "outputs": [],
   "source": [
    "# DEPENDENCIES\n",
    "from keyring import github_token\n",
    "import os\n",
    "# print(os.getcwd())\n",
    "import json\n",
    "import requests\n",
    "import pandas as pd\n",
    "from pandas.io.json import json_normalize\n",
    "\n",
    "pd.set_option('display.max_columns', None)\n",
    "\n",
    "github_session = requests.Session()\n",
    "github_session.auth = ('SamPoad', github_token)\n",
    "\n",
    "\n",
    "\n",
    "# RESOURCES\n",
    "# https://developer.github.com/v3/search/#search-repositories\n",
    "# up to 1,000 results per search\n",
    "# https://developer.github.com/v3/search/#constructing-a-search-query\n",
    "\n"
   ]
  },
  {
   "cell_type": "code",
   "execution_count": 16,
   "metadata": {},
   "outputs": [
    {
     "name": "stdout",
     "output_type": "stream",
     "text": [
      "{'resources': {'core': {'limit': 60, 'remaining': 0, 'reset': 1569974903}, 'search': {'limit': 10, 'remaining': 10, 'reset': 1569972165}, 'graphql': {'limit': 0, 'remaining': 0, 'reset': 1569975705}, 'integration_manifest': {'limit': 5000, 'remaining': 5000, 'reset': 1569975705}}, 'rate': {'limit': 60, 'remaining': 0, 'reset': 1569974903}}\n"
     ]
    }
   ],
   "source": [
    "rate_message = (requests.get('https://api.github.com/rate_limit')).json()\n",
    "print(rate_message)"
   ]
  },
  {
   "cell_type": "code",
   "execution_count": 2,
   "metadata": {},
   "outputs": [
    {
     "name": "stdout",
     "output_type": "stream",
     "text": [
      "0     .gitignore\n",
      "1          15024\n",
      "2          15534\n",
      "3          17020\n",
      "4          30351\n",
      "5          40303\n",
      "6          44639\n",
      "7          45525\n",
      "8          47222\n",
      "9          47830\n",
      "10         49418\n",
      "11         50896\n",
      "12         55417\n",
      "13         55685\n",
      "14         60224\n",
      "15         64880\n",
      "16         66032\n",
      "17         68848\n",
      "18         70751\n",
      "19         70985\n",
      "20         88596\n",
      "21         89046\n",
      "22         89338\n",
      "23         91701\n",
      "24         97881\n",
      "25         98750\n",
      "Name: name, dtype: object\n"
     ]
    }
   ],
   "source": [
    "# check to make sure I've got the right search query\n",
    "# url = 'https://api.github.com/search/repositories?q=stars:>=10000'\n",
    "# url = 'https://api.github.com/search/code?q=filename:scavenger+repo:ironhack-labs/data-labs'\n",
    "# url = 'https://api.github.com/search/code?q=filename:scavenger+org:ironhack-labs'\n",
    "# q=repo:ironhack-labs/data-labs/+filename:.scavengerhunt # not found\n",
    "# q=filename:.scavengerhunt+repo:ironhack-labs/data-labs/ # not found\n",
    "# q=repo:ironhack-labs/data-labs/+filename:scavengerhunt # not found\n",
    "# q=filename:scavengerhunt+in:repo:ironhack-labs/data-labs # not found\n",
    "# q=filename:scavengerhunt+repo:ironhack-labs/data-labs # not found\n",
    "# q=org:Ironhack-labs+repo:ironhack-labs/data-labs # not found\n",
    "# from terminal, attempted\n",
    "# curl -u SamPoad:\"my token string here\" \"https://api.github.com/Search/repositories/q=repo:ironhack-labs/data-labs\"\n",
    "# looks like the below is the better format to use?\n",
    "# https://api.github.com/Search/repositories?q=repo:ironhack-labs/data-labs\n",
    "# and still doesn't work\n",
    "# at least I know it CAN be done\n",
    "# https://api.github.com/search/repositories?q=stars:>=10000+language:go&sort=stars&order=desc\n",
    "# url = 'https://api.github.com/Search/repositories?q=scavengerhunt'\n",
    "# not even the above works\n",
    "# FINALLY found this file\n",
    "# https://api.github.com/search/code?q=scavenger+repo:ironhack-labs/data-labs\n",
    "# url = 'https://api.github.com/search/code?q=scavenger+repo:ironhack-labs/data-labs\n",
    "# https://developer.github.com/v3/repos/contents/#get-contents\n",
    "# https://api.github.com/search/repositories?q=repo:ironhack-labs/data-labs\n",
    "# https://github.com/ironhack-datalabs/scavenger\n",
    "# ^^^ This is the repo I should be looking in per the ReadMe, not ironhack-labs/data-labs.\n",
    "# GET /repos/:owner/:repo/contents/:path\n",
    "# https://api.github.com/repos/ironhack-datalabs/scavenger/contents/\n",
    "# ^^^ this seems to work. need to iterate through the subfolders?\n",
    "# https://api.github.com/repos/ironhack-datalabs/scavenger/contents/15024 is a subfolder,\n",
    "#     so for folder in url/contents/:\n",
    "#         if the filename contains 'scavenger':\n",
    "#             add it to a list\n",
    "# do the above with a nested for loop? \n",
    "\n",
    "# Ran the following in terminal so I could see the number of pages\n",
    "# curl -I \"https://api.github.com/repos/ironhack-datalabs/scavenger/contents\"\n",
    "# this returned without any pagination, which makes sense. the default response is 30 entries, and there's only 25 folders\n",
    "\n",
    "\n",
    "\n",
    "\n",
    "# Nested For Loop, actually doesn't need to be nested it I just pull out the value from key:value of name:foldername\n",
    "contents_url = 'https://api.github.com/repos/ironhack-datalabs/scavenger/contents'\n",
    "foldernames = []\n",
    "response = requests.get(contents_url)\n",
    "result = response.json()\n",
    "folder_dict = pd.DataFrame(result)\n",
    "print(folder_dict['name'])\n"
   ]
  },
  {
   "cell_type": "code",
   "execution_count": 18,
   "metadata": {},
   "outputs": [
    {
     "name": "stdout",
     "output_type": "stream",
     "text": [
      "                                              _links  \\\n",
      "0  {'self': 'https://api.github.com/repos/ironhac...   \n",
      "1  {'self': 'https://api.github.com/repos/ironhac...   \n",
      "2  {'self': 'https://api.github.com/repos/ironhac...   \n",
      "3  {'self': 'https://api.github.com/repos/ironhac...   \n",
      "4  {'self': 'https://api.github.com/repos/ironhac...   \n",
      "\n",
      "                                        download_url  \\\n",
      "0  https://raw.githubusercontent.com/ironhack-dat...   \n",
      "1                                               None   \n",
      "2                                               None   \n",
      "3                                               None   \n",
      "4                                               None   \n",
      "\n",
      "                                             git_url  \\\n",
      "0  https://api.github.com/repos/ironhack-datalabs...   \n",
      "1  https://api.github.com/repos/ironhack-datalabs...   \n",
      "2  https://api.github.com/repos/ironhack-datalabs...   \n",
      "3  https://api.github.com/repos/ironhack-datalabs...   \n",
      "4  https://api.github.com/repos/ironhack-datalabs...   \n",
      "\n",
      "                                            html_url        name        path  \\\n",
      "0  https://github.com/ironhack-datalabs/scavenger...  .gitignore  .gitignore   \n",
      "1  https://github.com/ironhack-datalabs/scavenger...       15024       15024   \n",
      "2  https://github.com/ironhack-datalabs/scavenger...       15534       15534   \n",
      "3  https://github.com/ironhack-datalabs/scavenger...       17020       17020   \n",
      "4  https://github.com/ironhack-datalabs/scavenger...       30351       30351   \n",
      "\n",
      "                                        sha  size  type  \\\n",
      "0  e43b0f988953ae3a84b00331d0ccf5f7d51cb3cf    10  file   \n",
      "1  2945e51c87ad5da893c954afcf092f06343bbb7d     0   dir   \n",
      "2  5af6f2a7287e4191f39e55693fc1e9c8918d1d3a     0   dir   \n",
      "3  9c49f920aa4d9433fa99a5824128f0e6b90ec5f2     0   dir   \n",
      "4  c488d7f64088c852e22067d48fdc64ee3670f3ba     0   dir   \n",
      "\n",
      "                                                 url  \n",
      "0  https://api.github.com/repos/ironhack-datalabs...  \n",
      "1  https://api.github.com/repos/ironhack-datalabs...  \n",
      "2  https://api.github.com/repos/ironhack-datalabs...  \n",
      "3  https://api.github.com/repos/ironhack-datalabs...  \n",
      "4  https://api.github.com/repos/ironhack-datalabs...  \n"
     ]
    }
   ],
   "source": [
    "for i in folder_dict['name']: # for each folder in the scavenger repo\n",
    "    sub_url = f'https://api.github.com/repos/ironhack-datalabs/scavenger/contents/{i}' # use the api to open that folder\n",
    "    for file in sub_url: #for each file within the sub-url (NOPE determined this is reading as \"for each character in the URL string\")\n",
    "        sub_url2 = f'https://api.github.com/repos/ironhack-datalabs/scavenger/contents/{i}/{file}'\n",
    "        response2 = requests.get(sub_url2) # if that filename has \"scavenger\" in it\n",
    "        result2 = response2.json()   \n",
    "        scav_files_df = pd.DataFrame(result) # throw it in a dataframe\n",
    "\n"
   ]
  },
  {
   "cell_type": "code",
   "execution_count": 22,
   "metadata": {
    "scrolled": true
   },
   "outputs": [
    {
     "name": "stdout",
     "output_type": "stream",
     "text": [
      "_links          object\n",
      "download_url    object\n",
      "git_url         object\n",
      "html_url        object\n",
      "name            object\n",
      "path            object\n",
      "sha             object\n",
      "size             int64\n",
      "type            object\n",
      "url             object\n",
      "dtype: object\n"
     ]
    }
   ],
   "source": [
    "# print(scav_files_df.head())\n",
    "print(scav_files_df.dtypes)"
   ]
  },
  {
   "cell_type": "markdown",
   "metadata": {},
   "source": [
    "So we see from above that there is a download_url in the dataframe.\n",
    "probably my best bet to reading the files themselves.\n",
    "look up previous labwork that covered reading text\n"
   ]
  },
  {
   "cell_type": "code",
   "execution_count": 24,
   "metadata": {},
   "outputs": [
    {
     "name": "stdout",
     "output_type": "stream",
     "text": [
      "https://raw.githubusercontent.com/ironhack-datalabs/scavenger/master/.gitignore\n"
     ]
    }
   ],
   "source": [
    "print(scav_files_df['download_url'][0]) # or this is just the .gitignore file."
   ]
  },
  {
   "cell_type": "code",
   "execution_count": 26,
   "metadata": {},
   "outputs": [
    {
     "name": "stdout",
     "output_type": "stream",
     "text": [
      "{'self': 'https://api.github.com/repos/ironhack-datalabs/scavenger/contents/15024?ref=master', 'git': 'https://api.github.com/repos/ironhack-datalabs/scavenger/git/trees/2945e51c87ad5da893c954afcf092f06343bbb7d', 'html': 'https://github.com/ironhack-datalabs/scavenger/tree/master/15024'}\n"
     ]
    }
   ],
   "source": [
    "print(scav_files_df['_links'][1])"
   ]
  },
  {
   "cell_type": "code",
   "execution_count": 3,
   "metadata": {},
   "outputs": [
    {
     "name": "stdout",
     "output_type": "stream",
     "text": [
      "                                documentation_url  \\\n",
      "0  https://developer.github.com/v3/#rate-limiting   \n",
      "\n",
      "                                             message  \n",
      "0  API rate limit exceeded for 73.138.93.245. (Bu...  \n"
     ]
    }
   ],
   "source": [
    "for folder in folder_dict['name']: # for each folder in the scavenger repo\n",
    "    sub_url = f'https://api.github.com/repos/ironhack-datalabs/scavenger/contents/{folder}' # use the api to open that folder\n",
    "    for file in requests.get(sub_url): #for each file within the sub-url\n",
    "        sub_url2 = f'https://api.github.com/repos/ironhack-datalabs/scavenger/contents/{folder}/{file}'\n",
    "#         print(file[\"name\"]) returns as a byte\n",
    "        response2 = requests.get(sub_url2) # if that filename has \"scavenger\" in it\n",
    "        result2 = response2.json()\n",
    "        flat_result2 = json_normalize(result2)\n",
    "#         scav_files_df = pd.DataFrame(result2) # throw it in a dataframe\n",
    "print(flat_result2)\n",
    "# this method results in the API rate limit getting hit. need to refactor.\n",
    "# try and instead only Call/grab the files with scavenger"
   ]
  },
  {
   "cell_type": "code",
   "execution_count": 32,
   "metadata": {},
   "outputs": [
    {
     "name": "stdout",
     "output_type": "stream",
     "text": [
      "0     .gitignore\n",
      "1          15024\n",
      "2          15534\n",
      "3          17020\n",
      "4          30351\n",
      "5          40303\n",
      "6          44639\n",
      "7          45525\n",
      "8          47222\n",
      "9          47830\n",
      "10         49418\n",
      "11         50896\n",
      "12         55417\n",
      "13         55685\n",
      "14         60224\n",
      "15         64880\n",
      "16         66032\n",
      "17         68848\n",
      "18         70751\n",
      "19         70985\n",
      "20         88596\n",
      "21         89046\n",
      "22         89338\n",
      "23         91701\n",
      "24         97881\n",
      "25         98750\n",
      "Name: name, dtype: object\n"
     ]
    }
   ],
   "source": [
    "print(scav_files_df.dtypes)\n",
    "# print(scav_files_df['name'])"
   ]
  },
  {
   "cell_type": "code",
   "execution_count": null,
   "metadata": {},
   "outputs": [],
   "source": [
    "# Scrapped this\n",
    "# to try and pull in all the files? \n",
    "for i in range(.0001, .0024):\n",
    "    url = f'https://api.github.com/Search/repositories/q=repo:ironhack-labs/data-labs/filename:{i}.scavengerhunt'\n",
    "    response = requests.get(url)\n",
    "    result = pd.read_json(response.json())\n",
    "    result2.append(result)\n",
    "print(result2)"
   ]
  },
  {
   "cell_type": "markdown",
   "metadata": {},
   "source": [
    "so far, I have that I need to loop through \n",
    "the raw.github url like this one\n",
    "https://raw.githubusercontent.com/ironhack-datalabs/scavenger/master/15024/.0006.scavengerhunt\n",
    "so that I can have the system READ and store the data of the scavengerhunt files.\n",
    "\n",
    "i'm stuck on getting to that point, still held up on using the API to get exactly what I want as a dictionary.\n",
    "latest attempt is to flatten it for easier retrieval of the raw.github URLs"
   ]
  },
  {
   "cell_type": "code",
   "execution_count": 12,
   "metadata": {},
   "outputs": [
    {
     "name": "stdout",
     "output_type": "stream",
     "text": [
      "/Users/sampoad/Documents/Ironhack/data-labs/module-1/lab-api-scavenger-game/your-code\n",
      "['.gitignore', '15024', '15534', '17020', '30351', '40303', '44639', '45525', '47222', '47830', '49418', '50896', '55417', '55685', '60224', '64880', '66032', '68848', '70751', '70985', '88596', '89046', '89338', '91701', '97881', '98750']\n"
     ]
    }
   ],
   "source": [
    "# in class, working with Ani\n",
    "import os\n",
    "cwd = os.getcwd()\n",
    "print(cwd)\n",
    "output_df = pd.read_json(\"output.json\")\n",
    "# print(output_df.head())\n",
    "# data = pd.DataFrame(response.json())\n",
    "\n"
   ]
  },
  {
   "cell_type": "code",
   "execution_count": 68,
   "metadata": {},
   "outputs": [],
   "source": [
    "repo_files = pd.DataFrame(columns=flattened_data.columns)"
   ]
  },
  {
   "cell_type": "code",
   "execution_count": 69,
   "metadata": {},
   "outputs": [
    {
     "data": {
      "text/html": [
       "<div>\n",
       "<style scoped>\n",
       "    .dataframe tbody tr th:only-of-type {\n",
       "        vertical-align: middle;\n",
       "    }\n",
       "\n",
       "    .dataframe tbody tr th {\n",
       "        vertical-align: top;\n",
       "    }\n",
       "\n",
       "    .dataframe thead th {\n",
       "        text-align: right;\n",
       "    }\n",
       "</style>\n",
       "<table border=\"1\" class=\"dataframe\">\n",
       "  <thead>\n",
       "    <tr style=\"text-align: right;\">\n",
       "      <th></th>\n",
       "      <th>_links.git</th>\n",
       "      <th>_links.html</th>\n",
       "      <th>_links.self</th>\n",
       "      <th>content</th>\n",
       "      <th>download_url</th>\n",
       "      <th>encoding</th>\n",
       "      <th>git_url</th>\n",
       "      <th>html_url</th>\n",
       "      <th>name</th>\n",
       "      <th>path</th>\n",
       "      <th>sha</th>\n",
       "      <th>size</th>\n",
       "      <th>type</th>\n",
       "      <th>url</th>\n",
       "    </tr>\n",
       "  </thead>\n",
       "  <tbody>\n",
       "    <tr>\n",
       "      <th>0</th>\n",
       "      <td>https://api.github.com/repos/ironhack-datalabs...</td>\n",
       "      <td>https://github.com/ironhack-datalabs/scavenger...</td>\n",
       "      <td>https://api.github.com/repos/ironhack-datalabs...</td>\n",
       "      <td>LkRTX1N0b3JlCg==\\n</td>\n",
       "      <td>https://raw.githubusercontent.com/ironhack-dat...</td>\n",
       "      <td>base64</td>\n",
       "      <td>https://api.github.com/repos/ironhack-datalabs...</td>\n",
       "      <td>https://github.com/ironhack-datalabs/scavenger...</td>\n",
       "      <td>.gitignore</td>\n",
       "      <td>.gitignore</td>\n",
       "      <td>e43b0f988953ae3a84b00331d0ccf5f7d51cb3cf</td>\n",
       "      <td>10</td>\n",
       "      <td>file</td>\n",
       "      <td>https://api.github.com/repos/ironhack-datalabs...</td>\n",
       "    </tr>\n",
       "  </tbody>\n",
       "</table>\n",
       "</div>"
      ],
      "text/plain": [
       "                                          _links.git  \\\n",
       "0  https://api.github.com/repos/ironhack-datalabs...   \n",
       "\n",
       "                                         _links.html  \\\n",
       "0  https://github.com/ironhack-datalabs/scavenger...   \n",
       "\n",
       "                                         _links.self             content  \\\n",
       "0  https://api.github.com/repos/ironhack-datalabs...  LkRTX1N0b3JlCg==\\n   \n",
       "\n",
       "                                        download_url encoding  \\\n",
       "0  https://raw.githubusercontent.com/ironhack-dat...   base64   \n",
       "\n",
       "                                             git_url  \\\n",
       "0  https://api.github.com/repos/ironhack-datalabs...   \n",
       "\n",
       "                                            html_url        name        path  \\\n",
       "0  https://github.com/ironhack-datalabs/scavenger...  .gitignore  .gitignore   \n",
       "\n",
       "                                        sha  size  type  \\\n",
       "0  e43b0f988953ae3a84b00331d0ccf5f7d51cb3cf    10  file   \n",
       "\n",
       "                                                 url  \n",
       "0  https://api.github.com/repos/ironhack-datalabs...  "
      ]
     },
     "execution_count": 69,
     "metadata": {},
     "output_type": "execute_result"
    }
   ],
   "source": [
    "flattened_data"
   ]
  },
  {
   "cell_type": "code",
   "execution_count": 72,
   "metadata": {},
   "outputs": [
    {
     "data": {
      "text/html": [
       "<div>\n",
       "<style scoped>\n",
       "    .dataframe tbody tr th:only-of-type {\n",
       "        vertical-align: middle;\n",
       "    }\n",
       "\n",
       "    .dataframe tbody tr th {\n",
       "        vertical-align: top;\n",
       "    }\n",
       "\n",
       "    .dataframe thead th {\n",
       "        text-align: right;\n",
       "    }\n",
       "</style>\n",
       "<table border=\"1\" class=\"dataframe\">\n",
       "  <thead>\n",
       "    <tr style=\"text-align: right;\">\n",
       "      <th></th>\n",
       "      <th>_links.git</th>\n",
       "      <th>_links.html</th>\n",
       "      <th>_links.self</th>\n",
       "      <th>content</th>\n",
       "      <th>download_url</th>\n",
       "      <th>encoding</th>\n",
       "      <th>git_url</th>\n",
       "      <th>html_url</th>\n",
       "      <th>name</th>\n",
       "      <th>path</th>\n",
       "      <th>sha</th>\n",
       "      <th>size</th>\n",
       "      <th>type</th>\n",
       "      <th>url</th>\n",
       "    </tr>\n",
       "  </thead>\n",
       "  <tbody>\n",
       "    <tr>\n",
       "      <th>0</th>\n",
       "      <td>https://api.github.com/repos/ironhack-datalabs...</td>\n",
       "      <td>https://github.com/ironhack-datalabs/scavenger...</td>\n",
       "      <td>https://api.github.com/repos/ironhack-datalabs...</td>\n",
       "      <td>LkRTX1N0b3JlCg==\\n</td>\n",
       "      <td>https://raw.githubusercontent.com/ironhack-dat...</td>\n",
       "      <td>base64</td>\n",
       "      <td>https://api.github.com/repos/ironhack-datalabs...</td>\n",
       "      <td>https://github.com/ironhack-datalabs/scavenger...</td>\n",
       "      <td>.gitignore</td>\n",
       "      <td>.gitignore</td>\n",
       "      <td>e43b0f988953ae3a84b00331d0ccf5f7d51cb3cf</td>\n",
       "      <td>10</td>\n",
       "      <td>file</td>\n",
       "      <td>https://api.github.com/repos/ironhack-datalabs...</td>\n",
       "    </tr>\n",
       "  </tbody>\n",
       "</table>\n",
       "</div>"
      ],
      "text/plain": [
       "                                          _links.git  \\\n",
       "0  https://api.github.com/repos/ironhack-datalabs...   \n",
       "\n",
       "                                         _links.html  \\\n",
       "0  https://github.com/ironhack-datalabs/scavenger...   \n",
       "\n",
       "                                         _links.self             content  \\\n",
       "0  https://api.github.com/repos/ironhack-datalabs...  LkRTX1N0b3JlCg==\\n   \n",
       "\n",
       "                                        download_url encoding  \\\n",
       "0  https://raw.githubusercontent.com/ironhack-dat...   base64   \n",
       "\n",
       "                                             git_url  \\\n",
       "0  https://api.github.com/repos/ironhack-datalabs...   \n",
       "\n",
       "                                            html_url        name        path  \\\n",
       "0  https://github.com/ironhack-datalabs/scavenger...  .gitignore  .gitignore   \n",
       "\n",
       "                                        sha size  type  \\\n",
       "0  e43b0f988953ae3a84b00331d0ccf5f7d51cb3cf   10  file   \n",
       "\n",
       "                                                 url  \n",
       "0  https://api.github.com/repos/ironhack-datalabs...  "
      ]
     },
     "execution_count": 72,
     "metadata": {},
     "output_type": "execute_result"
    }
   ],
   "source": [
    "pd.concat([repo_files,flattened_data])"
   ]
  },
  {
   "cell_type": "code",
   "execution_count": 100,
   "metadata": {},
   "outputs": [
    {
     "name": "stdout",
     "output_type": "stream",
     "text": [
      "                                          _links.git  \\\n",
      "0  https://api.github.com/repos/ironhack-datalabs...   \n",
      "0  https://api.github.com/repos/ironhack-datalabs...   \n",
      "1  https://api.github.com/repos/ironhack-datalabs...   \n",
      "2  https://api.github.com/repos/ironhack-datalabs...   \n",
      "3  https://api.github.com/repos/ironhack-datalabs...   \n",
      "\n",
      "                                         _links.html  \\\n",
      "0  https://github.com/ironhack-datalabs/scavenger...   \n",
      "0  https://github.com/ironhack-datalabs/scavenger...   \n",
      "1  https://github.com/ironhack-datalabs/scavenger...   \n",
      "2  https://github.com/ironhack-datalabs/scavenger...   \n",
      "3  https://github.com/ironhack-datalabs/scavenger...   \n",
      "\n",
      "                                         _links.self             content  \\\n",
      "0  https://api.github.com/repos/ironhack-datalabs...  LkRTX1N0b3JlCg==\\n   \n",
      "0  https://api.github.com/repos/ironhack-datalabs...                 NaN   \n",
      "1  https://api.github.com/repos/ironhack-datalabs...                 NaN   \n",
      "2  https://api.github.com/repos/ironhack-datalabs...                 NaN   \n",
      "3  https://api.github.com/repos/ironhack-datalabs...                 NaN   \n",
      "\n",
      "                                        download_url encoding  \\\n",
      "0  https://raw.githubusercontent.com/ironhack-dat...   base64   \n",
      "0  https://raw.githubusercontent.com/ironhack-dat...      NaN   \n",
      "1  https://raw.githubusercontent.com/ironhack-dat...      NaN   \n",
      "2  https://raw.githubusercontent.com/ironhack-dat...      NaN   \n",
      "3  https://raw.githubusercontent.com/ironhack-dat...      NaN   \n",
      "\n",
      "                                             git_url  \\\n",
      "0  https://api.github.com/repos/ironhack-datalabs...   \n",
      "0  https://api.github.com/repos/ironhack-datalabs...   \n",
      "1  https://api.github.com/repos/ironhack-datalabs...   \n",
      "2  https://api.github.com/repos/ironhack-datalabs...   \n",
      "3  https://api.github.com/repos/ironhack-datalabs...   \n",
      "\n",
      "                                            html_url                 name  \\\n",
      "0  https://github.com/ironhack-datalabs/scavenger...           .gitignore   \n",
      "0  https://github.com/ironhack-datalabs/scavenger...  .0006.scavengerhunt   \n",
      "1  https://github.com/ironhack-datalabs/scavenger...                   40   \n",
      "2  https://github.com/ironhack-datalabs/scavenger...                   74   \n",
      "3  https://github.com/ironhack-datalabs/scavenger...                   99   \n",
      "\n",
      "                        path                                       sha  size  \\\n",
      "0                 .gitignore  e43b0f988953ae3a84b00331d0ccf5f7d51cb3cf    10   \n",
      "0  15024/.0006.scavengerhunt  1c9064284a24b3486015eafdb391b141c27ada2b     3   \n",
      "1                   15024/40  e69de29bb2d1d6434b8b29ae775ad8c2e48c5391     0   \n",
      "2                   15024/74  e69de29bb2d1d6434b8b29ae775ad8c2e48c5391     0   \n",
      "3                   15024/99  e69de29bb2d1d6434b8b29ae775ad8c2e48c5391     0   \n",
      "\n",
      "   type                                                url  \n",
      "0  file  https://api.github.com/repos/ironhack-datalabs...  \n",
      "0  file  https://api.github.com/repos/ironhack-datalabs...  \n",
      "1  file  https://api.github.com/repos/ironhack-datalabs...  \n",
      "2  file  https://api.github.com/repos/ironhack-datalabs...  \n",
      "3  file  https://api.github.com/repos/ironhack-datalabs...  \n"
     ]
    },
    {
     "data": {
      "text/plain": [
       "\"\\nsubset the results dataframe (after turning it into a dataframe)\\nwith only the filenames that have 'scavengerhunt' in them\\n\\nthen call the api to retrieve the Contents of those individual ~25 files,\\nappend it to a list,\\nconcat that list\\n\""
      ]
     },
     "execution_count": 100,
     "metadata": {},
     "output_type": "execute_result"
    }
   ],
   "source": [
    "'''\n",
    "does this need to be flattened?\n",
    "for each folder in name column:\n",
    "    read the filenames in the folder\n",
    "    if scavengerhunt is in filename:\n",
    "        read the file\n",
    "        append the contents to a list\n",
    "        \n",
    "eventually concat the list\n",
    "'''\n",
    "\n",
    "# print(list(output_df['name']))\n",
    "\n",
    "# repo_files = pd.DataFrame(columns=flattened_data.columns)\n",
    "repo_files = []\n",
    "for foldername in output_df['name']:\n",
    "    url = f'https://api.github.com/repos/ironhack-datalabs/scavenger/contents/{foldername}'\n",
    "    response = requests.get(url, auth = github_session.auth)\n",
    "    result = response.json()\n",
    "    flattened_data = json_normalize(result)\n",
    "    repo_files.append(flattened_data)\n",
    "\n",
    "repo_df = pd.concat(repo_files, sort=False)\n",
    "print(repo_df.head())\n",
    "\n",
    "\n",
    "\n",
    "\n",
    "\n",
    "\n",
    "'''\n",
    "subset the results dataframe (after turning it into a dataframe)\n",
    "with only the filenames that have 'scavengerhunt' in them\n",
    "\n",
    "then call the api to retrieve the Contents of those individual ~25 files,\n",
    "append it to a list,\n",
    "concat that list\n",
    "'''\n",
    "# unless we can figure out how to call the API and say for each folder give me all the files in a repo.\n",
    "\n",
    "# flattened_data"
   ]
  },
  {
   "cell_type": "code",
   "execution_count": 104,
   "metadata": {},
   "outputs": [
    {
     "name": "stdout",
     "output_type": "stream",
     "text": [
      "                                          _links.git  \\\n",
      "0  https://api.github.com/repos/ironhack-datalabs...   \n",
      "0  https://api.github.com/repos/ironhack-datalabs...   \n",
      "1  https://api.github.com/repos/ironhack-datalabs...   \n",
      "0  https://api.github.com/repos/ironhack-datalabs...   \n",
      "0  https://api.github.com/repos/ironhack-datalabs...   \n",
      "\n",
      "                                         _links.html  \\\n",
      "0  https://github.com/ironhack-datalabs/scavenger...   \n",
      "0  https://github.com/ironhack-datalabs/scavenger...   \n",
      "1  https://github.com/ironhack-datalabs/scavenger...   \n",
      "0  https://github.com/ironhack-datalabs/scavenger...   \n",
      "0  https://github.com/ironhack-datalabs/scavenger...   \n",
      "\n",
      "                                         _links.self content  \\\n",
      "0  https://api.github.com/repos/ironhack-datalabs...     NaN   \n",
      "0  https://api.github.com/repos/ironhack-datalabs...     NaN   \n",
      "1  https://api.github.com/repos/ironhack-datalabs...     NaN   \n",
      "0  https://api.github.com/repos/ironhack-datalabs...     NaN   \n",
      "0  https://api.github.com/repos/ironhack-datalabs...     NaN   \n",
      "\n",
      "                                        download_url encoding  \\\n",
      "0  https://raw.githubusercontent.com/ironhack-dat...      NaN   \n",
      "0  https://raw.githubusercontent.com/ironhack-dat...      NaN   \n",
      "1  https://raw.githubusercontent.com/ironhack-dat...      NaN   \n",
      "0  https://raw.githubusercontent.com/ironhack-dat...      NaN   \n",
      "0  https://raw.githubusercontent.com/ironhack-dat...      NaN   \n",
      "\n",
      "                                             git_url  \\\n",
      "0  https://api.github.com/repos/ironhack-datalabs...   \n",
      "0  https://api.github.com/repos/ironhack-datalabs...   \n",
      "1  https://api.github.com/repos/ironhack-datalabs...   \n",
      "0  https://api.github.com/repos/ironhack-datalabs...   \n",
      "0  https://api.github.com/repos/ironhack-datalabs...   \n",
      "\n",
      "                                            html_url                 name  \\\n",
      "0  https://github.com/ironhack-datalabs/scavenger...  .0006.scavengerhunt   \n",
      "0  https://github.com/ironhack-datalabs/scavenger...  .0008.scavengerhunt   \n",
      "1  https://github.com/ironhack-datalabs/scavenger...  .0012.scavengerhunt   \n",
      "0  https://github.com/ironhack-datalabs/scavenger...  .0007.scavengerhunt   \n",
      "0  https://github.com/ironhack-datalabs/scavenger...  .0021.scavengerhunt   \n",
      "\n",
      "                        path                                       sha  size  \\\n",
      "0  15024/.0006.scavengerhunt  1c9064284a24b3486015eafdb391b141c27ada2b     3   \n",
      "0  15534/.0008.scavengerhunt  e351fb73264581ce26504b97ef07daea35116f32     6   \n",
      "1  15534/.0012.scavengerhunt  209e3ef4b6247ce746048d5711befda46206d235     3   \n",
      "0  17020/.0007.scavengerhunt  6abb415e0ae3450be0f323113bcca2af195ebbff     5   \n",
      "0  30351/.0021.scavengerhunt  fb828e4a926b0a84fc16111fc0ee3eeec41f0ce7     5   \n",
      "\n",
      "   type                                                url  \n",
      "0  file  https://api.github.com/repos/ironhack-datalabs...  \n",
      "0  file  https://api.github.com/repos/ironhack-datalabs...  \n",
      "1  file  https://api.github.com/repos/ironhack-datalabs...  \n",
      "0  file  https://api.github.com/repos/ironhack-datalabs...  \n",
      "0  file  https://api.github.com/repos/ironhack-datalabs...  \n"
     ]
    }
   ],
   "source": [
    "# repo_df = pd.DataFrame(repo_files, )\n",
    "# flat_repo = json_normalize(repo_files)\n",
    "# print(flat_repo)\n",
    "# add the flat repo folders into a dataframe\n",
    "# subset that dataframe to just the folders\n",
    "\n",
    "# pd.set_option('display.max_columns', None)\n",
    "# print(repo_df)\n",
    "# repo_df = repo_files[\n",
    "#     repo_files['name'] == '*.scavengerhunt'\n",
    "# ]\n",
    "# print(repo_df)\n",
    "\n",
    "repo_df2 = repo_df[repo_df['size'] > 0]\n",
    "repo_df3 = repo_df2[repo_df2['name'] != '.gitignore']\n",
    "print(repo_df3.head())\n",
    "\n",
    "\n",
    "# repo_df3 = pd.DataFrame(columns=repo_df2.columns)\n",
    "# for row in repo_df2['name']:\n",
    "# #     if row.contains('scavengerhunt'):\n",
    "#     if '.scavengerhunt' in row:\n",
    "#         repo_df3 = pd.concat([repo_df3, repo_df2['name']])\n",
    "\n",
    "# # print(repo_df2)\n",
    "# print(repo_df3)\n",
    "\n",
    "# a['Names'].str.contains('Mel')\n",
    "\n",
    "\n",
    "\n",
    "\n"
   ]
  },
  {
   "cell_type": "code",
   "execution_count": 99,
   "metadata": {},
   "outputs": [],
   "source": [
    "# scav_text = []\n",
    "# for foldername in repo_df2['name']:\n",
    "#     for number in [.0001, .0002, .0003]:\n",
    "#         url = f'https://github.com/repos/ironhack-datalabs/scavenger/blob/master/{foldername}/{number}.scavengerhunt/'\n",
    "#         response = pd.read_json(url)\n",
    "#         scav_text.append(response)\n",
    "# print(scav_text)\n"
   ]
  },
  {
   "cell_type": "code",
   "execution_count": null,
   "metadata": {},
   "outputs": [],
   "source": [
    "# scav_text = []\n",
    "# for foldername in output_df['name']:\n",
    "#     for filename in repo_df2['name']:\n",
    "#         url = f'https://api.github.com/repos/ironhack-datalabs/scavenger/blob/master/{foldername}/{filename}.scavengerhunt/'\n",
    "#         response = pd.read_json(url)\n",
    "#         scav_text.append(response)"
   ]
  },
  {
   "cell_type": "code",
   "execution_count": null,
   "metadata": {},
   "outputs": [],
   "source": [
    "# https://raw.githubusercontent.com/ironhack-datalabs/scavenger/master/15024/.0006.scavengerhunt\n",
    "\n"
   ]
  },
  {
   "cell_type": "code",
   "execution_count": 105,
   "metadata": {},
   "outputs": [
    {
     "name": "stdout",
     "output_type": "stream",
     "text": [
      "['_links.git', '_links.html', '_links.self', 'content', 'download_url', 'encoding', 'git_url', 'html_url', 'name', 'path', 'sha', 'size', 'type', 'url']\n"
     ]
    }
   ],
   "source": [
    "print(list(repo_df3))"
   ]
  },
  {
   "cell_type": "code",
   "execution_count": 145,
   "metadata": {},
   "outputs": [
    {
     "name": "stdout",
     "output_type": "stream",
     "text": [
      "                                          _links.git  \\\n",
      "0  https://api.github.com/repos/ironhack-datalabs...   \n",
      "0  https://api.github.com/repos/ironhack-datalabs...   \n",
      "0  https://api.github.com/repos/ironhack-datalabs...   \n",
      "0  https://api.github.com/repos/ironhack-datalabs...   \n",
      "0  https://api.github.com/repos/ironhack-datalabs...   \n",
      "\n",
      "                                         _links.html  \\\n",
      "0  https://github.com/ironhack-datalabs/scavenger...   \n",
      "0  https://github.com/ironhack-datalabs/scavenger...   \n",
      "0  https://github.com/ironhack-datalabs/scavenger...   \n",
      "0  https://github.com/ironhack-datalabs/scavenger...   \n",
      "0  https://github.com/ironhack-datalabs/scavenger...   \n",
      "\n",
      "                                         _links.self content  \\\n",
      "0  https://api.github.com/repos/ironhack-datalabs...     NaN   \n",
      "0  https://api.github.com/repos/ironhack-datalabs...     NaN   \n",
      "0  https://api.github.com/repos/ironhack-datalabs...     NaN   \n",
      "0  https://api.github.com/repos/ironhack-datalabs...     NaN   \n",
      "0  https://api.github.com/repos/ironhack-datalabs...     NaN   \n",
      "\n",
      "                                        download_url encoding  \\\n",
      "0  https://raw.githubusercontent.com/ironhack-dat...      NaN   \n",
      "0  https://raw.githubusercontent.com/ironhack-dat...      NaN   \n",
      "0  https://raw.githubusercontent.com/ironhack-dat...      NaN   \n",
      "0  https://raw.githubusercontent.com/ironhack-dat...      NaN   \n",
      "0  https://raw.githubusercontent.com/ironhack-dat...      NaN   \n",
      "\n",
      "                                             git_url  \\\n",
      "0  https://api.github.com/repos/ironhack-datalabs...   \n",
      "0  https://api.github.com/repos/ironhack-datalabs...   \n",
      "0  https://api.github.com/repos/ironhack-datalabs...   \n",
      "0  https://api.github.com/repos/ironhack-datalabs...   \n",
      "0  https://api.github.com/repos/ironhack-datalabs...   \n",
      "\n",
      "                                            html_url                 name  \\\n",
      "0  https://github.com/ironhack-datalabs/scavenger...  .0001.scavengerhunt   \n",
      "0  https://github.com/ironhack-datalabs/scavenger...  .0002.scavengerhunt   \n",
      "0  https://github.com/ironhack-datalabs/scavenger...  .0003.scavengerhunt   \n",
      "0  https://github.com/ironhack-datalabs/scavenger...  .0004.scavengerhunt   \n",
      "0  https://github.com/ironhack-datalabs/scavenger...  .0005.scavengerhunt   \n",
      "\n",
      "                        path                                       sha  size  \\\n",
      "0  98750/.0001.scavengerhunt  2add7632f1323136324efbf38ec66db1838b6173     3   \n",
      "0  88596/.0002.scavengerhunt  1269488f7fb1f4b56a8c0e5eb48cecbfadfa9219     5   \n",
      "0  60224/.0003.scavengerhunt  ba524d7abc4b3a0c0995eb85c9eef470e9e7172f     9   \n",
      "0  68848/.0004.scavengerhunt  d15a2cc44e31b14c65264271b81072e5ba0e1634     3   \n",
      "0  44639/.0005.scavengerhunt  3aaf448b40f878cf3067e2323616143bdde600de     8   \n",
      "\n",
      "   type                                                url  \n",
      "0  file  https://api.github.com/repos/ironhack-datalabs...  \n",
      "0  file  https://api.github.com/repos/ironhack-datalabs...  \n",
      "0  file  https://api.github.com/repos/ironhack-datalabs...  \n",
      "0  file  https://api.github.com/repos/ironhack-datalabs...  \n",
      "0  file  https://api.github.com/repos/ironhack-datalabs...  \n"
     ]
    }
   ],
   "source": [
    "# repo_df3 = repo_df3[repo_df3['name'].sort_values()]\n",
    "# dfObj = dfObj.sort_values(by ='Name' )\n",
    "repo_df4 = repo_df3.sort_values(by = 'name')\n",
    "\n",
    "\n",
    "print(repo_df4.head())"
   ]
  },
  {
   "cell_type": "code",
   "execution_count": 147,
   "metadata": {},
   "outputs": [
    {
     "name": "stdout",
     "output_type": "stream",
     "text": [
      "['In\\n', 'data\\n', 'science,\\n', '80\\n', 'percent\\n', 'of\\n', 'time\\n', 'spent\\n', 'is\\n', 'preparing\\n', 'data,\\n', '20\\n', 'percent\\n', 'of\\n', 'time\\n', 'is\\n', 'spent\\n', 'complaining\\n', 'about\\n', 'the\\n', 'need\\n', 'to\\n', 'prepare\\n', 'data.\\n']\n"
     ]
    }
   ],
   "source": [
    "# print(repo_df3['download_url'])\n",
    "\n",
    "\n",
    "\n",
    "# need to sort my columns so that the download urls are read in order\n",
    "# import base64\n",
    "\n",
    "# url = https://raw.githubusercontent.com/ironhack-datalabs/scavenger/master/15024/.0006.scavengerhunt\n",
    "# ^^^ the download url column can be read without the need to decrypt\n",
    "# https://www.w3schools.com/python/module_requests.asp\n",
    "# response = requests.get(url).text\n",
    "\n",
    "\n",
    "scav_text = []\n",
    "for url in repo_df4['download_url']:\n",
    "    response = requests.get(url).text\n",
    "#     print(response)\n",
    "#     base64.b64decode(s[, altchars])\n",
    "# read the file\n",
    "#     response2 = response.text\n",
    "#     print(response2)\n",
    "#     response3 = base64.b64decode(response2).decode('utf-8')\n",
    "#     print(result)\n",
    "    scav_text.append(response)\n",
    "# print(scav_text)   \n",
    "\n"
   ]
  },
  {
   "cell_type": "code",
   "execution_count": 155,
   "metadata": {},
   "outputs": [
    {
     "name": "stdout",
     "output_type": "stream",
     "text": [
      "In data science, 80 percent of time spent is preparing data, 20 percent of time is spent complaining about the need to prepare data.\n",
      "\n"
     ]
    }
   ],
   "source": [
    "import re\n",
    "scav_string = ','.join(scav_text)\n",
    "hilarious_joke = re.sub('\\n,', ' ', scav_string)\n",
    "print(hilarious_joke)"
   ]
  },
  {
   "cell_type": "markdown",
   "metadata": {},
   "source": []
  }
 ],
 "metadata": {
  "kernelspec": {
   "display_name": "Python 3",
   "language": "python",
   "name": "python3"
  },
  "language_info": {
   "codemirror_mode": {
    "name": "ipython",
    "version": 3
   },
   "file_extension": ".py",
   "mimetype": "text/x-python",
   "name": "python",
   "nbconvert_exporter": "python",
   "pygments_lexer": "ipython3",
   "version": "3.7.3"
  }
 },
 "nbformat": 4,
 "nbformat_minor": 2
}
