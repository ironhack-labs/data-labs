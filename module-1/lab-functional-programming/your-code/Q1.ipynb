{
 "cells": [
  {
   "cell_type": "markdown",
   "metadata": {},
   "source": [
    "In the cell below, create a Python function that wraps your previous solution for the Bag of Words lab.\n",
    "\n",
    "Requirements:\n",
    "\n",
    "1. Your function should accept the following parameters:\n",
    "    * `docs` [REQUIRED] - array of document paths.\n",
    "    * `stop_words` [OPTIONAL] - array of stop words. The default value is an empty array.\n",
    "\n",
    "1. Your function should return a Python object that contains the following:\n",
    "    * `bag_of_words` - array of strings of normalized unique words in the corpus.\n",
    "    * `term_freq` - array of the term-frequency vectors."
   ]
  },
  {
   "cell_type": "code",
   "execution_count": 19,
   "metadata": {},
   "outputs": [],
   "source": [
    "# Import required libraries\n",
    "import os # i'll need to go and find the documents in another folder\n",
    "\n",
    "\n",
    "# Define function\n",
    "def get_bow_from_docs(docs, stop_words=[]):\n",
    "    \n",
    "    # In the function, first define the variables you will use such as `corpus`, `bag_of_words`, and `term_freq`.\n",
    "    corpus = []\n",
    "    bag_of_words = []\n",
    "    term_freq = []\n",
    " \n",
    "    \"\"\"\n",
    "    Loop `docs` and read the content of each doc into a string in `corpus`.\n",
    "    Remember to convert the doc content to lowercases and remove punctuation.\n",
    "    \"\"\"\n",
    "    for file in docs:\n",
    "        with open(file) as f:\n",
    "            corpus.append(f.read())\n",
    "    corpus = [\"\".join(item.lower().split(\".\")) for item in corpus]\n",
    "\n",
    "    \n",
    "    \"\"\"\n",
    "    Loop `corpus`. Append the terms in each doc into the `bag_of_words` array. The terms in `bag_of_words` \n",
    "    should be unique which means before adding each term you need to check if it's already added to the array.\n",
    "    In addition, check if each term is in the `stop_words` array. Only append the term to `bag_of_words`\n",
    "    if it is not a stop word.\n",
    "    \"\"\"\n",
    "    for item in corpus:\n",
    "        for word in item.split(\" \"):\n",
    "            if bag_of_words.count(word) < 1: # alternative from Ed: convert the bag_of_words to a SET to remove duplicates\n",
    "                if str(stop_words).count(word) == 0: # convert to a string so that the count method works! if the count of the appearance of 'word' in stop_words is less than zero, do not append \n",
    "                    bag_of_words.append(word)\n",
    "    \n",
    "    \n",
    "    \n",
    "    \"\"\"\n",
    "    Loop `corpus` again. For each doc string, count the number of occurrences of each term in `bag_of_words`. \n",
    "    Create an array for each doc's term frequency and append it to `term_freq`.\n",
    "    \"\"\"\n",
    "    for line in corpus:\n",
    "        mini_list = []\n",
    "        for word in bag_of_words:\n",
    "            mini_list.append(line.split(\" \").count(word))\n",
    "        term_freq.append(mini_list)\n",
    "    \n",
    "    # Now return your output as an object\n",
    "    return {\n",
    "        \"bag_of_words\": bag_of_words,\n",
    "        \"term_freq\": term_freq\n",
    "    }"
   ]
  },
  {
   "cell_type": "markdown",
   "metadata": {},
   "source": [
    "Test your function without stop words. You should see the output like below:\n",
    "\n",
    "```{'bag_of_words': ['ironhack', 'is', 'cool', 'i', 'love', 'am', 'a', 'student', 'at'], 'term_freq': [[1, 1, 1, 0, 0, 0, 0, 0, 0], [1, 0, 0, 1, 1, 0, 0, 0, 0], [1, 0, 0, 1, 0, 1, 1, 1, 1]]}```"
   ]
  },
  {
   "cell_type": "code",
   "execution_count": 20,
   "metadata": {},
   "outputs": [
    {
     "name": "stdout",
     "output_type": "stream",
     "text": [
      "{'bag_of_words': ['ironhack', 'is', 'cool', 'i', 'love', 'am', 'a', 'student', 'at'], 'term_freq': [[1, 1, 1, 0, 0, 0, 0, 0, 0], [1, 0, 0, 1, 1, 0, 0, 0, 0], [1, 0, 0, 1, 0, 1, 1, 1, 1]]}\n"
     ]
    }
   ],
   "source": [
    "# Define doc paths array\n",
    "os.chdir('../../lab-string-operations/your-code')\n",
    "docs = ['doc1.txt', 'doc2.txt', 'doc3.txt']\n",
    "\n",
    "\n",
    "# Obtain BoW from your function\n",
    "bow = get_bow_from_docs(docs)\n",
    "\n",
    "# Print BoW\n",
    "print(bow)"
   ]
  },
  {
   "cell_type": "markdown",
   "metadata": {},
   "source": [
    "If your attempt above is successful, nice work done!\n",
    "\n",
    "Now test your function again with the stop words. In the previous lab we defined the stop words in a large array. In this lab, we'll import the stop words from Scikit-Learn."
   ]
  },
  {
   "cell_type": "code",
   "execution_count": 21,
   "metadata": {},
   "outputs": [
    {
     "name": "stdout",
     "output_type": "stream",
     "text": [
      "frozenset({'afterwards', 'show', 'without', 'therefore', 'amongst', 'under', 'which', 'never', 'because', 'between', 'name', 'them', 'cant', 'thereupon', 'sincere', 'ever', 'a', 'either', 'or', 'de', 'by', 'no', 'at', 'bottom', 'there', 'can', 'most', 'call', 'thereafter', 'whenever', 'becoming', 'cannot', 'often', 'system', 'where', 'sixty', 'go', 'onto', 'serious', 'while', 'below', 'find', 'seemed', 'we', 'bill', 'again', 'couldnt', 'sometimes', 'others', 'yourselves', 'up', 'thus', 'whom', 'itself', 'almost', 'namely', 'eleven', 'move', 'ten', 'another', 'whoever', 'yours', 'least', 'detail', 'in', 'became', 'me', 'so', 'ours', 'many', 'keep', 'few', 'neither', 'beside', 'rather', 'wherever', 'else', 'mostly', 'fill', 'whatever', 'anywhere', 'fifty', 'three', 'were', 'him', 'herein', 'but', 'etc', 'everything', 'nothing', 'within', 'those', 'such', 'have', 'both', 'amount', 'former', 'how', 'who', 'co', 'thereby', 'through', 'during', 'themselves', 'found', 'side', 'other', 'has', 'however', 'same', 'top', 'latter', 'these', 'against', 'four', 'nine', 'do', 'one', 'indeed', 'herself', 'whereupon', 'they', 'seeming', 'hereby', 'hereafter', 'anyhow', 'beyond', 'over', 'less', 'much', 'beforehand', 'when', 'might', 'of', 'yourself', 'whether', 'some', 'down', 'am', 'nevertheless', 'more', 'per', 'around', 'full', 'here', 'as', 'hereupon', 'your', 'even', 'six', 'to', 'had', 'several', 'further', 'being', 'anything', 'nor', 'he', 'wherein', 'before', 'hence', 'next', 'thick', 'could', 'hasnt', 'eg', 'get', 'already', 'made', 'somehow', 'whereas', 'across', 'mine', 'except', 'for', 'fifteen', 'each', 'off', 'all', 'she', 'was', 'out', 'inc', 'along', 'anyway', 'nobody', 'why', 'also', 'into', 'eight', 'latterly', 'every', 'hundred', 'thin', 'you', 'alone', 'part', 'elsewhere', 'what', 'always', 'sometime', 'take', 'whereby', 'whole', 'via', 'once', 'twelve', 'very', 'it', 'last', 'upon', 'un', 'been', 'amoungst', 'own', 're', 'well', 'too', 'its', 'myself', 'my', 'give', 'towards', 'only', 'someone', 'any', 'whither', 'besides', 'see', 'ie', 'formerly', 'put', 'five', 'an', 'himself', 'not', 'somewhere', 'forty', 'must', 'ourselves', 'yet', 'still', 'whence', 'empty', 'done', 'interest', 'until', 'back', 'since', 'behind', 'otherwise', 'with', 'something', 'us', 'above', 'seem', 'her', 'throughout', 'be', 'front', 'whose', 'may', 'our', 'toward', 'twenty', 'thru', 'fire', 'that', 'please', 'nowhere', 'whereafter', 'would', 'mill', 'than', 'perhaps', 'become', 'everyone', 'now', 'due', 'enough', 'will', 'this', 'becomes', 'after', 'their', 'none', 'together', 'though', 'ltd', 'if', 'among', 'two', 'and', 'anyone', 'hers', 'should', 'therein', 'describe', 'from', 'third', 'is', 'i', 'first', 'everywhere', 'meanwhile', 'on', 'his', 'moreover', 'noone', 'are', 'seems', 'the', 'although', 'con', 'thence', 'cry', 'about', 'then'})\n"
     ]
    }
   ],
   "source": [
    "from sklearn.feature_extraction import stop_words\n",
    "print(stop_words.ENGLISH_STOP_WORDS)"
   ]
  },
  {
   "cell_type": "markdown",
   "metadata": {},
   "source": [
    "You should have seen a large list of words that looks like:\n",
    "\n",
    "```frozenset({'across', 'mine', 'cannot', ...})```\n",
    "\n",
    "`frozenset` is a type of Python object that is immutable. In this lab you can use it just like an array without conversion."
   ]
  },
  {
   "cell_type": "markdown",
   "metadata": {},
   "source": [
    "Next, test your function with supplying `stop_words.ENGLISH_STOP_WORDS` as the second parameter."
   ]
  },
  {
   "cell_type": "code",
   "execution_count": 22,
   "metadata": {},
   "outputs": [
    {
     "name": "stdout",
     "output_type": "stream",
     "text": [
      "{'bag_of_words': ['ironhack', 'cool', 'love', 'student'], 'term_freq': [[1, 1, 0, 0], [1, 0, 1, 0], [1, 0, 0, 1]]}\n"
     ]
    }
   ],
   "source": [
    "bow = get_bow_from_docs(docs, stop_words.ENGLISH_STOP_WORDS)\n",
    "# had to adjust the argument here, make sure this is asking for Docs as the first argument, since my function\n",
    "print(bow)"
   ]
  },
  {
   "cell_type": "markdown",
   "metadata": {},
   "source": [
    "You should have seen:\n",
    "\n",
    "```{'bag_of_words': ['ironhack', 'cool', 'love', 'student'], 'term_freq': [[1, 1, 0, 0], [1, 0, 1, 0], [1, 0, 0, 1]]}```"
   ]
  },
  {
   "cell_type": "code",
   "execution_count": null,
   "metadata": {},
   "outputs": [],
   "source": []
  }
 ],
 "metadata": {
  "kernelspec": {
   "display_name": "Python 3",
   "language": "python",
   "name": "python3"
  },
  "language_info": {
   "codemirror_mode": {
    "name": "ipython",
    "version": 3
   },
   "file_extension": ".py",
   "mimetype": "text/x-python",
   "name": "python",
   "nbconvert_exporter": "python",
   "pygments_lexer": "ipython3",
   "version": "3.7.3"
  }
 },
 "nbformat": 4,
 "nbformat_minor": 2
}
