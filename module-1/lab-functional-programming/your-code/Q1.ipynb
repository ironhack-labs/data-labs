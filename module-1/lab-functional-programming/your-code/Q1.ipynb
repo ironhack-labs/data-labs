{
 "cells": [
  {
   "cell_type": "markdown",
   "metadata": {},
   "source": [
    "In the cell below, create a Python function that wraps your previous solution for the Bag of Words lab.\n",
    "\n",
    "Requirements:\n",
    "\n",
    "1. Your function should accept the following parameters:\n",
    "    * `docs` [REQUIRED] - array of document paths.\n",
    "    * `stop_words` [OPTIONAL] - array of stop words. The default value is an empty array.\n",
    "\n",
    "1. Your function should return a Python object that contains the following:\n",
    "    * `bag_of_words` - array of strings of normalized unique words in the corpus.\n",
    "    * `term_freq` - array of the term-frequency vectors."
   ]
  },
  {
   "cell_type": "code",
   "execution_count": 1,
   "metadata": {},
   "outputs": [],
   "source": [
    "# Import required libraries\n",
    "\n",
    "doc1 = '/Users/josematos/Documents/Ironhack_Lab/data-labs/module-1/lab-string-operations/your-code/doc1.txt'\n",
    "doc2 = '/Users/josematos/Documents/Ironhack_Lab/data-labs/module-1/lab-string-operations/your-code/doc2.txt'\n",
    "doc3 = '/Users/josematos/Documents/Ironhack_Lab/data-labs/module-1/lab-string-operations/your-code/doc3.txt'\n",
    "\n",
    "documents = [doc1,doc2,doc3]\n",
    "\n",
    "# Define function\n",
    "def get_bow_from_docs(docs, stop_words=[]):\n",
    "    \n",
    "    # In the function, first define the variables you will use such as `corpus`, `bag_of_words`, and `term_freq`.\n",
    "    \n",
    "    corpus = []\n",
    "    bag_of_words =[]\n",
    "    term_freq = []\n",
    "    \n",
    "    \n",
    "    \"\"\"\n",
    "    Loop `docs` and read the content of each doc into a string in `corpus`.\n",
    "    Remember to convert the doc content to lowercases and remove punctuation.\n",
    "    \"\"\"\n",
    "    \n",
    "    corpus = [ open(a,'r+').read() for a in docs]\n",
    "\n",
    "    corpus = [a.lower().replace('.','') for a in corpus]\n",
    "    \n",
    "    \"\"\"\n",
    "    Loop `corpus`. Append the terms in each doc into the `bag_of_words` array. The terms in `bag_of_words` \n",
    "    should be unique which means before adding each term you need to check if it's already added to the array.\n",
    "    In addition, check if each term is in the `stop_words` array. Only append the term to `bag_of_words`\n",
    "    if it is not a stop word.\n",
    "    \"\"\"\n",
    "\n",
    "    WordLst = ' '.join(corpus).split()\n",
    "    for word in WordLst:\n",
    "        if word not in bag_of_words:\n",
    "            if word not in stop_words:\n",
    "                bag_of_words.append(word)\n",
    "    bag_of_words\n",
    "    \n",
    "    \n",
    "    \"\"\"\n",
    "    Loop `corpus` again. For each doc string, count the number of occurrences of each term in `bag_of_words`. \n",
    "    Create an array for each doc's term frequency and append it to `term_freq`.\n",
    "    \"\"\"\n",
    "    for term in corpus:\n",
    "        freqs = [int(word in term.split()) for word in bag_of_words]\n",
    "        term_freq.append(freqs)\n",
    "    \n",
    "    \n",
    "    # Now return your output as an object\n",
    "    return {\n",
    "        \"bag_of_words\": bag_of_words,\n",
    "        \"term_freq\": term_freq\n",
    "    }\n",
    "    "
   ]
  },
  {
   "cell_type": "markdown",
   "metadata": {},
   "source": [
    "Test your function without stop words. You should see the output like below:\n",
    "\n",
    "```{'bag_of_words': ['ironhack', 'is', 'cool', 'i', 'love', 'am', 'a', 'student', 'at'], 'term_freq': [[1, 1, 1, 0, 0, 0, 0, 0, 0], [1, 0, 0, 1, 1, 0, 0, 0, 0], [1, 0, 0, 1, 0, 1, 1, 1, 1]]}```"
   ]
  },
  {
   "cell_type": "code",
   "execution_count": 2,
   "metadata": {},
   "outputs": [
    {
     "name": "stdout",
     "output_type": "stream",
     "text": [
      "{'bag_of_words': ['ironhack', 'is', 'cool', 'i', 'love', 'am', 'a', 'student', 'at'], 'term_freq': [[1, 1, 1, 0, 0, 0, 0, 0, 0], [1, 0, 0, 1, 1, 0, 0, 0, 0], [1, 0, 0, 1, 0, 1, 1, 1, 1]]}\n"
     ]
    }
   ],
   "source": [
    "# Define doc paths array\n",
    "\n",
    "docs = [ doc1, doc2, doc3]\n",
    "\n",
    "# Obtain BoW from your function\n",
    "bow = get_bow_from_docs(docs)\n",
    "\n",
    "# Print BoW\n",
    "print(bow)"
   ]
  },
  {
   "cell_type": "markdown",
   "metadata": {},
   "source": [
    "If your attempt above is successful, nice work done!\n",
    "\n",
    "Now test your function again with the stop words. In the previous lab we defined the stop words in a large array. In this lab, we'll import the stop words from Scikit-Learn."
   ]
  },
  {
   "cell_type": "code",
   "execution_count": 3,
   "metadata": {},
   "outputs": [
    {
     "name": "stdout",
     "output_type": "stream",
     "text": [
      "frozenset({'whereby', 'them', 'name', 'neither', 'further', 'can', 'with', 'those', 'alone', 'always', 'myself', 'whither', 'made', 'mostly', 'thereby', 'mill', 'while', 'still', 'next', 'will', 'forty', 'indeed', 'thru', 'a', 'however', 'more', 'these', 'less', 'again', 'before', 'whole', 'go', 'during', 'rather', 'somehow', 'for', 'fifteen', 'whose', 'another', 'per', 'but', 'much', 'perhaps', 'to', 'empty', 'since', 'there', 'former', 'not', 'cant', 'mine', 'something', 'hence', 'because', 'front', 'has', 'latter', 're', 'yourselves', 'is', 'one', 'well', 'only', 'find', 'hereafter', 'thereupon', 'seem', 'amount', 'give', 'sometime', 'should', 'formerly', 'hereupon', 'or', 'anyone', 'any', 'otherwise', 'co', 'also', 'all', 'thick', 'through', 'due', 'how', 'where', 'else', 'becoming', 'although', 'became', 'six', 'sixty', 'us', 'that', 'describe', 'as', 'last', 'above', 'beside', 'wherever', 'twenty', 'somewhere', 'and', 'cannot', 'herself', 'ours', 'eight', 'hasnt', 'thereafter', 'noone', 'too', 'toward', 'un', 'already', 'often', 'call', 'they', 'nor', 'then', 'thin', 'yet', 'elsewhere', 'no', 'whenever', 'becomes', 'done', 'our', 'three', 'de', 'none', 'via', 'what', 'other', 'anyway', 'amoungst', 'about', 'once', 'sincere', 'from', 'after', 'fifty', 'nowhere', 'besides', 'same', 'towards', 'least', 'fire', 'without', 'seems', 'eleven', 'either', 'behind', 'herein', 'must', 'whence', 'may', 'nobody', 'me', 'thence', 'him', 'found', 'upon', 'even', 'be', 'whereafter', 'his', 'thus', 'such', 'never', 'nothing', 'among', 'himself', 'anyhow', 'meanwhile', 'detail', 'whatever', 'your', 'which', 'whereupon', 'become', 'along', 'would', 'anywhere', 'until', 'nine', 'many', 'had', 'beforehand', 'under', 'ever', 'on', 'have', 'side', 'hereby', 'it', 'get', 'if', 'several', 'the', 'most', 'almost', 'full', 'now', 'part', 'namely', 'take', 'were', 'some', 'ourselves', 'whoever', 'sometimes', 'when', 'inc', 'show', 'top', 'yours', 'why', 'around', 'first', 'into', 'was', 'its', 'serious', 'might', 'over', 'nevertheless', 'four', 'bottom', 'her', 'fill', 'off', 'whom', 'etc', 'move', 'between', 'this', 'enough', 'do', 'latterly', 'out', 'who', 'itself', 'than', 'you', 'therefore', 'i', 'am', 'wherein', 'five', 'themselves', 'cry', 'except', 'see', 'down', 'own', 'by', 'hers', 'across', 'please', 'both', 'we', 'two', 'could', 'he', 'up', 'at', 'everything', 'put', 'an', 'within', 'eg', 'everywhere', 'ten', 'though', 'beyond', 'con', 'throughout', 'been', 'system', 'back', 'each', 'ltd', 'third', 'she', 'against', 'few', 'below', 'onto', 'interest', 'my', 'keep', 'whereas', 'every', 'seemed', 'everyone', 'others', 'ie', 'moreover', 'of', 'afterwards', 'couldnt', 'their', 'being', 'together', 'hundred', 'twelve', 'whether', 'seeming', 'bill', 'someone', 'anything', 'yourself', 'here', 'therein', 'amongst', 'are', 'in', 'very', 'so'})\n"
     ]
    }
   ],
   "source": [
    "from sklearn.feature_extraction import stop_words\n",
    "print(stop_words.ENGLISH_STOP_WORDS)"
   ]
  },
  {
   "cell_type": "markdown",
   "metadata": {},
   "source": [
    "You should have seen a large list of words that looks like:\n",
    "\n",
    "```frozenset({'across', 'mine', 'cannot', ...})```\n",
    "\n",
    "`frozenset` is a type of Python object that is immutable. In this lab you can use it just like an array without conversion."
   ]
  },
  {
   "cell_type": "markdown",
   "metadata": {},
   "source": [
    "Next, test your function with supplying `stop_words.ENGLISH_STOP_WORDS` as the second parameter."
   ]
  },
  {
   "cell_type": "code",
   "execution_count": 4,
   "metadata": {},
   "outputs": [
    {
     "name": "stdout",
     "output_type": "stream",
     "text": [
      "{'bag_of_words': ['ironhack', 'cool', 'love', 'student'], 'term_freq': [[1, 1, 0, 0], [1, 0, 1, 0], [1, 0, 0, 1]]}\n"
     ]
    }
   ],
   "source": [
    "bow = get_bow_from_docs(docs, stop_words.ENGLISH_STOP_WORDS)\n",
    "\n",
    "print(bow)"
   ]
  },
  {
   "cell_type": "markdown",
   "metadata": {},
   "source": [
    "You should have seen:\n",
    "\n",
    "```{'bag_of_words': ['ironhack', 'cool', 'love', 'student'], 'term_freq': [[1, 1, 0, 0], [1, 0, 1, 0], [1, 0, 0, 1]]}```"
   ]
  }
 ],
 "metadata": {
  "kernelspec": {
   "display_name": "Python 3",
   "language": "python",
   "name": "python3"
  },
  "language_info": {
   "codemirror_mode": {
    "name": "ipython",
    "version": 3
   },
   "file_extension": ".py",
   "mimetype": "text/x-python",
   "name": "python",
   "nbconvert_exporter": "python",
   "pygments_lexer": "ipython3",
   "version": "3.7.4"
  }
 },
 "nbformat": 4,
 "nbformat_minor": 2
}
