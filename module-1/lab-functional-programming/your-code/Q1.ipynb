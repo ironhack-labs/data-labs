{
 "cells": [
  {
   "cell_type": "markdown",
   "metadata": {},
   "source": [
    "In the cell below, create a Python function that wraps your previous solution for the Bag of Words lab.\n",
    "\n",
    "Requirements:\n",
    "\n",
    "1. Your function should accept the following parameters:\n",
    "    * `docs` [REQUIRED] - array of document paths.\n",
    "    * `stop_words` [OPTIONAL] - array of stop words. The default value is an empty array.\n",
    "\n",
    "1. Your function should return a Python object that contains the following:\n",
    "    * `bag_of_words` - array of strings of normalized unique words in the corpus.\n",
    "    * `term_freq` - array of the term-frequency vectors."
   ]
  },
  {
   "cell_type": "code",
   "execution_count": 21,
   "metadata": {},
   "outputs": [
    {
     "data": {
      "text/plain": [
       "<function __main__.get_bow_from_docs(docs, stop_words=[])>"
      ]
     },
     "execution_count": 21,
     "metadata": {},
     "output_type": "execute_result"
    }
   ],
   "source": [
    "# Import required libraries\n",
    "# import re\n",
    "# import math\n",
    "import os\n",
    "# Define function\n",
    "def get_bow_from_docs(docs, stop_words=[]):\n",
    "    \n",
    "    # In the function, first define the variables you will use such as `corpus`, `bag_of_words`, and `term_freq`.\n",
    "    \n",
    "    \n",
    "    corpus = []\n",
    "    bag_of_words = []\n",
    "    term_freq = []\n",
    "\n",
    "    \n",
    "#     \"\"\"\n",
    "#     Loop `docs` and read the content of each doc into a string in `corpus`.\n",
    "#     Remember to convert the doc content to lowercases and remove punctuation.\n",
    "#     \"\"\"\n",
    "    \n",
    "    for x in docs:\n",
    "        with open(x) as f:\n",
    "            corpus.append(f.read())\n",
    "    corpus = [re.sub('[^a-zA-Z0-9\\s]+', '', _).lower() for _ in corpus]\n",
    "    \n",
    "    \n",
    "#     \"\"\"\n",
    "#     Loop `corpus`. Append the terms in each doc into the `bag_of_words` array. The terms in `bag_of_words` \n",
    "#     should be unique which means before adding each term you need to check if it's already added to the array.\n",
    "#     In addition, check if each term is in the `stop_words` array. Only append the term to `bag_of_words`\n",
    "#     if it is not a stop word.\n",
    "#     \"\"\"\n",
    "\n",
    "    for x in corpus:\n",
    "        for y in x.split(' '):\n",
    "            if y not in bag_of_words:\n",
    "                bag_of_words.append(y)\n",
    "\n",
    "    \n",
    "    \n",
    "#     \"\"\"\n",
    "#     Loop `corpus` again. For each doc string, count the number of occurrences of each term in `bag_of_words`. \n",
    "#     Create an array for each doc's term frequency and append it to `term_freq`.\n",
    "#     \"\"\"\n",
    "    for x in corpus:\n",
    "        y = []\n",
    "        for term in bag_of_words:\n",
    "            if term in x.split(' '):\n",
    "                y.append(1)\n",
    "            else:\n",
    "                y.append(0)\n",
    "        term_freq.append(y)\n",
    "\n",
    "    # Now return your output as an object\n",
    "    return {\n",
    "            \"bag_of_words\": bag_of_words,\n",
    "            \"term_freq\": term_freq\n",
    "        }\n",
    "\n",
    "get_bow_from_docs"
   ]
  },
  {
   "cell_type": "markdown",
   "metadata": {},
   "source": [
    "Test your function without stop words. You should see the output like below:\n",
    "\n",
    "```{'bag_of_words': ['ironhack', 'is', 'cool', 'i', 'love', 'am', 'a', 'student', 'at'], 'term_freq': [[1, 1, 1, 0, 0, 0, 0, 0, 0], [1, 0, 0, 1, 1, 0, 0, 0, 0], [1, 0, 0, 1, 0, 1, 1, 1, 1]]}```"
   ]
  },
  {
   "cell_type": "code",
   "execution_count": 23,
   "metadata": {},
   "outputs": [
    {
     "name": "stdout",
     "output_type": "stream",
     "text": [
      "{'bag_of_words': ['ironhack', 'is', 'cool', 'i', 'love', 'am', 'a', 'student', 'at'], 'term_freq': [[1, 1, 1, 0, 0, 0, 0, 0, 0], [1, 0, 0, 1, 1, 0, 0, 0, 0], [1, 0, 0, 1, 0, 1, 1, 1, 1]]}\n"
     ]
    }
   ],
   "source": [
    "# Define doc paths array\n",
    "mypath = \"../../lab-string-operations/your-code\"\n",
    "docs = [mypath + '/doc1.txt', mypath + '/doc2.txt', mypath + '/doc3.txt']\n",
    "\n",
    "\n",
    "# Obtain BoW from your function\n",
    "bow = get_bow_from_docs(docs)\n",
    "\n",
    "# Print BoW\n",
    "print(bow)"
   ]
  },
  {
   "cell_type": "markdown",
   "metadata": {},
   "source": [
    "If your attempt above is successful, nice work done!\n",
    "\n",
    "Now test your function again with the stop words. In the previous lab we defined the stop words in a large array. In this lab, we'll import the stop words from Scikit-Learn."
   ]
  },
  {
   "cell_type": "code",
   "execution_count": 25,
   "metadata": {},
   "outputs": [
    {
     "name": "stdout",
     "output_type": "stream",
     "text": [
      "frozenset({'get', 'put', 'ever', 'so', 'her', 'but', 'down', 'you', 'yourselves', 'been', 'may', 'should', 'found', 'herein', 'etc', 'give', 'empty', 'how', 'ie', 'an', 'itself', 'hundred', 'con', 'while', 'am', 'nothing', 'rather', 'i', 'this', 'against', 'yours', 'thence', 'via', 'meanwhile', 'whereupon', 'moreover', 'such', 'my', 'part', 'nowhere', 'before', 'is', 'go', 'side', 'both', 'interest', 'enough', 'can', 'whom', 'because', 'cannot', 'as', 'serious', 'under', 'wherein', 'into', 'us', 'hereupon', 'nor', 'your', 'amongst', 'alone', 'well', 'inc', 'ours', 'everything', 'without', 'anyhow', 'me', 'besides', 'yet', 'most', 'mostly', 'off', 'have', 'has', 'thin', 'they', 'every', 'done', 'not', 'anyone', 'that', 'about', 'since', 'hasnt', 'which', 'others', 'system', 'describe', 'becoming', 'beyond', 'beforehand', 'only', 'therein', 'four', 'un', 'whose', 'sometime', 'almost', 'nevertheless', 'upon', 'himself', 'front', 'anything', 'was', 'latterly', 'there', 'everyone', 'whatever', 'six', 'between', 'became', 'few', 'be', 'same', 'by', 'than', 'it', 'whoever', 'another', 'call', 'through', 'throughout', 'cant', 'cry', 'thereby', 'least', 'except', 'hereby', 'within', 're', 'on', 'some', 'what', 'themselves', 'why', 'were', 'other', 'fill', 'seeming', 'formerly', 'always', 'several', 'around', 'whence', 'thus', 'co', 'will', 'wherever', 'never', 'everywhere', 'either', 'mill', 'none', 'whole', 'still', 'its', 'had', 'here', 'something', 'due', 'twelve', 'up', 'him', 'else', 'detail', 'he', 'see', 'any', 'ltd', 'former', 'further', 'do', 'during', 'his', 'back', 'now', 'no', 'seemed', 'whereafter', 'the', 'then', 'very', 'move', 'above', 'amount', 'herself', 'a', 'after', 'eleven', 'among', 'five', 'one', 'toward', 'she', 'their', 'seems', 'and', 'all', 'neither', 'sixty', 'already', 'first', 'thereupon', 'top', 'perhaps', 'behind', 'below', 'out', 'more', 'somehow', 'if', 'once', 'too', 'two', 'own', 'sincere', 'at', 'anyway', 'bill', 'until', 'again', 'hence', 'noone', 'also', 'must', 'third', 'thru', 'would', 'someone', 'therefore', 'yourself', 'though', 'from', 'indeed', 'whereas', 'otherwise', 'who', 'seem', 'somewhere', 'becomes', 'mine', 'keep', 'or', 'less', 'become', 'ten', 'often', 'along', 'sometimes', 'each', 'made', 'name', 'eight', 'fire', 'namely', 'these', 'towards', 'could', 'with', 'thereafter', 'three', 'nine', 'fifty', 'together', 'full', 'our', 'for', 'per', 'ourselves', 'whither', 'however', 'anywhere', 'many', 'might', 'them', 'whenever', 'of', 'myself', 'please', 'afterwards', 'those', 'fifteen', 'forty', 'across', 'whereby', 'elsewhere', 'hers', 'although', 'beside', 'show', 'we', 'to', 'much', 'being', 'over', 'twenty', 'when', 'take', 'onto', 'in', 'couldnt', 'de', 'next', 'are', 'whether', 'bottom', 'amoungst', 'find', 'last', 'eg', 'nobody', 'even', 'hereafter', 'latter', 'thick', 'where'})\n"
     ]
    }
   ],
   "source": [
    "from sklearn.feature_extraction import stop_words\n",
    "print(stop_words.ENGLISH_STOP_WORDS)"
   ]
  },
  {
   "cell_type": "markdown",
   "metadata": {},
   "source": [
    "You should have seen a large list of words that looks like:\n",
    "\n",
    "```frozenset({'across', 'mine', 'cannot', ...})```\n",
    "\n",
    "`frozenset` is a type of Python object that is immutable. In this lab you can use it just like an array without conversion."
   ]
  },
  {
   "cell_type": "markdown",
   "metadata": {},
   "source": [
    "Next, test your function with supplying `stop_words.ENGLISH_STOP_WORDS` as the second parameter."
   ]
  },
  {
   "cell_type": "code",
   "execution_count": 27,
   "metadata": {},
   "outputs": [
    {
     "name": "stdout",
     "output_type": "stream",
     "text": [
      "{'bag_of_words': ['ironhack', 'is', 'cool', 'i', 'love', 'am', 'a', 'student', 'at'], 'term_freq': [[1, 1, 1, 0, 0, 0, 0, 0, 0], [1, 0, 0, 1, 1, 0, 0, 0, 0], [1, 0, 0, 1, 0, 1, 1, 1, 1]]}\n"
     ]
    }
   ],
   "source": [
    "bow = get_bow_from_docs(docs, stop_words.ENGLISH_STOP_WORDS)\n",
    "\n",
    "print(bow)"
   ]
  },
  {
   "cell_type": "markdown",
   "metadata": {},
   "source": [
    "You should have seen:\n",
    "\n",
    "```{'bag_of_words': ['ironhack', 'cool', 'love', 'student'], 'term_freq': [[1, 1, 0, 0], [1, 0, 1, 0], [1, 0, 0, 1]]}```"
   ]
  },
  {
   "cell_type": "code",
   "execution_count": null,
   "metadata": {},
   "outputs": [],
   "source": []
  }
 ],
 "metadata": {
  "kernelspec": {
   "display_name": "Python 3",
   "language": "python",
   "name": "python3"
  },
  "language_info": {
   "codemirror_mode": {
    "name": "ipython",
    "version": 3
   },
   "file_extension": ".py",
   "mimetype": "text/x-python",
   "name": "python",
   "nbconvert_exporter": "python",
   "pygments_lexer": "ipython3",
   "version": "3.7.3"
  }
 },
 "nbformat": 4,
 "nbformat_minor": 2
}
