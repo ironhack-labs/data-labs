{
 "cells": [
  {
   "cell_type": "markdown",
   "metadata": {},
   "source": [
    "In the cell below, create a Python function that wraps your previous solution for the Bag of Words lab.\n",
    "\n",
    "Requirements:\n",
    "\n",
    "1. Your function should accept the following parameters:\n",
    "    * `docs` [REQUIRED] - array of document paths.\n",
    "    * `stop_words` [OPTIONAL] - array of stop words. The default value is an empty array.\n",
    "\n",
    "1. Your function should return a Python object that contains the following:\n",
    "    * `bag_of_words` - array of strings of normalized unique words in the corpus.\n",
    "    * `term_freq` - array of the term-frequency vectors."
   ]
  },
  {
   "cell_type": "code",
   "execution_count": 23,
   "metadata": {},
   "outputs": [],
   "source": [
    "# Import required libraries\n",
    "import os\n",
    "# Define function\n",
    "def get_bow_from_docs(docs, stop_words=[]):\n",
    "\n",
    "    # In the function, first define the variables you will use such as `corpus`, `bag_of_words`, and `term_freq`.\n",
    "    #docs = ['doc1.txt', 'doc2.txt', 'doc3.txt']\n",
    "    bag_of_words = ['a', 'am', 'at', 'cool', 'i', 'ironhack', 'is', 'love', 'student']\n",
    "    term_freq = [\n",
    "    [0, 0, 0, 1, 0, 1, 1, 0, 0],\n",
    "    [0, 0, 0, 0, 1, 1, 0, 1, 0],\n",
    "    [1, 1, 1, 0, 1, 1, 0, 0, 1],\n",
    "] \n",
    "    \"\"\"\n",
    "    Loop `docs` and read the content of each doc into a string in `corpus`.\n",
    "    Remember to convert the doc content to lowercases and remove punctuation.\n",
    "    \"\"\"\n",
    "    corpus = []\n",
    "    for file in docs:\n",
    "        lines=open(file).readline()\n",
    "        corpus.append(lines)\n",
    "        corpus=[i.replace('.','').lower() for i in corpus]\n",
    "    \n",
    "    \n",
    "    \"\"\"\n",
    "    Loop `corpus`. Append the terms in each doc into the `bag_of_words` array. The terms in `bag_of_words` \n",
    "    should be unique which means before adding each term you need to check if it's already added to the array.\n",
    "    In addition, check if each term is in the `stop_words` array. Only append the term to `bag_of_words`\n",
    "    if it is not a stop word.\n",
    "    \"\"\"\n",
    "    bag_of_words = []\n",
    "    for str in corpus:\n",
    "        split_str=str.split()\n",
    "        for word in split_str:\n",
    "            if word not in bag_of_words:\n",
    "                if word not in stop_words:\n",
    "                    bag_of_words.append(word)\n",
    "                \n",
    "               \n",
    "    \n",
    "    \"\"\"\n",
    "    Loop `corpus` again. For each doc string, count the number of occurrences of each term in `bag_of_words`. \n",
    "    Create an array for each doc's term frequency and append it to `term_freq`.\n",
    "    \"\"\"\n",
    "    term_freq = []\n",
    "\n",
    "    for sentence in corpus:\n",
    "        term_freq.append([(sentence.split()).count(term) for term in bag_of_words])\n",
    "\n",
    "    return {\"bag of words\":bag_of_words,\"term_freq\":term_freq}\n"
   ]
  },
  {
   "cell_type": "markdown",
   "metadata": {},
   "source": [
    "Test your function without stop words. You should see the output like below:\n",
    "\n",
    "```{'bag_of_words': ['ironhack', 'is', 'cool', 'i', 'love', 'am', 'a', 'student', 'at'], 'term_freq': [[1, 1, 1, 0, 0, 0, 0, 0, 0], [1, 0, 0, 1, 1, 0, 0, 0, 0], [1, 0, 0, 1, 0, 1, 1, 1, 1]]}```"
   ]
  },
  {
   "cell_type": "code",
   "execution_count": 24,
   "metadata": {},
   "outputs": [
    {
     "name": "stdout",
     "output_type": "stream",
     "text": [
      "{'bag of words': ['ironhack', 'is', 'cool', 'i', 'love', 'am', 'a', 'student', 'at'], 'term_freq': [[1, 1, 1, 0, 0, 0, 0, 0, 0], [1, 0, 0, 1, 1, 0, 0, 0, 0], [1, 0, 0, 1, 0, 1, 1, 1, 1]]}\n"
     ]
    }
   ],
   "source": [
    "# Define doc paths list\n",
    "path = '../../lab-string-operations/your-code/'\n",
    "files = ['doc1.txt', 'doc2.txt', 'doc3.txt']\n",
    "docs = [path + f for f in files]\n",
    "stop_words\n",
    "# Obtain BoW from your function\n",
    "bow = get_bow_from_docs(docs)\n",
    "\n",
    "# Print BoW\n",
    "print(bow)"
   ]
  },
  {
   "cell_type": "markdown",
   "metadata": {},
   "source": [
    "If your attempt above is successful, nice work done!\n",
    "\n",
    "Now test your function again with the stop words. In the previous lab we defined the stop words in a large array. In this lab, we'll import the stop words from Scikit-Learn."
   ]
  },
  {
   "cell_type": "code",
   "execution_count": 25,
   "metadata": {},
   "outputs": [
    {
     "name": "stdout",
     "output_type": "stream",
     "text": [
      "frozenset({'fill', 'find', 'beside', 'became', 'besides', 'noone', 'up', 'less', 'we', 'nowhere', 'too', 'under', 'within', 'hereby', 'whereupon', 'detail', 'above', 'i', 'than', 'yourselves', 'whereafter', 'of', 'ourselves', 'thin', 'it', 'un', 'own', 'whose', 'anyway', 'amount', 'becomes', 'most', 'thick', 'me', 'side', 'only', 'bill', 'thence', 'keep', 'one', 'per', 'many', 'both', 'anyhow', 'against', 'nothing', 'this', 'wherever', 'each', 'some', 'something', 'please', 'off', 'do', 'rather', 'by', 'which', 'from', 'ltd', 'beforehand', 'along', 'everywhere', 'must', 'and', 'eg', 'their', 'without', 'even', 'but', 'if', 'my', 'whence', 'being', 'once', 'seem', 'part', 'therefore', 'either', 'indeed', 'may', 'cant', 'anywhere', 'already', 'found', 'see', 'seemed', 'ie', 'same', 'everyone', 'the', 'still', 'while', 'herself', 'three', 'was', 'over', 'during', 'much', 'what', 'these', 'for', 'has', 'not', 'onto', 'moreover', 'sometimes', 'also', 'are', 'have', 'how', 'never', 'or', 'bottom', 'via', 'themselves', 'when', 'might', 'amongst', 'she', 'ever', 'always', 'upon', 'whole', 'yourself', 'therein', 'hasnt', 'at', 'his', 'towards', 'itself', 'seeming', 'inc', 'anything', 'where', 'since', 'between', 'other', 'together', 'namely', 'twenty', 'ours', 'whereas', 'done', 'you', 'none', 'your', 'around', 'nor', 'among', 'nevertheless', 'serious', 'an', 'us', 'until', 'whither', 'name', 'whenever', 'hence', 'behind', 'call', 'take', 'more', 'her', 'former', 'whatever', 'before', 'any', 'move', 'fifty', 'others', 'throughout', 'been', 'due', 'he', 'a', 'sixty', 'below', 'out', 'latterly', 'those', 'further', 'almost', 'again', 'someone', 'thereupon', 'on', 'full', 'get', 'cannot', 'system', 'de', 'eleven', 'who', 'otherwise', 'hereafter', 'become', 'next', 'about', 'whereby', 'forty', 'hers', 'that', 'anyone', 'somewhere', 'though', 'every', 'after', 'should', 'becoming', 'elsewhere', 'except', 'enough', 'whoever', 'empty', 'him', 'top', 'made', 'put', 'now', 'eight', 'describe', 'well', 'six', 'meanwhile', 'go', 'had', 'four', 'latter', 'perhaps', 'there', 'wherein', 'can', 'seems', 'couldnt', 'nine', 'here', 'third', 'few', 'another', 'con', 'mostly', 'thereafter', 'sometime', 'whether', 'first', 'myself', 'am', 'through', 'would', 'as', 'else', 'will', 'such', 'whom', 'thereby', 'front', 'all', 'to', 'were', 'down', 'nobody', 'fire', 're', 'because', 'give', 'show', 'with', 'interest', 'be', 'is', 'why', 'several', 'very', 'mill', 'fifteen', 'least', 'formerly', 'last', 'thru', 'no', 'two', 'beyond', 'somehow', 'yet', 'its', 'cry', 'often', 'them', 'afterwards', 'although', 'then', 'they', 'sincere', 'our', 'so', 'everything', 'in', 'back', 'thus', 'however', 'twelve', 'ten', 'yours', 'could', 'etc', 'hundred', 'into', 'across', 'mine', 'amoungst', 'hereupon', 'herein', 'co', 'toward', 'alone', 'himself', 'neither', 'five'})\n"
     ]
    }
   ],
   "source": [
    "from sklearn.feature_extraction import stop_words\n",
    "stop_words= stop_words.ENGLISH_STOP_WORDS\n",
    "print(stop_words)"
   ]
  },
  {
   "cell_type": "markdown",
   "metadata": {},
   "source": [
    "You should have seen a large list of words that looks like:\n",
    "\n",
    "```frozenset({'across', 'mine', 'cannot', ...})```\n",
    "\n",
    "`frozenset` is a type of Python object that is immutable. In this lab you can use it just like an array without conversion."
   ]
  },
  {
   "cell_type": "markdown",
   "metadata": {},
   "source": [
    "Next, test your function with supplying `stop_words.ENGLISH_STOP_WORDS` as the second parameter."
   ]
  },
  {
   "cell_type": "code",
   "execution_count": 26,
   "metadata": {},
   "outputs": [
    {
     "name": "stdout",
     "output_type": "stream",
     "text": [
      "{'bag of words': ['ironhack', 'cool', 'love', 'student'], 'term_freq': [[1, 1, 0, 0], [1, 0, 1, 0], [1, 0, 0, 1]]}\n"
     ]
    }
   ],
   "source": [
    "bow2 = get_bow_from_docs(docs, stop_words)\n",
    "print(bow2)"
   ]
  },
  {
   "cell_type": "markdown",
   "metadata": {},
   "source": [
    "You should have seen:\n",
    "\n",
    "```{'bag_of_words': ['ironhack', 'cool', 'love', 'student'], 'term_freq': [[1, 1, 0, 0], [1, 0, 1, 0], [1, 0, 0, 1]]}```"
   ]
  },
  {
   "cell_type": "code",
   "execution_count": null,
   "metadata": {},
   "outputs": [],
   "source": []
  },
  {
   "cell_type": "code",
   "execution_count": null,
   "metadata": {},
   "outputs": [],
   "source": []
  }
 ],
 "metadata": {
  "kernelspec": {
   "display_name": "Python 3",
   "language": "python",
   "name": "python3"
  },
  "language_info": {
   "codemirror_mode": {
    "name": "ipython",
    "version": 3
   },
   "file_extension": ".py",
   "mimetype": "text/x-python",
   "name": "python",
   "nbconvert_exporter": "python",
   "pygments_lexer": "ipython3",
   "version": "3.7.4"
  }
 },
 "nbformat": 4,
 "nbformat_minor": 2
}
