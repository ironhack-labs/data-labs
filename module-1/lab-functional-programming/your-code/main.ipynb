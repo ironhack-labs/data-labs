{
 "cells": [
  {
   "cell_type": "markdown",
   "metadata": {},
   "source": [
    "# Before your start:\n",
    "- Read the README.md file\n",
    "- Comment as much as you can and use the resources in the README.md file\n",
    "- Happy learning!"
   ]
  },
  {
   "cell_type": "code",
   "execution_count": 46,
   "metadata": {},
   "outputs": [],
   "source": [
    "import numpy as np\n",
    "import pandas as pd"
   ]
  },
  {
   "cell_type": "markdown",
   "metadata": {},
   "source": [
    "# Challenge 1 - Iterators, Generators and `yield`. \n",
    "\n",
    "In iterator in Python is an object that represents a stream of data. However, iterators contain a countable number of values. We traverse through the iterator and return one value at a time. All iterators support a `next` function that allows us to traverse through the iterator. We can create an iterator using the `iter` function that comes with the base package of Python. Below is an example of an iterator."
   ]
  },
  {
   "cell_type": "code",
   "execution_count": 2,
   "metadata": {},
   "outputs": [
    {
     "name": "stdout",
     "output_type": "stream",
     "text": [
      "1\n"
     ]
    }
   ],
   "source": [
    "# We first define our iterator:\n",
    "\n",
    "iterator = iter([1,2,3])\n",
    "\n",
    "# We can now iterate through the object using the next function\n",
    "\n",
    "print(next(iterator))"
   ]
  },
  {
   "cell_type": "code",
   "execution_count": 3,
   "metadata": {},
   "outputs": [
    {
     "name": "stdout",
     "output_type": "stream",
     "text": [
      "2\n"
     ]
    }
   ],
   "source": [
    "# We continue to iterate through the iterator.\n",
    "\n",
    "print(next(iterator))"
   ]
  },
  {
   "cell_type": "code",
   "execution_count": 4,
   "metadata": {},
   "outputs": [
    {
     "name": "stdout",
     "output_type": "stream",
     "text": [
      "3\n"
     ]
    }
   ],
   "source": [
    "print(next(iterator))"
   ]
  },
  {
   "cell_type": "code",
   "execution_count": 5,
   "metadata": {},
   "outputs": [
    {
     "ename": "StopIteration",
     "evalue": "",
     "output_type": "error",
     "traceback": [
      "\u001b[1;31m---------------------------------------------------------------------------\u001b[0m",
      "\u001b[1;31mStopIteration\u001b[0m                             Traceback (most recent call last)",
      "\u001b[1;32m<ipython-input-5-91070dc82d50>\u001b[0m in \u001b[0;36m<module>\u001b[1;34m()\u001b[0m\n\u001b[0;32m      1\u001b[0m \u001b[1;31m# After we have iterated through all elements, we will get a StopIteration Error\u001b[0m\u001b[1;33m\u001b[0m\u001b[1;33m\u001b[0m\u001b[0m\n\u001b[0;32m      2\u001b[0m \u001b[1;33m\u001b[0m\u001b[0m\n\u001b[1;32m----> 3\u001b[1;33m \u001b[0mprint\u001b[0m\u001b[1;33m(\u001b[0m\u001b[0mnext\u001b[0m\u001b[1;33m(\u001b[0m\u001b[0miterator\u001b[0m\u001b[1;33m)\u001b[0m\u001b[1;33m)\u001b[0m\u001b[1;33m\u001b[0m\u001b[0m\n\u001b[0m",
      "\u001b[1;31mStopIteration\u001b[0m: "
     ]
    }
   ],
   "source": [
    "# After we have iterated through all elements, we will get a StopIteration Error\n",
    "\n",
    "print(next(iterator))"
   ]
  },
  {
   "cell_type": "code",
   "execution_count": 6,
   "metadata": {},
   "outputs": [
    {
     "name": "stdout",
     "output_type": "stream",
     "text": [
      "1\n",
      "2\n",
      "3\n"
     ]
    }
   ],
   "source": [
    "# We can also iterate through an iterator using a for loop like this:\n",
    "# Note: we cannot go back directly in an iterator once we have traversed through the elements. \n",
    "# This is why we are redefining the iterator below\n",
    "\n",
    "iterator = iter([1,2,3])\n",
    "\n",
    "for i in iterator:\n",
    "    print(i)"
   ]
  },
  {
   "cell_type": "markdown",
   "metadata": {},
   "source": [
    "In the cell below, write a function that takes an iterator and returns the first element in the iterator and returns the first element in the iterator that is divisible by 2. Assume that all iterators contain only numeric data. If we have not found a single element that is divisible by 2, return zero."
   ]
  },
  {
   "cell_type": "code",
   "execution_count": 36,
   "metadata": {},
   "outputs": [
    {
     "name": "stdout",
     "output_type": "stream",
     "text": [
      "2\n"
     ]
    }
   ],
   "source": [
    "# the question isn't asking us to return two values, the iterator in the function\n",
    "# will return the first element in the iterator, and our function's overall job is go through each element\n",
    "# and return the first one evenly divisible by 2, or return zero if no element matches that condition\n",
    "\n",
    "def divisible2(iterator):\n",
    "    # This function takes an iterable and returns the first element that is divisible by 2 and zero otherwise\n",
    "    # Input: Iterable\n",
    "    # Output: Integer\n",
    "    \n",
    "    # Sample Input: iter([1,2,3])\n",
    "    # Sample Output: 2\n",
    "    \n",
    "    # Your code here:\n",
    "    evens = []\n",
    "    for i in iterator:\n",
    "        #print(i)\n",
    "        if i % 2 == 0:  # if i is evenly divisible by 2, then\n",
    "            evens.append(i)  # put it in the arbitrary list, this is a local variable and will be wiped when function ends\n",
    "    if evens == []:  # no evenly divisible elements are found and appended to my list, so check if empty\n",
    "        return 0\n",
    "    else:\n",
    "        return evens[0]  # to give the first element in the list from the iterator object, lists are ordered\n",
    "    \n",
    "\n",
    "print(divisible2(iter([1,2,3])))\n",
    "\n",
    "#  test to make sure my clause to return zero if no evenly-divisible elements are found\n",
    "#print(divisible2(iter([5,7,9])))\n",
    "#  returns zero, good to go!"
   ]
  },
  {
   "cell_type": "markdown",
   "metadata": {},
   "source": [
    "### Generators\n",
    "\n",
    "It is quite difficult to create your own iterator since you would have to implement a `next` function. Generators are functions that enable us to create iterators. The difference between a function and a generator is that instead of using `return`, we use `yield`. For example, below we have a function that returns an iterator containing the numbers 0 through n:"
   ]
  },
  {
   "cell_type": "code",
   "execution_count": 10,
   "metadata": {},
   "outputs": [],
   "source": [
    "def firstn(n):\n",
    "     number = 0\n",
    "     while number < n:\n",
    "         yield number\n",
    "         number = number + 1"
   ]
  },
  {
   "cell_type": "markdown",
   "metadata": {},
   "source": [
    "If we pass 5 to the function, we will see that we have a iterator containing the numbers 0 through 4."
   ]
  },
  {
   "cell_type": "code",
   "execution_count": 12,
   "metadata": {},
   "outputs": [
    {
     "name": "stdout",
     "output_type": "stream",
     "text": [
      "0\n",
      "1\n",
      "2\n",
      "3\n",
      "4\n"
     ]
    }
   ],
   "source": [
    "iterator = firstn(5)\n",
    "\n",
    "for i in iterator:\n",
    "    print(i)"
   ]
  },
  {
   "cell_type": "markdown",
   "metadata": {},
   "source": [
    "In the cell below, create a generator that takes a number and returns an iterator containing all even numbers between 0 and the number you passed to the generator."
   ]
  },
  {
   "cell_type": "code",
   "execution_count": 44,
   "metadata": {},
   "outputs": [
    {
     "name": "stdout",
     "output_type": "stream",
     "text": [
      "<generator object even_iterator at 0x10845ba98>\n",
      "0\n",
      "2\n",
      "4\n"
     ]
    }
   ],
   "source": [
    "def even_iterator(n):\n",
    "    # This function produces an iterator containing all even numbers between 0 and n\n",
    "    # Input: integer\n",
    "    # Output: iterator\n",
    "    \n",
    "    # Sample Input: 5\n",
    "    # Sample Output: iter([0, 2, 4]) # so it wants 0 to be included\n",
    "    \n",
    "    # Your code here:\n",
    "    number = 0\n",
    "    while number < n:\n",
    "        if number % 2 == 0:\n",
    "            yield number\n",
    "        number += 1\n",
    "\n",
    "\n",
    "iterator = even_iterator(5)\n",
    "print(iterator) # to check to make sure i generated an iterator\n",
    "for i in iterator: # to confirm the function does its math correctly\n",
    "    print(i)"
   ]
  },
  {
   "cell_type": "markdown",
   "metadata": {},
   "source": [
    "# Challenge 2 - Applying Functions to DataFrames\n",
    "\n",
    "In this challenge, we will look at how to transform cells or entire columns at once.\n",
    "\n",
    "First, let's load a dataset. We will download the famous Iris classification dataset in the cell below."
   ]
  },
  {
   "cell_type": "code",
   "execution_count": 47,
   "metadata": {},
   "outputs": [],
   "source": [
    "columns = ['sepal_length', 'sepal_width', 'petal_length','petal_width','iris_type']\n",
    "iris = pd.read_csv(\"https://archive.ics.uci.edu/ml/machine-learning-databases/iris/iris.data\", names=columns)\n",
    "# so this creates a list of column names, and then, when reading the csv, identifies the headers as the items from the list of column names\n"
   ]
  },
  {
   "cell_type": "markdown",
   "metadata": {},
   "source": [
    "Let's look at the dataset using the `head` function."
   ]
  },
  {
   "cell_type": "code",
   "execution_count": 50,
   "metadata": {},
   "outputs": [
    {
     "name": "stdout",
     "output_type": "stream",
     "text": [
      "   sepal_length  sepal_width  petal_length  petal_width    iris_type\n",
      "0           5.1          3.5           1.4          0.2  Iris-setosa\n",
      "1           4.9          3.0           1.4          0.2  Iris-setosa\n",
      "2           4.7          3.2           1.3          0.2  Iris-setosa\n",
      "3           4.6          3.1           1.5          0.2  Iris-setosa\n",
      "4           5.0          3.6           1.4          0.2  Iris-setosa\n"
     ]
    }
   ],
   "source": [
    "# Your code here:\n",
    "print(iris.head())"
   ]
  },
  {
   "cell_type": "markdown",
   "metadata": {},
   "source": [
    "Let's start off by using built-in functions. Try to apply the numpy mean function and describe what happens in the comments of the code."
   ]
  },
  {
   "cell_type": "code",
   "execution_count": 58,
   "metadata": {},
   "outputs": [
    {
     "name": "stdout",
     "output_type": "stream",
     "text": [
      "sepal_length    5.843333\n",
      "sepal_width     3.054000\n",
      "petal_length    3.758667\n",
      "petal_width     1.198667\n",
      "dtype: float64\n"
     ]
    }
   ],
   "source": [
    "# Your code here:\n",
    "print(np.mean(iris)) # same as iris.mean(), it iterates through each column (checking first to see if numberical data is found)\n",
    "\n",
    "# and computes the mean of the values in the column\n",
    "# and also returns the datatype\n",
    "\n"
   ]
  },
  {
   "cell_type": "markdown",
   "metadata": {},
   "source": [
    "Next, we'll apply the standard deviation function in numpy (`np.std`). Describe what happened in the comments."
   ]
  },
  {
   "cell_type": "code",
   "execution_count": 60,
   "metadata": {},
   "outputs": [
    {
     "name": "stdout",
     "output_type": "stream",
     "text": [
      "sepal_length    0.825301\n",
      "sepal_width     0.432147\n",
      "petal_length    1.758529\n",
      "petal_width     0.760613\n",
      "dtype: float64\n"
     ]
    }
   ],
   "source": [
    "# Your code here:\n",
    "print(np.std(iris)) # every value in the column is involved in computing the column's standard deviation\n",
    "# this means that every value in the column is subtracted against the column's mean, the difference is squared, \n",
    "# and summed with the squared difference of every other value-mean in the column. \n",
    "# that summation is divided by n-1, or the \"length of the column less 1\"\n",
    "# finally, the function returns the square root of the (summation/n-1)\n",
    "# and then it moves to the next column in line, ignoring column with non-numerical data types\n",
    "\n"
   ]
  },
  {
   "cell_type": "markdown",
   "metadata": {},
   "source": [
    "The measurements are in centimeters. Let's convert them all to inches. First, we will create a dataframe that contains only the numeric columns. Assign this new dataframe to `iris_numeric`."
   ]
  },
  {
   "cell_type": "code",
   "execution_count": 62,
   "metadata": {},
   "outputs": [
    {
     "name": "stdout",
     "output_type": "stream",
     "text": [
      "   sepal_length  sepal_width  petal_length  petal_width\n",
      "0           5.1          3.5           1.4          0.2\n",
      "1           4.9          3.0           1.4          0.2\n",
      "2           4.7          3.2           1.3          0.2\n",
      "3           4.6          3.1           1.5          0.2\n",
      "4           5.0          3.6           1.4          0.2\n"
     ]
    }
   ],
   "source": [
    "# Your code here:\n",
    "iris_numeric = pd.DataFrame(iris._get_numeric_data()) # create a dataframe out of only the numeric data\n",
    "#print(iris_numeric.head())\n"
   ]
  },
  {
   "cell_type": "markdown",
   "metadata": {},
   "source": [
    "Next, we will write a function that converts centimeters to inches in the cell below. Recall that 1cm = 0.393701in."
   ]
  },
  {
   "cell_type": "code",
   "execution_count": 63,
   "metadata": {},
   "outputs": [
    {
     "name": "stdout",
     "output_type": "stream",
     "text": [
      "0.393701\n"
     ]
    }
   ],
   "source": [
    "def cm_to_in(x):\n",
    "    # This function takes in a numeric value in centimeters and converts it to inches\n",
    "    # Input: numeric value\n",
    "    # Output: float\n",
    "    \n",
    "    # Sample Input: 1.0\n",
    "    # Sample Output: 0.393701\n",
    "    \n",
    "    # Your code here:\n",
    "    return x * 0.393701\n",
    "\n",
    "#print(cm_to_in(1))"
   ]
  },
  {
   "cell_type": "markdown",
   "metadata": {},
   "source": [
    "Now convert all columns in `iris_numeric` to inches in the cell below. We like to think of functional transformations as immutable. Therefore, save the transformed data in a dataframe called `iris_inch`."
   ]
  },
  {
   "cell_type": "code",
   "execution_count": 66,
   "metadata": {},
   "outputs": [
    {
     "name": "stdout",
     "output_type": "stream",
     "text": [
      "   sepal_length  sepal_width  petal_length  petal_width\n",
      "0      2.007875     1.377954      0.551181      0.07874\n",
      "1      1.929135     1.181103      0.551181      0.07874\n",
      "2      1.850395     1.259843      0.511811      0.07874\n",
      "3      1.811025     1.220473      0.590552      0.07874\n",
      "4      1.968505     1.417324      0.551181      0.07874\n"
     ]
    }
   ],
   "source": [
    "# Your code here:\n",
    "def convert(df):\n",
    "    iris_inch = pd.DataFrame(cm_to_in(df)) # create a new dataframe comprised of values retrieved from the cm_to_in converter function\n",
    "    return iris_inch\n",
    "\n",
    "print(convert(iris_numeric).head()) # added .head() method for easier visual\n",
    "      \n",
    "    \n"
   ]
  },
  {
   "cell_type": "markdown",
   "metadata": {},
   "source": [
    "We have just found that the original measurements were off by a constant. Define the global constant `error` and set it to 2. Write a function that uses the global constant and adds it to each cell in the dataframe. Apply this function to `iris_numeric` and save the result in `iris_constant`."
   ]
  },
  {
   "cell_type": "code",
   "execution_count": 70,
   "metadata": {},
   "outputs": [
    {
     "name": "stdout",
     "output_type": "stream",
     "text": [
      "   sepal_length  sepal_width  petal_length  petal_width\n",
      "0           7.1          5.5           3.4          2.2\n",
      "1           6.9          5.0           3.4          2.2\n",
      "2           6.7          5.2           3.3          2.2\n",
      "3           6.6          5.1           3.5          2.2\n",
      "4           7.0          5.6           3.4          2.2\n"
     ]
    }
   ],
   "source": [
    "# Define constant below:\n",
    "error = 2\n",
    "\n",
    "def add_constant(x):\n",
    "    # This function adds a global constant to our input.\n",
    "    # Input: numeric value\n",
    "    # Output: numeric value\n",
    "    \n",
    "    # Your code here:\n",
    "    global error\n",
    "    return x + error\n",
    "    \n",
    "iris_constant = pd.DataFrame(add_constant(iris_numeric))\n",
    "print(iris_constant.head())\n"
   ]
  },
  {
   "cell_type": "markdown",
   "metadata": {},
   "source": [
    "# Bonus Challenge - Applying Functions to Columns\n",
    "\n",
    "Read more about applying functions to either rows or columns [here](https://pandas.pydata.org/pandas-docs/stable/generated/pandas.DataFrame.apply.html) and write a function that computes the maximum value for each row of `iris_numeric`"
   ]
  },
  {
   "cell_type": "code",
   "execution_count": 98,
   "metadata": {},
   "outputs": [
    {
     "name": "stdout",
     "output_type": "stream",
     "text": [
      "0    5.1\n",
      "1    4.9\n",
      "2    4.7\n",
      "3    4.6\n",
      "4    5.0\n",
      "dtype: float64\n"
     ]
    }
   ],
   "source": [
    "# Your code here:\n",
    "\n",
    "def returnMax(df):\n",
    "    return df.max(axis=1) # set axis = 1 to have the maximum for the ROW returned. axis=0 as default was returning column data\n",
    "\n",
    "\n",
    "#print(iris_numeric.head())\n",
    "print(returnMax(iris_numeric.head()))\n",
    "\n",
    "\n",
    "\n",
    "    \n"
   ]
  },
  {
   "cell_type": "markdown",
   "metadata": {},
   "source": [
    "Compute the combined lengths for each row and the combined widths for each row using a function. Assign these values to new columns `total_length` and `total_width`."
   ]
  },
  {
   "cell_type": "code",
   "execution_count": 121,
   "metadata": {},
   "outputs": [
    {
     "name": "stdout",
     "output_type": "stream",
     "text": [
      "     sepal_length  sepal_width  petal_length  petal_width  total_length  \\\n",
      "0             5.1          3.5           1.4          0.2        1440.3   \n",
      "1             4.9          3.0           1.4          0.2        1440.3   \n",
      "2             4.7          3.2           1.3          0.2        1440.3   \n",
      "3             4.6          3.1           1.5          0.2        1440.3   \n",
      "4             5.0          3.6           1.4          0.2        1440.3   \n",
      "5             5.4          3.9           1.7          0.4        1440.3   \n",
      "6             4.6          3.4           1.4          0.3        1440.3   \n",
      "7             5.0          3.4           1.5          0.2        1440.3   \n",
      "8             4.4          2.9           1.4          0.2        1440.3   \n",
      "9             4.9          3.1           1.5          0.1        1440.3   \n",
      "10            5.4          3.7           1.5          0.2        1440.3   \n",
      "11            4.8          3.4           1.6          0.2        1440.3   \n",
      "12            4.8          3.0           1.4          0.1        1440.3   \n",
      "13            4.3          3.0           1.1          0.1        1440.3   \n",
      "14            5.8          4.0           1.2          0.2        1440.3   \n",
      "15            5.7          4.4           1.5          0.4        1440.3   \n",
      "16            5.4          3.9           1.3          0.4        1440.3   \n",
      "17            5.1          3.5           1.4          0.3        1440.3   \n",
      "18            5.7          3.8           1.7          0.3        1440.3   \n",
      "19            5.1          3.8           1.5          0.3        1440.3   \n",
      "20            5.4          3.4           1.7          0.2        1440.3   \n",
      "21            5.1          3.7           1.5          0.4        1440.3   \n",
      "22            4.6          3.6           1.0          0.2        1440.3   \n",
      "23            5.1          3.3           1.7          0.5        1440.3   \n",
      "24            4.8          3.4           1.9          0.2        1440.3   \n",
      "25            5.0          3.0           1.6          0.2        1440.3   \n",
      "26            5.0          3.4           1.6          0.4        1440.3   \n",
      "27            5.2          3.5           1.5          0.2        1440.3   \n",
      "28            5.2          3.4           1.4          0.2        1440.3   \n",
      "29            4.7          3.2           1.6          0.2        1440.3   \n",
      "..            ...          ...           ...          ...           ...   \n",
      "120           6.9          3.2           5.7          2.3        1440.3   \n",
      "121           5.6          2.8           4.9          2.0        1440.3   \n",
      "122           7.7          2.8           6.7          2.0        1440.3   \n",
      "123           6.3          2.7           4.9          1.8        1440.3   \n",
      "124           6.7          3.3           5.7          2.1        1440.3   \n",
      "125           7.2          3.2           6.0          1.8        1440.3   \n",
      "126           6.2          2.8           4.8          1.8        1440.3   \n",
      "127           6.1          3.0           4.9          1.8        1440.3   \n",
      "128           6.4          2.8           5.6          2.1        1440.3   \n",
      "129           7.2          3.0           5.8          1.6        1440.3   \n",
      "130           7.4          2.8           6.1          1.9        1440.3   \n",
      "131           7.9          3.8           6.4          2.0        1440.3   \n",
      "132           6.4          2.8           5.6          2.2        1440.3   \n",
      "133           6.3          2.8           5.1          1.5        1440.3   \n",
      "134           6.1          2.6           5.6          1.4        1440.3   \n",
      "135           7.7          3.0           6.1          2.3        1440.3   \n",
      "136           6.3          3.4           5.6          2.4        1440.3   \n",
      "137           6.4          3.1           5.5          1.8        1440.3   \n",
      "138           6.0          3.0           4.8          1.8        1440.3   \n",
      "139           6.9          3.1           5.4          2.1        1440.3   \n",
      "140           6.7          3.1           5.6          2.4        1440.3   \n",
      "141           6.9          3.1           5.1          2.3        1440.3   \n",
      "142           5.8          2.7           5.1          1.9        1440.3   \n",
      "143           6.8          3.2           5.9          2.3        1440.3   \n",
      "144           6.7          3.3           5.7          2.5        1440.3   \n",
      "145           6.7          3.0           5.2          2.3        1440.3   \n",
      "146           6.3          2.5           5.0          1.9        1440.3   \n",
      "147           6.5          3.0           5.2          2.0        1440.3   \n",
      "148           6.2          3.4           5.4          2.3        1440.3   \n",
      "149           5.9          3.0           5.1          1.8        1440.3   \n",
      "\n",
      "     total_width  \n",
      "0         1021.9  \n",
      "1         1021.9  \n",
      "2         1021.9  \n",
      "3         1021.9  \n",
      "4         1021.9  \n",
      "5         1021.9  \n",
      "6         1021.9  \n",
      "7         1021.9  \n",
      "8         1021.9  \n",
      "9         1021.9  \n",
      "10        1021.9  \n",
      "11        1021.9  \n",
      "12        1021.9  \n",
      "13        1021.9  \n",
      "14        1021.9  \n",
      "15        1021.9  \n",
      "16        1021.9  \n",
      "17        1021.9  \n",
      "18        1021.9  \n",
      "19        1021.9  \n",
      "20        1021.9  \n",
      "21        1021.9  \n",
      "22        1021.9  \n",
      "23        1021.9  \n",
      "24        1021.9  \n",
      "25        1021.9  \n",
      "26        1021.9  \n",
      "27        1021.9  \n",
      "28        1021.9  \n",
      "29        1021.9  \n",
      "..           ...  \n",
      "120       1021.9  \n",
      "121       1021.9  \n",
      "122       1021.9  \n",
      "123       1021.9  \n",
      "124       1021.9  \n",
      "125       1021.9  \n",
      "126       1021.9  \n",
      "127       1021.9  \n",
      "128       1021.9  \n",
      "129       1021.9  \n",
      "130       1021.9  \n",
      "131       1021.9  \n",
      "132       1021.9  \n",
      "133       1021.9  \n",
      "134       1021.9  \n",
      "135       1021.9  \n",
      "136       1021.9  \n",
      "137       1021.9  \n",
      "138       1021.9  \n",
      "139       1021.9  \n",
      "140       1021.9  \n",
      "141       1021.9  \n",
      "142       1021.9  \n",
      "143       1021.9  \n",
      "144       1021.9  \n",
      "145       1021.9  \n",
      "146       1021.9  \n",
      "147       1021.9  \n",
      "148       1021.9  \n",
      "149       1021.9  \n",
      "\n",
      "[150 rows x 6 columns]\n"
     ]
    }
   ],
   "source": [
    "# Your code here:\n",
    "# i guess still using iris_numeric ? \n",
    "practicedf = pd.DataFrame(iris_numeric)\n",
    "\n",
    "def combine(df):\n",
    "    df['total_length'] = df['sepal_length'].sum() + df['petal_length'].sum()\n",
    "    df['total_width'] = df['sepal_width'].sum() + df['petal_length'].sum()\n",
    "    return df\n",
    "\n",
    "\n",
    "print(combine(iris_numeric))\n",
    "\n",
    "#  i'm not happy with how this turned out. i want one value, a single sum, in each of the total_length\n",
    "#  and total_width columns. Additionally, my function is far too specific to this one dataframe to be modular.\n",
    "#  how do we skip columns? or perhaps, run the sum only on column names that contain \"length\" or \"width\" in them?\n"
   ]
  },
  {
   "cell_type": "code",
   "execution_count": null,
   "metadata": {},
   "outputs": [],
   "source": []
  }
 ],
 "metadata": {
  "kernelspec": {
   "display_name": "Python 3",
   "language": "python",
   "name": "python3"
  },
  "language_info": {
   "codemirror_mode": {
    "name": "ipython",
    "version": 3
   },
   "file_extension": ".py",
   "mimetype": "text/x-python",
   "name": "python",
   "nbconvert_exporter": "python",
   "pygments_lexer": "ipython3",
   "version": "3.7.3"
  }
 },
 "nbformat": 4,
 "nbformat_minor": 2
}
