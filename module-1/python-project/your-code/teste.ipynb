{
 "cells": [
  {
   "cell_type": "code",
   "execution_count": null,
   "metadata": {},
   "outputs": [
    {
     "name": "stdout",
     "output_type": "stream",
     "text": [
      "You wake up on a couch and find yourself in a strange house with no windows which you have never been to before. You don't remember why you are here and what had happened before. You feel some unknown danger is approaching and you must get out of the house, NOW! You are now in game room.\n"
     ]
    }
   ],
   "source": [
    "print(\"You wake up on a couch and find yourself in a strange house with no windows which you have never been to before. You don't remember why you are here and what had happened before. You feel some unknown danger is approaching and you must get out of the house, NOW! You are now in game room.\")\n",
    "player_choice = input(\"What would you like to do? Type 'explore' or 'examine'?\")\n",
    "key_a = \"false\"\n",
    "game_room : ['couch', 'piano', \"door a\"]\n",
    "\n",
    "if player_choice == \"explore\":\n",
    "    print(\"This is Game Room. You find couch, piano, and Door A.\")\n",
    "    choice_gameroom = input(\"Type: couch, piano or door a\")\n",
    "\n",
    "else:\n",
    "    print(\"What would you like to examine?\")\n",
    "    choice_gameroom = input(\"Type: couch, piano or door a\")\n",
    "    \n",
    "    if choice_gameroom == \"couch\":\n",
    "        print(\"There isn't anything interesting about it.\")\n",
    "        choice_gameroom = input(\"Type: couch, piano or door a\")\n",
    "        \n",
    "    elif choice_gameroom == \"piano\":\n",
    "        print(\"You found the key for door a!\")\n",
    "        key_a = true\n",
    "        \n",
    "    elif choice_gameroom == \"door a\" and key_a == \"true\":\n",
    "        print(\"You unlock it with a key you have!\")\n",
    "        next_level = input(\"Do you want to go to the next room? Type yer or no\")\n",
    "        \n",
    "    elif choice_gameroom == \"door a\" and key_a == \"false\": \n",
    "        print(\"It is locked but you don't have the key.\")\n",
    "        choice_gameroom = input(\"Type: couch, piano or door a\")   \n",
    "            \n",
    "    else:\n",
    "        choice_gameroom = input(\"Type: couch, piano or door a\")\n",
    "            "
   ]
  },
  {
   "cell_type": "code",
   "execution_count": null,
   "metadata": {},
   "outputs": [],
   "source": []
  }
 ],
 "metadata": {
  "kernelspec": {
   "display_name": "Python 3",
   "language": "python",
   "name": "python3"
  },
  "language_info": {
   "codemirror_mode": {
    "name": "ipython",
    "version": 3
   },
   "file_extension": ".py",
   "mimetype": "text/x-python",
   "name": "python",
   "nbconvert_exporter": "python",
   "pygments_lexer": "ipython3",
   "version": "3.7.3"
  }
 },
 "nbformat": 4,
 "nbformat_minor": 2
}
