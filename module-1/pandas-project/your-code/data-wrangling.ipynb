{
 "cells": [
  {
   "cell_type": "markdown",
   "metadata": {},
   "source": []
  },
  {
   "cell_type": "code",
   "execution_count": 1,
   "metadata": {},
   "outputs": [
    {
     "name": "stdout",
     "output_type": "stream",
     "text": [
      "5992\n",
      "0\n",
      "0\n",
      "0\n",
      "Case Number                  0\n",
      "Date                         0\n",
      "Year                         0\n",
      "Type                         0\n",
      "Country                     43\n",
      "Area                       402\n",
      "Location                   496\n",
      "Activity                   527\n",
      "Name                       200\n",
      "Sex                        567\n",
      "Age                       2681\n",
      "Injury                      27\n",
      "Fatal (Y/N)                 19\n",
      "Time                      3213\n",
      "Species                   2934\n",
      "Investigator or Source      15\n",
      "pdf                          0\n",
      "href formula                 1\n",
      "href                         3\n",
      "Case Number.1                0\n",
      "Case Number.2                0\n",
      "dtype: int64\n"
     ]
    }
   ],
   "source": [
    "# DEPENDENCIES\n",
    "import pandas as pd\n",
    "import numpy as np\n",
    "import re\n",
    "# GLOBAL VARIABLES\n",
    "# FUNCTIONS\n",
    "# PROCEDURES\n",
    "raw_data = pd.read_csv('/Users/sampoad/Documents/Ironhack/data-labs/module-1/pandas-project/GSAF5.csv', engine='python')\n",
    "# print(raw_data.head())\n",
    "\n",
    "raw_data = raw_data.drop(columns=['original order', 'Unnamed: 22', 'Unnamed: 23'])\n",
    "# print(raw_data.head())\n",
    "print(len(raw_data['Case Number']))\n",
    "# print(len(raw_data['Case Number.1']))\n",
    "# print(len(raw_data['Case Number.2']))\n",
    "print(raw_data['Case Number'].isnull().sum())\n",
    "print(raw_data['Case Number.1'].isnull().sum())\n",
    "print(raw_data['Case Number.2'].isnull().sum())\n",
    "print(raw_data.isnull().sum())\n",
    "\n"
   ]
  },
  {
   "cell_type": "code",
   "execution_count": 2,
   "metadata": {},
   "outputs": [
    {
     "name": "stdout",
     "output_type": "stream",
     "text": [
      "['Case Number', 'Date', 'Year', 'Type', 'Country', 'Area', 'Location', 'Activity', 'Name', 'Sex ', 'Age', 'Injury', 'Fatal (Y/N)', 'Time', 'Species ', 'Investigator or Source', 'pdf', 'href formula', 'href', 'Case Number.1', 'Case Number.2']\n"
     ]
    }
   ],
   "source": [
    "print(list(raw_data))"
   ]
  },
  {
   "cell_type": "markdown",
   "metadata": {},
   "source": [
    "Since these three Columns appeared to identical for the first five rows, I want to drop the column if they are duplicates."
   ]
  },
  {
   "cell_type": "code",
   "execution_count": 3,
   "metadata": {},
   "outputs": [
    {
     "name": "stdout",
     "output_type": "stream",
     "text": [
      "['Case Number', 'Date', 'Year', 'Type', 'Country', 'Area', 'Location', 'Activity', 'Name', 'Sex ', 'Age', 'Injury', 'Fatal (Y/N)', 'Time', 'Species ', 'Investigator or Source']\n"
     ]
    }
   ],
   "source": [
    "raw_data.drop(['Case Number.1', 'Case Number.2', 'pdf', 'href formula', 'href'], axis = 1, inplace = True)\n",
    "print(list(raw_data))"
   ]
  },
  {
   "cell_type": "code",
   "execution_count": 4,
   "metadata": {},
   "outputs": [
    {
     "name": "stdout",
     "output_type": "stream",
     "text": [
      "Case Number               object\n",
      "Date                      object\n",
      "Year                       int64\n",
      "Type                      object\n",
      "Country                   object\n",
      "Area                      object\n",
      "Location                  object\n",
      "Activity                  object\n",
      "Name                      object\n",
      "Sex                       object\n",
      "Age                       object\n",
      "Injury                    object\n",
      "Fatal (Y/N)               object\n",
      "Time                      object\n",
      "Species                   object\n",
      "Investigator or Source    object\n",
      "dtype: object\n"
     ]
    }
   ],
   "source": [
    "print(raw_data.dtypes)"
   ]
  },
  {
   "cell_type": "code",
   "execution_count": 5,
   "metadata": {},
   "outputs": [
    {
     "name": "stdout",
     "output_type": "stream",
     "text": [
      "         Case Number  Date        Type Country     Area  \\\n",
      "count           5992  5992        5992    5949     5590   \n",
      "unique          5976  5128           6     203      785   \n",
      "top     1907.10.16.R  1957  Unprovoked     USA  Florida   \n",
      "freq               2    11        4386    2116      990   \n",
      "\n",
      "                                Location Activity  Name  Sex    Age Injury  \\\n",
      "count                               5496     5465  5792  5425  3311   5965   \n",
      "unique                              3929     1492  5009     6   151   3595   \n",
      "top     New Smyrna Beach, Volusia County  Surfing  male     M    17  FATAL   \n",
      "freq                                 157      904   495  4835   148    729   \n",
      "\n",
      "       Fatal (Y/N)       Time     Species  Investigator or Source  \n",
      "count         5973       2779         3058                   5977  \n",
      "unique           8        357         1538                   4752  \n",
      "top              N  Afternoon  White shark         C. Moore, GSAF  \n",
      "freq          4315        174          161                     94  \n"
     ]
    }
   ],
   "source": [
    "print(raw_data.drop('Year', axis = 1).describe()) # this lets me review the Summary info for the dataframe minus the Year column which is an integer datatype"
   ]
  },
  {
   "cell_type": "markdown",
   "metadata": {},
   "source": []
  },
  {
   "cell_type": "markdown",
   "metadata": {},
   "source": [
    "I want to drop the rows that do not belong to either Provoked or Unprovoked"
   ]
  },
  {
   "cell_type": "code",
   "execution_count": 6,
   "metadata": {},
   "outputs": [
    {
     "name": "stdout",
     "output_type": "stream",
     "text": [
      "    Case Number       Date  Year        Type    Country      Area  \\\n",
      "0  2016.09.18.c  18-Sep-16  2016  Unprovoked        USA   Florida   \n",
      "1  2016.09.18.b  18-Sep-16  2016  Unprovoked        USA   Florida   \n",
      "2  2016.09.18.a  18-Sep-16  2016  Unprovoked        USA   Florida   \n",
      "3    2016.09.17  17-Sep-16  2016  Unprovoked  AUSTRALIA  Victoria   \n",
      "4    2016.09.15  16-Sep-16  2016  Unprovoked  AUSTRALIA  Victoria   \n",
      "\n",
      "                           Location Activity             Name Sex   Age  \\\n",
      "0  New Smyrna Beach, Volusia County  Surfing             male    M   16   \n",
      "1  New Smyrna Beach, Volusia County  Surfing   Chucky Luciano    M   36   \n",
      "2  New Smyrna Beach, Volusia County  Surfing             male    M   43   \n",
      "3                  Thirteenth Beach  Surfing  Rory Angiolella    M  NaN   \n",
      "4                       Bells Beach  Surfing             male    M  NaN   \n",
      "\n",
      "                                  Injury Fatal (Y/N)   Time   Species   \\\n",
      "0                  Minor injury to thigh           N  13h00        NaN   \n",
      "1                   Lacerations to hands           N  11h00        NaN   \n",
      "2               Lacerations to lower leg           N  10h43        NaN   \n",
      "3           Struck by fin on chest & leg           N    NaN        NaN   \n",
      "4  No injury: Knocked off board by shark           N    NaN  2 m shark   \n",
      "\n",
      "        Investigator or Source  \n",
      "0  Orlando Sentinel, 9/19/2016  \n",
      "1  Orlando Sentinel, 9/19/2016  \n",
      "2  Orlando Sentinel, 9/19/2016  \n",
      "3           The Age, 9/18/2016  \n",
      "4           The Age, 9/16/2016  \n",
      "5992\n",
      "4943\n",
      "Rows Dropped: 1049\n"
     ]
    }
   ],
   "source": [
    "clean_data = raw_data[(raw_data['Type'] == 'Provoked') | (raw_data['Type'] == 'Unprovoked')]\n",
    "print(clean_data.head())\n",
    "\n",
    "print(len(raw_data['Type']))\n",
    "print(len(clean_data['Type']))\n",
    "print(\"Rows Dropped: \" + str(len(raw_data['Type']) - len(clean_data['Type'])))\n"
   ]
  },
  {
   "cell_type": "markdown",
   "metadata": {},
   "source": [
    "Check on nullvalue counts after this drop."
   ]
  },
  {
   "cell_type": "code",
   "execution_count": 7,
   "metadata": {},
   "outputs": [
    {
     "name": "stdout",
     "output_type": "stream",
     "text": [
      "Case Number                  0\n",
      "Date                         0\n",
      "Year                         0\n",
      "Type                         0\n",
      "Country                     30\n",
      "Area                       275\n",
      "Location                   360\n",
      "Activity                   357\n",
      "Name                        82\n",
      "Sex                        227\n",
      "Age                       1928\n",
      "Injury                      16\n",
      "Fatal (Y/N)                  3\n",
      "Time                      2429\n",
      "Species                   2377\n",
      "Investigator or Source      11\n",
      "dtype: int64\n"
     ]
    }
   ],
   "source": [
    "print(clean_data.isnull().sum())"
   ]
  },
  {
   "cell_type": "markdown",
   "metadata": {},
   "source": [
    "Drop the nulls in Country (no meaningful way to replace these)."
   ]
  },
  {
   "cell_type": "code",
   "execution_count": 8,
   "metadata": {
    "scrolled": true
   },
   "outputs": [
    {
     "name": "stdout",
     "output_type": "stream",
     "text": [
      "4943\n",
      "4913\n",
      "    Case Number       Date  Year        Type    Country      Area  \\\n",
      "0  2016.09.18.c  18-Sep-16  2016  Unprovoked        USA   Florida   \n",
      "1  2016.09.18.b  18-Sep-16  2016  Unprovoked        USA   Florida   \n",
      "2  2016.09.18.a  18-Sep-16  2016  Unprovoked        USA   Florida   \n",
      "3    2016.09.17  17-Sep-16  2016  Unprovoked  AUSTRALIA  Victoria   \n",
      "4    2016.09.15  16-Sep-16  2016  Unprovoked  AUSTRALIA  Victoria   \n",
      "\n",
      "                           Location Activity             Name Sex   Age  \\\n",
      "0  New Smyrna Beach, Volusia County  Surfing             male    M   16   \n",
      "1  New Smyrna Beach, Volusia County  Surfing   Chucky Luciano    M   36   \n",
      "2  New Smyrna Beach, Volusia County  Surfing             male    M   43   \n",
      "3                  Thirteenth Beach  Surfing  Rory Angiolella    M  NaN   \n",
      "4                       Bells Beach  Surfing             male    M  NaN   \n",
      "\n",
      "                                  Injury Fatal (Y/N)   Time   Species   \\\n",
      "0                  Minor injury to thigh           N  13h00        NaN   \n",
      "1                   Lacerations to hands           N  11h00        NaN   \n",
      "2               Lacerations to lower leg           N  10h43        NaN   \n",
      "3           Struck by fin on chest & leg           N    NaN        NaN   \n",
      "4  No injury: Knocked off board by shark           N    NaN  2 m shark   \n",
      "\n",
      "        Investigator or Source  \n",
      "0  Orlando Sentinel, 9/19/2016  \n",
      "1  Orlando Sentinel, 9/19/2016  \n",
      "2  Orlando Sentinel, 9/19/2016  \n",
      "3           The Age, 9/18/2016  \n",
      "4           The Age, 9/16/2016  \n"
     ]
    }
   ],
   "source": [
    "print(len(clean_data['Country'])) # returns 4943\n",
    "clean_data = clean_data[clean_data['Country'].notnull()]\n",
    "#filtered_df = df[df['Nums'] > 3]  # Filter out rows where 'Nums' value <= 3\n",
    "print(len(clean_data['Country'])) # now returns 4913\n",
    "#that dropped my thirty rows! \n",
    "print(clean_data.head())"
   ]
  },
  {
   "cell_type": "raw",
   "metadata": {},
   "source": [
    "Drop the rows where Sex was not reported (no meaninful way to replace, and unable to answer my question)\n",
    "But I should have been able to do BOTH in a combined conditional (Country and Sex) try that in the code below"
   ]
  },
  {
   "cell_type": "code",
   "execution_count": 9,
   "metadata": {},
   "outputs": [
    {
     "name": "stdout",
     "output_type": "stream",
     "text": [
      "4913\n",
      "4686\n"
     ]
    }
   ],
   "source": [
    "print(len(clean_data['Country'])) # returns 4913 now because I dropped from above\n",
    "clean_data = clean_data[\n",
    "    (clean_data['Country'].notnull()) &\n",
    "    (clean_data['Sex '].notnull()) # column name Sex had a trailing whitespace that threw me off with a Key Error. should have .strip() the elements in the list of column names! \n",
    "]\n",
    "print(len(clean_data['Country'])) # should return 4913 - 227"
   ]
  },
  {
   "cell_type": "code",
   "execution_count": 10,
   "metadata": {},
   "outputs": [
    {
     "name": "stdout",
     "output_type": "stream",
     "text": [
      "object\n"
     ]
    }
   ],
   "source": [
    "# clean_data = clean_data['Age'].fillna(clean_data['Age'].median()) # need to strip out the alpha characters, convert everything to an integer in this column. Astype or strip it/drop it?\n",
    "# print(clean_data['Age'].isnull().sum())\n",
    "print(clean_data['Age'].dtype)"
   ]
  },
  {
   "cell_type": "markdown",
   "metadata": {},
   "source": [
    "So the above shows me that I have non-integer values in my age column, which I'll need to contend with so that I can replace the null values in the column."
   ]
  },
  {
   "cell_type": "code",
   "execution_count": 11,
   "metadata": {},
   "outputs": [],
   "source": [
    "# clean_data['Age'] = clean_data['Age'].astype('int64') # gives a Type Error? tried a few different formats\n",
    "# clean_data['Age'] = clean_data.astype({'Age':'int64'}) # Same error\n",
    "# print(clean_data['Age'].dtype)\n"
   ]
  },
  {
   "cell_type": "markdown",
   "metadata": {},
   "source": []
  },
  {
   "cell_type": "code",
   "execution_count": 12,
   "metadata": {},
   "outputs": [
    {
     "name": "stdout",
     "output_type": "stream",
     "text": [
      "     Case Number       Date  Year        Type        Country            Area  \\\n",
      "0   2016.09.18.c  18-Sep-16  2016  Unprovoked            USA         Florida   \n",
      "1   2016.09.18.b  18-Sep-16  2016  Unprovoked            USA         Florida   \n",
      "2   2016.09.18.a  18-Sep-16  2016  Unprovoked            USA         Florida   \n",
      "6     2016.09.11  11-Sep-16  2016  Unprovoked            USA         Florida   \n",
      "7     2016.09.07  07-Sep-16  2016  Unprovoked            USA          Hawaii   \n",
      "8     2016.09.06  06-Sep-16  2016  Unprovoked  NEW CALEDONIA  North Province   \n",
      "9   2016.09.05.b  05-Sep-16  2016  Unprovoked            USA  South Carolina   \n",
      "11    2016.09.04  04-Sep-16  2016  Unprovoked            USA         Florida   \n",
      "12    2016.09.01  01-Sep-16  2016  Unprovoked            USA      California   \n",
      "13  2016.08.29.b  29-Aug-16  2016  Unprovoked            USA         Florida   \n",
      "\n",
      "                                           Location         Activity  \\\n",
      "0                  New Smyrna Beach, Volusia County          Surfing   \n",
      "1                  New Smyrna Beach, Volusia County          Surfing   \n",
      "2                  New Smyrna Beach, Volusia County          Surfing   \n",
      "6                     Ponte Vedra, St. Johns County           Wading   \n",
      "7                                      Makaha, Oahu         Swimming   \n",
      "8                                            Koumac     Kite surfing   \n",
      "9   Kingston Plantation, Myrtle Beach, Horry County  Boogie boarding   \n",
      "11                 New Smyrna Beach, Volusia County    Body boarding   \n",
      "12        Refugio State Beach, Santa Barbara County     Spearfishing   \n",
      "13                 New Smyrna Beach, Volusia County          Surfing   \n",
      "\n",
      "                Name Sex   Age                                      Injury  \\\n",
      "0               male    M   16                       Minor injury to thigh   \n",
      "1     Chucky Luciano    M   36                        Lacerations to hands   \n",
      "2               male    M   43                    Lacerations to lower leg   \n",
      "6               male    M  60s                         Minor injury to arm   \n",
      "7             female    F   51    Severe lacerations to shoulder & forearm   \n",
      "8       David Jewell    M   50                                       FATAL   \n",
      "9     Rylie Williams    F   12  Lacerations & punctures to lower right leg   \n",
      "11      Austin Moore    M    9                                 Foot bitten   \n",
      "12  Tyler McQuillen     M   22                 Two toes broken & lacerated   \n",
      "13     Sam Cumiskey     M   25                   Lacerations to right foot   \n",
      "\n",
      "   Fatal (Y/N)            Time          Species        Investigator or Source  \n",
      "0            N           13h00               NaN  Orlando Sentinel, 9/19/2016  \n",
      "1            N           11h00               NaN  Orlando Sentinel, 9/19/2016  \n",
      "2            N           10h43               NaN  Orlando Sentinel, 9/19/2016  \n",
      "6            N           15h15    3' to 4' shark          News4Jax, 9/11/2016  \n",
      "7            N           14h30  Tiger shark, 10?    Hawaii News Now, 9/7/2016  \n",
      "8            Y           15h40               NaN       TVANouvelles, 9/6/2016  \n",
      "9            N  Late afternoon               NaN            C. Creswell, GSAF  \n",
      "11           N             NaN               NaN   Orlando Sentinel, 9/7/2016  \n",
      "12           N             NaN       White shark             R. Collier, GSAF  \n",
      "13           N           15h00    Bull shark, 6'      News Channel 8, 8/30/16  \n"
     ]
    }
   ],
   "source": [
    "clean_data = clean_data[ clean_data['Age'].notnull() ]\n",
    "print(clean_data.head(10))"
   ]
  },
  {
   "cell_type": "code",
   "execution_count": 13,
   "metadata": {},
   "outputs": [
    {
     "name": "stdout",
     "output_type": "stream",
     "text": [
      "object\n"
     ]
    }
   ],
   "source": [
    "# df[df['id'].apply(lambda x: isinstance(x, (int, np.int64)))]\n",
    "# clean_data['Age'] = clean_data['Age'].astype({'Age':int})\n",
    "# clean_data['Age'] = clean_data['Age'].astype(str)\n",
    "# clean_data['Age'] = clean_data['Age'].astype(int)\n",
    "# print(clean_data2['Age'].dtype)\n",
    "# print(clean_data2.head())\n",
    "# df.drop(df.loc[df['line_race']==0].index, inplace=True)\n",
    "# clean_data = clean_data.drop(\n",
    "#     clean_data.loc[\n",
    "#         clean_data['Age'] == '60s'\n",
    "#     ], axis = 1)\n",
    "print(clean_data['Age'].dtype)\n",
    "\n"
   ]
  },
  {
   "cell_type": "code",
   "execution_count": 14,
   "metadata": {},
   "outputs": [
    {
     "name": "stdout",
     "output_type": "stream",
     "text": [
      "['16' '36' '43' '60s' '51' '50' '12' '9' '22' '25' '37' '20' '49' '15'\n",
      " '21' '40' '72' '18' '29' '31' '11' '10' '59' '42' '34' '35' '19' '6' '64'\n",
      " '60' '23' '52' '13' '57' '48' '39' '24' '26' '69' '46' 'Teen' '41' '45'\n",
      " '38' '71' '32' '58' '28' '54' '44' '14' '7' '27' '62' '40s' '68' '47'\n",
      " '17' '30' '65' '63' '70' '18 months' '53' '20s' '33' '30s' '50s' '8' '61'\n",
      " '55' 'teen' '66' '77' '74' '3' '56' '28 & 26' '5' '86' '18 or 20'\n",
      " '12 or 13' '84' '� ' ' ' '30 or 36' '6�' '21 & ?' '33 or 37' 'mid-30s'\n",
      " '73' '20?' \"60's\" '87' 'Elderly' '75' '21 or 26' '>50' '18 to 22' 'adult'\n",
      " '9 months' '25 to 35' '23 & 26' '1' '(adult)' '33 & 37' '25 or 28'\n",
      " '30 & 32' '17 & 35' 'X' '\"middle-age\"' '13 or 18' '33 & 26' '81'\n",
      " '\"young\"' '7 or 8' '8 or 10' 'Both 11' '9 or 10' 'young' '36 & 23' '  '\n",
      " '78' 'A.M.' '10 or 12' '31 or 33' '2�' '13 or 14']\n"
     ]
    }
   ],
   "source": [
    "print(clean_data['Age'].unique())"
   ]
  },
  {
   "cell_type": "code",
   "execution_count": 15,
   "metadata": {},
   "outputs": [
    {
     "name": "stdout",
     "output_type": "stream",
     "text": [
      "0         16\n",
      "1         36\n",
      "2         43\n",
      "6         60\n",
      "7         51\n",
      "8         50\n",
      "9         12\n",
      "11         9\n",
      "12        22\n",
      "13        25\n",
      "14        37\n",
      "15        20\n",
      "16        49\n",
      "17        15\n",
      "18        21\n",
      "19        22\n",
      "20        40\n",
      "21        72\n",
      "23        43\n",
      "24        18\n",
      "25        29\n",
      "26        36\n",
      "28        31\n",
      "30         9\n",
      "31        11\n",
      "34        10\n",
      "36        59\n",
      "38        42\n",
      "39        34\n",
      "40        35\n",
      "        ... \n",
      "5700      18\n",
      "5701      18\n",
      "5718      21\n",
      "5721      22\n",
      "5726      17\n",
      "5730       2\n",
      "5762      15\n",
      "5765      19\n",
      "5780      78\n",
      "5790      29\n",
      "5792      12\n",
      "5802      52\n",
      "5807      17\n",
      "5823      22\n",
      "5837        \n",
      "5844      14\n",
      "5851      19\n",
      "5874      20\n",
      "5879      15\n",
      "5890      21\n",
      "5916      19\n",
      "5928      27\n",
      "5929      36\n",
      "5931      25\n",
      "5932       6\n",
      "5933      16\n",
      "5944      50\n",
      "5955    1314\n",
      "5966      16\n",
      "5991      15\n",
      "Name: Clean Ages, Length: 2981, dtype: object\n"
     ]
    }
   ],
   "source": [
    "# clean_data['Clean Ages'] = re.sub('[^0-9]', '', list(clean_data['Age']))\n",
    "\n",
    "\n",
    "clean_data['Clean Ages'] = clean_data['Age'].apply(lambda x: re.sub('[^0-9]', '', x))\n",
    "print(clean_data['Clean Ages'])"
   ]
  },
  {
   "cell_type": "markdown",
   "metadata": {},
   "source": [
    "That's a value of 1,314, most likely from 13-14 and the regex removing the hyphen..\n",
    "Should have first done a function that recognized a range, and took the mean of the upper and lower bounds.\n",
    "for now, i'll drop anything over 120."
   ]
  },
  {
   "cell_type": "code",
   "execution_count": 16,
   "metadata": {},
   "outputs": [],
   "source": [
    "# clean_data['Clean Ages'] = clean_data['Clean Ages'].notnull()\n",
    "# print(clean_data['Clean Ages'])"
   ]
  },
  {
   "cell_type": "code",
   "execution_count": 17,
   "metadata": {},
   "outputs": [],
   "source": [
    "# clean_data['Clean Ages'] = pd.to_numeric(clean_data['Clean Ages'].astype('int'))\n",
    "# print(clean_data['Clean Ages'].dtype)"
   ]
  },
  {
   "cell_type": "code",
   "execution_count": 22,
   "metadata": {},
   "outputs": [
    {
     "name": "stdout",
     "output_type": "stream",
     "text": [
      "The mean reported age of a shark attack victim is 42.6331641285956\n"
     ]
    }
   ],
   "source": [
    "clean_data['Clean Ages'] = pd.to_numeric(clean_data['Clean Ages'], errors = 'coerce')\n",
    "# print(clean_data['Clean Ages'].max())\n",
    "# clean_data['Clean Ages'] = clean_data['Clean Ages'].dropna()\n",
    "# clean_data['Clean Ages'] = clean_data[\n",
    "#     clean_data['Clean Ages'] <= 120\n",
    "# ]\n",
    "# df[df.id.apply(lambda x: x.isnumeric())]\n",
    "# clean_data['Clean Ages'] = clean_data[clean_data['Clean Ages'].apply(lambda x: x.isnumeric())]\n",
    "# print(clean_data['Clean Ages'])\n",
    "# clean_data['Clean Ages'] = clean_data[\n",
    "#     clean_data['Clean Ages'].astype('int') <= 120\n",
    "# ]\n",
    "# print(clean_data['Clean Ages'])\n",
    "\n",
    "# new_df = df[df['id'].apply(lambda x: type(x) in [int, np.int64, float, np.float64])]\n",
    "# clean_data = clean_data[\n",
    "#     clean_data['Clean Ages'].apply(\n",
    "#         lambda x: isinstance(x, int) in [\n",
    "#             int, np.int64, float, np.float64\n",
    "#         ])\n",
    "# ]\n",
    "# clean_data = clean_data[\n",
    "#     clean_data['Clean Ages'].apply(\n",
    "#         lambda x: isinstance(x, int) ) ]\n",
    "\n",
    "clean_data['Clean Ages'] = clean_data['Clean Ages'].dropna()\n",
    "print(\"The mean reported age of a shark attack victim is \" + str(clean_data['Clean Ages'].mean()))\n",
    "print(\"The median reported age of a shark attack victim is \" + str(clean_data['Clean Ages'].median()))\n",
    "print(\"The most frequently reported age of a shark attack victim is \" + str(clean_data['Clean Ages'].mode()))\n",
    "print(\"The maximum reported age of a shark attack victim is \" + str(clean_data['Clean Ages'].max()))\n",
    "print(\"The minimum reported age of a shark attack victim is \" + str(clean_data['Clean Ages'].min()))"
   ]
  },
  {
   "cell_type": "code",
   "execution_count": 19,
   "metadata": {},
   "outputs": [
    {
     "name": "stdout",
     "output_type": "stream",
     "text": [
      "0      Adult\n",
      "1     Senior\n",
      "2     Senior\n",
      "6        NaN\n",
      "7     Senior\n",
      "8     Senior\n",
      "9      Adult\n",
      "11     Adult\n",
      "12    Senior\n",
      "13    Senior\n",
      "14    Senior\n",
      "15    Senior\n",
      "16    Senior\n",
      "17     Adult\n",
      "18    Senior\n",
      "19    Senior\n",
      "20    Senior\n",
      "21       NaN\n",
      "23    Senior\n",
      "24     Adult\n",
      "25    Senior\n",
      "26    Senior\n",
      "28    Senior\n",
      "30     Adult\n",
      "31     Adult\n",
      "34     Adult\n",
      "36       NaN\n",
      "38    Senior\n",
      "39    Senior\n",
      "40    Senior\n",
      "41     Adult\n",
      "42       NaN\n",
      "43    Senior\n",
      "44    Senior\n",
      "47    Senior\n",
      "48     Adult\n",
      "49    Senior\n",
      "51       NaN\n",
      "52       NaN\n",
      "53    Senior\n",
      "56    Senior\n",
      "57    Senior\n",
      "58     Adult\n",
      "59       NaN\n",
      "60    Senior\n",
      "61     Adult\n",
      "62    Senior\n",
      "63    Senior\n",
      "64       NaN\n",
      "65    Senior\n",
      "Name: Age groups, dtype: category\n",
      "Categories (3, object): [Child-Adolescent < Adult < Senior]\n"
     ]
    }
   ],
   "source": [
    "clean_data['Age groups'] = pd.cut(clean_data['Clean Ages'], [0, 1, 18, 55], labels=['Child-Adolescent', 'Adult', 'Senior'])\n",
    "print(clean_data['Age groups'].head(50))"
   ]
  },
  {
   "cell_type": "code",
   "execution_count": 30,
   "metadata": {},
   "outputs": [
    {
     "name": "stdout",
     "output_type": "stream",
     "text": [
      "The mean reported age of a shark attack victim is 42.6331641285956\n",
      "The median reported age of a shark attack victim is 23.0\n",
      "The maximum reported age of a shark attack victim is 3623.0\n",
      "The minimum reported age of a shark attack victim is 1.0\n"
     ]
    }
   ],
   "source": [
    "clean_data['Clean Ages'] = clean_data['Clean Ages'].dropna()\n",
    "print(\"The mean reported age of a shark attack victim is \" + str(clean_data['Clean Ages'].mean()))\n",
    "print(\"The median reported age of a shark attack victim is \" + str(clean_data['Clean Ages'].median()))\n",
    "print(\"The maximum reported age of a shark attack victim is \" + str(clean_data['Clean Ages'].max()))\n",
    "print(\"The minimum reported age of a shark attack victim is \" + str(clean_data['Clean Ages'].min()))"
   ]
  },
  {
   "cell_type": "code",
   "execution_count": null,
   "metadata": {},
   "outputs": [],
   "source": []
  },
  {
   "cell_type": "code",
   "execution_count": null,
   "metadata": {},
   "outputs": [],
   "source": []
  }
 ],
 "metadata": {
  "kernelspec": {
   "display_name": "Python 3",
   "language": "python",
   "name": "python3"
  },
  "language_info": {
   "codemirror_mode": {
    "name": "ipython",
    "version": 3
   },
   "file_extension": ".py",
   "mimetype": "text/x-python",
   "name": "python",
   "nbconvert_exporter": "python",
   "pygments_lexer": "ipython3",
   "version": "3.7.3"
  }
 },
 "nbformat": 4,
 "nbformat_minor": 2
}
