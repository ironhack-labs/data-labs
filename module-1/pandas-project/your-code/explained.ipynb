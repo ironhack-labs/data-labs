{
 "cells": [
  {
   "cell_type": "code",
   "execution_count": 1,
   "metadata": {},
   "outputs": [],
   "source": [
    "# Imported Libraries\n",
    "\n",
    "import pandas as pd"
   ]
  },
  {
   "cell_type": "code",
   "execution_count": 2,
   "metadata": {},
   "outputs": [],
   "source": [
    "# Importing CSV file into a data frame\n",
    "\n",
    "shark_df = pd.read_csv('GSAF5.csv',encoding ='latin1')\n",
    "\n",
    "shark_df_test = shark_df\n"
   ]
  },
  {
   "cell_type": "code",
   "execution_count": 3,
   "metadata": {},
   "outputs": [
    {
     "name": "stdout",
     "output_type": "stream",
     "text": [
      "Case Number                  0\n",
      "Date                         0\n",
      "Year                         0\n",
      "Type                         0\n",
      "Country                     43\n",
      "Area                       402\n",
      "Location                   496\n",
      "Activity                   527\n",
      "Name                       200\n",
      "Sex                        567\n",
      "Age                       2681\n",
      "Injury                      27\n",
      "Fatal (Y/N)                 19\n",
      "Time                      3213\n",
      "Species                   2934\n",
      "Investigator or Source      15\n",
      "pdf                          0\n",
      "href formula                 1\n",
      "href                         3\n",
      "Case Number.1                0\n",
      "Case Number.2                0\n",
      "original order               0\n",
      "Unnamed: 22               5991\n",
      "Unnamed: 23               5990\n",
      "dtype: int64\n"
     ]
    }
   ],
   "source": [
    "# Shows the amount of null values in all columns\n",
    "\n",
    "nulls = shark_df.isna().sum()\n",
    "print(nulls)"
   ]
  },
  {
   "cell_type": "code",
   "execution_count": 4,
   "metadata": {},
   "outputs": [
    {
     "name": "stdout",
     "output_type": "stream",
     "text": [
      "Case Number\n",
      "Date\n",
      "Year\n",
      "Type\n",
      "Country\n",
      "Area\n",
      "Location\n",
      "Activity\n",
      "Name\n",
      "Sex \n",
      "Injury\n",
      "Fatal (Y/N)\n",
      "Investigator or Source\n",
      "pdf\n",
      "href formula\n",
      "href\n",
      "Case Number.1\n",
      "Case Number.2\n",
      "original order\n"
     ]
    }
   ],
   "source": [
    "# Drops columns with more than 1000 nulls\n",
    "\n",
    "shark_df_test.dropna(axis = 1, thresh = len(shark_df_test) - 1000, inplace = True)\n",
    "\n",
    "for column in shark_df_test:\n",
    "    print(column)"
   ]
  },
  {
   "cell_type": "code",
   "execution_count": 5,
   "metadata": {},
   "outputs": [
    {
     "name": "stdout",
     "output_type": "stream",
     "text": [
      "Case Number\n",
      "Date\n",
      "Year\n",
      "Type\n",
      "Country\n",
      "Area\n",
      "Location\n",
      "Activity\n",
      "Name\n",
      "Sex \n",
      "Injury\n",
      "Fatal (Y/N)\n",
      "Investigator or Source\n",
      "pdf\n",
      "href formula\n",
      "href\n",
      "Case Number.1\n",
      "Case Number.2\n",
      "original order\n"
     ]
    }
   ],
   "source": [
    "#Drops any duplicate column\n",
    "\n",
    "shark_df_test.drop_duplicates(inplace = True)\n",
    "for column in shark_df_test:\n",
    "    print(column)"
   ]
  },
  {
   "cell_type": "code",
   "execution_count": 6,
   "metadata": {},
   "outputs": [
    {
     "name": "stdout",
     "output_type": "stream",
     "text": [
      "Case Number\n",
      "Date\n",
      "Year\n",
      "Type\n",
      "Country\n",
      "Area\n",
      "Location\n",
      "Activity\n",
      "Name\n",
      "Sex \n",
      "Fatal (Y/N)\n"
     ]
    }
   ],
   "source": [
    "#Drops columns deemed not needed\n",
    "\n",
    "shark_df_test.drop(['href formula','href', 'Case Number.1', 'Case Number.2', 'original order', 'Investigator or Source', 'Injury', 'pdf'], axis = 1, inplace = True)\n",
    "for column in shark_df_test:\n",
    "    print(column)"
   ]
  },
  {
   "cell_type": "code",
   "execution_count": 7,
   "metadata": {},
   "outputs": [
    {
     "name": "stdout",
     "output_type": "stream",
     "text": [
      "Case Number      0\n",
      "Date             0\n",
      "Year             0\n",
      "Type             0\n",
      "Country         43\n",
      "Area           402\n",
      "Location       496\n",
      "Activity       527\n",
      "Name           200\n",
      "Sex            567\n",
      "Fatal (Y/N)      0\n",
      "dtype: int64\n"
     ]
    }
   ],
   "source": [
    "# Replace null values in FATAL columns with N\n",
    "\n",
    "shark_df_test[['Fatal (Y/N)']] = shark_df_test[['Fatal (Y/N)']].fillna(axis = 0, value = 'N')\n",
    "\n",
    "nulls_1 = shark_df_test.isna().sum()\n",
    "              \n",
    "print(nulls_1)"
   ]
  },
  {
   "cell_type": "code",
   "execution_count": 8,
   "metadata": {},
   "outputs": [
    {
     "name": "stdout",
     "output_type": "stream",
     "text": [
      "Case Number      0\n",
      "Date             0\n",
      "Year             0\n",
      "Type             0\n",
      "Country          0\n",
      "Area           372\n",
      "Location       463\n",
      "Activity       521\n",
      "Name           195\n",
      "Sex            564\n",
      "Fatal (Y/N)      0\n",
      "dtype: int64\n"
     ]
    }
   ],
   "source": [
    "# Drop rows that have null values in Country column\n",
    "\n",
    "shark_df_test.dropna(axis = 0, subset = ['Country'], inplace = True)\n",
    "\n",
    "nulls_1 = shark_df_test.isna().sum()\n",
    "              \n",
    "print(nulls_1)"
   ]
  },
  {
   "cell_type": "code",
   "execution_count": 9,
   "metadata": {},
   "outputs": [
    {
     "name": "stdout",
     "output_type": "stream",
     "text": [
      "['Unprovoked' 'Boat' 'Provoked' 'Sea Disaster' 'Boating']\n"
     ]
    }
   ],
   "source": [
    "#Drop rows where Type = Invalid\n",
    "\n",
    "shark_df_test.drop(shark_df_test.loc[shark_df_test['Type']=='Invalid'].index, inplace=True)\n",
    "\n",
    "print(shark_df_test.Type.unique())"
   ]
  },
  {
   "cell_type": "code",
   "execution_count": 10,
   "metadata": {},
   "outputs": [
    {
     "name": "stdout",
     "output_type": "stream",
     "text": [
      "['Unprovoked' 'Provoked']\n"
     ]
    }
   ],
   "source": [
    "# Replace any value in Type that are not Provoked with Unprovoked\n",
    "\n",
    "shark_df_test.loc[(shark_df_test.Type != 'Provoked'),'Type']='Unprovoked'\n",
    "\n",
    "print(shark_df_test.Type.unique())"
   ]
  },
  {
   "cell_type": "code",
   "execution_count": 11,
   "metadata": {},
   "outputs": [
    {
     "name": "stdout",
     "output_type": "stream",
     "text": [
      "Case Number      0\n",
      "Date             0\n",
      "Year             0\n",
      "Type             0\n",
      "Country          0\n",
      "Area           332\n",
      "Location       415\n",
      "Activity       401\n",
      "Name           143\n",
      "Sex            492\n",
      "Fatal            0\n",
      "dtype: int64\n"
     ]
    }
   ],
   "source": [
    "#Renaming Fatal column\n",
    "\n",
    "shark_df_test.rename({'Fatal (Y/N)': 'Fatal'}, axis = 1, inplace = True)\n",
    "\n",
    "nulls_1 = shark_df_test.isna().sum()\n",
    "              \n",
    "print(nulls_1)"
   ]
  },
  {
   "cell_type": "code",
   "execution_count": 19,
   "metadata": {},
   "outputs": [
    {
     "name": "stdout",
     "output_type": "stream",
     "text": [
      "['No' 'Yes']\n"
     ]
    }
   ],
   "source": [
    "# Replacing values in Fatal with Yes or No\n",
    "\n",
    "shark_df_test[\"Fatal\"].replace(['N',' N', 'N ','n','UNKNOWN'], 'No', inplace = True) \n",
    "\n",
    "shark_df_test[\"Fatal\"].replace('Y', 'Yes', inplace = True)\n",
    "\n",
    "print(shark_df_test.Fatal.unique())"
   ]
  },
  {
   "cell_type": "code",
   "execution_count": null,
   "metadata": {},
   "outputs": [],
   "source": []
  },
  {
   "cell_type": "code",
   "execution_count": null,
   "metadata": {},
   "outputs": [],
   "source": []
  }
 ],
 "metadata": {
  "kernelspec": {
   "display_name": "Python 3",
   "language": "python",
   "name": "python3"
  },
  "language_info": {
   "codemirror_mode": {
    "name": "ipython",
    "version": 3
   },
   "file_extension": ".py",
   "mimetype": "text/x-python",
   "name": "python",
   "nbconvert_exporter": "python",
   "pygments_lexer": "ipython3",
   "version": "3.7.3"
  }
 },
 "nbformat": 4,
 "nbformat_minor": 2
}
