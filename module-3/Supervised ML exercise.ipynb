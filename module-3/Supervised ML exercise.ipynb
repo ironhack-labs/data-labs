{
 "cells": [
  {
   "cell_type": "code",
   "execution_count": 40,
   "metadata": {},
   "outputs": [],
   "source": [
    "import pandas as pd\n",
    "import numpy as np\n",
    "import seaborn as sns\n",
    "\n",
    "np.random.seed(42)"
   ]
  },
  {
   "cell_type": "code",
   "execution_count": 41,
   "metadata": {},
   "outputs": [],
   "source": [
    "train = pd.read_csv('train.csv')\n",
    "num_columns = len(train.columns)\n",
    "pd.set_option(\"display.max_columns\", num_columns)"
   ]
  },
  {
   "cell_type": "code",
   "execution_count": 42,
   "metadata": {},
   "outputs": [
    {
     "name": "stdout",
     "output_type": "stream",
     "text": [
      "(2999, 66)\n"
     ]
    },
    {
     "data": {
      "text/plain": [
       "(8677, 66)"
      ]
     },
     "execution_count": 42,
     "metadata": {},
     "output_type": "execute_result"
    }
   ],
   "source": [
    "test = pd.read_csv('test.csv')\n",
    "num_columns = len(test.columns)\n",
    "print(test.shape)\n",
    "train.shape"
   ]
  },
  {
   "cell_type": "code",
   "execution_count": 43,
   "metadata": {},
   "outputs": [],
   "source": [
    "train.drop(columns = 'C', inplace = True)\n",
    "test.drop(columns = 'A', inplace = True)"
   ]
  },
  {
   "cell_type": "code",
   "execution_count": 45,
   "metadata": {},
   "outputs": [],
   "source": [
    "test.dropna(axis=0, how='any', inplace = True)\n",
    "train.dropna(axis=0, how='any', inplace = True)"
   ]
  },
  {
   "cell_type": "code",
   "execution_count": 47,
   "metadata": {},
   "outputs": [],
   "source": [
    "features = train[[x for x in train if x != '0.4']]\n",
    "target = train['0.4']"
   ]
  },
  {
   "cell_type": "code",
   "execution_count": 48,
   "metadata": {},
   "outputs": [],
   "source": [
    "from sklearn.model_selection import train_test_split\n",
    "\n",
    "train_X, test_X, train_y, test_y = train_test_split(\n",
    "    features,\n",
    "    target, \n",
    "    test_size = .2,\n",
    "    random_state = 42\n",
    ")"
   ]
  },
  {
   "cell_type": "markdown",
   "metadata": {},
   "source": [
    "## Gaussian"
   ]
  },
  {
   "cell_type": "code",
   "execution_count": 49,
   "metadata": {},
   "outputs": [
    {
     "data": {
      "text/plain": [
       "0.875"
      ]
     },
     "execution_count": 49,
     "metadata": {},
     "output_type": "execute_result"
    }
   ],
   "source": [
    "from sklearn.naive_bayes import GaussianNB\n",
    "\n",
    "gaussian = GaussianNB().fit(train_X, train_y)\n",
    "gaussian.score(test_X, test_y)"
   ]
  },
  {
   "cell_type": "markdown",
   "metadata": {},
   "source": [
    "## Bernoulli"
   ]
  },
  {
   "cell_type": "code",
   "execution_count": 50,
   "metadata": {},
   "outputs": [
    {
     "data": {
      "text/plain": [
       "0.4619815668202765"
      ]
     },
     "execution_count": 50,
     "metadata": {},
     "output_type": "execute_result"
    }
   ],
   "source": [
    "from sklearn.naive_bayes import BernoulliNB\n",
    "\n",
    "bernoulli = BernoulliNB().fit(train_X, train_y)\n",
    "bernoulli.score(test_X, test_y)"
   ]
  },
  {
   "cell_type": "markdown",
   "metadata": {},
   "source": [
    "## Robust"
   ]
  },
  {
   "cell_type": "code",
   "execution_count": 51,
   "metadata": {},
   "outputs": [
    {
     "data": {
      "text/plain": [
       "0.7753456221198156"
      ]
     },
     "execution_count": 51,
     "metadata": {},
     "output_type": "execute_result"
    }
   ],
   "source": [
    "from sklearn.preprocessing import RobustScaler\n",
    "\n",
    "scalar = RobustScaler().fit(train_X)\n",
    "knn_robust = KNeighborsClassifier()\n",
    "knn_robust.fit(scalar.transform(train_X), train_y.values.ravel())\n",
    "knn_robust.score(scalar.transform(test_X), test_y)"
   ]
  },
  {
   "cell_type": "markdown",
   "metadata": {},
   "source": [
    "## KNN"
   ]
  },
  {
   "cell_type": "code",
   "execution_count": 52,
   "metadata": {},
   "outputs": [
    {
     "data": {
      "text/plain": [
       "0.6866359447004609"
      ]
     },
     "execution_count": 52,
     "metadata": {},
     "output_type": "execute_result"
    }
   ],
   "source": [
    "from sklearn.neighbors import KNeighborsClassifier\n",
    "\n",
    "knn = KNeighborsClassifier()\n",
    "knn.fit(train_X, train_y.values.ravel())\n",
    "knn.score(test_X, test_y)"
   ]
  },
  {
   "cell_type": "markdown",
   "metadata": {},
   "source": [
    "### RandomForestClassifier"
   ]
  },
  {
   "cell_type": "code",
   "execution_count": 54,
   "metadata": {},
   "outputs": [
    {
     "name": "stderr",
     "output_type": "stream",
     "text": [
      "/Users/anielkaaslan/anaconda3/lib/python3.7/site-packages/sklearn/ensemble/forest.py:245: FutureWarning: The default value of n_estimators will change from 10 in version 0.20 to 100 in 0.22.\n",
      "  \"10 in version 0.20 to 100 in 0.22.\", FutureWarning)\n"
     ]
    },
    {
     "data": {
      "text/plain": [
       "0.8922811059907834"
      ]
     },
     "execution_count": 54,
     "metadata": {},
     "output_type": "execute_result"
    }
   ],
   "source": [
    "from sklearn.ensemble import RandomForestClassifier\n",
    "\n",
    "ks_rf = RandomForestClassifier().fit(train_X, train_y)\n",
    "predictions = ks_rf.predict(test_X)\n",
    "ks_rf.score(test_X, test_y)"
   ]
  },
  {
   "cell_type": "code",
   "execution_count": 56,
   "metadata": {},
   "outputs": [
    {
     "data": {
      "text/plain": [
       "0.9170506912442397"
      ]
     },
     "execution_count": 56,
     "metadata": {},
     "output_type": "execute_result"
    }
   ],
   "source": [
    "from sklearn.ensemble import RandomForestClassifier\n",
    "\n",
    "rf = RandomForestClassifier(n_estimators = 100).fit(train_X, train_y)\n",
    "\n",
    "predicitions = rf.predict(test_X)\n",
    "# predicitions\n",
    "rf.score(test_X, test_y)"
   ]
  },
  {
   "cell_type": "markdown",
   "metadata": {},
   "source": [
    "### LogisticRegression"
   ]
  },
  {
   "cell_type": "code",
   "execution_count": 57,
   "metadata": {},
   "outputs": [
    {
     "name": "stderr",
     "output_type": "stream",
     "text": [
      "/Users/anielkaaslan/anaconda3/lib/python3.7/site-packages/sklearn/linear_model/logistic.py:432: FutureWarning: Default solver will be changed to 'lbfgs' in 0.22. Specify a solver to silence this warning.\n",
      "  FutureWarning)\n",
      "/Users/anielkaaslan/anaconda3/lib/python3.7/site-packages/sklearn/linear_model/logistic.py:469: FutureWarning: Default multi_class will be changed to 'auto' in 0.22. Specify the multi_class option to silence this warning.\n",
      "  \"this warning.\", FutureWarning)\n"
     ]
    },
    {
     "data": {
      "text/plain": [
       "0.33986175115207373"
      ]
     },
     "execution_count": 57,
     "metadata": {},
     "output_type": "execute_result"
    }
   ],
   "source": [
    "from sklearn.linear_model import LogisticRegression\n",
    "\n",
    "log_regr = LogisticRegression(max_iter = 1000)\n",
    "log_regr.fit(train_X, train_y.values.ravel())\n",
    "log_regr.score(test_X, test_y)"
   ]
  },
  {
   "cell_type": "markdown",
   "metadata": {},
   "source": [
    "## TEST"
   ]
  },
  {
   "cell_type": "code",
   "execution_count": 80,
   "metadata": {},
   "outputs": [],
   "source": [
    "features = test[[col for col in test if col != '0.4']]\n",
    "target = test['0.4']"
   ]
  },
  {
   "cell_type": "code",
   "execution_count": 81,
   "metadata": {},
   "outputs": [],
   "source": [
    "from sklearn.model_selection import train_test_split\n",
    "\n",
    "train_X, test_X, train_y, test_y = train_test_split(\n",
    "    features,\n",
    "    target, \n",
    "    test_size = .2,\n",
    "    random_state = 42\n",
    ")"
   ]
  },
  {
   "cell_type": "code",
   "execution_count": 82,
   "metadata": {},
   "outputs": [
    {
     "data": {
      "text/plain": [
       "array([1, 1, 3, 3, 0, 3, 0, 2, 1, 1, 3, 0, 3, 0, 0, 1, 0, 3, 2, 2, 0, 2,\n",
       "       0, 1, 1, 0, 1, 1, 3, 2, 1, 3, 3, 2, 1, 3, 3, 1, 2, 3, 3, 2, 3, 0,\n",
       "       2, 2, 1, 2, 0, 3, 2, 1, 3, 3, 2, 2, 1, 0, 2, 0, 3, 3, 2, 0, 3, 2,\n",
       "       1, 0, 2, 3, 0, 1, 2, 3, 2, 0, 0, 2, 3, 2, 0, 2, 2, 3, 1, 3, 2, 2,\n",
       "       0, 0, 3, 1, 1, 3, 1, 0, 1, 2, 3, 3, 0, 3, 3, 1, 3, 2, 0, 1, 1, 3,\n",
       "       1, 2, 2, 3, 2, 1, 0, 0, 0, 0, 0, 2, 3, 3, 0, 2, 1, 0, 3, 0, 1, 1,\n",
       "       2, 0, 1, 1, 1, 1, 0, 2, 2, 2, 0, 2, 3, 3, 2, 3, 1, 1, 0, 1, 3, 2,\n",
       "       3, 1, 1, 2, 3, 3, 0, 3, 1, 0, 0, 2, 3, 3, 1, 0, 2, 3, 3, 3, 2, 2,\n",
       "       1, 2, 2, 3, 0, 3, 1, 1, 3, 3, 3, 1, 2, 1, 2, 3, 2, 2, 0, 0, 2, 2,\n",
       "       1, 1, 3, 0, 0, 0, 2, 0, 0, 0, 1, 2, 0, 3, 3, 1, 3, 0, 0, 0, 0, 0,\n",
       "       0, 1, 0, 3, 0, 2, 2, 2, 0, 2, 1, 0, 2, 1, 3, 1, 1, 0, 1, 1, 1, 2,\n",
       "       2, 2, 3, 0, 1, 1, 2, 0, 2, 2, 2, 1, 1, 2, 2, 2, 1, 2, 1, 2, 0, 0,\n",
       "       1, 1, 3, 1, 2, 2, 3, 0, 2, 1, 0, 1, 2, 2, 0, 2, 3, 2, 2, 2, 0, 0,\n",
       "       1, 3, 2, 1, 1, 1, 1, 1, 1, 2, 2, 2, 0, 1, 2, 2, 2, 3, 3, 2, 3, 1,\n",
       "       2, 2, 3, 3, 2, 2, 0, 3, 2, 2, 0, 3, 0, 3, 0, 2, 3, 2, 1, 0, 2, 2,\n",
       "       3, 0, 2, 0, 0, 2, 3, 3, 1, 1, 2, 3, 2, 0, 2, 0, 2, 0, 0, 2, 3, 2,\n",
       "       2, 1, 0, 3, 3, 0, 2, 2, 3, 2, 1, 3, 3, 3, 3, 3, 3, 0, 3, 1, 0, 2,\n",
       "       0, 3, 3, 3, 0, 1, 1, 2, 3, 1, 1, 1, 2, 0, 2, 1, 3, 2, 2, 3, 3, 3,\n",
       "       0, 0, 0, 2, 2, 2, 1, 1, 1, 1, 3, 1, 1, 3, 0, 0, 0, 2, 1, 1, 2, 2,\n",
       "       1, 0, 1, 1, 1, 2, 3, 2, 2, 0, 2, 3, 2, 1, 2, 2, 1, 0, 3, 3, 3, 0,\n",
       "       0, 3, 0, 1, 1, 2, 1, 2, 1, 3, 1, 0, 0, 2, 3, 1, 1, 1, 1, 3, 2, 3,\n",
       "       0, 0, 0, 1, 0, 3, 1, 3, 1, 1, 1, 2, 3, 0, 3, 0, 1, 3, 2, 3, 2, 0,\n",
       "       0, 3, 0, 2, 0, 2, 1, 2, 2, 2, 0, 0, 2, 1, 2, 1, 0, 1, 2, 3, 0, 0,\n",
       "       0, 3, 2, 0, 3, 2, 0, 1, 3, 1, 2, 0, 2, 0, 2, 2, 0, 0, 2, 0, 3, 2,\n",
       "       2, 3, 1, 1, 0, 0, 3, 0, 2, 3, 3, 2, 0, 0, 0, 2, 3, 2, 2, 0, 2, 0,\n",
       "       2, 3, 1, 1, 2, 1, 0, 0, 2, 3, 2, 1, 1, 1, 0, 3, 2, 0, 1, 0, 3, 3,\n",
       "       0, 3, 1, 0, 2, 3, 0, 0, 2, 2, 2, 3, 1, 0, 0, 1, 2, 0, 3, 0, 3, 1,\n",
       "       1, 2, 1, 2])"
      ]
     },
     "execution_count": 82,
     "metadata": {},
     "output_type": "execute_result"
    }
   ],
   "source": [
    "from sklearn.ensemble import RandomForestClassifier\n",
    "\n",
    "rf = RandomForestClassifier(n_estimators = 100).fit(train_X, train_y)\n",
    "\n",
    "predicitions = rf.predict(test_X)\n",
    "\n",
    "predicitions"
   ]
  },
  {
   "cell_type": "code",
   "execution_count": 84,
   "metadata": {},
   "outputs": [
    {
     "data": {
      "text/plain": [
       "0.8896321070234113"
      ]
     },
     "execution_count": 84,
     "metadata": {},
     "output_type": "execute_result"
    }
   ],
   "source": [
    "rf.score(test_X, test_y)"
   ]
  },
  {
   "cell_type": "code",
   "execution_count": 85,
   "metadata": {},
   "outputs": [],
   "source": [
    "# clf = Pipeline([\n",
    "#   ('feature_selection', SelectFromModel(LinearSVC(C=0.01, penalty=\"l1\", dual=False))),\n",
    "#   ('classification', RandomForestClassifier())\n",
    "# ])\n",
    "# pipe = clf.fit(train_X, train_y)\n",
    "# pipe.score(test_X, test_y)"
   ]
  },
  {
   "cell_type": "code",
   "execution_count": 64,
   "metadata": {},
   "outputs": [],
   "source": [
    "#predictions2 = pipe.predict(test_X)\n",
    "# predictions2"
   ]
  },
  {
   "cell_type": "code",
   "execution_count": 79,
   "metadata": {},
   "outputs": [
    {
     "data": {
      "text/plain": [
       "-6.393340434669295"
      ]
     },
     "execution_count": 79,
     "metadata": {},
     "output_type": "execute_result"
    }
   ],
   "source": [
    "from sklearn import metrics\n",
    "\n",
    "metrics.r2_score(prediction, test_y)\n"
   ]
  },
  {
   "cell_type": "code",
   "execution_count": null,
   "metadata": {},
   "outputs": [],
   "source": []
  }
 ],
 "metadata": {
  "file_extension": ".py",
  "kernelspec": {
   "display_name": "Python 3",
   "language": "python",
   "name": "python3"
  },
  "language_info": {
   "codemirror_mode": {
    "name": "ipython",
    "version": 3
   },
   "file_extension": ".py",
   "mimetype": "text/x-python",
   "name": "python",
   "nbconvert_exporter": "python",
   "pygments_lexer": "ipython3",
   "version": "3.7.3"
  },
  "mimetype": "text/x-python",
  "name": "python",
  "npconvert_exporter": "python",
  "pygments_lexer": "ipython3",
  "version": 3
 },
 "nbformat": 4,
 "nbformat_minor": 2
}
