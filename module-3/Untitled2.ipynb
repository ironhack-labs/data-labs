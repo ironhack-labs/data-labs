{
 "cells": [
  {
   "cell_type": "code",
   "execution_count": 1,
   "metadata": {},
   "outputs": [],
   "source": [
    "import pandas as pd\n",
    "pd.set_option('display.max_columns', None)\n",
    "import numpy as np\n",
    "import requests\n",
    "from bs4 import BeautifulSoup as bs\n",
    "import re\n",
    "import os"
   ]
  },
  {
   "cell_type": "code",
   "execution_count": 2,
   "metadata": {},
   "outputs": [],
   "source": [
    "felon = 'freelance-felon' #14 pages\n",
    "Dunces = 'ignoramus' #81 pages\n",
    "Deadbeats = 'payday-mayday' #58 pages\n",
    "Racists = 'Unwinnable-race' #6 pages\n",
    "Homophobes = 'Heterosapien' #3 pages\n",
    "Sexist = 'Breasts-and-Brains' #6 pages\n",
    "Frenemies = 'Old-Friend' #4 pages\n",
    "Cryptic = 'Clear-as-coal'#51 pages\n",
    "Ingrates = 'Live-to-work' #24 pages\n",
    "Chaotic_Good = 'hell-michigan' #39 pages"
   ]
  },
  {
   "cell_type": "code",
   "execution_count": 3,
   "metadata": {},
   "outputs": [],
   "source": [
    "def quotes_parser(key, max_pages):\n",
    "    list_of_quotes=[]\n",
    "    for page_number in range(max_pages + 1):\n",
    "        dynamic_url = f\"https://clientsfromhell.net/tag/{key}/page/{page_number}\"\n",
    "        html = requests.get(dynamic_url).content\n",
    "        soup = bs(html, \"html.parser\")\n",
    "        list_of_items = soup.find_all('div',{'class':'w-blog-post-content'})\n",
    "        \n",
    "        for quotes in list_of_items:\n",
    "            list_of_quotes.append(quotes.text)\n",
    "    return list_of_quotes"
   ]
  },
  {
   "cell_type": "code",
   "execution_count": 4,
   "metadata": {},
   "outputs": [],
   "source": [
    "def count_words(word_lists):\n",
    "    dfs = []\n",
    "    for list_ in word_lists:\n",
    "        df = pd.DataFrame()\n",
    "        for word in set(list_):\n",
    "            df[word] = [list_.count(word)]\n",
    "        dfs.append(df)\n",
    "    return pd.concat(dfs, sort = False).reset_index(drop = True)\n",
    "\n"
   ]
  },
  {
   "cell_type": "code",
   "execution_count": 5,
   "metadata": {},
   "outputs": [],
   "source": [
    "corpus_felon = quotes_parser(felon, 14)"
   ]
  },
  {
   "cell_type": "code",
   "execution_count": 32,
   "metadata": {},
   "outputs": [
    {
     "data": {
      "text/plain": [
       "[\"\\n            labor.\\xa0\\nMe: I'                       payment.\\xa0\\nClient:           installation,      week.\\n pass.   calling,  don' respond. Finally:\\xa0\\nClient:\\xa0Hello?\\nMe:\\xa0    evaluation?\\xa0\\nClient:\\xa0Sorry,            someone.          him.\\xa0\\nMe: Uhhh... no.\\xa0          contract.\\nClient:\\xa0 no, no, no, no.        floor.          back.                  in.      exhibit.\\nMe:\\xa0        owner,            don'     them?\\xa0\\xa0\\nClient: YES!        up,           you.          away.\\nMe:\\xa0...\\nClient:\\xa0       us.\\xa0\\nMe:\\xa0     lawyers.\\xa0 \",\n",
       " \"\\n               (      time).  I'            site.\\xa0\\nClient: We'                    running. I'        them.\\nMe:  it, I'  writing...\\nClient:     competitor'   copy-         they'        too.\\xa0\\nMe: ... it.\\n  say, I'      that.               appreciated.\\xa0 \",\n",
       " '\\n       full-   (   trade/ printer),       designer.          forms...\\n\\nClient:  can\\'   proof.       print- proof?\\n\\nMe:        review/ only.     press-    proofing.\\n\\nClient:            changes.    locked.     password?\\n\\nMe:\\xa0    press-    proofing,              protection.               you.      hard-    print.   hard-     charge.              proof?     hard-         brochure?\\n\\nClient:  can\\'      password?        business.         proof.               it.        business.\\n\\nMe: I\\' sorry,  don\\'      kind,   don\\'  press-     purposes.                    quickly.\\n\\nClient:  don\\'   now.           future,          NOW.               file.                     password.\\n\\n        watermark...\\n\\nClient:    acceptable.    this.      it.            file?     now.       me.\\xa0\\nYes. I\\'               press-quality/press-    \"Proof.\" Uh-huh.\\n   point,                 call.     me,            business, etc.                  re-  needed.  Client:\\xa0Fine! I\\'                   print. I\\'       again.\\nBut, wait... wasn\\'   designer?  didn\\'            us? Hmmm.    that.            software; but,             don\\'   bleed!\\xa0 ',\n",
       " \"\\nClient:          reunion.    hours.    this?\\nMe: I'   to!      reunion?\\nClient:\\xa0   [X].      deposit?\\nMe: You'             [Y]   coverage.    cash, cheque,  e-transfer.            to,            cafe?\\nClient:                    person.    this?\\nMe:          time,     cash, cheque,  e-transfer.            to?\\nClient: Good, I'        then.\\n        place.\\nClient:         bank.                     issues.\\n yeah,   scammy...\\nMe:            payment,        I'      work.\\xa0\\n       again.              it.                        to,        bullet. \",\n",
       " '\\n                              websites.          sales, holiday/seasonal- ones.\\n                far. \\nClient:\\xa0Hmmm. No.  don\\'     pictures.  don\\'    Google?\\nMe:  did.       find.\\nClient:\\xa0  check.\\n                filter. \\nClient:\\xa0Oh, hey, see?  one\\' better.\\nMe:\\xa0     copyrighted.   didn\\'         filter,    it\\' copyrighted.\\nClient:\\xa0Naw,           not. I\\'  it.\\n              disbelief.\\nClient:\\xa0Nope! It\\'  copyrighted!\\n                      \" vision.\" ',\n",
       " '\\n     manager.    ago,      non-              violence.  three-                            monument.                    concert.        agreed.       meeting.\\nClient:\\xa0So,        concert,    venue.               free,     C-listers.    A- artists.                 stagehands, greeters, bar-staff, PA’   artists, promotions, etc.  that,     coverage,       campaign.  don’    yet,       designed.         together.  we’           event,         one.\\nMe:\\xa0          event?\\nClient: No, no.\\nMe: Good.\\xa0\\nClient:\\xa0      everything,  don’      decisions.    that: yes.\\nMe:\\xa0...Okay,         person.                 it,             foundation. I\\'     that.\\nClient:\\xa0NO!      us!       business!\\nMe: Okay.         this?\\nClient:\\xa0Pay?  no,  don\\'         volunteers.          we’     fund?            cause!\\xa0\\nMe:\\xa0...\\nClient:\\xa0You’  serious,  shouldn’   serious!\\n      them,  didn’     something,     home, I’    e-          project,            manager.  not-so- declined.\\xa0\\n   later,                  renovations.    \"    us!\"\\xa0 ',\n",
       " '\\nClient: I’          project.\\nMe: Why?      it.\\nClient:        work,  wouldn’   cool.\\nMe:      honest.\\nClient:    conflicted. ',\n",
       " \"\\nI'    developer.          client.     follow- contract.\\n day,       follow- contract,         meeting,               partners.     wasn'   expected,          him.            results.\\nMe:\\xa0 that'  surprise. I'     it.\\xa0\\n  later,                services.\\n\\nClient:\\xa0            on.   not,       contract.\\n  later,   me:\\nClient:\\xa0I'              partner.        there.\\xa0\\xa0\\n                      over.\\xa0         spy.\\xa0\\nMe:\\xa0 I'     that.\\xa0\\nClient:\\xa0Don'  anyone.         NDA.   it, ok?\\n                 contract.          -     -               contract.     (         later)          meeting.\\n   stated,          reasoning,    suit.                      termination. \\n  process,                                    compensations.\\n Ending.\\xa0    contract. \",\n",
       " \"\\nClient: Hi.    Photoshop?\\xa0\\nMe: Yes, I'   Photoshop.     you?\\xa0\\nClient:         editing?\\xa0\\nMe:  editing?\\xa0\\nClient: Yes.    professionally- logo,     edited.\\nMe:  see... Well,      for?\\xa0\\n    low-    watermark.\\nClient:    semi-            better.\\n out,          -       -    logo.        10%    50%     charges,         (    watermark),   he'            wouldn'   remainder.\\xa0\\n  him,       me.     friend,              paying.\\xa0\\n     warning,                 (badly)   watermark,     low-  anyway.     up,  apparently,  wasn'  it.        50%  policy.\\n\\xa0 \",\n",
       " '\\nClient:                   competitions.\\nMe:\\xa0             audience,     website.           sign-                 brand.\\nClient:\\xa0 great.\\nMe:\\xa0Oh, I\\'                action,            campaigns.\\nClient:\\xa0 can\\'            it,      month.\\nMe: OK,                  site.\\nClient:  do.\\n  later:\\nMe:  haven\\'      site.               we\\'     towards?\\xa0\\nClient:\\xa0       month.\\nMe: Fine,           away.  don\\'                 e-     can\\'   database.\\nClient:      website.        can\\'      updates.     database.         won\\' survive!\\nMe: What?        now?  database?         year? Oh,        again,      now?\\n  point,   \"  number\"   responding. Eventually:\\nClient:\\xa0 don\\'        won\\'   you.    immediately.\\nMe:                 months.     fine,     30-  period.     writing.\\nHowever, I\\'          point: he\\'     event,          business.      up:\\xa0\\nMe:\\xa0 don\\'         5,     afloat,         charity?\\nClient:              10,       isn\\'   enough.\\nMe:    10,     5,          event?               I\\'  blame?\\nClient:\\xa0Yes. ',\n",
       " \"\\n            labor.\\xa0\\nMe: I'                       payment.\\xa0\\nClient:           installation,      week.\\n pass.   calling,  don' respond. Finally:\\xa0\\nClient:\\xa0Hello?\\nMe:\\xa0    evaluation?\\xa0\\nClient:\\xa0Sorry,            someone.          him.\\xa0\\nMe: Uhhh... no.\\xa0          contract.\\nClient:\\xa0 no, no, no, no.        floor.          back.                  in.      exhibit.\\nMe:\\xa0        owner,            don'     them?\\xa0\\xa0\\nClient: YES!        up,           you.          away.\\nMe:\\xa0...\\nClient:\\xa0       us.\\xa0\\nMe:\\xa0     lawyers.\\xa0 \",\n",
       " \"\\n               (      time).  I'            site.\\xa0\\nClient: We'                    running. I'        them.\\nMe:  it, I'  writing...\\nClient:     competitor'   copy-         they'        too.\\xa0\\nMe: ... it.\\n  say, I'      that.               appreciated.\\xa0 \",\n",
       " '\\n       full-   (   trade/ printer),       designer.          forms...\\n\\nClient:  can\\'   proof.       print- proof?\\n\\nMe:        review/ only.     press-    proofing.\\n\\nClient:            changes.    locked.     password?\\n\\nMe:\\xa0    press-    proofing,              protection.               you.      hard-    print.   hard-     charge.              proof?     hard-         brochure?\\n\\nClient:  can\\'      password?        business.         proof.               it.        business.\\n\\nMe: I\\' sorry,  don\\'      kind,   don\\'  press-     purposes.                    quickly.\\n\\nClient:  don\\'   now.           future,          NOW.               file.                     password.\\n\\n        watermark...\\n\\nClient:    acceptable.    this.      it.            file?     now.       me.\\xa0\\nYes. I\\'               press-quality/press-    \"Proof.\" Uh-huh.\\n   point,                 call.     me,            business, etc.                  re-  needed.  Client:\\xa0Fine! I\\'                   print. I\\'       again.\\nBut, wait... wasn\\'   designer?  didn\\'            us? Hmmm.    that.            software; but,             don\\'   bleed!\\xa0 ',\n",
       " \"\\nClient:          reunion.    hours.    this?\\nMe: I'   to!      reunion?\\nClient:\\xa0   [X].      deposit?\\nMe: You'             [Y]   coverage.    cash, cheque,  e-transfer.            to,            cafe?\\nClient:                    person.    this?\\nMe:          time,     cash, cheque,  e-transfer.            to?\\nClient: Good, I'        then.\\n        place.\\nClient:         bank.                     issues.\\n yeah,   scammy...\\nMe:            payment,        I'      work.\\xa0\\n       again.              it.                        to,        bullet. \",\n",
       " '\\n                              websites.          sales, holiday/seasonal- ones.\\n                far. \\nClient:\\xa0Hmmm. No.  don\\'     pictures.  don\\'    Google?\\nMe:  did.       find.\\nClient:\\xa0  check.\\n                filter. \\nClient:\\xa0Oh, hey, see?  one\\' better.\\nMe:\\xa0     copyrighted.   didn\\'         filter,    it\\' copyrighted.\\nClient:\\xa0Naw,           not. I\\'  it.\\n              disbelief.\\nClient:\\xa0Nope! It\\'  copyrighted!\\n                      \" vision.\" ',\n",
       " '\\n     manager.    ago,      non-              violence.  three-                            monument.                    concert.        agreed.       meeting.\\nClient:\\xa0So,        concert,    venue.               free,     C-listers.    A- artists.                 stagehands, greeters, bar-staff, PA’   artists, promotions, etc.  that,     coverage,       campaign.  don’    yet,       designed.         together.  we’           event,         one.\\nMe:\\xa0          event?\\nClient: No, no.\\nMe: Good.\\xa0\\nClient:\\xa0      everything,  don’      decisions.    that: yes.\\nMe:\\xa0...Okay,         person.                 it,             foundation. I\\'     that.\\nClient:\\xa0NO!      us!       business!\\nMe: Okay.         this?\\nClient:\\xa0Pay?  no,  don\\'         volunteers.          we’     fund?            cause!\\xa0\\nMe:\\xa0...\\nClient:\\xa0You’  serious,  shouldn’   serious!\\n      them,  didn’     something,     home, I’    e-          project,            manager.  not-so- declined.\\xa0\\n   later,                  renovations.    \"    us!\"\\xa0 ',\n",
       " '\\nClient: I’          project.\\nMe: Why?      it.\\nClient:        work,  wouldn’   cool.\\nMe:      honest.\\nClient:    conflicted. ',\n",
       " \"\\nI'    developer.          client.     follow- contract.\\n day,       follow- contract,         meeting,               partners.     wasn'   expected,          him.            results.\\nMe:\\xa0 that'  surprise. I'     it.\\xa0\\n  later,                services.\\n\\nClient:\\xa0            on.   not,       contract.\\n  later,   me:\\nClient:\\xa0I'              partner.        there.\\xa0\\xa0\\n                      over.\\xa0         spy.\\xa0\\nMe:\\xa0 I'     that.\\xa0\\nClient:\\xa0Don'  anyone.         NDA.   it, ok?\\n                 contract.          -     -               contract.     (         later)          meeting.\\n   stated,          reasoning,    suit.                      termination. \\n  process,                                    compensations.\\n Ending.\\xa0    contract. \",\n",
       " \"\\nClient: Hi.    Photoshop?\\xa0\\nMe: Yes, I'   Photoshop.     you?\\xa0\\nClient:         editing?\\xa0\\nMe:  editing?\\xa0\\nClient: Yes.    professionally- logo,     edited.\\nMe:  see... Well,      for?\\xa0\\n    low-    watermark.\\nClient:    semi-            better.\\n out,          -       -    logo.        10%    50%     charges,         (    watermark),   he'            wouldn'   remainder.\\xa0\\n  him,       me.     friend,              paying.\\xa0\\n     warning,                 (badly)   watermark,     low-  anyway.     up,  apparently,  wasn'  it.        50%  policy.\\n\\xa0 \",\n",
       " '\\nClient:                   competitions.\\nMe:\\xa0             audience,     website.           sign-                 brand.\\nClient:\\xa0 great.\\nMe:\\xa0Oh, I\\'                action,            campaigns.\\nClient:\\xa0 can\\'            it,      month.\\nMe: OK,                  site.\\nClient:  do.\\n  later:\\nMe:  haven\\'      site.               we\\'     towards?\\xa0\\nClient:\\xa0       month.\\nMe: Fine,           away.  don\\'                 e-     can\\'   database.\\nClient:      website.        can\\'      updates.     database.         won\\' survive!\\nMe: What?        now?  database?         year? Oh,        again,      now?\\n  point,   \"  number\"   responding. Eventually:\\nClient:\\xa0 don\\'        won\\'   you.    immediately.\\nMe:                 months.     fine,     30-  period.     writing.\\nHowever, I\\'          point: he\\'     event,          business.      up:\\xa0\\nMe:\\xa0 don\\'         5,     afloat,         charity?\\nClient:              10,       isn\\'   enough.\\nMe:    10,     5,          event?               I\\'  blame?\\nClient:\\xa0Yes. ',\n",
       " '\\n                    with.                        ways.     was,   well,      times.\\n              support:\\nClient:\\xa0            copy?\\nMe: Yeah,        it.\\xa0    work?\\nClient:  exactly.\\xa0     in?\\nMe:  depends...\\nClient:                   removed. * file*\\n\\n                         day.\\xa0                    her.\\xa0\\n      file,     fee,           bill.\\xa0 Instead,        him.\\n\\n      you\\'        (  ex)  \"  FOOTBALL.\" ',\n",
       " '\\n        marketing. \\n    first.\\nClient:       customers,       now.     surgeon,    while,       usual.\\nMe: I’    that. It’            days,     online.\\nClient:  don’       concerns.       services.       business.\\n after,            weren’    resolved.\\n  later,          left,                     services.       involved. ',\n",
       " '\\nI\\'      company.  day,                        \" contest\"  (  #1).\\n     website,                  company\\'   (  #2).   deal, though.        space.\\n        provided,        \" by\"  company\\'  (  #3).    lockup.\\nThen,    client\\'  brief,         photos:\\n\\n company\\'  A,            client\\'  info.\\n company\\'  B,   \"     label\"   it.\\n\\n        people,  couldn\\'           submitted.   eleven,              A.           team.\\n can\\'               this,         paid.   checked,        \"     [client]     refund.\" ',\n",
       " \"\\n         restaurant.                find.\\nClient:            stars.  doesn'            instead?\\nMe: That'   dishonest,  illegal.\\nClient:  what?    stars. \",\n",
       " '\\n    in-     firm, which,  course,      presentations.      I’      competitor’   he’   of,             better,  him.  wasn’    didn’     cringe-worthy,     (        slide,     deck).      low- ‘stretched-to-fit’ clipart,        cartoons,    Snoopy,     watermark.  they’         couldn’      -      slide, they’   “Source:  Images.” ',\n",
       " '\\n         competitor’   “   tweaks”  “copyright’ sake.”Me:\\xa0        lines,               company.Client:\\xa0No, no, no…       same,    colors. ',\n",
       " '\\n                 ago. It’   done. Why? Well…         wanted,        hats,           laws.      weeks,           doesn’    work,      nephew’  club.    texts:Client:\\xa0                 [sic]    old- gloves.Me:\\xa0   like,           me.         theft.Client:\\xa0        theft?Me:\\xa0Yes.          for.\\xa0              theft.Client:\\xa0          business. It’  kids.  profit.Me:\\xa0      profit,        trouble.Client:\\xa0Wow!!  passionate!       stuff.      either,   don’     either.             you.  day- conversation,                               embroidery.                        doesn’  again. ',\n",
       " '\\nI’    photographer,                 “  reunion”  him.     price,          ( I’   him)   further,     along.   me.Client:\\xa0    quote?Me:\\xa0       $$$\\xa0(   I’   him)Client:\\xa0         that.Me:\\xa0        discounted, but, sure,           8.Client:\\xa0Ok!     go.    won’  me.Me:\\xa0…Me:\\xa0         I’    contract.     information,    address,     photos, prints,  works.      “ quote” again.         upon.    $   that.Ok…sure, whatever. I’          agree.              “  in”.     this,       anyway.      check,     envelope,         upon.Me:\\xa0   check,  it’      fee.   pre-    something?Client:\\xa0      $            printing,       $     well.  point,     – but,   didn’      from,     –      difference? Whatever,   – I’    asks. , Me:\\xa0Ok,           DJ.Client:\\xa0       event.What.Me:\\xa0              you? Well, it’          DJ’ information, sure, I’  it.    DJ’   address. I’  Michigan.     Virginia.     California.       nothing.   point,              don’  exist.  well,  client’     understandable.Client:\\xa0  done,           him. Thanks.Me:\\xa0               it.Client:\\xa0        ok.Me: …           you?       question,            I’ 90%   fake.   point,       clearly.                    “ PURPOSES.” Nopenopenopenopenopenope.   check,   police,   report,       photographer,    number. ',\n",
       " '\\nI’  editor,            industry.\\xa0   doctors, fact-      with. It’    people’   involved.                  submitted.    concerns,                  content.          forward, saying:Client:\\xa0            be.        clear.…       coherent, too.  ',\n",
       " '\\n                 territories.      mock-  amazing,                    made,     event.Me:\\xa0Everything’     -     aren’       you’ using?Client:\\xa0  - well,             that.    harsh,     competition,  know!Me:\\xa0    contract.Client:\\xa0Yeah,          together.Me:\\xa0 did.         contract,           other’ events.Client:\\xa0Yeah,     contract,      void!Me:\\xa0     contract?     didn’   promised.Client:\\xa0Well, ummmm… ahhh… sh*t.     f**k-    us?   story:     contract. ',\n",
       " '\\n  education,                       staff. We’     project.Client:\\xa0           redesign.Me:\\xa0Sure. We’         feedback.   meantime,         website?   to,           anxious.              hold- is.Me:\\xa0      back-   website. Yes,           us,              are?Client:\\xa0I’  sure.Me:\\xa0    myself,     somewhere.       where.          website?Client:\\xa0…   dropped.Me:\\xa0…  don’   website,  you? Wow,  didn’      that. Thanks, professor, you’     lesson.      pass, “ trying”. ',\n",
       " '\\nClient:    logo.Me: Sure!     for.Client:       this,   don’    him.Me: That’s… nice.        for?Client:   business.     fabric,   thread,    loop. I’       class.Me:             want?Client:       like,  don’ know.         proofs.Me: Okay,      designs.      like?Client:  don’   colors.Me:     want?Client:  don’ know.Me:        these?Client: Well,    those,    colors.   don’       color,    black, “fat”,    “pop.”Me:                   that.      way.Client:    i’         paper.Me: …I’         there.Client:    clipart.              for.      Google!Me:  can’         logo. That’       sued. \\xa0Client: It’ legal.  it’   it’ free.Me: …Client: Oh! Here!      Google. I’    it.Me: …         I’  done?Client:  don’  so.          don’         did.Me:                 pay.Client: ( response) ',\n",
       " '\\n     e-         paintings.    price,          before,    paint.   draw,     this,     fine,            painting. Weird, right?         too.Now,                      meantime.                   front,          anyway.  wasn’                     paid.     check.      quoted.                     difference.         this,      crap,    project.               check.      it,                 money.   time,      “client”             project.                  canvas. ',\n",
       " '\\n            price. It’  side-  me, \\xa0              money,             $30-$60.\\xa0               traffic.\\xa0                website.        liked:Client:       –      this,   adjustments?  Me:     similar, sure,            plagiarism.           (  mind,        I’             there).\\xa0     don’      it’      for.\\xa0Client:\\xa0                mentioned.\\xa0Me:\\xa0I’      don’  I’      offer. That’  plagiarism.\\xa0       I’               -           code.\\xa0      $   edits.         PixelUnion,  $ theme. ',\n",
       " '\\n           client::Client:       € \\xa0           cash?    3000€  total.Client:      ANYWAYS?Yes,     caps.   course,                             master’ degree?Client:          anyone.…   you’   taxes. Client:          transaction.                taxes. ',\n",
       " '\\nClient: So,   website,               site.Me: Okay,    that. I’   up.                work.\\xa0Client:    doing?      sites!    this!                  other. Client:   that. Also,    question.       [ site],         computer,     them.   that?  ',\n",
       " '\\n            own.   mark-up.\\xa0           THEM.\\xa0 ',\n",
       " '\\n          doesn’      client.         missile.\\xa0I’  ghostwriter.         he’ envisioned.   characters,  universe,         write.      him,            up.\\xa0 later,              book.     a)                  b)       infringment.     “ideas”         wasn’  with.  out,       fanfiction. that’       client’ ideas. ',\n",
       " '\\nClient: we’      invoice.Me: Really? It’ £ +  [    UK,  20%].     that, look,\\nhere’  order…Client: Yes,\\nwe’    £500. We’     VAT.Me: But…   to.\\n    service,   it,       government’ tax,           me.Client: Yes,             expense. We’   20%\\n you’     well. It’    everyone!Me: Uh, that’ illegal.\\xa0Client:    everyone!\\n      ',\n",
       " '\\n             that’            years.    magazine,           website.     B+W,        images; Me: Hey,            issue?                     re-  myself.Client:\\xa0  don’    versions,             file.        images,  i’       stuff, sorry!\\xa0 they’      years,        awful. \\n      ',\n",
       " '\\n          them.\\xa0Me:\\xa0      to,    problem?Client:\\xa0         products!   that!\\nMe: \\n\\n       you,     the…\\nClient: \\n\\nNo!    slideshow!\\nMe:           competitor’      yours?\\nClient:\\xa0Yes. ',\n",
       " '\\nClient:          badge. Me:         agency?Client: No.        one.Me: Okay…             like?     website.     made- “  QUALITY”   products.Client:              have.Me: Look, I’      legal.Client:        BUSINESS.            IT. ',\n",
       " '\\nClient:                  product?Me: Sure,  problem. It’ done.Client:   it!  doesn’    properly.Me: OK. Well,  don’        product.\\n    it,                          week.Client: Oh,  can’    that. Can’            internet? Who’   know? It’   picture.                             brochure.      –   competition.  ',\n",
       " '\\n      cars.               Scooby-    —   covered.     back.\\xa0Client: Yeah,  aren’    anymore.  ‘ off.   don’       I’    it.\\xa0                  would.          run.    store.\\xa0 yeah,       didn’     there. ',\n",
       " '\\n       children’ book.                  person. SEEMED.Client:          day?                 away.Me: Um… okay.  don’   not.                 space.         space,   drew,     fine.      didn’    feedback,          there.        school,       working.    it,              door,        IN.                side,      intentional.      up,      out.        back. Client: I’ sorry!        wouldn’  you.Me:       door.    in,   couldn’  out.Client: …      great! ',\n",
       " '\\nClient:   I’      site’  passwords.Me: That’  ethical,    idea. Also,          somewhere,    can’  them.\\xa0Client:\\xa0\\n\\n\\n\\n\\n\\n\\n\\n\\n\\n\\n\\n\\n\\n\\n\\n\\n     they’   site,                 area.\\n\\n\\n\\nMe:   can’  that,              trust.Client: Look, I’     this.   passwords.\\xa0 ',\n",
       " '\\n           “Vintage”     t-      launch.                    Dept.Client:       “vintage”     t- company.Me: Great!Client: So,    design,          firefighters,        Dept.Me: (   draft)   this?Client: That’ great!       sexy,  know?Me: Okay!Client:    shouldn’   shirts.Me: Okay.Client:          hairy.Me: …Okay?Client:             vulnerable.Me: ….  record,       sent, “  vulnerable”  “ naked.” I’    this,     money.    design,   pseudo-   design.     “wasn’ viable”     me. I’     broke,               best. UGH.\\n\\n  faster.       you.   FREE.\\xa0 ',\n",
       " '\\nMe:               –\\nthey’     results,  they’  royalty-free.        images?\\xa0Client:    them. Okay,  don’       water.               us.\\xa0Me:                website.                          use.     that. ',\n",
       " '\\n      firm.                work.                             place,    email:Client:\\nHey,    started,      “  approval”      standards? \\xa0            customers. Me: Well,  can’     I’    work.\\n   you’     standard,                illegal. And, frankly, unethical.     forth:Client:\\n don’       work, I’ sorry.    conclusion,      that.    thought. \\xa0              client’  standards.                   comment. That’       lying,            “ by” ME.  checked,   enough,   was. That’        touch. Me:              standards.      work,       compliance,\\n       business.Client:\\n   image, it’       like.\\nMe: …  serious?Client:\\nYes.I’   lawyer. ',\n",
       " '\\n          me. Client:\\xa0        event.\\xa0Me:\\xa0Great!\\nWhat’  event?Client:\\xa0        game,        minds,\\nit’ pretend.        pretend?Me:\\xa0Yeah,\\n underst-Client:\\xa0(  off)\\xa0It’  that,  won’  happen. It’     “  [ plant]”  [  team]. Me:\\xa0      that- Client:\\xa0(  off)\\xa0      32nd,       game,  t-shirts,  works!  it’   date,    won’  up,       WE’ WIN!Me: No.Client:  not?Me: It’   scam,  don’      this,         sp-Client: Please?  ',\n",
       " '\\n   occasionally.Client:      data?Me:  usually,  it’     I’  on.Client: But, there’  confidentiality, right?  wouldn’      cops, right?  didn’   job. ',\n",
       " '\\n              “  opportunity.”\\xa0              logo.  that’   enough,            chain,        company’   well.\\xa0 didn’        \\n\\n—\\n\\n            “  Eagle.”  prize?  $    \\n\\n—\\n\\n  I’  wouldn’     they’   oblivion.\\xa0Bonus: here’    pitch, verbatim.\\xa0Client:\\xa0             most.         sucessful,        company.\\xa0         happens,               Alaska. ',\n",
       " '\\nClient:\\xa0          logo.Me:\\xa0Great!\\n        font.Client:\\xa0What!?\\n           created?Me:\\xa0Yes,\\nthat’ right.Client:\\xa0OK,\\nI’   designer.  don’    fonts. luck. ',\n",
       " '\\n haven’        teenager.\\n            designs, logos,\\n websites.             with. However,                     cost. Later,         website, logo,      sister’      $60.\\xa0              engineering,            work.      there. Now,  later,        website:Me:\\xa0         me?Client:\\xa0I’      it!Me:\\xa0  can’  it.Client:\\xa0      time.Me:\\xa0     now.  don’      don’      pay.Client:\\xa0              it? Isn’               in?\\xa0    competitor’ website.\\xa0Me:\\xa0Mom… No.                  competitor’  design.     stone’            base.      notice, “      colors.”\\n\\n>        you?\\n ',\n",
       " '\\n        artist,           group,          endeavor. \\xa0           concept,               assets.   speedbumps,                       of,         had. \\xa0   was,  course,          contract,\\n   hadn’          word.\\n\\xa0         contract,                       work–rather,                       client.      out,       concerns.Me:\\xa0Hey! I’    contract,                          rights.\\xa0       email.    hours,    response:Client:  thing, here’   contract.                added,         found. \\xa0    again:Me:\\xa0Excellent,    much! \\xa0    sign, I’             included, again,     I’      well.Client:              contract.Me:\\xa0  that,      confusion,       stipulations. \\xa0 one-size-fits-       doesn’   me,  I’  self-      you.\\xa0Client: Well, I’   can’        contract,   won’  anyway–you’     game.Me:\\xa0    reassurance,                             worst- scenario.Client: You’  difficult. \\xa0      this. \\xa0You’     that’     this.Me:\\xa0     that,         contract,                 I’    project.                 work,    didn’ work,     “ me”                 for. \\xa0   call,      email:Client:      you?                   rights,                   email. \\xa0  again,  I’      since.>        you? ',\n",
       " '\\n          home.      himself.Client: Hi,     [name],\\nplease?Me: She’    today,      email.Client: Oh.      number, then?Me: Sorry,         number.Client: Oh, sure…\\nIt’    request,       her.Me: Yes,      email.Client:      number?Me: Again,   don’          anyone.Client: Listen,            moment.      [name].\\xa0Me:   that,          email.  she’      number, great,  that’    I’   make.Client:   what, it’ okay. I’    email.     up.         email.\\n>        you? \\n ',\n",
       " '\\n            inspiration.Client:    websites.             website…    clone.        them:  lines,        whitespace.Client:    far,           slideshow?           websites.   later,                     sites,     sizes, fonts,  actions,\\n textures,       widgets. ',\n",
       " '\\nClient:     /    pages. What’   ? [ mispelling]Me:\\xa0         –\\xa0 example,        words,    writing,      two.             July,                else.Meanwhile,       he’  well- plagiarist.Client: Okay,     Action/  - 90, approx.  count?            real,             you.  I’     1,     pages,      first.Me:\\xa0   yesterday,                months.        editor. didn’  back,\\n  freelancer’        around.        editors’  association.             “ edit”,           charge.\\n>        you? \\n ',\n",
       " '\\n                development.             farm.               me:Client:    mean?            documents?Me: Well, yes,  course!               papers.Client:             taxes…         way?Me: Yes,      that,      operator. It`   law.Client:    it, I`       profit. ',\n",
       " '\\nI’                church,     chap. I’       website, we’         it.               he’   site,     suggestions.  “suggestions”             “   from.”            bible. ',\n",
       " '\\n       production.                       at.Me:         into? What’   you’  for?Client:        songs!               didn’    to.Me: Hey,     inspiration,   can’          infringement.Client:      :           songs.\\n>        you? \\n ',\n",
       " '\\n          client.            request: Client: Hey!          they’  “original.”     ideas?I’         “ original”;        and,     search,        artist. \\xa0 ',\n",
       " '\\n2015:Me:             featured?Client: Don’     that.             organizations;         contract.2016:Client:     it’ urgent.Me: What’ wrong?Client:    call,    -  don’            reports.     didn’      language,          GO.                    that.  doesn’    looks, we’     lawsuit. ',\n",
       " '\\n         client.\\n\\xa0             experience.Client:\\xa0      software?Me:\\xa0         Illustrator.Client:\\xa0          software?Me:\\xa0        ago. Wasn’ cheap.Client:           it?Me:\\xa0     for?Client:\\xa0I’           mine.          guy.Me:\\xa0    you’                           do, right?Client:\\xa0 offense. I’                           it.\\n\\xa0 mind,    I’   do, I’    myself.>\\xa0       you?\\xa0 ',\n",
       " '\\n                               for.                       great,       plans.Me:           trivia,  tips, etc.\\xa0Client: No.  don’    those.          photos.       I’  before,         adversity.           “  Goals.”Me:    that,\\n        company. Also,      photos? Client:              bottom.\\xa0Me: That’  infringement!\\xa0Client: It’ fine,           bottom.\\xa0 didn’   there. They’        right. ',\n",
       " '\\nI’   writer,                  behalf.\\xa0Client:\\xa0          –  don’    that?Me:\\xa0Well,  can’   it.    plagiarism.Client:\\xa0Oh. ',\n",
       " '\\nMe:         haven’        poster.Client:        year’ poster. Can’    that?Me: No.\\n       layout.Client: (  later) I’     bail,  can’       time. I’   solution.Me:  ( day, later)      Facebook? You’       down.       it,          it. ',\n",
       " '\\n          print.            tracing, copying,\\n     permission.         immediately;             design.      client’ attention. Client:  don’ worry. I’            legal. ',\n",
       " \"\\n 2009,            firm.            China.      20,   (215,  feet)                  themselves,\\n                 destinations.           warehouse,    worker'                         city.       other,              project,      enthusiastic,   accepted.     flags.  one,      “quirky”     didn’            him.  another,                  made.Me:  can’            –   I’        you. Client:            night.    then.              week.   work,            earnest,             project.                                then.Finally,      couldn’   anymore.                                          warehouse.             up. Client: (   nose) I’       industry. I’  amateur.Me: Okay?Client: I’       walls.\\nMe: They’ not.Client: Well,   case,           windows.  there,  dumbfounded.     working,        was:Me: So…    then?Client:    greenhouse!        morning?  point,   up,     left,   I’           they’           them.      emails,       plaintive.  “quirky”   didn’      year,         projects.          me,      himself.                     duty. \",\n",
       " '\\n              $    brochure.Me:\\n        internet?Client:      good.      good. Fine.         images,   conceded. Client: Great.\\nAlso,              size. Me: Um…\\n     exactly?        size?Client:    me!   this.       immediately. ',\n",
       " '\\n    Director,         position.  candidate’    nice.                     *I*           prior.          idea,        client, etc.        vague.   say,      job.  didn’  anything,  it’    it’    him.            question.   resume,                  printed.             pre-  for. ',\n",
       " '\\n             well- L.A. agency.             appointment.   walls,  nicely,                York.  fact,            me.                    own. didn’   job. ',\n",
       " '\\n long-             we’   him.\\n  mad,   mad.       lawsuit,                   competitor’     product.       work,        down,           him.  say,     impressed. ',\n",
       " '\\n       website.      wanted,   didn’ respond. Instead,          question.Client:\\xa0       website?\\nIt’       exists.Me: No, that’ illegal.  can’   else’ property.Client:\\xa0 there’      it!Me:\\xa0 doesn’ matter, you’   creator,\\n      site.  can’  what’  yours.Client:\\xa0Seriously?   doesn’     info,            down.      it’ plagiarism?Me:  can. It’ plagiarism.Client:     me?Me: … kicker?         off,  you’   I’         work. ',\n",
       " '\\n            driver. “Client”      instance,            me.Client: So,    study?\\nMe:  Design.\\nClient:        computer.\\nMe: Sure.\\nClient:       photos? \\xa0\\nMe: Yeah, that’   it.\\nClient:    documents?\\xa0\\nMe: \\xa0 suppose? Maybe. Depends.\\nClient: So,      document,      says?\\nMe:  could,      copy.\\nClient:       where,       it,    what’       computer? Me: \\xa0I’    doesn’ exist, no.\\xa0\\nClient:  that’   studied!\\nShouldn’  know?        way,\\n      home.   –                isn’  yet.  bad. ',\n",
       " '\\n                 school,\\n  ago. I’              point.                 skills.    ad,   choices,         work.\\xa0\\n didn’         weeks,     didn’  it.   behold,          they’      knowledge.\\xa0\\nI’       didn’   long. ',\n",
       " '\\n          who’        illustrations.       so,\\n      graduate,  didn’     contract.\\n\\xa0   copy- didn’               book.          illustrator,   name,   copyright,     found.Me:       here.      copy-   illustrations.Client: Oh, no.        you.Me:   didn’t.Client:  No,  did.    this.Me: No,  didn’t. Ever.\\xa0Client:  Oh.           recently.     anyway.\\xa0            copy-                   online,      it.              website,       book. \\xa0         copy-                work.   later,                        media. \\xa0 didn’                   it,     down. \\xa0             didn’       printing. ',\n",
       " '\\n       client. I’      privacy,     untouched.Client:                                                                           favour,\\xa0      \\xa0     $      $            /                         $                        account,            account.       “    Scams” policy. ',\n",
       " '\\nMe:\\xa0        design.\\xa0         immediately.Client:\\xa0      logo?Me:\\xa0You’         haven’    it,  yes.        logo.Client:\\xa0     images.\\xa0  done, right?       logo.Me:\\xa0(  later) You’    logo.  you’   illegal. Stop. Client:\\xa0You’   friendly.  I’      services.Me:\\xa0That’ fine.     work.\\xa0Client:\\xa0        b*tches.              “client’s” website.      closed,   served, etc,    later.\\xa0Client:\\xa0        you… NOT. ',\n",
       " '\\n          client.              third.     quarterly.                  them,          day,     good.     edits,       print.\\xa0            third.  ( soon),\\n     content.      -        -            source.       Google,    behold,        journal.       they’ supplied,  I’  printed,         source.     attention,        anyway.          known,  it’     caught. Fortunately,   isn’   publication.       job. ',\n",
       " '\\n          hand-          site.                     goods.      “cheats”     “   lied”,      claims.Me: I’        concerns.   “ content”    contract, I’               it.Client: Fine! I’    touch.                  question.          response.               company.Client’ Lawyer:                                goods.    <client>    is,   opinion,  flawed,     publication,             contract.Client’ Lawyer:         <client>   capacity.          (former)            published,    back. Client:  it! I’         lawyers.Me: No.    relationship,            copy.  it,    “  managers.” ',\n",
       " '\\nI’    illustrator.       children’ books,       t-   well.Recently,                     pay.       pre-                own.Me:\\xa0   that,                   issues.Client:\\xa0It’     project,   don’       copyright.Me:\\xa0Wait,   project?  isn’  you’   homework,  it?Client:\\xa0        business.             appearance.\\xa0That’   don’        it.   simple.    this.   wasn’    someone’         down.         “ Level”     “  credit”      “    it”   didn’ accept.  didn’   mind.Client:\\xa0Ok. It’           you.     this. ',\n",
       " '\\n      client,        images:Client:       Drive, here’  access.       page.Me:\\xa0                       concept?    it, we’      them,\\n  don’          use.Client:\\xa0No.            ago.                  date.Me:\\xa0 I’   can’   images.           website, you’                lasts.    expires,\\n aren’      anymore.Client:\\xa0      they’     Drive,     images, right?Me:\\xa0     them?Client:\\xa0( silence)\\nThey’  images! ',\n",
       " \"\\nI’          portfolio.        &    he’       website,        all,            brown.        basics.Me:   first:              site,          well?Client: \\xa0No,   one.     pixelated, jagged-edged,            Paint. It’   well-        dunk,   art,  watermark,             be.  customer’  name?  Jordan.Me: Uh,    know, it’     else’   that.             it.Client:     about?        business!Me:    aren’   use.          infringement, right?        dollars,\\xa0  fees.    back-and-            email,            ‘ logo'\\xa0  he’    magazines,        materials. Client: You’      stuff, aren’ you?Me: Yes.Client:  can’   relax? fired. \",\n",
       " '\\n     designer.                 website.   details,          products.                        “couldn’    e-mail”.   asked,      30-    only.  arrived,       storehouse,     camera.Client:    database,       selling!  isn’ it?          stickers,       description!Me: Ummm… don’        already?      files.Client:   had,   haven’     years. It’    date.           this?   joking.     photograph, edit,     products,       charge.\\xa0  doesn’  here.    I’   photographer,          competitor’ website,             off,  “  that!”    photos,         designs,    too, “ you’  here.” didn’   long.   quit. ',\n",
       " '\\nI’  in-      house.           stickers.                              client’    sticker.\\xa0Client:   I’  it,\\nthat’  they’   way.Me:   you’     work?Client: Naturally.Me:  That’  plagiarism.Client:     graphics? ',\n",
       " '\\n                 themes.    update,     “Disney”  .          character.        woman’ photo: 1.      2.        “    Frog”\\n3.     .    5.        6.    7.        BeastObviously,   copyright,  couldn’   theme.  don’     anyway. ',\n",
       " '\\n    ago,           website.         concept,         well-            have.          design.  insisted,         asked.  didn’   exactly,      similar.                infringement.\\xa0  later,                design.\\xa0Client: Hey, [  company]      design.       website.   that?                  free.Me:       design,        consequences.Client:       didn’   it.            similar.   now. ',\n",
       " '\\n                     book.               back.Client:\\xa0 you’                 don’ understand. Didn’       you?       .     there.Me:\\xa0 did,  you,       themselves.\\xa0Client:\\xa0  don’  them.  google!Me:\\xa0    permissions?Client:\\xa0                    it,  that’       don’    notice.Me:\\xa0        won’      world.Client:\\xa0Okay,  you’  that.           .        week,        description. ',\n",
       " '\\nClient:              usMe: Yes,    you.          you?Client:       -  we’    it.                 out.Me: Okay,       problem?Client:          us.       great,        $50.     don’     it.Me: …Client:    wouldn’       quality.Me: …Client:                   site.Me: … ',\n",
       " '\\n             design,             client.        job.      reviewed,           good.          design,           design.              site,                 design.   day,          after.Client: Hmm…  don’     all.   what,    X.   X,    inspiration.       work,          design, style,  etc.             unique. Client:   don’   this.   X,     X.      confused,      wanted.       time,      close,     design,           plagiarism.\\xa0Client: Look,    X.          site,          images,      it.        X?           shit!         code,       logos,   it.   it! surprise,    after. ',\n",
       " '\\n               start- company.        later,    this:Client:\\xa0    you’ made,               company’       us.Me:\\xa0I’ sorry,  that’    can’    you.        style, though.Client:\\xa0It’      anyway.    sues,            recognized.  say,    after. ',\n",
       " '\\n                      live.Client: Here’     site.          headings.Me:          rewritten?Client:  need.            it’     is. ',\n",
       " '\\nMe:        res.     copy?Client: Here.       bigger.Me:    this,     blurry.                    version?Client: Actually,        internet.                  it. It’  simple.         logo.  italics,      modern. ',\n",
       " '\\n            client.      lines,      logo.Client:\\xa0             B?Me:\\xa0Sure.   go.Client:\\xa0Oh,  apologies.    “  logo”  didn’       logo.          colors?Me:\\xa0No,  doesn’     guidelines.        logo.Client:\\xa0Ok.     “hospice” then.Me:\\xa0           website?Client:\\xa0Yes.              “hospice.”Me:\\xa0So… no? ',\n",
       " '\\n        client,     committee,      room.            that’      proofing.          location.Client:      photos.          stuff?        property.Me: Okay.       that?    it.Client:       some.Me:  can’  that.    issues.\\n       photography,        that.Client: No, it’   Google!              can’    peoples’ photos.       finally,             it.         in.    said, “Bob,            here?      website.”Bob: No.   it.       Google.        up.Clients: ( unison)    said! ',\n",
       " '\\nMe:\\xa0         for.                 “ ipsum”        assessment.\\xa0\\nClient:\\xa0          pictures? Also, I’         it’ wrong. We’   that! Here’      use.\\n      Google.             image.\\nMe:\\xa0No,         images/    I’             layout.                       you’   layout.     you’ imagined? Also,                them.\\nClient:\\xa0Can’      out? I’        page.          up? ',\n",
       " '\\nClient:\\xa0     president’ [  company]         page.      signature?\\nMe:\\xa0It’   website.\\nClient:\\xa0   security,               immediately.\\xa0\\nMe:\\xa0           website, right?\\xa0\\nClient:\\xa0 don’       it.       now! ',\n",
       " '\\nClient:\\xa0       (      it)\\nMe:\\xa0    Google, right?  don’      it.\\nClient:\\xa0        you,   won’     didn’ request.\\xa0 ',\n",
       " '\\n  on-          church.    great,   quickly.           one,     lot,       clients.\\n                  2003. \\xa0    quote,    later,            them.\\nClient:      site.                      generators.        instead.\\xa0 ',\n",
       " '\\n         client.   months,          it.   replied: \\nMe:     weeks,       first.\\n  months,    email:\\nClient: Ok,  now.\\n  started,      contract.   later,  complained:\\nClient:          date,    don’    anywhere.  won´   anything,        delay.\\nCurrently,    him. ',\n",
       " '\\n  back,              Client:\\xa0 up!       you!\\nMe:\\xa0What’  job?\\nClient:\\xa0              index!\\nMe:\\xa0    illegal,     job.\\nClient:\\xa0        then?!\\nMe:\\xa0   “tester.” ',\n",
       " '\\n        website.            design.      that,   reminders,           provide.  addition,       businesses’ secretary,      charge. \\nMe:\\xa0Hi,            website.\\nClient:\\xa0          website.\\nMe:\\xa0        $1, non-     site, right?     don’      job?\\nClient:\\xa0             site.    didn’            himself.\\nMe:\\xa0           site?  don’          (              copy)…\\nClient:\\xa0            you.\\n     lawyer.\\xa0 ',\n",
       " '\\n                edit. \\nMe:\\xa0Okay,        edited?\\nClient:\\xa0     magic.\\nMe:\\xa0 what?\\nClient:\\xa0 Spiritual. Powerful. Magical!\\nMe:\\xa0So,\\xa0    spells?\\nClient:\\xa0No, no, no.\\xa0       out!        magical.\\nMe:\\xa0   mean?        first?\\nClient:\\xa0You’      them.    ones.\\n  ( shot)         desert. \\nClient:\\xa0Oh!      [ band].\\nMe:\\xa0      them?       don’t.\\nClient:\\xa0   do.    them.\\n    together,     requested,           back.   week,        “ magic,”  unfortunately,                  use. ',\n",
       " '\\n            year;  least,         letter.            due.          –         arrangement.\\n       wishes,               business.\\nMe: \\xa0            files,  didn’           free.                 (     contract)        trouble. Didn’               year?\\nClient:\\xa0No.   I?               year.\\nMe:         email.\\nClient: What!? Why?\\nMe:                              you.\\nClient:    stupid.\\nMe: Agreed. ',\n",
       " '\\nClient: Oh,            copyrighted.   can’    YouTube…\\nMe: Oh, that’ unfortunate.    video, though,       me?      overdue.\\nClient: Oh, I’        one.  can’   :)\\nMe:      song.\\nClient: Nope!\\xa0 ',\n",
       " '\\n            site.                gig,    did. \\n     gig,            ( I’     cards).       photos,      can’       all.\\n   later,         website:\\nClient: Hi.        they’    up.                        me? We’      $   lot.\\n     photos,                software. ',\n",
       " '\\n          weekend.                     morning. \\n  morning…\\nMe:       response;       weekend.         we’          signed- on.     it.\\nClient:       emails! You’     attorney. ',\n",
       " '\\nClient:          banner.\\xa0\\nMe:     image.       we’         watermark.\\xa0\\nClient:     image. Can’     out?\\xa0\\nMe: No,      it.        [   image].\\xa0\\nClient: Okay,         there.     do.\\xa0 ',\n",
       " '\\n        client.                       poster.     watermarks,         ( course)              city.\\nMe:                picture?          permission,    sued,  know?       them,          legally.\\nClient:  don’ know,  mean,        them? Can’          name?\\nI’                “          songs.” ',\n",
       " '\\nClient:\\xa0  differently.\\nMe:\\xa0    differently?\\nClient:\\xa0 don’ know.\\nMe:\\xa0          you’  for.\\xa0\\nClient:\\xa0Fine. Sexier.   sexier.\\n       client’  year- daughter. ',\n",
       " '\\nClient:        work. \\xa0  stuff. \\xa0              it.     bid,   auction.\\nMe:   eBay.\\nClient:    that.\\nMe:     then?\\nClient:        have. ',\n",
       " '\\nClient:     cover,  it’   enough.       effects.\\nMe:         mind?\\nClient:  smoke. ',\n",
       " '\\n                 designers.  signed,   full,         completed.                so.\\n  later,      panic,                         one,       site.       finished,              done,         ASAP.\\n    days,              demands.   seven,        demo,   complete, working,  (  opinion)     her.\\n  later,                           designer.  that’ okay,   “didn’    anyways.”  “ detail.” \\n     back.                                   scope. \\n       suing. ',\n",
       " '\\nClient: Hi! We’   logo! Essentially,       text.   first: we’                flags.          with. We’         sparks.           lettering.    we’         (     jewelry)         faces.\\n      this? We’     that’ animated.\\nMe:\\xa0I’               now:     you’          wouldn’     to. I’              entails.\\nClient: Ugh, I’        boss.         it’         rules. ',\n",
       " '\\nClient:     Dr.     University’ listing.\\nMe:  that’    Michigan’ logo,   State’s.\\nClient:     better,        anyway. ',\n",
       " '\\nClient:    ago,          cards, letterhead,  envelopes,     notices. But,  didn’                hand. Anyway,          it’     order.\\nMe: Alright,               by. I’     that.\\nClient: Well,      week,                   compliance. ',\n",
       " '\\n                mind.           meet,   then,          non-  (NDA)      idea.\\nClient: I’  ( friend)               anyways. \\n   this.\\nMe: Haha, yeah,      lawyer. \\nClient: Oh,         crossbow. \\n     this.\\xa0 ',\n",
       " '\\n        site.     logo,    site,       design.        products.\\nMe:             them?\\nClient:  we’         *********.com’ site.\\nMe:      –   them?\\nClient: Yep,              site.\\nMe:  can’    -\\nClient: Oh,  know!     verbiage,      ours. ',\n",
       " '\\n        report,        deadline:\\nMe:    year’      sudden?\\nClient:       loss. ',\n",
       " '\\nClient:\\xa0     me?\\nMe:\\xa0It’   photo,    illegal.\\nClient:\\xa0    anyway?\\nMe:\\xa0   did,    rejected.\\nClient:\\xa0Won’    that? ',\n",
       " '\\nClient:       website?\\nMe:                doesn’     want.\\nClient:  don’   photos.\\nMe: OK,           watermarks.         high-       Client: Really?\\xa0        those?\\nMe:  what?   photos?\\nClient:  watermarks. ',\n",
       " '\\n             company’  website.       client,                 site.\\xa0\\nMe:  don’     that.\\nClient: That’   problem,   out!\\n  day,                website.\\nClient: I’      photos!          can’   theirs!\\n   quit.\\xa0 ',\n",
       " '\\n                  daughter’    photos.\\xa0              more.                          studio.         prints.             “        studio’ logo”. \\n     her,                  was. ',\n",
       " '\\n  part- photographer,      seriously.           that.\\nClient:        picture?\\nMe:  no.    allowed.\\nClient:    mean?\\nMe:     photographer’  property.               permission.\\nClient:   don’   equipment?  can’  it?      machines,     it.\\nMe:    it, I’    to.  theory,     copy.  practice,       photographer’ work.\\nClient:  I’      before.\\nMe:      law. I’ sorry,   can’  you.     job,  fined,    jail. It’  law.\\nClient:  don’ understand.     door,       anybody,  it’ okay…\\nMe:      door,     colleague,   don’  anybody,   okay?\\n left. ',\n",
       " '\\n   long,       company,    due.\\nMe:     contract,    X.\\nClient: That’     money.    don’         models?\\nMe:  didn’      models…\\nClient:     payment,   that? ',\n",
       " '\\nClient:\\xa0        conditions.    this,  it’    theft.      text.\\n  “text”     (   phone)             open. ',\n",
       " '\\n          client.     -              cooked.\\nClient:\\xa0              something?\\n  did,            cocaine.\\xa0\\nClient:\\xa0Thanks,  it’   right.         instead?\\nMe: Sure.       anyways?\\nClient:\\xa0I’   say. ',\n",
       " '\\nMe:     logo?\\nClient: Yes,\\xa0   logo. It’    simple. It’  globe.\\nMe:\\xa0Cool, I’           header.      me?\\nClient:\\xa0      Images.   “globe”    5. There’      like. ',\n",
       " '\\n            final,            e-        competitor.\\nMe:       version?       copy/   competitor’ website,    e-  it.\\nClient:\\xa0 eye!       competitor.    e-  ours. ',\n",
       " '\\n                corner.        copyright,   no. Thus,     couldn’   picture.\\xa0\\n   later,              out.\\xa0\\nClient: Can’  I’         problems.\\xa0 ',\n",
       " '\\n                  video,    email:\\nClient:\\xa0\\xa0Here’        want.\\xa0        in?\\nMe:\\xa0                      material.\\nClient:\\xa0 it’  REM!\\nMe:\\xa0You’      Madonna. ',\n",
       " '\\n          them.\\xa0\\nMe:       to,    problem?\\nClient:          products!   that!\\nMe:        you,      -\\nClient: No!    slideshow!\\nMe:           competitor’      yours?\\nClient: Yes! ',\n",
       " '\\n     cousin,     graduate,              him.\\n  e-          launch:\\nClient:        logo.             live?\\nMe:\\xa0I’      site,  don’         [   company]’ logo?         want?          Office?\\nClient: What?     [   company]’ logo!  don’      from?          ‘live,’ now!  don’    cousin’  again! It’ insulting!\\n       live,    e-mail:\\nClient:        - NOW!      [   company]’ lawyers! They’          don’   down.\\xa0\\nMe: I’  it.          one,    -\\xa0\\nClient:       me,        don’     time.\\xa0 ']"
      ]
     },
     "execution_count": 32,
     "metadata": {},
     "output_type": "execute_result"
    }
   ],
   "source": [
    "# word_lists_felon = [txt.lower().replace('[^a-zA-Z0-9\\s]+', '').split() for txt in corpus_felon]\n",
    "# word_lists_felon\n",
    "clean = [re.sub('[\\w]+\\s', ' ', _) for _ in corpus_felon]\n",
    "# [_.replace('[\\w]+', ' ', _) for _ in clean]\n",
    "\n",
    "clean"
   ]
  },
  {
   "cell_type": "code",
   "execution_count": 20,
   "metadata": {},
   "outputs": [
    {
     "ename": "NameError",
     "evalue": "name 'word_lists_felon2' is not defined",
     "output_type": "error",
     "traceback": [
      "\u001b[0;31m---------------------------------------------------------------------------\u001b[0m",
      "\u001b[0;31mNameError\u001b[0m                                 Traceback (most recent call last)",
      "\u001b[0;32m<ipython-input-20-de8097d2288a>\u001b[0m in \u001b[0;36m<module>\u001b[0;34m\u001b[0m\n\u001b[1;32m      1\u001b[0m \u001b[0;31m# bag_of_words = []\u001b[0m\u001b[0;34m\u001b[0m\u001b[0;34m\u001b[0m\u001b[0;34m\u001b[0m\u001b[0m\n\u001b[1;32m      2\u001b[0m \u001b[0;31m# word_lists_felon = [txt.lower().replace('.', '').replace('?', '').split() for txt in corpus_felon]\u001b[0m\u001b[0;34m\u001b[0m\u001b[0;34m\u001b[0m\u001b[0;34m\u001b[0m\u001b[0m\n\u001b[0;32m----> 3\u001b[0;31m \u001b[0mbagofw_felon\u001b[0m \u001b[0;34m=\u001b[0m \u001b[0mcount_words\u001b[0m\u001b[0;34m(\u001b[0m\u001b[0mword_lists_felon2\u001b[0m\u001b[0;34m)\u001b[0m\u001b[0;34m\u001b[0m\u001b[0;34m\u001b[0m\u001b[0m\n\u001b[0m\u001b[1;32m      4\u001b[0m \u001b[0;31m# bagofw_felon['Type'] = .shape\u001b[0m\u001b[0;34m\u001b[0m\u001b[0;34m\u001b[0m\u001b[0;34m\u001b[0m\u001b[0m\n\u001b[1;32m      5\u001b[0m \u001b[0;31m# bagofw_Homophobes.sum().sort_values(ascending = True)#.describe()\u001b[0m\u001b[0;34m\u001b[0m\u001b[0;34m\u001b[0m\u001b[0;34m\u001b[0m\u001b[0m\n",
      "\u001b[0;31mNameError\u001b[0m: name 'word_lists_felon2' is not defined"
     ]
    }
   ],
   "source": [
    "# bag_of_words = []\n",
    "# word_lists_felon = [txt.lower().replace('.', '').replace('?', '').split() for txt in corpus_felon]\n",
    "bagofw_felon = count_words(word_lists_felon2)\n",
    "# bagofw_felon['Type'] = .shape\n",
    "# bagofw_Homophobes.sum().sort_values(ascending = True)#.describe()\n",
    "bagofw_felon.sum().sort_values(ascending = True)"
   ]
  },
  {
   "cell_type": "code",
   "execution_count": null,
   "metadata": {},
   "outputs": [],
   "source": [
    "stop"
   ]
  },
  {
   "cell_type": "code",
   "execution_count": null,
   "metadata": {},
   "outputs": [],
   "source": [
    "for x in word_lists_felon:\n",
    "    for y in x.split(' '):\n",
    "        #if y not in bag_of_words:\n",
    "        minibag = []\n",
    "        minibag.append(y)\n",
    "        bag_of_words.append(minibag)"
   ]
  },
  {
   "cell_type": "code",
   "execution_count": null,
   "metadata": {},
   "outputs": [],
   "source": [
    "word_lists = [txt.lower().replace('.', '').replace('?', '').split() for txt in clean]\n"
   ]
  },
  {
   "cell_type": "code",
   "execution_count": 28,
   "metadata": {},
   "outputs": [
    {
     "ename": "NameError",
     "evalue": "name 'word_lists' is not defined",
     "output_type": "error",
     "traceback": [
      "\u001b[0;31m---------------------------------------------------------------------------\u001b[0m",
      "\u001b[0;31mNameError\u001b[0m                                 Traceback (most recent call last)",
      "\u001b[0;32m<ipython-input-28-1e6048004545>\u001b[0m in \u001b[0;36m<module>\u001b[0;34m\u001b[0m\n\u001b[0;32m----> 1\u001b[0;31m \u001b[0mbagofw\u001b[0m \u001b[0;34m=\u001b[0m \u001b[0mcount_words\u001b[0m\u001b[0;34m(\u001b[0m\u001b[0mword_lists\u001b[0m\u001b[0;34m)\u001b[0m\u001b[0;34m\u001b[0m\u001b[0;34m\u001b[0m\u001b[0m\n\u001b[0m\u001b[1;32m      2\u001b[0m \u001b[0mbagofw\u001b[0m\u001b[0;34m\u001b[0m\u001b[0;34m\u001b[0m\u001b[0m\n",
      "\u001b[0;31mNameError\u001b[0m: name 'word_lists' is not defined"
     ]
    }
   ],
   "source": [
    "bagofw = count_words(word_lists)\n",
    "bagofw"
   ]
  },
  {
   "cell_type": "code",
   "execution_count": null,
   "metadata": {},
   "outputs": [],
   "source": [
    "def tf(bagofw):\n",
    "    totals = bagofw.sum()\n",
    "#     print(totals)\n",
    "    n_words = totals.sum()\n",
    "    return totals / n_words\n",
    "\n",
    "# tf(bagofw)#.sort_values(ascending = True)"
   ]
  },
  {
   "cell_type": "code",
   "execution_count": null,
   "metadata": {},
   "outputs": [],
   "source": [
    "from math import log\n",
    "\n",
    "def idf(bagofw):\n",
    "    n_docs = bagofw.shape[0]\n",
    "    doc_freq = bagofw.notnull().astype('int').sum()\n",
    "    return (n_docs / doc_freq).apply(log)"
   ]
  },
  {
   "cell_type": "code",
   "execution_count": null,
   "metadata": {},
   "outputs": [],
   "source": [
    "#idf(bagofw)"
   ]
  },
  {
   "cell_type": "code",
   "execution_count": null,
   "metadata": {},
   "outputs": [],
   "source": [
    "# def tf_idf(bagofw):\n",
    "#     return tf(bagofw) * idf(bagofw)\n",
    "\n",
    "# tf_idf(bagofw).sort_values(ascending = True)"
   ]
  },
  {
   "cell_type": "code",
   "execution_count": null,
   "metadata": {},
   "outputs": [],
   "source": [
    "bagofw.shape"
   ]
  },
  {
   "cell_type": "code",
   "execution_count": null,
   "metadata": {},
   "outputs": [],
   "source": [
    "bagofw2 = bagofw"
   ]
  },
  {
   "cell_type": "code",
   "execution_count": null,
   "metadata": {},
   "outputs": [],
   "source": [
    "for col in bagofw2:\n",
    "    if bagofw2[col].sum() > 15:\n",
    "        bagofw2.drop(columns = col, inplace = True, axis = 1)#.describe()"
   ]
  },
  {
   "cell_type": "code",
   "execution_count": null,
   "metadata": {},
   "outputs": [],
   "source": [
    "bagofw2.sum().sort_values(ascending = True)"
   ]
  },
  {
   "cell_type": "code",
   "execution_count": null,
   "metadata": {},
   "outputs": [],
   "source": [
    "bagofw2.shape"
   ]
  },
  {
   "cell_type": "code",
   "execution_count": null,
   "metadata": {},
   "outputs": [],
   "source": []
  }
 ],
 "metadata": {
  "kernelspec": {
   "display_name": "Python 3",
   "language": "python",
   "name": "python3"
  },
  "language_info": {
   "codemirror_mode": {
    "name": "ipython",
    "version": 3
   },
   "file_extension": ".py",
   "mimetype": "text/x-python",
   "name": "python",
   "nbconvert_exporter": "python",
   "pygments_lexer": "ipython3",
   "version": "3.7.3"
  }
 },
 "nbformat": 4,
 "nbformat_minor": 2
}
