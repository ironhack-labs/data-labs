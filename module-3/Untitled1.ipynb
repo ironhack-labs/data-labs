{
 "cells": [
  {
   "cell_type": "code",
   "execution_count": 1,
   "metadata": {},
   "outputs": [],
   "source": [
    "import pandas as pd\n",
    "import numpy as np\n",
    "import seaborn as sns\n",
    "\n",
    "np.random.seed(42)"
   ]
  },
  {
   "cell_type": "code",
   "execution_count": 8,
   "metadata": {},
   "outputs": [],
   "source": [
    "train = pd.read_csv('train.csv')\n",
    "num_columns = len(train.columns)\n",
    "pd.set_option(\"display.max_columns\", num_columns)"
   ]
  },
  {
   "cell_type": "code",
   "execution_count": 7,
   "metadata": {},
   "outputs": [
    {
     "name": "stdout",
     "output_type": "stream",
     "text": [
      "(2999, 66)\n"
     ]
    },
    {
     "data": {
      "text/plain": [
       "(8677, 66)"
      ]
     },
     "execution_count": 7,
     "metadata": {},
     "output_type": "execute_result"
    }
   ],
   "source": [
    "test = pd.read_csv('test.csv')\n",
    "num_columns = len(test.columns)\n",
    "print(test.shape)\n",
    "train.shape"
   ]
  },
  {
   "cell_type": "code",
   "execution_count": 4,
   "metadata": {},
   "outputs": [],
   "source": [
    "# df.info()"
   ]
  },
  {
   "cell_type": "code",
   "execution_count": 4,
   "metadata": {},
   "outputs": [
    {
     "data": {
      "text/plain": [
       "array([0, 1, 3, 2])"
      ]
     },
     "execution_count": 4,
     "metadata": {},
     "output_type": "execute_result"
    }
   ],
   "source": [
    "df['0.4'].unique()"
   ]
  },
  {
   "cell_type": "code",
   "execution_count": 5,
   "metadata": {},
   "outputs": [],
   "source": [
    "df.drop('C', inplace = True, axis = 1)"
   ]
  },
  {
   "cell_type": "code",
   "execution_count": null,
   "metadata": {},
   "outputs": [],
   "source": []
  },
  {
   "cell_type": "code",
   "execution_count": 6,
   "metadata": {},
   "outputs": [
    {
     "data": {
      "text/html": [
       "<div>\n",
       "<style scoped>\n",
       "    .dataframe tbody tr th:only-of-type {\n",
       "        vertical-align: middle;\n",
       "    }\n",
       "\n",
       "    .dataframe tbody tr th {\n",
       "        vertical-align: top;\n",
       "    }\n",
       "\n",
       "    .dataframe thead th {\n",
       "        text-align: right;\n",
       "    }\n",
       "</style>\n",
       "<table border=\"1\" class=\"dataframe\">\n",
       "  <thead>\n",
       "    <tr style=\"text-align: right;\">\n",
       "      <th></th>\n",
       "      <th>-47</th>\n",
       "      <th>0</th>\n",
       "      <th>-5</th>\n",
       "      <th>-27</th>\n",
       "      <th>-11</th>\n",
       "      <th>-19</th>\n",
       "      <th>-2</th>\n",
       "      <th>-33</th>\n",
       "      <th>37</th>\n",
       "      <th>0.1</th>\n",
       "      <th>-4</th>\n",
       "      <th>-4.1</th>\n",
       "      <th>5</th>\n",
       "      <th>12</th>\n",
       "      <th>-28</th>\n",
       "      <th>16</th>\n",
       "      <th>-19.1</th>\n",
       "      <th>-5.1</th>\n",
       "      <th>-3</th>\n",
       "      <th>-10</th>\n",
       "      <th>-12</th>\n",
       "      <th>5.1</th>\n",
       "      <th>41</th>\n",
       "      <th>0.2</th>\n",
       "      <th>12.1</th>\n",
       "      <th>-9</th>\n",
       "      <th>-2.1</th>\n",
       "      <th>16.1</th>\n",
       "      <th>-11.1</th>\n",
       "      <th>-36</th>\n",
       "      <th>14</th>\n",
       "      <th>-10.1</th>\n",
       "      <th>9</th>\n",
       "      <th>7</th>\n",
       "      <th>2</th>\n",
       "      <th>-4.2</th>\n",
       "      <th>29</th>\n",
       "      <th>60</th>\n",
       "      <th>19</th>\n",
       "      <th>11</th>\n",
       "      <th>-14</th>\n",
       "      <th>-7</th>\n",
       "      <th>-2.2</th>\n",
       "      <th>5.2</th>\n",
       "      <th>-14.1</th>\n",
       "      <th>-27.1</th>\n",
       "      <th>-59</th>\n",
       "      <th>-13</th>\n",
       "      <th>-6</th>\n",
       "      <th>1</th>\n",
       "      <th>-3.1</th>\n",
       "      <th>-1</th>\n",
       "      <th>-10.2</th>\n",
       "      <th>3</th>\n",
       "      <th>20</th>\n",
       "      <th>-23</th>\n",
       "      <th>0.3</th>\n",
       "      <th>2.1</th>\n",
       "      <th>-4.3</th>\n",
       "      <th>-3.2</th>\n",
       "      <th>4</th>\n",
       "      <th>-23.1</th>\n",
       "      <th>-68</th>\n",
       "      <th>15</th>\n",
       "    </tr>\n",
       "  </thead>\n",
       "  <tbody>\n",
       "    <tr>\n",
       "      <th>0</th>\n",
       "      <td>1</td>\n",
       "      <td>1</td>\n",
       "      <td>-2</td>\n",
       "      <td>-3</td>\n",
       "      <td>-1</td>\n",
       "      <td>-3</td>\n",
       "      <td>39</td>\n",
       "      <td>10</td>\n",
       "      <td>0</td>\n",
       "      <td>-1</td>\n",
       "      <td>2</td>\n",
       "      <td>5</td>\n",
       "      <td>0</td>\n",
       "      <td>2</td>\n",
       "      <td>2</td>\n",
       "      <td>-12</td>\n",
       "      <td>6</td>\n",
       "      <td>1</td>\n",
       "      <td>1</td>\n",
       "      <td>0</td>\n",
       "      <td>-2</td>\n",
       "      <td>9</td>\n",
       "      <td>-27</td>\n",
       "      <td>2</td>\n",
       "      <td>-10</td>\n",
       "      <td>2</td>\n",
       "      <td>0</td>\n",
       "      <td>2</td>\n",
       "      <td>19</td>\n",
       "      <td>-2</td>\n",
       "      <td>-78</td>\n",
       "      <td>-7</td>\n",
       "      <td>-17</td>\n",
       "      <td>-5</td>\n",
       "      <td>-3</td>\n",
       "      <td>-6</td>\n",
       "      <td>-27</td>\n",
       "      <td>-35</td>\n",
       "      <td>-32</td>\n",
       "      <td>-21</td>\n",
       "      <td>23</td>\n",
       "      <td>5</td>\n",
       "      <td>3</td>\n",
       "      <td>-1</td>\n",
       "      <td>13</td>\n",
       "      <td>18</td>\n",
       "      <td>69</td>\n",
       "      <td>-1</td>\n",
       "      <td>9</td>\n",
       "      <td>4</td>\n",
       "      <td>0</td>\n",
       "      <td>1</td>\n",
       "      <td>7</td>\n",
       "      <td>2</td>\n",
       "      <td>54</td>\n",
       "      <td>17</td>\n",
       "      <td>-7</td>\n",
       "      <td>-2</td>\n",
       "      <td>1</td>\n",
       "      <td>6</td>\n",
       "      <td>-2</td>\n",
       "      <td>4</td>\n",
       "      <td>22</td>\n",
       "      <td>2</td>\n",
       "    </tr>\n",
       "  </tbody>\n",
       "</table>\n",
       "</div>"
      ],
      "text/plain": [
       "   -47  0  -5  -27  -11  -19  -2  -33  37  0.1  -4  -4.1  5  12  -28  16  \\\n",
       "0    1  1  -2   -3   -1   -3  39   10   0   -1   2     5  0   2    2 -12   \n",
       "\n",
       "   -19.1  -5.1  -3  -10  -12  5.1  41  0.2  12.1  -9  -2.1  16.1  -11.1  -36  \\\n",
       "0      6     1   1    0   -2    9 -27    2   -10   2     0     2     19   -2   \n",
       "\n",
       "   14  -10.1   9  7  2  -4.2  29  60  19  11  -14  -7  -2.2  5.2  -14.1  \\\n",
       "0 -78     -7 -17 -5 -3    -6 -27 -35 -32 -21   23   5     3   -1     13   \n",
       "\n",
       "   -27.1  -59  -13  -6  1  -3.1  -1  -10.2  3  20  -23  0.3  2.1  -4.3  -3.2  \\\n",
       "0     18   69   -1   9  4     0   1      7  2  54   17   -7   -2     1     6   \n",
       "\n",
       "   4  -23.1  -68  15  \n",
       "0 -2      4   22   2  "
      ]
     },
     "execution_count": 6,
     "metadata": {},
     "output_type": "execute_result"
    }
   ],
   "source": [
    "features = df[[x for x in df if x != '0.4']]\n",
    "features.head(1)\n"
   ]
  },
  {
   "cell_type": "code",
   "execution_count": 7,
   "metadata": {},
   "outputs": [
    {
     "data": {
      "text/plain": [
       "0    0\n",
       "1    1\n",
       "2    0\n",
       "3    0\n",
       "4    0\n",
       "Name: 0.4, dtype: int64"
      ]
     },
     "execution_count": 7,
     "metadata": {},
     "output_type": "execute_result"
    }
   ],
   "source": [
    "target = df['0.4']\n",
    "target.head()"
   ]
  },
  {
   "cell_type": "markdown",
   "metadata": {},
   "source": [
    "# Drop highly correlated rows/columns"
   ]
  },
  {
   "cell_type": "code",
   "execution_count": 11,
   "metadata": {},
   "outputs": [],
   "source": [
    "corr_matrix = features.corr().abs()"
   ]
  },
  {
   "cell_type": "code",
   "execution_count": 12,
   "metadata": {},
   "outputs": [
    {
     "name": "stderr",
     "output_type": "stream",
     "text": [
      "/Users/anielkaaslan/anaconda3/lib/python3.7/site-packages/pandas/core/frame.py:3940: SettingWithCopyWarning: \n",
      "A value is trying to be set on a copy of a slice from a DataFrame\n",
      "\n",
      "See the caveats in the documentation: http://pandas.pydata.org/pandas-docs/stable/indexing.html#indexing-view-versus-copy\n",
      "  errors=errors)\n"
     ]
    },
    {
     "data": {
      "text/html": [
       "<div>\n",
       "<style scoped>\n",
       "    .dataframe tbody tr th:only-of-type {\n",
       "        vertical-align: middle;\n",
       "    }\n",
       "\n",
       "    .dataframe tbody tr th {\n",
       "        vertical-align: top;\n",
       "    }\n",
       "\n",
       "    .dataframe thead th {\n",
       "        text-align: right;\n",
       "    }\n",
       "</style>\n",
       "<table border=\"1\" class=\"dataframe\">\n",
       "  <thead>\n",
       "    <tr style=\"text-align: right;\">\n",
       "      <th></th>\n",
       "      <th>-47</th>\n",
       "      <th>0</th>\n",
       "      <th>-5</th>\n",
       "      <th>-27</th>\n",
       "      <th>-11</th>\n",
       "      <th>-19</th>\n",
       "      <th>-2</th>\n",
       "      <th>-33</th>\n",
       "      <th>37</th>\n",
       "      <th>0.1</th>\n",
       "      <th>-4</th>\n",
       "      <th>-4.1</th>\n",
       "      <th>5</th>\n",
       "      <th>12</th>\n",
       "      <th>-28</th>\n",
       "      <th>16</th>\n",
       "      <th>-19.1</th>\n",
       "      <th>-5.1</th>\n",
       "      <th>-3</th>\n",
       "      <th>-10</th>\n",
       "      <th>-12</th>\n",
       "      <th>5.1</th>\n",
       "      <th>41</th>\n",
       "      <th>0.2</th>\n",
       "      <th>12.1</th>\n",
       "      <th>-9</th>\n",
       "      <th>-2.1</th>\n",
       "      <th>16.1</th>\n",
       "      <th>-11.1</th>\n",
       "      <th>-36</th>\n",
       "      <th>14</th>\n",
       "      <th>-10.1</th>\n",
       "      <th>9</th>\n",
       "      <th>7</th>\n",
       "      <th>2</th>\n",
       "      <th>-4.2</th>\n",
       "      <th>29</th>\n",
       "      <th>60</th>\n",
       "      <th>19</th>\n",
       "      <th>11</th>\n",
       "      <th>-14</th>\n",
       "      <th>-7</th>\n",
       "      <th>-2.2</th>\n",
       "      <th>5.2</th>\n",
       "      <th>-14.1</th>\n",
       "      <th>-27.1</th>\n",
       "      <th>-59</th>\n",
       "      <th>-13</th>\n",
       "      <th>-6</th>\n",
       "      <th>1</th>\n",
       "      <th>-3.1</th>\n",
       "      <th>-1</th>\n",
       "      <th>-10.2</th>\n",
       "      <th>3</th>\n",
       "      <th>20</th>\n",
       "      <th>-23</th>\n",
       "      <th>0.3</th>\n",
       "      <th>2.1</th>\n",
       "      <th>-4.3</th>\n",
       "      <th>-3.2</th>\n",
       "      <th>4</th>\n",
       "      <th>-23.1</th>\n",
       "      <th>-68</th>\n",
       "      <th>15</th>\n",
       "    </tr>\n",
       "  </thead>\n",
       "  <tbody>\n",
       "    <tr>\n",
       "      <th>0</th>\n",
       "      <td>1</td>\n",
       "      <td>1</td>\n",
       "      <td>-2</td>\n",
       "      <td>-3</td>\n",
       "      <td>-1</td>\n",
       "      <td>-3</td>\n",
       "      <td>39</td>\n",
       "      <td>10</td>\n",
       "      <td>0</td>\n",
       "      <td>-1</td>\n",
       "      <td>2</td>\n",
       "      <td>5</td>\n",
       "      <td>0</td>\n",
       "      <td>2</td>\n",
       "      <td>2</td>\n",
       "      <td>-12</td>\n",
       "      <td>6</td>\n",
       "      <td>1</td>\n",
       "      <td>1</td>\n",
       "      <td>0</td>\n",
       "      <td>-2</td>\n",
       "      <td>9</td>\n",
       "      <td>-27</td>\n",
       "      <td>2</td>\n",
       "      <td>-10</td>\n",
       "      <td>2</td>\n",
       "      <td>0</td>\n",
       "      <td>2</td>\n",
       "      <td>19</td>\n",
       "      <td>-2</td>\n",
       "      <td>-78</td>\n",
       "      <td>-7</td>\n",
       "      <td>-17</td>\n",
       "      <td>-5</td>\n",
       "      <td>-3</td>\n",
       "      <td>-6</td>\n",
       "      <td>-27</td>\n",
       "      <td>-35</td>\n",
       "      <td>-32</td>\n",
       "      <td>-21</td>\n",
       "      <td>23</td>\n",
       "      <td>5</td>\n",
       "      <td>3</td>\n",
       "      <td>-1</td>\n",
       "      <td>13</td>\n",
       "      <td>18</td>\n",
       "      <td>69</td>\n",
       "      <td>-1</td>\n",
       "      <td>9</td>\n",
       "      <td>4</td>\n",
       "      <td>0</td>\n",
       "      <td>1</td>\n",
       "      <td>7</td>\n",
       "      <td>2</td>\n",
       "      <td>54</td>\n",
       "      <td>17</td>\n",
       "      <td>-7</td>\n",
       "      <td>-2</td>\n",
       "      <td>1</td>\n",
       "      <td>6</td>\n",
       "      <td>-2</td>\n",
       "      <td>4</td>\n",
       "      <td>22</td>\n",
       "      <td>2</td>\n",
       "    </tr>\n",
       "    <tr>\n",
       "      <th>1</th>\n",
       "      <td>1</td>\n",
       "      <td>-4</td>\n",
       "      <td>-2</td>\n",
       "      <td>-6</td>\n",
       "      <td>-20</td>\n",
       "      <td>20</td>\n",
       "      <td>-1</td>\n",
       "      <td>-3</td>\n",
       "      <td>20</td>\n",
       "      <td>3</td>\n",
       "      <td>-2</td>\n",
       "      <td>-4</td>\n",
       "      <td>26</td>\n",
       "      <td>-2</td>\n",
       "      <td>2</td>\n",
       "      <td>-9</td>\n",
       "      <td>1</td>\n",
       "      <td>2</td>\n",
       "      <td>4</td>\n",
       "      <td>8</td>\n",
       "      <td>-33</td>\n",
       "      <td>-32</td>\n",
       "      <td>-2</td>\n",
       "      <td>-1</td>\n",
       "      <td>-14</td>\n",
       "      <td>-5</td>\n",
       "      <td>-4</td>\n",
       "      <td>-1</td>\n",
       "      <td>-8</td>\n",
       "      <td>12</td>\n",
       "      <td>1</td>\n",
       "      <td>-1</td>\n",
       "      <td>-15</td>\n",
       "      <td>0</td>\n",
       "      <td>-1</td>\n",
       "      <td>-3</td>\n",
       "      <td>12</td>\n",
       "      <td>-6</td>\n",
       "      <td>-1</td>\n",
       "      <td>-12</td>\n",
       "      <td>27</td>\n",
       "      <td>5</td>\n",
       "      <td>5</td>\n",
       "      <td>3</td>\n",
       "      <td>-53</td>\n",
       "      <td>-54</td>\n",
       "      <td>-1</td>\n",
       "      <td>4</td>\n",
       "      <td>-13</td>\n",
       "      <td>-6</td>\n",
       "      <td>-6</td>\n",
       "      <td>-9</td>\n",
       "      <td>46</td>\n",
       "      <td>46</td>\n",
       "      <td>-6</td>\n",
       "      <td>-7</td>\n",
       "      <td>14</td>\n",
       "      <td>2</td>\n",
       "      <td>-2</td>\n",
       "      <td>0</td>\n",
       "      <td>23</td>\n",
       "      <td>21</td>\n",
       "      <td>-3</td>\n",
       "      <td>22</td>\n",
       "    </tr>\n",
       "    <tr>\n",
       "      <th>2</th>\n",
       "      <td>10</td>\n",
       "      <td>2</td>\n",
       "      <td>1</td>\n",
       "      <td>-7</td>\n",
       "      <td>-8</td>\n",
       "      <td>12</td>\n",
       "      <td>41</td>\n",
       "      <td>21</td>\n",
       "      <td>-14</td>\n",
       "      <td>3</td>\n",
       "      <td>2</td>\n",
       "      <td>3</td>\n",
       "      <td>-5</td>\n",
       "      <td>-7</td>\n",
       "      <td>-37</td>\n",
       "      <td>-9</td>\n",
       "      <td>0</td>\n",
       "      <td>-11</td>\n",
       "      <td>-11</td>\n",
       "      <td>2</td>\n",
       "      <td>-1</td>\n",
       "      <td>-43</td>\n",
       "      <td>-30</td>\n",
       "      <td>4</td>\n",
       "      <td>2</td>\n",
       "      <td>2</td>\n",
       "      <td>2</td>\n",
       "      <td>0</td>\n",
       "      <td>17</td>\n",
       "      <td>84</td>\n",
       "      <td>52</td>\n",
       "      <td>8</td>\n",
       "      <td>7</td>\n",
       "      <td>-5</td>\n",
       "      <td>-3</td>\n",
       "      <td>-8</td>\n",
       "      <td>-11</td>\n",
       "      <td>-8</td>\n",
       "      <td>-29</td>\n",
       "      <td>6</td>\n",
       "      <td>-9</td>\n",
       "      <td>14</td>\n",
       "      <td>3</td>\n",
       "      <td>-2</td>\n",
       "      <td>1</td>\n",
       "      <td>5</td>\n",
       "      <td>23</td>\n",
       "      <td>-10</td>\n",
       "      <td>0</td>\n",
       "      <td>-2</td>\n",
       "      <td>-5</td>\n",
       "      <td>-1</td>\n",
       "      <td>-6</td>\n",
       "      <td>-11</td>\n",
       "      <td>-22</td>\n",
       "      <td>3</td>\n",
       "      <td>2</td>\n",
       "      <td>1</td>\n",
       "      <td>2</td>\n",
       "      <td>-2</td>\n",
       "      <td>-8</td>\n",
       "      <td>-29</td>\n",
       "      <td>29</td>\n",
       "      <td>7</td>\n",
       "    </tr>\n",
       "    <tr>\n",
       "      <th>3</th>\n",
       "      <td>1</td>\n",
       "      <td>-3</td>\n",
       "      <td>-2</td>\n",
       "      <td>-6</td>\n",
       "      <td>1</td>\n",
       "      <td>0</td>\n",
       "      <td>10</td>\n",
       "      <td>-6</td>\n",
       "      <td>4</td>\n",
       "      <td>0</td>\n",
       "      <td>-5</td>\n",
       "      <td>-6</td>\n",
       "      <td>-23</td>\n",
       "      <td>2</td>\n",
       "      <td>27</td>\n",
       "      <td>0</td>\n",
       "      <td>-6</td>\n",
       "      <td>-2</td>\n",
       "      <td>0</td>\n",
       "      <td>10</td>\n",
       "      <td>10</td>\n",
       "      <td>1</td>\n",
       "      <td>7</td>\n",
       "      <td>-7</td>\n",
       "      <td>-9</td>\n",
       "      <td>1</td>\n",
       "      <td>0</td>\n",
       "      <td>-8</td>\n",
       "      <td>12</td>\n",
       "      <td>10</td>\n",
       "      <td>-4</td>\n",
       "      <td>-5</td>\n",
       "      <td>7</td>\n",
       "      <td>0</td>\n",
       "      <td>2</td>\n",
       "      <td>11</td>\n",
       "      <td>6</td>\n",
       "      <td>-4</td>\n",
       "      <td>-16</td>\n",
       "      <td>9</td>\n",
       "      <td>0</td>\n",
       "      <td>-5</td>\n",
       "      <td>-4</td>\n",
       "      <td>8</td>\n",
       "      <td>-12</td>\n",
       "      <td>3</td>\n",
       "      <td>-5</td>\n",
       "      <td>-8</td>\n",
       "      <td>-27</td>\n",
       "      <td>-1</td>\n",
       "      <td>-2</td>\n",
       "      <td>-12</td>\n",
       "      <td>-13</td>\n",
       "      <td>-4</td>\n",
       "      <td>-9</td>\n",
       "      <td>-7</td>\n",
       "      <td>5</td>\n",
       "      <td>0</td>\n",
       "      <td>-3</td>\n",
       "      <td>-8</td>\n",
       "      <td>-11</td>\n",
       "      <td>-2</td>\n",
       "      <td>19</td>\n",
       "      <td>4</td>\n",
       "    </tr>\n",
       "    <tr>\n",
       "      <th>4</th>\n",
       "      <td>3</td>\n",
       "      <td>0</td>\n",
       "      <td>4</td>\n",
       "      <td>11</td>\n",
       "      <td>11</td>\n",
       "      <td>9</td>\n",
       "      <td>-21</td>\n",
       "      <td>-17</td>\n",
       "      <td>-20</td>\n",
       "      <td>-7</td>\n",
       "      <td>-5</td>\n",
       "      <td>-13</td>\n",
       "      <td>-23</td>\n",
       "      <td>-18</td>\n",
       "      <td>-18</td>\n",
       "      <td>-13</td>\n",
       "      <td>6</td>\n",
       "      <td>0</td>\n",
       "      <td>-3</td>\n",
       "      <td>-2</td>\n",
       "      <td>3</td>\n",
       "      <td>1</td>\n",
       "      <td>72</td>\n",
       "      <td>3</td>\n",
       "      <td>-3</td>\n",
       "      <td>2</td>\n",
       "      <td>0</td>\n",
       "      <td>1</td>\n",
       "      <td>4</td>\n",
       "      <td>-1</td>\n",
       "      <td>-9</td>\n",
       "      <td>8</td>\n",
       "      <td>-14</td>\n",
       "      <td>-4</td>\n",
       "      <td>-1</td>\n",
       "      <td>5</td>\n",
       "      <td>-6</td>\n",
       "      <td>-8</td>\n",
       "      <td>15</td>\n",
       "      <td>0</td>\n",
       "      <td>10</td>\n",
       "      <td>2</td>\n",
       "      <td>-2</td>\n",
       "      <td>0</td>\n",
       "      <td>18</td>\n",
       "      <td>2</td>\n",
       "      <td>-7</td>\n",
       "      <td>-3</td>\n",
       "      <td>-7</td>\n",
       "      <td>-1</td>\n",
       "      <td>-1</td>\n",
       "      <td>3</td>\n",
       "      <td>-9</td>\n",
       "      <td>-17</td>\n",
       "      <td>-64</td>\n",
       "      <td>-11</td>\n",
       "      <td>-5</td>\n",
       "      <td>-4</td>\n",
       "      <td>-5</td>\n",
       "      <td>-14</td>\n",
       "      <td>-25</td>\n",
       "      <td>-3</td>\n",
       "      <td>-34</td>\n",
       "      <td>-2</td>\n",
       "    </tr>\n",
       "  </tbody>\n",
       "</table>\n",
       "</div>"
      ],
      "text/plain": [
       "   -47  0  -5  -27  -11  -19  -2  -33  37  0.1  -4  -4.1   5  12  -28  16  \\\n",
       "0    1  1  -2   -3   -1   -3  39   10   0   -1   2     5   0   2    2 -12   \n",
       "1    1 -4  -2   -6  -20   20  -1   -3  20    3  -2    -4  26  -2    2  -9   \n",
       "2   10  2   1   -7   -8   12  41   21 -14    3   2     3  -5  -7  -37  -9   \n",
       "3    1 -3  -2   -6    1    0  10   -6   4    0  -5    -6 -23   2   27   0   \n",
       "4    3  0   4   11   11    9 -21  -17 -20   -7  -5   -13 -23 -18  -18 -13   \n",
       "\n",
       "   -19.1  -5.1  -3  -10  -12  5.1  41  0.2  12.1  -9  -2.1  16.1  -11.1  -36  \\\n",
       "0      6     1   1    0   -2    9 -27    2   -10   2     0     2     19   -2   \n",
       "1      1     2   4    8  -33  -32  -2   -1   -14  -5    -4    -1     -8   12   \n",
       "2      0   -11 -11    2   -1  -43 -30    4     2   2     2     0     17   84   \n",
       "3     -6    -2   0   10   10    1   7   -7    -9   1     0    -8     12   10   \n",
       "4      6     0  -3   -2    3    1  72    3    -3   2     0     1      4   -1   \n",
       "\n",
       "   14  -10.1   9  7  2  -4.2  29  60  19  11  -14  -7  -2.2  5.2  -14.1  \\\n",
       "0 -78     -7 -17 -5 -3    -6 -27 -35 -32 -21   23   5     3   -1     13   \n",
       "1   1     -1 -15  0 -1    -3  12  -6  -1 -12   27   5     5    3    -53   \n",
       "2  52      8   7 -5 -3    -8 -11  -8 -29   6   -9  14     3   -2      1   \n",
       "3  -4     -5   7  0  2    11   6  -4 -16   9    0  -5    -4    8    -12   \n",
       "4  -9      8 -14 -4 -1     5  -6  -8  15   0   10   2    -2    0     18   \n",
       "\n",
       "   -27.1  -59  -13  -6  1  -3.1  -1  -10.2   3  20  -23  0.3  2.1  -4.3  -3.2  \\\n",
       "0     18   69   -1   9  4     0   1      7   2  54   17   -7   -2     1     6   \n",
       "1    -54   -1    4 -13 -6    -6  -9     46  46  -6   -7   14    2    -2     0   \n",
       "2      5   23  -10   0 -2    -5  -1     -6 -11 -22    3    2    1     2    -2   \n",
       "3      3   -5   -8 -27 -1    -2 -12    -13  -4  -9   -7    5    0    -3    -8   \n",
       "4      2   -7   -3  -7 -1    -1   3     -9 -17 -64  -11   -5   -4    -5   -14   \n",
       "\n",
       "    4  -23.1  -68  15  \n",
       "0  -2      4   22   2  \n",
       "1  23     21   -3  22  \n",
       "2  -8    -29   29   7  \n",
       "3 -11     -2   19   4  \n",
       "4 -25     -3  -34  -2  "
      ]
     },
     "execution_count": 12,
     "metadata": {},
     "output_type": "execute_result"
    }
   ],
   "source": [
    "tri = np.triu(np.ones(corr_matrix.shape), k = 1).astype(np.bool)\n",
    "upper = corr_matrix.where(tri)\n",
    "to_drop = [col for col in upper.columns if any(upper[col] > 0.9)]\n",
    "features.drop(features[to_drop], axis = 1, inplace = True)\n",
    "features.head()"
   ]
  },
  {
   "cell_type": "code",
   "execution_count": 14,
   "metadata": {},
   "outputs": [],
   "source": [
    "corr_matrix2 = features.corr().abs()\n",
    "# ax = sns.heatmap(\n",
    "#     corr_matrix2, #data\n",
    "\n",
    "#     cmap = sns.diverging_palette(\n",
    "#         220, # Anchor hue (negative)\n",
    "#         20, # Anchor hue (positive)\n",
    "#         n = 360 #Number of colors in the palette (optional)\n",
    "#     ),\n",
    "#     square = True,\n",
    "# )\n",
    "\n",
    "# ax.set_xticklabels(\n",
    "#     ax.get_xticklabels(),\n",
    "#     rotation = 45,\n",
    "#     horizontalalignment = 'right'\n",
    "# )"
   ]
  },
  {
   "cell_type": "code",
   "execution_count": 8,
   "metadata": {},
   "outputs": [
    {
     "name": "stdout",
     "output_type": "stream",
     "text": [
      "(6941, 64)\n",
      "(1736, 64)\n"
     ]
    }
   ],
   "source": [
    "from sklearn.model_selection import train_test_split\n",
    "\n",
    "train_X, test_X, train_y, test_y = train_test_split(\n",
    "    features,\n",
    "    target, \n",
    "    test_size = .2,\n",
    "    random_state = 42\n",
    ")\n",
    "\n",
    "print(train_X.shape)\n",
    "print(test_X.shape)"
   ]
  },
  {
   "cell_type": "markdown",
   "metadata": {},
   "source": [
    "# Gaussian"
   ]
  },
  {
   "cell_type": "code",
   "execution_count": 15,
   "metadata": {},
   "outputs": [
    {
     "data": {
      "text/plain": [
       "0.875"
      ]
     },
     "execution_count": 15,
     "metadata": {},
     "output_type": "execute_result"
    }
   ],
   "source": [
    "from sklearn.naive_bayes import GaussianNB\n",
    "\n",
    "gaussian = GaussianNB().fit(train_X, train_y)\n",
    "gaussian.score(test_X, test_y)"
   ]
  },
  {
   "cell_type": "markdown",
   "metadata": {},
   "source": [
    "# Linear Regression"
   ]
  },
  {
   "cell_type": "code",
   "execution_count": 16,
   "metadata": {},
   "outputs": [
    {
     "data": {
      "text/plain": [
       "LinearRegression(copy_X=True, fit_intercept=True, n_jobs=None, normalize=False)"
      ]
     },
     "execution_count": 16,
     "metadata": {},
     "output_type": "execute_result"
    }
   ],
   "source": [
    "from sklearn.preprocessing import StandardScaler\n",
    "scaler = StandardScaler()\n",
    "train_scaled = scaler.fit_transform(train_X)\n",
    "test_scaled = scaler.transform(test_X)\n",
    "\n",
    "from sklearn.linear_model import LinearRegression\n",
    "LinearRegression().fit(train_scaled, train_y)"
   ]
  },
  {
   "cell_type": "code",
   "execution_count": 22,
   "metadata": {},
   "outputs": [
    {
     "name": "stderr",
     "output_type": "stream",
     "text": [
      "/Users/anielkaaslan/anaconda3/lib/python3.7/site-packages/sklearn/linear_model/logistic.py:432: FutureWarning: Default solver will be changed to 'lbfgs' in 0.22. Specify a solver to silence this warning.\n",
      "  FutureWarning)\n",
      "/Users/anielkaaslan/anaconda3/lib/python3.7/site-packages/sklearn/linear_model/logistic.py:469: FutureWarning: Default multi_class will be changed to 'auto' in 0.22. Specify the multi_class option to silence this warning.\n",
      "  \"this warning.\", FutureWarning)\n"
     ]
    },
    {
     "ename": "ValueError",
     "evalue": "multiclass format is not supported",
     "output_type": "error",
     "traceback": [
      "\u001b[0;31m---------------------------------------------------------------------------\u001b[0m",
      "\u001b[0;31mValueError\u001b[0m                                Traceback (most recent call last)",
      "\u001b[0;32m<ipython-input-22-02f904073651>\u001b[0m in \u001b[0;36m<module>\u001b[0;34m\u001b[0m\n\u001b[1;32m      6\u001b[0m \u001b[0my_pred_proba\u001b[0m \u001b[0;34m=\u001b[0m \u001b[0mks_model\u001b[0m\u001b[0;34m.\u001b[0m\u001b[0mpredict_proba\u001b[0m\u001b[0;34m(\u001b[0m\u001b[0mtest_X\u001b[0m\u001b[0;34m)\u001b[0m\u001b[0;34m[\u001b[0m\u001b[0;34m:\u001b[0m\u001b[0;36m1\u001b[0m\u001b[0;34m]\u001b[0m\u001b[0;34m\u001b[0m\u001b[0;34m\u001b[0m\u001b[0m\n\u001b[1;32m      7\u001b[0m \u001b[0;31m# fpr, tpr, _ = metrics.roc_curve(test_y,  y_pred_proba)\u001b[0m\u001b[0;34m\u001b[0m\u001b[0;34m\u001b[0m\u001b[0;34m\u001b[0m\u001b[0m\n\u001b[0;32m----> 8\u001b[0;31m \u001b[0mauc\u001b[0m \u001b[0;34m=\u001b[0m \u001b[0mmetrics\u001b[0m\u001b[0;34m.\u001b[0m\u001b[0mroc_auc_score\u001b[0m\u001b[0;34m(\u001b[0m\u001b[0mtest_y\u001b[0m\u001b[0;34m,\u001b[0m \u001b[0my_pred_proba\u001b[0m\u001b[0;34m)\u001b[0m\u001b[0;34m\u001b[0m\u001b[0;34m\u001b[0m\u001b[0m\n\u001b[0m",
      "\u001b[0;32m~/anaconda3/lib/python3.7/site-packages/sklearn/metrics/ranking.py\u001b[0m in \u001b[0;36mroc_auc_score\u001b[0;34m(y_true, y_score, average, sample_weight, max_fpr)\u001b[0m\n\u001b[1;32m    353\u001b[0m     return _average_binary_score(\n\u001b[1;32m    354\u001b[0m         \u001b[0m_binary_roc_auc_score\u001b[0m\u001b[0;34m,\u001b[0m \u001b[0my_true\u001b[0m\u001b[0;34m,\u001b[0m \u001b[0my_score\u001b[0m\u001b[0;34m,\u001b[0m \u001b[0maverage\u001b[0m\u001b[0;34m,\u001b[0m\u001b[0;34m\u001b[0m\u001b[0;34m\u001b[0m\u001b[0m\n\u001b[0;32m--> 355\u001b[0;31m         sample_weight=sample_weight)\n\u001b[0m\u001b[1;32m    356\u001b[0m \u001b[0;34m\u001b[0m\u001b[0m\n\u001b[1;32m    357\u001b[0m \u001b[0;34m\u001b[0m\u001b[0m\n",
      "\u001b[0;32m~/anaconda3/lib/python3.7/site-packages/sklearn/metrics/base.py\u001b[0m in \u001b[0;36m_average_binary_score\u001b[0;34m(binary_metric, y_true, y_score, average, sample_weight)\u001b[0m\n\u001b[1;32m     71\u001b[0m     \u001b[0my_type\u001b[0m \u001b[0;34m=\u001b[0m \u001b[0mtype_of_target\u001b[0m\u001b[0;34m(\u001b[0m\u001b[0my_true\u001b[0m\u001b[0;34m)\u001b[0m\u001b[0;34m\u001b[0m\u001b[0;34m\u001b[0m\u001b[0m\n\u001b[1;32m     72\u001b[0m     \u001b[0;32mif\u001b[0m \u001b[0my_type\u001b[0m \u001b[0;32mnot\u001b[0m \u001b[0;32min\u001b[0m \u001b[0;34m(\u001b[0m\u001b[0;34m\"binary\"\u001b[0m\u001b[0;34m,\u001b[0m \u001b[0;34m\"multilabel-indicator\"\u001b[0m\u001b[0;34m)\u001b[0m\u001b[0;34m:\u001b[0m\u001b[0;34m\u001b[0m\u001b[0;34m\u001b[0m\u001b[0m\n\u001b[0;32m---> 73\u001b[0;31m         \u001b[0;32mraise\u001b[0m \u001b[0mValueError\u001b[0m\u001b[0;34m(\u001b[0m\u001b[0;34m\"{0} format is not supported\"\u001b[0m\u001b[0;34m.\u001b[0m\u001b[0mformat\u001b[0m\u001b[0;34m(\u001b[0m\u001b[0my_type\u001b[0m\u001b[0;34m)\u001b[0m\u001b[0;34m)\u001b[0m\u001b[0;34m\u001b[0m\u001b[0;34m\u001b[0m\u001b[0m\n\u001b[0m\u001b[1;32m     74\u001b[0m \u001b[0;34m\u001b[0m\u001b[0m\n\u001b[1;32m     75\u001b[0m     \u001b[0;32mif\u001b[0m \u001b[0my_type\u001b[0m \u001b[0;34m==\u001b[0m \u001b[0;34m\"binary\"\u001b[0m\u001b[0;34m:\u001b[0m\u001b[0;34m\u001b[0m\u001b[0;34m\u001b[0m\u001b[0m\n",
      "\u001b[0;31mValueError\u001b[0m: multiclass format is not supported"
     ]
    }
   ],
   "source": [
    "from sklearn.linear_model import LogisticRegression\n",
    "from sklearn import metrics\n",
    "\n",
    "\n",
    "ks_model = LogisticRegression().fit(train_X, train_y)\n",
    "y_pred_proba = ks_model.predict_proba(test_X)[::,1]\n",
    "# fpr, tpr, _ = metrics.roc_curve(test_y,  y_pred_proba)\n",
    "auc = metrics.roc_auc_score(test_y, y_pred_proba)\n"
   ]
  },
  {
   "cell_type": "code",
   "execution_count": null,
   "metadata": {},
   "outputs": [],
   "source": [
    "from sklearn.metrics import confusion_matrix\n",
    "\n",
    "y_pred_test = ks_model.predict(test_X)\n",
    "\n",
    "confusion_matrix(test_y, y_pred_test)\n"
   ]
  },
  {
   "cell_type": "code",
   "execution_count": null,
   "metadata": {},
   "outputs": [],
   "source": [
    "from sklearn.preprocessing import RobustScaler\n",
    "\n",
    "transformer = RobustScaler().fit(features)"
   ]
  },
  {
   "cell_type": "code",
   "execution_count": null,
   "metadata": {},
   "outputs": [],
   "source": [
    "# from sklearn.metrics import roc_auc_score\n",
    "\n",
    "# roc_auc_score(test_y, train_y)"
   ]
  },
  {
   "cell_type": "markdown",
   "metadata": {},
   "source": [
    "# USING BERNOULLI"
   ]
  },
  {
   "cell_type": "code",
   "execution_count": null,
   "metadata": {},
   "outputs": [],
   "source": [
    "# from sklearn.neighbors import KNeighborsClassifier\n",
    "\n",
    "# knn = KNeighborsClassifier(n_neighbors = 3).fit(train_X, train_y.values.ravel())\n",
    "\n",
    "# knn.score(test_X, test_y)"
   ]
  },
  {
   "cell_type": "code",
   "execution_count": null,
   "metadata": {},
   "outputs": [],
   "source": [
    "# import random\n",
    "\n",
    "# Start = -25\n",
    "# Stop = 48\n",
    "# limit = 65\n",
    "\n",
    "# RandomListOfIntegers = [random.randint(Start, Stop) for iter in range(limit)]\n",
    "\n",
    "# print(RandomListOfIntegers)\n",
    "\n",
    "# new_obs = np.array([RandomListOfIntegers])\n",
    "\n",
    "# knn.predict(new_obs)"
   ]
  },
  {
   "cell_type": "code",
   "execution_count": null,
   "metadata": {},
   "outputs": [],
   "source": [
    "features = df[[x for x in df if x != 'C']]\n",
    "features.head(1)\n",
    "# features = pd.get_dummies(df[['C']])\n",
    "# features.head()"
   ]
  },
  {
   "cell_type": "code",
   "execution_count": null,
   "metadata": {},
   "outputs": [],
   "source": [
    "target = df['0.4']\n",
    "# target.head()"
   ]
  },
  {
   "cell_type": "code",
   "execution_count": null,
   "metadata": {},
   "outputs": [],
   "source": [
    "train_X, test_X, train_y, test_y = train_test_split(\n",
    "    features,\n",
    "    target, \n",
    "    test_size = .6,\n",
    "    random_state = 42\n",
    ")\n",
    "\n",
    "train_X.head()"
   ]
  },
  {
   "cell_type": "code",
   "execution_count": null,
   "metadata": {},
   "outputs": [],
   "source": [
    "from sklearn.metrics import confusion_matrix\n",
    "\n",
    "y_pred_test = ks_model.predict(test_X)\n",
    "confusion_matrix(test_y, y_pred_test)"
   ]
  },
  {
   "cell_type": "code",
   "execution_count": null,
   "metadata": {},
   "outputs": [],
   "source": [
    "from sklearn.ensemble import RandomForestClassifier\n",
    "\n",
    "ks_rf = RandomForestClassifier().fit(train_X, train_y)"
   ]
  },
  {
   "cell_type": "code",
   "execution_count": null,
   "metadata": {},
   "outputs": [],
   "source": [
    "# from sklearn import metrics\n",
    "# y_pred_proba_rf = ks_rf.predict_proba(test_X)[::,1]\n",
    "# fpr, tpr, _ = metrics.roc_curve(test_y,  y_pred_proba_rf)\n",
    "# auc = metrics.roc_auc_score(test_y, y_pred_proba_rf)"
   ]
  },
  {
   "cell_type": "code",
   "execution_count": null,
   "metadata": {},
   "outputs": [],
   "source": [
    "from sklearn.naive_bayes import BernoulliNB\n",
    "\n",
    "bernoulli = BernoulliNB().fit(train_X, train_y)\n",
    "bernoulli.score(test_X, test_y) "
   ]
  },
  {
   "cell_type": "code",
   "execution_count": null,
   "metadata": {},
   "outputs": [],
   "source": [
    "from sklearn.naive_bayes import GaussianNB\n",
    "\n",
    "gaussian = GaussianNB().fit(train_X, train_y)\n",
    "gaussian.score(test_X, test_y)"
   ]
  },
  {
   "cell_type": "markdown",
   "metadata": {},
   "source": [
    "# Polynomial features"
   ]
  },
  {
   "cell_type": "code",
   "execution_count": null,
   "metadata": {},
   "outputs": [],
   "source": [
    "from sklearn.preprocessing import PolynomialFeatures\n",
    "\n",
    "PolynomialFeatures().fit_transform(features)[:1]"
   ]
  },
  {
   "cell_type": "markdown",
   "metadata": {},
   "source": [
    "# Using MinMaxScaler"
   ]
  },
  {
   "cell_type": "code",
   "execution_count": null,
   "metadata": {},
   "outputs": [],
   "source": [
    "from sklearn.preprocessing import MinMaxScaler\n",
    "\n",
    "minmax = pd.DataFrame(\n",
    "    data = MinMaxScaler().fit_transform(features),\n",
    "    columns = features.columns\n",
    ")"
   ]
  },
  {
   "cell_type": "code",
   "execution_count": null,
   "metadata": {},
   "outputs": [],
   "source": [
    "minmax.head(1)\n",
    "# features.head()"
   ]
  },
  {
   "cell_type": "code",
   "execution_count": null,
   "metadata": {},
   "outputs": [],
   "source": [
    "corr_matrix3 = minmax.corr().abs()"
   ]
  },
  {
   "cell_type": "code",
   "execution_count": null,
   "metadata": {},
   "outputs": [],
   "source": [
    "tri3 = np.triu(np.ones(corr_matrix3.shape), k = 1).astype(np.bool)\n",
    "\n",
    "upper = corr_matrix3.where(tri3)\n",
    "# upper\n",
    "to_drop = [col for col in upper.columns if any(upper[col] > 0.4)]\n",
    "\n",
    "minmax.drop(minmax[to_drop], axis = 1, inplace = True)\n",
    "minmax.head()"
   ]
  },
  {
   "cell_type": "code",
   "execution_count": null,
   "metadata": {},
   "outputs": [],
   "source": [
    "corr_matrix4 = minmax.corr().abs()\n",
    "ax = sns.heatmap(\n",
    "    corr_matrix3, #data\n",
    "\n",
    "    cmap = sns.diverging_palette(\n",
    "        220, # Anchor hue (negative)\n",
    "        20, # Anchor hue (positive)\n",
    "        n = 360 #Number of colors in the palette (optional)\n",
    "    ),\n",
    "    square = True,\n",
    ")\n",
    "\n",
    "ax.set_xticklabels(\n",
    "    ax.get_xticklabels(),\n",
    "    rotation = 45,\n",
    "    horizontalalignment = 'right'\n",
    ")"
   ]
  },
  {
   "cell_type": "code",
   "execution_count": null,
   "metadata": {},
   "outputs": [],
   "source": [
    "train_X, test_X, train_y, test_y = train_test_split(\n",
    "    minmax,\n",
    "    target, \n",
    "    test_size = .8,\n",
    "    random_state = 42\n",
    ")\n",
    "\n",
    "train_X.head()"
   ]
  },
  {
   "cell_type": "code",
   "execution_count": null,
   "metadata": {},
   "outputs": [],
   "source": [
    "from sklearn.preprocessing import RobustScaler\n",
    "\n",
    "scalar = RobustScaler().fit(train_X)\n",
    "scalar.transform(train_X)[:5]"
   ]
  },
  {
   "cell_type": "code",
   "execution_count": null,
   "metadata": {},
   "outputs": [],
   "source": [
    "knn_robust = KNeighborsClassifier()\n",
    "knn_robust.fit(scalar.transform(train_X), train_y.values.ravel())\n",
    "knn_robust.score(scalar.transform(test_X), test_y)"
   ]
  }
 ],
 "metadata": {
  "kernelspec": {
   "display_name": "Python 3",
   "language": "python",
   "name": "python3"
  },
  "language_info": {
   "codemirror_mode": {
    "name": "ipython",
    "version": 3
   },
   "file_extension": ".py",
   "mimetype": "text/x-python",
   "name": "python",
   "nbconvert_exporter": "python",
   "pygments_lexer": "ipython3",
   "version": "3.7.3"
  }
 },
 "nbformat": 4,
 "nbformat_minor": 2
}
