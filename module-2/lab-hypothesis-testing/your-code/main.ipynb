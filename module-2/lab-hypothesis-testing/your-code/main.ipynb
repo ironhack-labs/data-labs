{
 "cells": [
  {
   "cell_type": "markdown",
   "metadata": {},
   "source": [
    "# Before your start:\n",
    "- Read the README.md file\n",
    "- Comment as much as you can and use the resources (README.md file)\n",
    "- Happy learning!"
   ]
  },
  {
   "cell_type": "code",
   "execution_count": 1,
   "metadata": {},
   "outputs": [],
   "source": [
    "# import numpy and pandas\n",
    "import numpy as np\n",
    "import pandas as pd"
   ]
  },
  {
   "cell_type": "markdown",
   "metadata": {},
   "source": [
    "# Challenge 1 - Exploring the Data\n",
    "\n",
    "In this challenge, we will examine all salaries of employees of the City of Chicago. We will start by loading the dataset and examining its contents"
   ]
  },
  {
   "cell_type": "code",
   "execution_count": 2,
   "metadata": {},
   "outputs": [],
   "source": [
    "# Run this code:\n",
    "\n",
    "salaries = pd.read_csv('../Current_Employee_Names__Salaries__and_Position_Titles.csv')"
   ]
  },
  {
   "cell_type": "markdown",
   "metadata": {},
   "source": [
    "Examine the `salaries` dataset using the `head` function below."
   ]
  },
  {
   "cell_type": "code",
   "execution_count": 3,
   "metadata": {},
   "outputs": [
    {
     "data": {
      "text/html": [
       "<div>\n",
       "<style scoped>\n",
       "    .dataframe tbody tr th:only-of-type {\n",
       "        vertical-align: middle;\n",
       "    }\n",
       "\n",
       "    .dataframe tbody tr th {\n",
       "        vertical-align: top;\n",
       "    }\n",
       "\n",
       "    .dataframe thead th {\n",
       "        text-align: right;\n",
       "    }\n",
       "</style>\n",
       "<table border=\"1\" class=\"dataframe\">\n",
       "  <thead>\n",
       "    <tr style=\"text-align: right;\">\n",
       "      <th></th>\n",
       "      <th>Name</th>\n",
       "      <th>Job Titles</th>\n",
       "      <th>Department</th>\n",
       "      <th>Full or Part-Time</th>\n",
       "      <th>Salary or Hourly</th>\n",
       "      <th>Typical Hours</th>\n",
       "      <th>Annual Salary</th>\n",
       "      <th>Hourly Rate</th>\n",
       "    </tr>\n",
       "  </thead>\n",
       "  <tbody>\n",
       "    <tr>\n",
       "      <th>0</th>\n",
       "      <td>AARON,  JEFFERY M</td>\n",
       "      <td>SERGEANT</td>\n",
       "      <td>POLICE</td>\n",
       "      <td>F</td>\n",
       "      <td>Salary</td>\n",
       "      <td>NaN</td>\n",
       "      <td>101442.0</td>\n",
       "      <td>NaN</td>\n",
       "    </tr>\n",
       "    <tr>\n",
       "      <th>1</th>\n",
       "      <td>AARON,  KARINA</td>\n",
       "      <td>POLICE OFFICER (ASSIGNED AS DETECTIVE)</td>\n",
       "      <td>POLICE</td>\n",
       "      <td>F</td>\n",
       "      <td>Salary</td>\n",
       "      <td>NaN</td>\n",
       "      <td>94122.0</td>\n",
       "      <td>NaN</td>\n",
       "    </tr>\n",
       "    <tr>\n",
       "      <th>2</th>\n",
       "      <td>AARON,  KIMBERLEI R</td>\n",
       "      <td>CHIEF CONTRACT EXPEDITER</td>\n",
       "      <td>GENERAL SERVICES</td>\n",
       "      <td>F</td>\n",
       "      <td>Salary</td>\n",
       "      <td>NaN</td>\n",
       "      <td>101592.0</td>\n",
       "      <td>NaN</td>\n",
       "    </tr>\n",
       "    <tr>\n",
       "      <th>3</th>\n",
       "      <td>ABAD JR,  VICENTE M</td>\n",
       "      <td>CIVIL ENGINEER IV</td>\n",
       "      <td>WATER MGMNT</td>\n",
       "      <td>F</td>\n",
       "      <td>Salary</td>\n",
       "      <td>NaN</td>\n",
       "      <td>110064.0</td>\n",
       "      <td>NaN</td>\n",
       "    </tr>\n",
       "    <tr>\n",
       "      <th>4</th>\n",
       "      <td>ABASCAL,  REECE E</td>\n",
       "      <td>TRAFFIC CONTROL AIDE-HOURLY</td>\n",
       "      <td>OEMC</td>\n",
       "      <td>P</td>\n",
       "      <td>Hourly</td>\n",
       "      <td>20.0</td>\n",
       "      <td>NaN</td>\n",
       "      <td>19.86</td>\n",
       "    </tr>\n",
       "  </tbody>\n",
       "</table>\n",
       "</div>"
      ],
      "text/plain": [
       "                  Name                              Job Titles  \\\n",
       "0    AARON,  JEFFERY M                                SERGEANT   \n",
       "1      AARON,  KARINA   POLICE OFFICER (ASSIGNED AS DETECTIVE)   \n",
       "2  AARON,  KIMBERLEI R                CHIEF CONTRACT EXPEDITER   \n",
       "3  ABAD JR,  VICENTE M                       CIVIL ENGINEER IV   \n",
       "4    ABASCAL,  REECE E             TRAFFIC CONTROL AIDE-HOURLY   \n",
       "\n",
       "         Department Full or Part-Time Salary or Hourly  Typical Hours  \\\n",
       "0            POLICE                 F           Salary            NaN   \n",
       "1            POLICE                 F           Salary            NaN   \n",
       "2  GENERAL SERVICES                 F           Salary            NaN   \n",
       "3       WATER MGMNT                 F           Salary            NaN   \n",
       "4              OEMC                 P           Hourly           20.0   \n",
       "\n",
       "   Annual Salary  Hourly Rate  \n",
       "0       101442.0          NaN  \n",
       "1        94122.0          NaN  \n",
       "2       101592.0          NaN  \n",
       "3       110064.0          NaN  \n",
       "4            NaN        19.86  "
      ]
     },
     "execution_count": 3,
     "metadata": {},
     "output_type": "execute_result"
    }
   ],
   "source": [
    "# Your code here:\n",
    "salaries.head()"
   ]
  },
  {
   "cell_type": "markdown",
   "metadata": {},
   "source": [
    "We see from looking at the `head` function that there is quite a bit of missing data. Let's examine how much missing data is in each column. Produce this output in the cell below"
   ]
  },
  {
   "cell_type": "code",
   "execution_count": 4,
   "metadata": {},
   "outputs": [
    {
     "data": {
      "text/plain": [
       "Name                     0\n",
       "Job Titles               0\n",
       "Department               0\n",
       "Full or Part-Time        0\n",
       "Salary or Hourly         0\n",
       "Typical Hours        25161\n",
       "Annual Salary         8022\n",
       "Hourly Rate          25161\n",
       "dtype: int64"
      ]
     },
     "execution_count": 4,
     "metadata": {},
     "output_type": "execute_result"
    }
   ],
   "source": [
    "# Your code here:\n",
    "salaries.isnull().sum()"
   ]
  },
  {
   "cell_type": "markdown",
   "metadata": {},
   "source": [
    "Let's also look at the count of hourly vs. salaried employees. Write the code in the cell below"
   ]
  },
  {
   "cell_type": "code",
   "execution_count": 5,
   "metadata": {},
   "outputs": [
    {
     "data": {
      "text/plain": [
       "Salary    25161\n",
       "Hourly     8022\n",
       "Name: Salary or Hourly, dtype: int64"
      ]
     },
     "execution_count": 5,
     "metadata": {},
     "output_type": "execute_result"
    }
   ],
   "source": [
    "# Your code here:\n",
    "\n",
    "salaries['Salary or Hourly'].value_counts()"
   ]
  },
  {
   "cell_type": "markdown",
   "metadata": {},
   "source": [
    "What this information indicates is that the table contains information about two types of employees - salaried and hourly. Some columns apply only to one type of employee while other columns only apply to another kind. This is why there are so many missing values. Therefore, we will not do anything to handle the missing values."
   ]
  },
  {
   "cell_type": "markdown",
   "metadata": {},
   "source": [
    "There are different departments in the city. List all departments and the count of employees in each department."
   ]
  },
  {
   "cell_type": "code",
   "execution_count": 8,
   "metadata": {},
   "outputs": [
    {
     "data": {
      "text/plain": [
       "Department\n",
       "POLICE                   13414\n",
       "FIRE                      4641\n",
       "STREETS & SAN             2198\n",
       "OEMC                      2102\n",
       "WATER MGMNT               1879\n",
       "AVIATION                  1629\n",
       "TRANSPORTN                1140\n",
       "PUBLIC LIBRARY            1015\n",
       "GENERAL SERVICES           980\n",
       "FAMILY & SUPPORT           615\n",
       "FINANCE                    560\n",
       "HEALTH                     488\n",
       "CITY COUNCIL               411\n",
       "LAW                        407\n",
       "BUILDINGS                  269\n",
       "COMMUNITY DEVELOPMENT      207\n",
       "BUSINESS AFFAIRS           171\n",
       "COPA                       116\n",
       "BOARD OF ELECTION          107\n",
       "DoIT                        99\n",
       "PROCUREMENT                 92\n",
       "INSPECTOR GEN               87\n",
       "MAYOR'S OFFICE              85\n",
       "CITY CLERK                  84\n",
       "ANIMAL CONTRL               81\n",
       "HUMAN RESOURCES             79\n",
       "CULTURAL AFFAIRS            65\n",
       "BUDGET & MGMT               46\n",
       "ADMIN HEARNG                39\n",
       "DISABILITIES                28\n",
       "TREASURER                   22\n",
       "HUMAN RELATIONS             16\n",
       "BOARD OF ETHICS              8\n",
       "POLICE BOARD                 2\n",
       "LICENSE APPL COMM            1\n",
       "Name: Department, dtype: int64"
      ]
     },
     "execution_count": 8,
     "metadata": {},
     "output_type": "execute_result"
    }
   ],
   "source": [
    "# Your code here:\n",
    "x =   salaries.pivot_table(\n",
    "        index=[\"Department\"], \n",
    "        values=[\"Annual Salary\"], \n",
    "        aggfunc={\"Department\":len}\n",
    "    )\n",
    "\n",
    "x['Department'].nlargest(100)"
   ]
  },
  {
   "cell_type": "markdown",
   "metadata": {},
   "source": [
    "# Challenge 2 - Hypothesis Tests\n",
    "\n",
    "In this section of the lab, we will test whether the hourly wage of all hourly workers is significantly different from $30/hr. Import the correct one sample test function from scipy and perform the hypothesis test for a 95% two sided confidence interval."
   ]
  },
  {
   "cell_type": "code",
   "execution_count": 10,
   "metadata": {},
   "outputs": [
    {
     "name": "stdout",
     "output_type": "stream",
     "text": [
      "4.3230240486229894e-92\n",
      "Probability results occurred by chance: 0..\n",
      "Is our p-value less than the alpha? Yes. We reject the null hypothesis!\n"
     ]
    }
   ],
   "source": [
    "# Your code here:\n",
    "def decimal_str(x: float, decimals: int = 10) -> str:\n",
    "    return format(x, f\".{decimals}f\").lstrip().rstrip('0')\n",
    "\n",
    "def interpret(alpha, p_val):\n",
    "    print(f\"Probability results occurred by chance: {decimal_str(p_val, 30)}.\\nIs our p-value less than the alpha? {'Yes. We reject the null hypothesis!' if p_val < alpha else 'No. Our null hypothesis is correct.'}\")\n",
    "    \n",
    "\n",
    "\n",
    "\n",
    "from scipy.stats import ttest_1samp\n",
    "\n",
    "salaries.columns=[col.replace(' ','_')for col in salaries]\n",
    "\n",
    "alpha = 0.05\n",
    "\n",
    "expected_mean = 30\n",
    "\n",
    "hourly_rate = salaries[salaries['Hourly_Rate'].notna()]['Hourly_Rate']\n",
    "\n",
    "p_val = ttest_1samp(hourly_rate,expected_mean)[1]\n",
    "\n",
    "print(p_val)\n",
    "          \n",
    "p_val < 0.05 #True\n",
    "          \n",
    "interpret(alpha, p_val)"
   ]
  },
  {
   "cell_type": "markdown",
   "metadata": {},
   "source": [
    "We are also curious about salaries in the police force. The chief of police in Chicago claimed in a press briefing that salaries this year are higher than last year's mean of $86000/year a year for all salaried employees. Test this one sided hypothesis using a 95% confidence interval.\n",
    "\n",
    "Hint: A one tailed test has a p-value that is half of the two tailed p-value. If our hypothesis is greater than, then to reject, the test statistic must also be positive."
   ]
  },
  {
   "cell_type": "code",
   "execution_count": 21,
   "metadata": {},
   "outputs": [
    {
     "name": "stdout",
     "output_type": "stream",
     "text": [
      "1.507879259958193e-09\n",
      "Probability results occurred by chance: 0.000000003015758519916386060567.\n",
      "Is our p-value less than the alpha? Yes. We reject the null hypothesis!\n"
     ]
    },
    {
     "data": {
      "text/plain": [
       "True"
      ]
     },
     "execution_count": 21,
     "metadata": {},
     "output_type": "execute_result"
    }
   ],
   "source": [
    "# Your code here:\n",
    "\n",
    "last_year_mean = 86000\n",
    "\n",
    "# this_year_mean = salaries['Annual Salary'].mean()\n",
    "\n",
    "from scipy.stats import ttest_1samp\n",
    "\n",
    "salaries.columns=[col.replace(' ','_')for col in salaries]\n",
    "\n",
    "alpha = 0.05\n",
    "\n",
    "expected_mean = 86000\n",
    "\n",
    "annual_salary = salaries[salaries['Annual_Salary'].notna()]['Annual_Salary']\n",
    "\n",
    "p_val = ttest_1samp(annual_salary,expected_mean)[1]\n",
    "\n",
    "print(p_val / 2)  #5.93 Check with Yailin\n",
    "          \n",
    "interpret(alpha, p_val) \n",
    "\n",
    "p_val / 2 < 0.05 #True"
   ]
  },
  {
   "cell_type": "markdown",
   "metadata": {},
   "source": [
    "Using the `crosstab` function, find the department that has the most hourly workers. "
   ]
  },
  {
   "cell_type": "code",
   "execution_count": 12,
   "metadata": {},
   "outputs": [
    {
     "data": {
      "text/plain": [
       "Department\n",
       "ANIMAL CONTRL              19\n",
       "AVIATION                 1082\n",
       "BUDGET & MGMT               2\n",
       "BUSINESS AFFAIRS            7\n",
       "CITY COUNCIL               64\n",
       "COMMUNITY DEVELOPMENT       4\n",
       "CULTURAL AFFAIRS            7\n",
       "FAMILY & SUPPORT          287\n",
       "FINANCE                    44\n",
       "FIRE                        2\n",
       "GENERAL SERVICES          765\n",
       "HEALTH                      3\n",
       "HUMAN RESOURCES             4\n",
       "LAW                        40\n",
       "MAYOR'S OFFICE              8\n",
       "OEMC                     1273\n",
       "POLICE                     10\n",
       "PROCUREMENT                 2\n",
       "PUBLIC LIBRARY            299\n",
       "STREETS & SAN            1862\n",
       "TRANSPORTN                725\n",
       "WATER MGMNT              1513\n",
       "dtype: int64"
      ]
     },
     "execution_count": 12,
     "metadata": {},
     "output_type": "execute_result"
    }
   ],
   "source": [
    "# Your code here:\n",
    "table = pd.crosstab(salaries['Hourly_Rate'], salaries['Department'])\n",
    "table.sum()"
   ]
  },
  {
   "cell_type": "markdown",
   "metadata": {},
   "source": [
    "The workers from the department with the most hourly workers have complained that their hourly wage is less than $35/hour. Using a one sample t-test, test this one-sided hypothesis at the 95% confidence level."
   ]
  },
  {
   "cell_type": "code",
   "execution_count": 13,
   "metadata": {},
   "outputs": [
    {
     "data": {
      "text/plain": [
       "1.6689265282353859e-21"
      ]
     },
     "execution_count": 13,
     "metadata": {},
     "output_type": "execute_result"
    }
   ],
   "source": [
    "# Your code here:\n",
    "\n",
    "from scipy.stats import ttest_1samp\n",
    "\n",
    "sts = salaries.query(\"Department == 'STREETS & SAN'\")\n",
    "\n",
    "sts_hourly = sts[sts['Hourly_Rate'].notna()]['Hourly_Rate']\n",
    "sts_hourly.mean()\n",
    "\n",
    "p_val = ttest_1samp(sts_hourly,35)[1]\n",
    "\n",
    "p_val / 2"
   ]
  },
  {
   "cell_type": "markdown",
   "metadata": {},
   "source": [
    "# Challenge 3 - Constructing Confidence Intervals\n",
    "\n",
    "While testing our hypothesis is a great way to gather empirical evidence for accepting or rejecting the hypothesis, another way to gather evidence is by creating a confidence interval. A confidence interval gives us information about the true mean of the population. So for a 95% confidence interval, we are 95% sure that the mean of the population is within the confidence interval. \n",
    ").\n",
    "\n",
    "To read more about confidence intervals, click [here](https://en.wikipedia.org/wiki/Confidence_interval).\n",
    "\n",
    "\n",
    "In the cell below, we will construct a 95% confidence interval for the mean hourly wage of all hourly workers. \n",
    "\n",
    "The confidence interval is computed in SciPy using the `t.interval` function. You can read more about this function [here](https://docs.scipy.org/doc/scipy-0.14.0/reference/generated/scipy.stats.t.html).\n",
    "\n",
    "To compute the confidence interval of the hourly wage, use the 0.95 for the confidence level, number of rows - 1 for degrees of freedom, the mean of the sample for the location parameter and the standard error for the scale. The standard error can be computed using [this](https://docs.scipy.org/doc/scipy/reference/generated/scipy.stats.sem.html) function in SciPy."
   ]
  },
  {
   "cell_type": "code",
   "execution_count": 23,
   "metadata": {},
   "outputs": [
    {
     "data": {
      "text/plain": [
       "(32.52345834488529, 33.05365708767727)"
      ]
     },
     "execution_count": 23,
     "metadata": {},
     "output_type": "execute_result"
    }
   ],
   "source": [
    "# Your code here:\n",
    "from scipy.stats import t, sem\n",
    "\n",
    "sample = salaries[(salaries['Salary_or_Hourly'] == 'Hourly')]['Hourly_Rate']\n",
    "lower, upper = t.interval(\n",
    "    1 - alpha, #confidence level\n",
    "    len(sample) - 1, # degrees of freedom\n",
    "    loc = sample.mean(), # sample mean\n",
    "    scale = sem(sample) # sample SEM\n",
    ")\n",
    "lower, upper\n",
    "\n"
   ]
  },
  {
   "cell_type": "markdown",
   "metadata": {},
   "source": [
    "### Now construct the 95% confidence interval for all salaried employeed in the police in the cell below."
   ]
  },
  {
   "cell_type": "code",
   "execution_count": 24,
   "metadata": {},
   "outputs": [
    {
     "data": {
      "text/plain": [
       "(86526.99656774197, 87047.0030125611)"
      ]
     },
     "execution_count": 24,
     "metadata": {},
     "output_type": "execute_result"
    }
   ],
   "source": [
    "# Your code here:\n",
    "from scipy.stats import t, sem\n",
    "\n",
    "sample = salaries[(salaries['Salary_or_Hourly'] == 'Salary')]['Annual_Salary']\n",
    "\n",
    "lower, upper = t.interval(\n",
    "    1 - alpha, #confidence level\n",
    "    len(sample) - 1, # degrees of freedom\n",
    "    loc = sample.mean(), # sample mean\n",
    "    scale = sem(sample) # sample SEM\n",
    ")\n",
    "lower, upper"
   ]
  },
  {
   "cell_type": "markdown",
   "metadata": {},
   "source": [
    "# Challenge 4 - Hypothesis Tests of Proportions\n",
    "\n",
    "Another type of one sample test is a hypothesis test of proportions. In this test, we examine whether the proportion of a group in our sample is significantly different than a fraction. \n",
    "\n",
    "You can read more about one sample proportion tests [here](http://sphweb.bumc.bu.edu/otlt/MPH-Modules/BS/SAS/SAS6-CategoricalData/SAS6-CategoricalData2.html).\n",
    "\n",
    "In the cell below, use the `proportions_ztest` function from `statsmodels` to perform a hypothesis test that will determine whether the number of hourly workers in the City of Chicago is significantly different from 25% at the 95% confidence level."
   ]
  },
  {
   "cell_type": "code",
   "execution_count": 22,
   "metadata": {},
   "outputs": [
    {
     "data": {
      "text/plain": [
       "0.00022405636245289835"
      ]
     },
     "execution_count": 22,
     "metadata": {},
     "output_type": "execute_result"
    }
   ],
   "source": [
    "# Your code here:\n",
    "\n",
    "from statsmodels.stats.proportion import proportions_ztest\n",
    "\n",
    "# \n",
    "\n",
    "p_val = proportions_ztest(\n",
    "    salaries[(salaries['Salary_or_Hourly'] == 'Hourly')]['Hourly_Rate'].count(), #number of workers working hourly\n",
    "    salaries['Salary_or_Hourly'].count(), # number of total observations\n",
    "    0.25 #Probability to which we're comparing the number of workers working hourly\n",
    ")[1]/ 2 # one-sided t-test\n",
    "\n",
    "p_val\n",
    "\n"
   ]
  },
  {
   "cell_type": "code",
   "execution_count": null,
   "metadata": {},
   "outputs": [],
   "source": []
  }
 ],
 "metadata": {
  "kernelspec": {
   "display_name": "Python 3",
   "language": "python",
   "name": "python3"
  },
  "language_info": {
   "codemirror_mode": {
    "name": "ipython",
    "version": 3
   },
   "file_extension": ".py",
   "mimetype": "text/x-python",
   "name": "python",
   "nbconvert_exporter": "python",
   "pygments_lexer": "ipython3",
   "version": "3.7.3"
  }
 },
 "nbformat": 4,
 "nbformat_minor": 2
}
