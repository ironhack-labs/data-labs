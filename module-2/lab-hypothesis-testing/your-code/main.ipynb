{
 "cells": [
  {
   "cell_type": "markdown",
   "metadata": {},
   "source": [
    "# Before your start:\n",
    "- Read the README.md file\n",
    "- Comment as much as you can and use the resources (README.md file)\n",
    "- Happy learning!"
   ]
  },
  {
   "cell_type": "code",
   "execution_count": 2,
   "metadata": {},
   "outputs": [],
   "source": [
    "# import numpy and pandas\n",
    "import numpy as np\n",
    "import pandas as pd"
   ]
  },
  {
   "cell_type": "markdown",
   "metadata": {},
   "source": [
    "# Challenge 1 - Exploring the Data\n",
    "\n",
    "In this challenge, we will examine all salaries of employees of the City of Chicago. We will start by loading the dataset and examining its contents"
   ]
  },
  {
   "cell_type": "code",
   "execution_count": 3,
   "metadata": {},
   "outputs": [],
   "source": [
    "# Run this code:\n",
    "\n",
    "salaries = pd.read_csv('../Current_Employee_Names__Salaries__and_Position_Titles.csv')"
   ]
  },
  {
   "cell_type": "markdown",
   "metadata": {},
   "source": [
    "Examine the `salaries` dataset using the `head` function below."
   ]
  },
  {
   "cell_type": "code",
   "execution_count": 4,
   "metadata": {},
   "outputs": [
    {
     "data": {
      "text/html": "<div>\n<style scoped>\n    .dataframe tbody tr th:only-of-type {\n        vertical-align: middle;\n    }\n\n    .dataframe tbody tr th {\n        vertical-align: top;\n    }\n\n    .dataframe thead th {\n        text-align: right;\n    }\n</style>\n<table border=\"1\" class=\"dataframe\">\n  <thead>\n    <tr style=\"text-align: right;\">\n      <th></th>\n      <th>Name</th>\n      <th>Job Titles</th>\n      <th>Department</th>\n      <th>Full or Part-Time</th>\n      <th>Salary or Hourly</th>\n      <th>Typical Hours</th>\n      <th>Annual Salary</th>\n      <th>Hourly Rate</th>\n    </tr>\n  </thead>\n  <tbody>\n    <tr>\n      <td>0</td>\n      <td>AARON,  JEFFERY M</td>\n      <td>SERGEANT</td>\n      <td>POLICE</td>\n      <td>F</td>\n      <td>Salary</td>\n      <td>NaN</td>\n      <td>101442.0</td>\n      <td>NaN</td>\n    </tr>\n    <tr>\n      <td>1</td>\n      <td>AARON,  KARINA</td>\n      <td>POLICE OFFICER (ASSIGNED AS DETECTIVE)</td>\n      <td>POLICE</td>\n      <td>F</td>\n      <td>Salary</td>\n      <td>NaN</td>\n      <td>94122.0</td>\n      <td>NaN</td>\n    </tr>\n    <tr>\n      <td>2</td>\n      <td>AARON,  KIMBERLEI R</td>\n      <td>CHIEF CONTRACT EXPEDITER</td>\n      <td>GENERAL SERVICES</td>\n      <td>F</td>\n      <td>Salary</td>\n      <td>NaN</td>\n      <td>101592.0</td>\n      <td>NaN</td>\n    </tr>\n    <tr>\n      <td>3</td>\n      <td>ABAD JR,  VICENTE M</td>\n      <td>CIVIL ENGINEER IV</td>\n      <td>WATER MGMNT</td>\n      <td>F</td>\n      <td>Salary</td>\n      <td>NaN</td>\n      <td>110064.0</td>\n      <td>NaN</td>\n    </tr>\n    <tr>\n      <td>4</td>\n      <td>ABASCAL,  REECE E</td>\n      <td>TRAFFIC CONTROL AIDE-HOURLY</td>\n      <td>OEMC</td>\n      <td>P</td>\n      <td>Hourly</td>\n      <td>20.0</td>\n      <td>NaN</td>\n      <td>19.86</td>\n    </tr>\n  </tbody>\n</table>\n</div>",
      "text/plain": "                  Name                              Job Titles  \\\n0    AARON,  JEFFERY M                                SERGEANT   \n1      AARON,  KARINA   POLICE OFFICER (ASSIGNED AS DETECTIVE)   \n2  AARON,  KIMBERLEI R                CHIEF CONTRACT EXPEDITER   \n3  ABAD JR,  VICENTE M                       CIVIL ENGINEER IV   \n4    ABASCAL,  REECE E             TRAFFIC CONTROL AIDE-HOURLY   \n\n         Department Full or Part-Time Salary or Hourly  Typical Hours  \\\n0            POLICE                 F           Salary            NaN   \n1            POLICE                 F           Salary            NaN   \n2  GENERAL SERVICES                 F           Salary            NaN   \n3       WATER MGMNT                 F           Salary            NaN   \n4              OEMC                 P           Hourly           20.0   \n\n   Annual Salary  Hourly Rate  \n0       101442.0          NaN  \n1        94122.0          NaN  \n2       101592.0          NaN  \n3       110064.0          NaN  \n4            NaN        19.86  "
     },
     "execution_count": 4,
     "metadata": {},
     "output_type": "execute_result"
    }
   ],
   "source": [
    "# Your code here:\n",
    "salaries.head()"
   ]
  },
  {
   "cell_type": "markdown",
   "metadata": {},
   "source": [
    "We see from looking at the `head` function that there is quite a bit of missing data. Let's examine how much missing data is in each column. Produce this output in the cell below"
   ]
  },
  {
   "cell_type": "code",
   "execution_count": 6,
   "metadata": {},
   "outputs": [
    {
     "data": {
      "text/plain": "Name                     0\nJob Titles               0\nDepartment               0\nFull or Part-Time        0\nSalary or Hourly         0\nTypical Hours        25161\nAnnual Salary         8022\nHourly Rate          25161\ndtype: int64"
     },
     "execution_count": 6,
     "metadata": {},
     "output_type": "execute_result"
    }
   ],
   "source": [
    "# Your code here:\n",
    "salaries.isna().sum()"
   ]
  },
  {
   "cell_type": "markdown",
   "metadata": {},
   "source": [
    "Let's also look at the count of hourly vs. salaried employees. Write the code in the cell below"
   ]
  },
  {
   "cell_type": "code",
   "execution_count": 23,
   "metadata": {},
   "outputs": [
    {
     "name": "stdout",
     "output_type": "stream",
     "text": "The number of salaried employees is 25161\nThe number of hourly employees is 8022\n"
    }
   ],
   "source": [
    "# Your code here:\n",
    "salaries.columns = [column.replace(' ', '_') for column in salaries.columns]\n",
    "# hour_vs_sal = salaries.query('Salary_or_Hourly == \"Salary\" or Salary_or_Hourly == \"Hourly\"')\n",
    "\n",
    "print(\"The number of salaried employees is \" + str(len(salaries[salaries.Salary_or_Hourly == 'Salary'])))\n",
    "print(\"The number of hourly employees is \" + str(len(salaries[salaries.Salary_or_Hourly == 'Hourly'])))\n",
    "\n"
   ]
  },
  {
   "cell_type": "markdown",
   "metadata": {},
   "source": [
    "What this information indicates is that the table contains information about two types of employees - salaried and hourly. Some columns apply only to one type of employee while other columns only apply to another kind. This is why there are so many missing values. Therefore, we will not do anything to handle the missing values."
   ]
  },
  {
   "cell_type": "markdown",
   "metadata": {},
   "source": [
    "There are different departments in the city. List all departments and the count of employees in each department."
   ]
  },
  {
   "cell_type": "code",
   "execution_count": 25,
   "metadata": {},
   "outputs": [
    {
     "name": "stdout",
     "output_type": "stream",
     "text": "Department\nADMIN HEARNG                39\nANIMAL CONTRL               81\nAVIATION                  1629\nBOARD OF ELECTION          107\nBOARD OF ETHICS              8\nBUDGET & MGMT               46\nBUILDINGS                  269\nBUSINESS AFFAIRS           171\nCITY CLERK                  84\nCITY COUNCIL               411\nCOMMUNITY DEVELOPMENT      207\nCOPA                       116\nCULTURAL AFFAIRS            65\nDISABILITIES                28\nDoIT                        99\nFAMILY & SUPPORT           615\nFINANCE                    560\nFIRE                      4641\nGENERAL SERVICES           980\nHEALTH                     488\nHUMAN RELATIONS             16\nHUMAN RESOURCES             79\nINSPECTOR GEN               87\nLAW                        407\nLICENSE APPL COMM            1\nMAYOR'S OFFICE              85\nOEMC                      2102\nPOLICE                   13414\nPOLICE BOARD                 2\nPROCUREMENT                 92\nPUBLIC LIBRARY            1015\nSTREETS & SAN             2198\nTRANSPORTN                1140\nTREASURER                   22\nWATER MGMNT               1879\nName: Name, dtype: int64\n"
    }
   ],
   "source": [
    "# Your code here:\n",
    "print(salaries.groupby('Department')['Name'].count())"
   ]
  },
  {
   "cell_type": "markdown",
   "metadata": {},
   "source": [
    "# Challenge 2 - Hypothesis Tests\n",
    "\n",
    "In this section of the lab, we will test whether the hourly wage of all hourly workers is significantly different from $30/hr. Import the correct one sample test function from scipy and perform the hypothesis test for a 95% two sided confidence interval."
   ]
  },
  {
   "cell_type": "code",
   "execution_count": 39,
   "metadata": {},
   "outputs": [
    {
     "name": "stdout",
     "output_type": "stream",
     "text": "4.3230240486229894e-92\n"
    }
   ],
   "source": [
    "# Your code here:\n",
    "# H0 is that the hourly wage for all hourly workers is not statistically different from 30.\n",
    "mu = 30\n",
    "alpha = (1 - 0.95) # to account for greater or less than\n",
    "wages = salaries.Hourly_Rate.dropna() # dropping the null values\n",
    "n = len(salaries[salaries.Salary_or_Hourly == 'Hourly']) - 1 # all hourly workers minus 1\n",
    "\n",
    "from scipy.stats import ttest_1samp # one-sample t-test\n",
    "\n",
    "p_val = ttest_1samp(\n",
    "    wages, # observations\n",
    "    mu, # the expected mean\n",
    ")[1] # grab the p-value back from that, divided by two\n",
    "\n",
    "print(p_val) # returns 4.3230240486229894e-92, an extremely small value, so we REJECT the Null Hypothesis. We do believe that there is a statistically significant difference between the hourly wage and 30."
   ]
  },
  {
   "cell_type": "markdown",
   "metadata": {},
   "source": [
    "We are also curious about salaries in the police force. The chief of police in Chicago claimed in a press briefing that salaries this year are higher than last year's mean of $86000/year a year for all salaried employees. Test this one sided hypothesis using a 95% confidence interval.\n",
    "\n",
    "Hint: A one tailed test has a p-value that is half of the two tailed p-value. If our hypothesis is greater than, then to reject, the test statistic must also be positive."
   ]
  },
  {
   "cell_type": "code",
   "execution_count": 85,
   "metadata": {},
   "outputs": [
    {
     "name": "stdout",
     "output_type": "stream",
     "text": "1.507879259958193e-09\n5.932870515690814\n"
    }
   ],
   "source": [
    "# Your code here:\n",
    "mu = 86000\n",
    "alpha = (1 - 0.95)\n",
    "wages = salaries.Annual_Salary.dropna()\n",
    "# print(\"The mean Annual Salary this year is \" + str(salaries.Annual_Salary.mean())) # returns $86,787, so this year salaries are higher, based on this sample\n",
    "# H0 = There is no statistically significant difference from last year's salary to this year\n",
    "# divide the p-value by two, since we are looking specifically at a one-sided test, GREATER THAN\n",
    "\n",
    "p_val = ttest_1samp(\n",
    "    wages, # observations\n",
    "    mu, # expected mean\n",
    ")[1] / 2 # grab the p-value, divided by 2 because its a one-tail test\n",
    "\n",
    "print(p_val) # returns 3.015758519916386e-09, so we REJECT the Null Hypothesis. We do believe that the salaries this year are greater than last year.\n",
    "\n",
    "t_stat = ttest_1samp(\n",
    "    wages, # observations\n",
    "    mu, # expected mean\n",
    ")[0] # grab the p-value, divided by 2 because its a one-tail test\n",
    "print(t_stat)"
   ]
  },
  {
   "cell_type": "markdown",
   "metadata": {},
   "source": [
    "Using the `crosstab` function, find the department that has the most hourly workers. "
   ]
  },
  {
   "cell_type": "code",
   "execution_count": 50,
   "metadata": {},
   "outputs": [
    {
     "name": "stdout",
     "output_type": "stream",
     "text": "Salary_or_Hourly  Hourly  Salary\nDepartment                      \nSTREETS & SAN       1862     336\n"
    }
   ],
   "source": [
    "# Your code here:\n",
    "# compare count of hourly works by department\n",
    "cross_df = pd.crosstab(salaries.Department, salaries['Salary_or_Hourly'])\n",
    "\n",
    "\n",
    "# print(df[df.Points == df.Points.max()]) \n",
    "print(cross_df[cross_df.Hourly == cross_df.Hourly.max()]) # wee see that Streets and Sanitation is the Department with the most Hourly workers"
   ]
  },
  {
   "cell_type": "markdown",
   "metadata": {},
   "source": [
    "The workers from the department with the most hourly workers have complained that their hourly wage is less than $35/hour. Using a one sample t-test, test this one-sided hypothesis at the 95% confidence level."
   ]
  },
  {
   "cell_type": "code",
   "execution_count": 86,
   "metadata": {},
   "outputs": [
    {
     "name": "stdout",
     "output_type": "stream",
     "text": "1.6689265282353859e-21\n33.728378088076845\n"
    }
   ],
   "source": [
    "# Your code here:\n",
    "\n",
    "# one-sided, \n",
    "mu = 35 # target\n",
    "# wages = salaries.[salaries['Department'] == 'STREETS & SAN']['Hourly_Rate']\n",
    "wages = salaries.query(\"Department == 'STREETS & SAN'\")\n",
    "\n",
    "# df = df[np.isfinite(df['EPS'])]\n",
    "# wages = wages[pd.notnull(wages['Hourly_Rate'])]\n",
    "# print(wages.head())\n",
    "\n",
    "# df.dropna(subset=[1])\n",
    "wages = wages.dropna(subset = ['Hourly_Rate'])\n",
    "# print(wages.head())\n",
    "\n",
    "p_val = ttest_1samp(\n",
    "    wages['Hourly_Rate'],\n",
    "    mu,\n",
    ")[1] / 2 # because one-sided again!\n",
    "\n",
    "print(p_val) # returns 1.6689265282353859e-21, so we REJECT the Null Hypothesis!\n",
    "\n",
    "print(wages['Hourly_Rate'].mean())"
   ]
  },
  {
   "cell_type": "markdown",
   "metadata": {},
   "source": [
    "# Challenge 3 - Constructing Confidence Intervals\n",
    "\n",
    "While testing our hypothesis is a great way to gather empirical evidence for accepting or rejecting the hypothesis, another way to gather evidence is by creating a confidence interval. A confidence interval gives us information about the true mean of the population. So for a 95% confidence interval, we are 95% sure that the mean of the population is within the confidence interval. \n",
    ").\n",
    "\n",
    "To read more about confidence intervals, click [here](https://en.wikipedia.org/wiki/Confidence_interval).\n",
    "\n",
    "\n",
    "In the cell below, we will construct a 95% confidence interval for the mean hourly wage of all hourly workers. \n",
    "\n",
    "The confidence interval is computed in SciPy using the `t.interval` function. You can read more about this function [here](https://docs.scipy.org/doc/scipy-0.14.0/reference/generated/scipy.stats.t.html).\n",
    "\n",
    "To compute the confidence interval of the hourly wage, use the 0.95 for the confidence level, number of rows - 1 for degrees of freedom, the mean of the sample for the location parameter and the standard error for the scale. The standard error can be computed using [this](https://docs.scipy.org/doc/scipy/reference/generated/scipy.stats.sem.html) function in SciPy."
   ]
  },
  {
   "cell_type": "code",
   "execution_count": 69,
   "metadata": {},
   "outputs": [
    {
     "name": "stdout",
     "output_type": "stream",
     "text": "32.52345834488529 33.05365708767727\n"
    }
   ],
   "source": [
    "# Your code here:\n",
    "\n",
    "# 95% confidence interval for the mean hourly wage of all hourly workers\n",
    "n = len(salaries[salaries.Salary_or_Hourly == 'Hourly'])\n",
    "wages = (salaries[salaries.Salary_or_Hourly == 'Hourly'])['Hourly_Rate'] # hourly_rate of all hourly workers\n",
    "# print(wages) # returns 32.78855771628128\n",
    "\n",
    "from scipy.stats import t, sem\n",
    "\n",
    "lower, upper = t.interval( # returns a tuple, so unpack it two different variables, lower and upper\n",
    "    1 - alpha, # confidence level\n",
    "    n - 1, # degrees of freedom, sample size minus one\n",
    "    loc = wages.mean(), # sample mean\n",
    "    scale = sem(wages), # standard error of the mean for the sample\n",
    ")\n",
    "\n",
    "print(lower, upper) # returns (32.52345834488529, 33.05365708767727)\n",
    "# so we are 95% confident that the true population mean of the hourly wage of all hourly workers is between $32.5/hour and $33/hour"
   ]
  },
  {
   "cell_type": "markdown",
   "metadata": {},
   "source": [
    "Now construct the 95% confidence interval for all salaried employeed in the police in the cell below."
   ]
  },
  {
   "cell_type": "code",
   "execution_count": 81,
   "metadata": {},
   "outputs": [
    {
     "name": "stdout",
     "output_type": "stream",
     "text": "86177.05631531784 86795.77269094894\n"
    }
   ],
   "source": [
    "# Your code here:\n",
    "\n",
    "# 95% confidence interval for the mean annual salary of salaried workers in the police department\n",
    "# n = len(salaries[[(salaries.Salary_or_Hourly == 'Salary') & (salaries.Department == 'POLICE')]])\n",
    "# df[df['first_name'].notnull() & (df['nationality'] == \"USA\")]\n",
    "n = len(salaries[ (salaries['Salary_or_Hourly'] == 'Salary') & (salaries['Department'] == 'POLICE') ])\n",
    "# print(len(n)) # returns 13,404\n",
    "\n",
    "# wages = salaries[[salaries.Salary_or_Hourly == 'Salary' & salaries.Department == 'POLICE']]['Annual_Salary'] # Salaries of all salaried workers in the police department\n",
    "# print(wages) # returns \n",
    "wages = salaries[ (salaries['Salary_or_Hourly'] == 'Salary') & (salaries['Department'] == 'POLICE') ].Annual_Salary\n",
    "# print(wages.head())\n",
    "\n",
    "from scipy.stats import t, sem\n",
    "\n",
    "lower, upper = t.interval( # returns a tuple, so unpack it two different variables, lower and upper\n",
    "    1 - alpha, # confidence level\n",
    "    n - 1, # degrees of freedom, sample size minus one\n",
    "    loc = wages.mean(), # sample mean\n",
    "    scale = sem(wages), # standard error of the mean for the sample\n",
    ")\n",
    "\n",
    "print(lower, upper) # returns (86177.05631531784, 86795.77269094894)\n",
    "# so we are 95% certain that the true population mean of the annual salary of all salaried employees in the police department is between $86,177 and $86,795"
   ]
  },
  {
   "cell_type": "markdown",
   "metadata": {},
   "source": [
    "# Challenge 4 - Hypothesis Tests of Proportions\n",
    "\n",
    "Another type of one sample test is a hypothesis test of proportions. In this test, we examine whether the proportion of a group in our sample is significantly different than a fraction. \n",
    "\n",
    "You can read more about one sample proportion tests [here](http://sphweb.bumc.bu.edu/otlt/MPH-Modules/BS/SAS/SAS6-CategoricalData/SAS6-CategoricalData2.html).\n",
    "\n",
    "In the cell below, use the `proportions_ztest` function from `statsmodels` to perform a hypothesis test that will determine whether the number of hourly workers in the City of Chicago is significantly different from 25% at the 95% confidence level."
   ]
  },
  {
   "cell_type": "code",
   "execution_count": 87,
   "metadata": {},
   "outputs": [
    {
     "name": "stdout",
     "output_type": "stream",
     "text": "0.0004481127249057967\n"
    }
   ],
   "source": [
    "# Your code here:\n",
    "\n",
    "# number of hourly workers \n",
    "\n",
    "from statsmodels.stats.proportion import proportions_ztest\n",
    "\n",
    "p_val = proportions_ztest(\n",
    "    len(salaries[salaries.Salary_or_Hourly == 'Hourly']), # number of HOURLY workers\n",
    "    len(salaries), # number of TOTAL workers\n",
    "    0.25, # target we are aiming for\n",
    ")[1]\n",
    "\n",
    "print(p_val) # returns 0.0004481127249057967, so we REJECT the Null Hypothesis that there is no statistically significant difference between the % hourly workers in the City of Chicago , because the p-value of the proportions ztest is below the alpha of 0.05"
   ]
  },
  {
   "cell_type": "code",
   "execution_count": null,
   "metadata": {},
   "outputs": [],
   "source": []
  }
 ],
 "metadata": {
  "kernelspec": {
   "display_name": "Python 3",
   "language": "python",
   "name": "python3"
  },
  "language_info": {
   "codemirror_mode": {
    "name": "ipython",
    "version": 3
   },
   "file_extension": ".py",
   "mimetype": "text/x-python",
   "name": "python",
   "nbconvert_exporter": "python",
   "pygments_lexer": "ipython3",
   "version": "3.7.3"
  }
 },
 "nbformat": 4,
 "nbformat_minor": 2
}