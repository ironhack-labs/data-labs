{
 "cells": [
  {
   "cell_type": "markdown",
   "metadata": {},
   "source": [
    "# Hypothesis Testing\n"
   ]
  },
  {
   "cell_type": "markdown",
   "metadata": {},
   "source": [
    "## Review\n",
    "\n",
    "* Hypothesis tests are used to compare datasets and determine whether any differences are the result of chance\n",
    "* Hypothesis tests return a **p-value**\n",
    "* The \"p\" stands for \"probability\"\n",
    "* The p-value tells us whether a dataset's mean is the result of chance\n",
    "* To choose the right test from `scipy.stats`, think in terms of your dataframe:\n",
    "    * To compare the mean of **1 column** to a predetermined mean: `ttest_1samp`\n",
    "        * *Null hypothesis: The column mean is equal to the predetermined mean*\n",
    "    * To compare the means of **two related columns**: `ttest_rel`\n",
    "        * *Null hypothesis: For each row, the values in the columns are equal*\n",
    "    * To compare the means of **two independent columns**: `ttest_ind`\n",
    "        * *Null hypothesis: The columns' means are equal*\n",
    "    * To compare the means of **three or more independent columns**: `f_oneway`\n",
    "        * *Null hypothesis: The columns' means are equal*\n",
    "    \n",
    "\n",
    "## ANOVA\n",
    "\n",
    "* <strong>AN</strong>alysis <strong>O</strong>f the <strong>VA</strong>riance\n",
    "* We'll be doing a \"1-way ANOVA\" test\n",
    "* Used to compare means of three or more groups\n",
    "* Groups do not necessarily have to be equal in length\n",
    "* Null hypothesis: groups' means are equal because they have all been drawn from the same population"
   ]
  },
  {
   "cell_type": "code",
   "execution_count": 1,
   "metadata": {},
   "outputs": [],
   "source": [
    "import pandas as pd\n",
    "import numpy as np\n",
    "\n",
    "np.random.seed(42)"
   ]
  },
  {
   "cell_type": "code",
   "execution_count": 2,
   "metadata": {},
   "outputs": [],
   "source": [
    "def decimal_str(x: float, decimals: int = 50) -> str:\n",
    "    return format(x, f\".{decimals}f\").lstrip().rstrip('0')\n",
    "\n",
    "def interpret(alpha, p_val):\n",
    "    print(f\"Probability results occurred by chance: {decimal_str(p_val, 30)}.\\nIs our p-value less than the alpha? {'Yes. We reject the null hypothesis! Kill it with fire!' if p_val < alpha else 'No. Our null hypothesis is correct.'}\")\n",
    "\n",
    "def roll(x):\n",
    "    fair = [1,2,3,4,5,6]\n",
    "    unfair = [6,2,3,4,5,6]\n",
    "    return np.random.choice(fair if x == 'fair' else unfair)"
   ]
  },
  {
   "cell_type": "code",
   "execution_count": 3,
   "metadata": {},
   "outputs": [
    {
     "data": {
      "text/html": [
       "<div>\n",
       "<style scoped>\n",
       "    .dataframe tbody tr th:only-of-type {\n",
       "        vertical-align: middle;\n",
       "    }\n",
       "\n",
       "    .dataframe tbody tr th {\n",
       "        vertical-align: top;\n",
       "    }\n",
       "\n",
       "    .dataframe thead th {\n",
       "        text-align: right;\n",
       "    }\n",
       "</style>\n",
       "<table border=\"1\" class=\"dataframe\">\n",
       "  <thead>\n",
       "    <tr style=\"text-align: right;\">\n",
       "      <th></th>\n",
       "      <th>A_1d</th>\n",
       "      <th>A_2d</th>\n",
       "      <th>A_3d</th>\n",
       "      <th>B_1d</th>\n",
       "      <th>B_2d</th>\n",
       "      <th>B_3d</th>\n",
       "    </tr>\n",
       "  </thead>\n",
       "  <tbody>\n",
       "    <tr>\n",
       "      <th>0</th>\n",
       "      <td>4</td>\n",
       "      <td>6</td>\n",
       "      <td>3</td>\n",
       "      <td>1</td>\n",
       "      <td>5</td>\n",
       "      <td>4</td>\n",
       "    </tr>\n",
       "    <tr>\n",
       "      <th>1</th>\n",
       "      <td>5</td>\n",
       "      <td>5</td>\n",
       "      <td>6</td>\n",
       "      <td>5</td>\n",
       "      <td>4</td>\n",
       "      <td>6</td>\n",
       "    </tr>\n",
       "    <tr>\n",
       "      <th>2</th>\n",
       "      <td>3</td>\n",
       "      <td>6</td>\n",
       "      <td>4</td>\n",
       "      <td>2</td>\n",
       "      <td>3</td>\n",
       "      <td>4</td>\n",
       "    </tr>\n",
       "    <tr>\n",
       "      <th>3</th>\n",
       "      <td>5</td>\n",
       "      <td>6</td>\n",
       "      <td>5</td>\n",
       "      <td>5</td>\n",
       "      <td>3</td>\n",
       "      <td>4</td>\n",
       "    </tr>\n",
       "    <tr>\n",
       "      <th>4</th>\n",
       "      <td>5</td>\n",
       "      <td>4</td>\n",
       "      <td>5</td>\n",
       "      <td>4</td>\n",
       "      <td>4</td>\n",
       "      <td>4</td>\n",
       "    </tr>\n",
       "  </tbody>\n",
       "</table>\n",
       "</div>"
      ],
      "text/plain": [
       "   A_1d  A_2d  A_3d  B_1d  B_2d  B_3d\n",
       "0     4     6     3     1     5     4\n",
       "1     5     5     6     5     4     6\n",
       "2     3     6     4     2     3     4\n",
       "3     5     6     5     5     3     4\n",
       "4     5     4     5     4     4     4"
      ]
     },
     "execution_count": 3,
     "metadata": {},
     "output_type": "execute_result"
    }
   ],
   "source": [
    "r = 1000\n",
    "\n",
    "df = pd.DataFrame({\n",
    "    'A_1d': [roll('fair') for _ in range(r)],\n",
    "    'A_2d': [roll('fair') for _ in range(r)],\n",
    "    'A_3d': [roll('fair') for _ in range(r)],\n",
    "    \n",
    "    'B_1d': [roll('fair') for _ in range(r)],\n",
    "    'B_2d': [roll('fair') for _ in range(r)],\n",
    "    'B_3d': [roll('unfair') for _ in range(r)]\n",
    "})\n",
    "\n",
    "df.head(5)"
   ]
  },
  {
   "cell_type": "code",
   "execution_count": 4,
   "metadata": {},
   "outputs": [
    {
     "data": {
      "text/plain": [
       "A_1d    3.457\n",
       "A_2d    3.500\n",
       "A_3d    3.568\n",
       "B_1d    3.502\n",
       "B_2d    3.439\n",
       "B_3d    4.333\n",
       "dtype: float64"
      ]
     },
     "execution_count": 4,
     "metadata": {},
     "output_type": "execute_result"
    }
   ],
   "source": [
    "df.mean()"
   ]
  },
  {
   "cell_type": "code",
   "execution_count": 7,
   "metadata": {},
   "outputs": [
    {
     "data": {
      "text/plain": [
       "'0.00000000000000000000000000000000000000000042671472'"
      ]
     },
     "execution_count": 7,
     "metadata": {},
     "output_type": "execute_result"
    }
   ],
   "source": [
    "from scipy.stats import f_oneway   #ANOVA\n",
    "\n",
    "p_val = f_oneway(\n",
    "    df['A_1d'],\n",
    "    df['A_2d'],\n",
    "    df['A_3d'],\n",
    "    df['B_1d'],\n",
    "    df['B_2d'],\n",
    "    df['B_3d']\n",
    ")[1]\n",
    "\n",
    "decimal_str(p_val)"
   ]
  },
  {
   "cell_type": "code",
   "execution_count": 8,
   "metadata": {},
   "outputs": [
    {
     "data": {
      "text/plain": [
       "True"
      ]
     },
     "execution_count": 8,
     "metadata": {},
     "output_type": "execute_result"
    }
   ],
   "source": [
    "p_val < 0.05"
   ]
  },
  {
   "cell_type": "code",
   "execution_count": 12,
   "metadata": {},
   "outputs": [
    {
     "data": {
      "text/plain": [
       "F_onewayResult(statistic=42.42720671287208, pvalue=4.267147242924766e-43)"
      ]
     },
     "execution_count": 12,
     "metadata": {},
     "output_type": "execute_result"
    }
   ],
   "source": [
    "f_oneway(*[df[col] for col in df])"
   ]
  },
  {
   "cell_type": "code",
   "execution_count": 10,
   "metadata": {},
   "outputs": [
    {
     "name": "stdout",
     "output_type": "stream",
     "text": [
      "1\n",
      "2\n"
     ]
    }
   ],
   "source": [
    "def arg(*args):       # *args -> the * makes it so you can pass various arguments\n",
    "    for arg in args:\n",
    "        print(arg)\n",
    "        \n",
    "arg(1, 2)"
   ]
  },
  {
   "cell_type": "code",
   "execution_count": 13,
   "metadata": {},
   "outputs": [
    {
     "name": "stdout",
     "output_type": "stream",
     "text": [
      "1\n",
      "2\n"
     ]
    }
   ],
   "source": [
    "arg(*[1, 2]) # you can pass it as a list with * in front of your list"
   ]
  },
  {
   "cell_type": "code",
   "execution_count": null,
   "metadata": {},
   "outputs": [],
   "source": []
  }
 ],
 "metadata": {
  "kernelspec": {
   "display_name": "Python 3",
   "language": "python",
   "name": "python3"
  },
  "language_info": {
   "codemirror_mode": {
    "name": "ipython",
    "version": 3
   },
   "file_extension": ".py",
   "mimetype": "text/x-python",
   "name": "python",
   "nbconvert_exporter": "python",
   "pygments_lexer": "ipython3",
   "version": "3.7.4"
  }
 },
 "nbformat": 4,
 "nbformat_minor": 2
}
