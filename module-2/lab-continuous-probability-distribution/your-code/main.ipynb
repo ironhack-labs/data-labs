{
 "cells": [
  {
   "cell_type": "markdown",
   "metadata": {},
   "source": [
    "# Before your start:\n",
    "\n",
    "    Read the README.md file\n",
    "    Comment as much as you can and use the resources (README.md file)\n",
    "    Happy learning!"
   ]
  },
  {
   "cell_type": "markdown",
   "metadata": {},
   "source": [
    "In this exercise, we  will generate random numbers from the continuous disributions we learned in the lesson. There are two ways to generate random numbers:\n",
    "\n",
    "1. Using the numpy library \n",
    "1. using the Scipy library \n",
    "\n",
    "Use either or both of the lbraries in this exercise."
   ]
  },
  {
   "cell_type": "markdown",
   "metadata": {},
   "source": [
    "## Uniform Distribution\n",
    "\n",
    "To generate uniform random numbers between any two given values using scipy, we can either use the following code or the code that we have\n",
    "discussed in class:"
   ]
  },
  {
   "cell_type": "code",
   "execution_count": 1,
   "metadata": {},
   "outputs": [
    {
     "name": "stdout",
     "output_type": "stream",
     "text": [
      "[2.49643212 2.34785917 2.60787187 2.26772854 2.19685213 2.73402851\n",
      " 2.14262944 2.45054026 2.7283874  2.16929845]\n"
     ]
    }
   ],
   "source": [
    "from scipy.stats import uniform\n",
    "x = uniform.rvs(size=10)\n",
    "a = 2\n",
    "b = 3\n",
    "randoms  = a + (b-a)*x\n",
    "print(randoms)"
   ]
  },
  {
   "cell_type": "markdown",
   "metadata": {},
   "source": [
    "**Your task:**\n",
    "\n",
    "1. Based on the code above, write a function that generates uniformly distributed random numbers. There are several requirements for your function:\n",
    "    * It should accept 3 parameters: \n",
    "        * `bottom` - the lower boundary of the generated numbers\n",
    "        * `ceiling` - the upper boundary of the generated numbers\n",
    "        * `count` - how many numbers to generate\n",
    "    * It should return an array of uniformly distributed random numbers\n",
    "\n",
    "1. Call your function with 2 sets of params below:\n",
    "    * bottom=10, ceiling=15, count=100\n",
    "    * bottom=10, ceiling=60, count=1,000\n",
    "\n",
    "1. Plot the uniform distributions generated above using histograms, where x axis is the value and y axis is the count. Let the histogram's number of bins be 10.\n",
    "\n",
    "Your output should look like below:\n",
    "\n",
    "![uniform distribution](ud.png)"
   ]
  },
  {
   "cell_type": "code",
   "execution_count": 25,
   "metadata": {},
   "outputs": [
    {
     "data": {
      "text/plain": [
       "(array([103.,  98., 100.,  98., 105., 113., 106.,  90.,  94.,  93.]),\n",
       " array([10.02520773, 15.02134506, 20.01748238, 25.01361971, 30.00975704,\n",
       "        35.00589436, 40.00203169, 44.99816902, 49.99430634, 54.99044367,\n",
       "        59.986581  ]),\n",
       " <a list of 10 Patch objects>)"
      ]
     },
     "execution_count": 25,
     "metadata": {},
     "output_type": "execute_result"
    },
    {
     "data": {
      "image/png": "[encoded data removed]",
      "text/plain": [
       "<Figure size 432x288 with 2 Axes>"
      ]
     },
     "metadata": {
      "needs_background": "light"
     },
     "output_type": "display_data"
    }
   ],
   "source": [
    "# Dependencies\n",
    "import numpy as np\n",
    "import matplotlib.pyplot as plt\n",
    "\n",
    "# your code here\n",
    "def generateUniform(bottom, ceiling, count):\n",
    "    '''\n",
    "    This function will generate uniformly distributed random numbers. It will generate \"count\" numbers, in a range from \"bottom\" to \"ceiling\". This is just a wrapper for numpy's random.uniform, which does the same\n",
    "    '''\n",
    "    return np.random.uniform(bottom, ceiling, count)\n",
    "\n",
    "\n",
    "# now call the function with both sets, plotting the histograms\n",
    "fig, ax = plt.subplots(1, 2)\n",
    "x = generateUniform(10, 15, 100)\n",
    "# y = uniform.pdf(x)\n",
    "ax[0].hist(x)\n",
    "\n",
    "x2 = generateUniform(10, 60, 1000) # how to get this to be a separate plot?\n",
    "# y = uniform.pdf(generateUniform)\n",
    "ax[1].hist(x2)"
   ]
  },
  {
   "cell_type": "markdown",
   "metadata": {},
   "source": [
    "How are the two distributions different?"
   ]
  },
  {
   "cell_type": "code",
   "execution_count": 3,
   "metadata": {},
   "outputs": [],
   "source": [
    "# your answer below\n",
    "# Obviously the range of the two, one is only distributed from 10 - 15, while the other is 10 - 60.\n",
    "# we see, visually a distribution closer to what we would expect for a uniform distribution with the higher count run on the right."
   ]
  },
  {
   "cell_type": "markdown",
   "metadata": {},
   "source": [
    "## Normal Distribution\n",
    "\n",
    "1. In the same way in the Uniform Distribution challenge, write a function that generates normally distributed random numbers.\n",
    "1. Generate 1,000 normally distributed numbers with the average of 10 and standard deviation of 1\n",
    "1. Generate 1,000 normally distributed numbers with the average of 10 and standard deviation of 50\n",
    "2. Plot the distributions of the data generated.\n",
    "\n",
    "Expected output:\n",
    "\n",
    "![normal distribution](nd.png)"
   ]
  },
  {
   "cell_type": "code",
   "execution_count": 4,
   "metadata": {},
   "outputs": [
    {
     "data": {
      "text/plain": [
       "(array([  8.,  37., 113., 185., 275., 202., 113.,  53.,  12.,   2.]),\n",
       " array([-140.65215258, -107.73667875,  -74.82120492,  -41.90573109,\n",
       "          -8.99025727,   23.92521656,   56.84069039,   89.75616422,\n",
       "         122.67163805,  155.58711188,  188.50258571]),\n",
       " <a list of 10 Patch objects>)"
      ]
     },
     "execution_count": 4,
     "metadata": {},
     "output_type": "execute_result"
    },
    {
     "data": {
      "image/png": "[encoded data removed]",
      "text/plain": [
       "<Figure size 432x288 with 2 Axes>"
      ]
     },
     "metadata": {
      "needs_background": "light"
     },
     "output_type": "display_data"
    }
   ],
   "source": [
    "# your code here\n",
    "import numpy as np\n",
    "\n",
    "def generateNormal(mean, stdev, count):\n",
    "    return np.random.normal(mean, stdev, count)\n",
    "\n",
    "# now call the function with both sets, plotting the histograms\n",
    "fig, ax = plt.subplots(1, 2)\n",
    "x = generateNormal(10, 1, 1000)\n",
    "ax[0].hist(x)\n",
    "\n",
    "x2 = generateNormal(10, 50, 1000)\n",
    "ax[1].hist(x2)"
   ]
  },
  {
   "cell_type": "markdown",
   "metadata": {},
   "source": [
    "How are the two distributions different?"
   ]
  },
  {
   "cell_type": "code",
   "execution_count": 14,
   "metadata": {},
   "outputs": [],
   "source": [
    "# your answer below\n",
    "# As expected, we see that these are symmetrically distributed about the mean, but we have a more \"bell-shape\" to our distribution that has a larger standard deviation value"
   ]
  },
  {
   "cell_type": "markdown",
   "metadata": {},
   "source": [
    "## Normal Distribution of Real Data\n",
    "\n",
    "In this challenge we are going to take a look the real data. We will use vehicles.csv file for this exercise"
   ]
  },
  {
   "cell_type": "markdown",
   "metadata": {},
   "source": [
    "First import vehicles.csv.\n",
    "Then plot the histograms for the following variables:\n",
    "\n",
    "1. Fuel Barrels/Year"
   ]
  },
  {
   "cell_type": "code",
   "execution_count": 6,
   "metadata": {},
   "outputs": [
    {
     "data": {
      "text/plain": [
       "<matplotlib.axes._subplots.AxesSubplot at 0x10a336978>"
      ]
     },
     "execution_count": 6,
     "metadata": {},
     "output_type": "execute_result"
    },
    {
     "data": {
      "image/png": "[encoded data removed]",
      "text/plain": [
       "<Figure size 432x288 with 1 Axes>"
      ]
     },
     "metadata": {
      "needs_background": "light"
     },
     "output_type": "display_data"
    }
   ],
   "source": [
    "# your code here\n",
    "import pandas as pd\n",
    "data = pd.read_csv('vehicles.csv')\n",
    "# data.head()\n",
    "\n",
    "data['Fuel Barrels/Year'].hist()"
   ]
  },
  {
   "cell_type": "markdown",
   "metadata": {},
   "source": [
    "2. CO2 Emission Grams/Mile "
   ]
  },
  {
   "cell_type": "code",
   "execution_count": 7,
   "metadata": {},
   "outputs": [
    {
     "data": {
      "text/plain": [
       "<matplotlib.axes._subplots.AxesSubplot at 0x1a1f980cf8>"
      ]
     },
     "execution_count": 7,
     "metadata": {},
     "output_type": "execute_result"
    },
    {
     "data": {
      "image/png": "[encoded data removed]",
      "text/plain": [
       "<Figure size 432x288 with 1 Axes>"
      ]
     },
     "metadata": {
      "needs_background": "light"
     },
     "output_type": "display_data"
    }
   ],
   "source": [
    "# your code here\n",
    "data['CO2 Emission Grams/Mile'].hist()"
   ]
  },
  {
   "cell_type": "markdown",
   "metadata": {},
   "source": [
    "3. Combined MPG"
   ]
  },
  {
   "cell_type": "code",
   "execution_count": 8,
   "metadata": {},
   "outputs": [
    {
     "data": {
      "text/plain": [
       "<matplotlib.axes._subplots.AxesSubplot at 0x1a1f8f7710>"
      ]
     },
     "execution_count": 8,
     "metadata": {},
     "output_type": "execute_result"
    },
    {
     "data": {
      "image/png": "[encoded data removed]",
      "text/plain": [
       "<Figure size 432x288 with 1 Axes>"
      ]
     },
     "metadata": {
      "needs_background": "light"
     },
     "output_type": "display_data"
    }
   ],
   "source": [
    "# your code here\n",
    "data['Combined MPG'].hist()"
   ]
  },
  {
   "cell_type": "markdown",
   "metadata": {},
   "source": [
    "Which one(s) of the variables are nearly normally distributed? How do you know?"
   ]
  },
  {
   "cell_type": "code",
   "execution_count": 9,
   "metadata": {},
   "outputs": [],
   "source": [
    "# your answer here\n",
    "# CO2 Emmissions Grams/Mile seems to be the most nearly normally distributed, because the graph is supposed to be centered symmetrically around the mean."
   ]
  },
  {
   "cell_type": "markdown",
   "metadata": {},
   "source": [
    "## Exponential Distribution"
   ]
  },
  {
   "cell_type": "markdown",
   "metadata": {},
   "source": [
    "1. Using `numpy.random.exponential`, create a function that returns a list of numbers exponentially distributed with the mean of 10. \n",
    "\n",
    "1. Use the function to generate two number sequences with the size of 100 and 1,000.\n",
    "\n",
    "1. Plot the distributions as histograms with the nubmer of bins as 100.\n",
    "\n",
    "Updated Instructions\n",
    "1. Using `numpy.random.exponential`, create a function that returns a list of numbers, exponentially distributed. \n",
    "\n",
    "1. Use the function to generate two number sequences with a mean of 1 and 100, respectively, and sizes of 1000.\n",
    "\n",
    "1. Plot the distributions as histograms with the number of bins as 100.\n",
    "\n",
    "\n",
    "Your output should look like below:\n",
    "\n",
    "![exponential distribution](ed.png)"
   ]
  },
  {
   "cell_type": "code",
   "execution_count": 31,
   "metadata": {},
   "outputs": [
    {
     "data": {
      "text/plain": [
       "(array([83., 71., 50., 80., 54., 48., 46., 38., 46., 38., 42., 26., 20.,\n",
       "        33., 24., 20., 15., 20., 21., 15., 12., 17.,  8., 10., 10., 11.,\n",
       "        12., 15., 11.,  9., 11.,  2.,  9.,  9.,  4.,  2.,  3.,  2.,  3.,\n",
       "         3.,  5.,  4.,  6.,  3.,  0.,  2.,  4.,  1.,  1.,  3.,  0.,  1.,\n",
       "         1.,  3.,  0.,  0.,  1.,  2.,  0.,  0.,  1.,  1.,  0.,  1.,  0.,\n",
       "         0.,  1.,  0.,  0.,  0.,  1.,  1.,  0.,  0.,  0.,  0.,  0.,  0.,\n",
       "         0.,  0.,  1.,  0.,  0.,  0.,  0.,  1.,  0.,  0.,  1.,  0.,  0.,\n",
       "         0.,  0.,  0.,  0.,  0.,  0.,  0.,  0.,  1.]),\n",
       " array([6.65761483e-03, 7.88695761e+00, 1.57672576e+01, 2.36475576e+01,\n",
       "        3.15278576e+01, 3.94081576e+01, 4.72884576e+01, 5.51687576e+01,\n",
       "        6.30490576e+01, 7.09293576e+01, 7.88096575e+01, 8.66899575e+01,\n",
       "        9.45702575e+01, 1.02450558e+02, 1.10330858e+02, 1.18211158e+02,\n",
       "        1.26091458e+02, 1.33971758e+02, 1.41852057e+02, 1.49732357e+02,\n",
       "        1.57612657e+02, 1.65492957e+02, 1.73373257e+02, 1.81253557e+02,\n",
       "        1.89133857e+02, 1.97014157e+02, 2.04894457e+02, 2.12774757e+02,\n",
       "        2.20655057e+02, 2.28535357e+02, 2.36415657e+02, 2.44295957e+02,\n",
       "        2.52176257e+02, 2.60056557e+02, 2.67936857e+02, 2.75817157e+02,\n",
       "        2.83697457e+02, 2.91577757e+02, 2.99458057e+02, 3.07338357e+02,\n",
       "        3.15218657e+02, 3.23098957e+02, 3.30979257e+02, 3.38859557e+02,\n",
       "        3.46739857e+02, 3.54620157e+02, 3.62500457e+02, 3.70380757e+02,\n",
       "        3.78261057e+02, 3.86141357e+02, 3.94021657e+02, 4.01901957e+02,\n",
       "        4.09782257e+02, 4.17662557e+02, 4.25542857e+02, 4.33423157e+02,\n",
       "        4.41303457e+02, 4.49183757e+02, 4.57064057e+02, 4.64944357e+02,\n",
       "        4.72824657e+02, 4.80704957e+02, 4.88585257e+02, 4.96465557e+02,\n",
       "        5.04345857e+02, 5.12226157e+02, 5.20106457e+02, 5.27986757e+02,\n",
       "        5.35867057e+02, 5.43747357e+02, 5.51627657e+02, 5.59507957e+02,\n",
       "        5.67388257e+02, 5.75268557e+02, 5.83148857e+02, 5.91029157e+02,\n",
       "        5.98909457e+02, 6.06789757e+02, 6.14670057e+02, 6.22550357e+02,\n",
       "        6.30430657e+02, 6.38310957e+02, 6.46191257e+02, 6.54071557e+02,\n",
       "        6.61951857e+02, 6.69832157e+02, 6.77712457e+02, 6.85592757e+02,\n",
       "        6.93473057e+02, 7.01353357e+02, 7.09233657e+02, 7.17113957e+02,\n",
       "        7.24994257e+02, 7.32874557e+02, 7.40754857e+02, 7.48635157e+02,\n",
       "        7.56515457e+02, 7.64395757e+02, 7.72276057e+02, 7.80156357e+02,\n",
       "        7.88036657e+02]),\n",
       " <a list of 100 Patch objects>)"
      ]
     },
     "execution_count": 31,
     "metadata": {},
     "output_type": "execute_result"
    },
    {
     "data": {
      "image/png": "[encoded data removed]",
      "text/plain": [
       "<Figure size 432x288 with 2 Axes>"
      ]
     },
     "metadata": {
      "needs_background": "light"
     },
     "output_type": "display_data"
    }
   ],
   "source": [
    "# your code here\n",
    "import numpy as np\n",
    "def generateExpo(mean, count):\n",
    "    return np.random.exponential(mean, count)\n",
    "\n",
    "# print(generateExpo(10, 1))\n",
    "# print(generateExpo(10, 100))\n",
    "\n",
    "# now call the function with both sets, plotting the histograms\n",
    "fig, ax = plt.subplots(1, 2)\n",
    "x = generateExpo(1, 1000)\n",
    "ax[0].hist(x, bins = 100)\n",
    "\n",
    "x2 = generateExpo(100, 1000)\n",
    "ax[1].hist(x2, bins = 100)"
   ]
  },
  {
   "cell_type": "markdown",
   "metadata": {},
   "source": [
    "How are the two distributions different?"
   ]
  },
  {
   "cell_type": "code",
   "execution_count": 24,
   "metadata": {},
   "outputs": [],
   "source": [
    "# your answer here\n",
    "# since our first plot fewer values (count of 10 was passed in originally according to the lab question), we see that this is too small of a sample size to represent exponential data. "
   ]
  },
  {
   "cell_type": "markdown",
   "metadata": {},
   "source": [
    "## Exponential Distribution of Real Data\n",
    "\n",
    "Suppose that the amount of time one spends in a bank is exponentially distributed with mean as 10 minutes (i.e. λ = 1/10). What is the probability that a customer will spend less than fifteen minutes in the bank? \n",
    "\n",
    "Write a code in python to solve this problem"
   ]
  },
  {
   "cell_type": "code",
   "execution_count": 12,
   "metadata": {},
   "outputs": [
    {
     "name": "stdout",
     "output_type": "stream",
     "text": [
      "0.777\n"
     ]
    }
   ],
   "source": [
    "# your answer here\n",
    "# Hint: This is same as saying P(x<15), which is a Cumulative Distribution Function! \n",
    "# exponential CDF\n",
    "# 1 - (e raised to the power of negative lambda times a)\n",
    "# a = 15\n",
    "# cognitively, if the mean is 10 minutes, then it will be quite likely that the customer will spend <15 minutes\n",
    "\n",
    "from math import exp\n",
    "\n",
    "decay = 1/10\n",
    "target = 15 # minutes\n",
    "\n",
    "probab = 1 - (exp(1) ** ((-1 * decay) * target))\n",
    "print(round(probab, 3))"
   ]
  },
  {
   "cell_type": "markdown",
   "metadata": {},
   "source": [
    "What is the probability that the customer will spend more than 15 minutes"
   ]
  },
  {
   "cell_type": "code",
   "execution_count": 13,
   "metadata": {},
   "outputs": [
    {
     "name": "stdout",
     "output_type": "stream",
     "text": [
      "0.223\n"
     ]
    }
   ],
   "source": [
    "# your answer here\n",
    "# pretty straightforward, this would be One Minus the prob that the customers spends less than 15 minutes.\n",
    "# well, are we taking into account the probabibility of exactly 15 minutes? probably not, since we know that for Continuous Distributions, the probability of any single value being the outcome is infinitesimally small.\n",
    "print(round(1-probab, 3))"
   ]
  },
  {
   "cell_type": "code",
   "execution_count": null,
   "metadata": {},
   "outputs": [],
   "source": []
  }
 ],
 "metadata": {
  "kernelspec": {
   "display_name": "Python 3",
   "language": "python",
   "name": "python3"
  },
  "language_info": {
   "codemirror_mode": {
    "name": "ipython",
    "version": 3
   },
   "file_extension": ".py",
   "mimetype": "text/x-python",
   "name": "python",
   "nbconvert_exporter": "python",
   "pygments_lexer": "ipython3",
   "version": "3.7.3"
  }
 },
 "nbformat": 4,
 "nbformat_minor": 2
}
