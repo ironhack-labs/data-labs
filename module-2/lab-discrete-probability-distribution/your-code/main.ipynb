{
 "cells": [
  {
   "cell_type": "markdown",
   "metadata": {},
   "source": [
    "# Before your start:\n",
    "\n",
    "    Read the README.md file\n",
    "    Comment as much as you can and use the resources (README.md file)\n",
    "    Happy learning!\n",
    "\n",
    "*Notes:* \n",
    "\n",
    "- Solve the questions with python.\n",
    "\n",
    "- Round the final answer to three decimal places."
   ]
  },
  {
   "cell_type": "markdown",
   "metadata": {},
   "source": [
    "## Bernoulli's Distribution\n",
    "\n",
    "In a basket containing 100 fruits, there are 60 apples and 40 oranges. \n",
    "\n",
    "A fruit is picked randomly from the basket. \n",
    "\n",
    "1. **What is the probability that the fruit is apple?**\n",
    "1. **What is the probability that it is an orange?**"
   ]
  },
  {
   "cell_type": "code",
   "execution_count": 1,
   "metadata": {},
   "outputs": [],
   "source": [
    "\"\"\"\n",
    "Calculate:\n",
    "p = probability that the fruit is an apple \n",
    "q = probability that the fruit is an orange\n",
    "\"\"\"\n",
    "\n",
    "# your code here\n",
    "\n",
    "p = 60 / 100 # 60 apples out of 100 fruits\n",
    "q = 40 / 100 # 40 oranges out of 100 fruits"
   ]
  },
  {
   "cell_type": "markdown",
   "metadata": {},
   "source": [
    "Now we take a random sample of 20 fruits from the basket. After each fruit is taken, a new fruit of the same type is replaced in the basket. Therefore, every time we are taking 1 fruit from 100 fruits. \n",
    "\n",
    "1. **What is the probability that the first 5 fruits are all apples?**\n",
    "\n",
    "1. **What is the probability that the first 5 fruits are all apples and the next 15 fruits are all oranges?**\n",
    "\n",
    "You can include the `p` and `q` probabilities you previous calculated in your solution."
   ]
  },
  {
   "cell_type": "code",
   "execution_count": 36,
   "metadata": {},
   "outputs": [
    {
     "name": "stdout",
     "output_type": "stream",
     "text": [
      "Probability that first five are all apples is 0.078\n",
      "Probability that first five are all apples and the next 15 are oranges is 9.5367431640625e-07\n"
     ]
    }
   ],
   "source": [
    "# your code here\n",
    "\n",
    "# with replacement, so these are independent events!\n",
    "\n",
    "# prob that first 5 are all apples\n",
    "# (prob of apple) raised to the power of 5\n",
    "print(\"Probability that first five are all apples is \" + str(round(p ** 5, 3)))\n",
    "\n",
    "# prob that first 5 are all apples and next 15 are all oranges? There's only one way to achieve this. AAAAAOOOOOOOOOOOOOOOO, so this isn't really necessary\n",
    "# prob = (p ** 5) * ((1 - p) ** 15)\n",
    "# print(\"Probability that first five are all apples and the next 15 are oranges is \" + str((p ** 5) * (q ** (20-5))))\n",
    "# it is only one potential outcome, so 1/1048576 because that is our total number of possible outcomes \n",
    "\n",
    "# product(['A', 'O'], repeat = 20) is our total number of possible outcomes, 1048576\n",
    "\n",
    "print(\"Probability that first five are all apples and the next 15 are oranges is \" + str(1/1048576))"
   ]
  },
  {
   "cell_type": "code",
   "execution_count": 38,
   "metadata": {},
   "outputs": [
    {
     "name": "stdout",
     "output_type": "stream",
     "text": [
      "Probability that first five are all apples and the next 15 are oranges is 0.0000009537\n"
     ]
    }
   ],
   "source": [
    "# dropping in the function we built in class.\n",
    "def decimal_str(x: float, i: int = 10) -> str:\n",
    "    '''\n",
    "    This function will limit our decimal to the number of characters passed in as i, defaults to 10\n",
    "    '''\n",
    "    return format(x, f'.{i}f').lstrip().rstrip('0')\n",
    "\n",
    "print(\"Probability that first five are all apples and the next 15 are oranges is \" + decimal_str(1/1048576)) "
   ]
  },
  {
   "cell_type": "markdown",
   "metadata": {},
   "source": [
    "## Binomial Distribution\n",
    "\n",
    "Similar to the above problem, this time again we randomly sample 20 fruits.\n",
    "\n",
    "**What is the probability that this time the sample contains 5 apples and 15 oranges?**\n",
    "\n",
    "Please note that this time the order of the fruits being picked does not matter."
   ]
  },
  {
   "cell_type": "code",
   "execution_count": 20,
   "metadata": {},
   "outputs": [
    {
     "data": {
      "text/plain": [
       "0.0012944935222876511"
      ]
     },
     "execution_count": 20,
     "metadata": {},
     "output_type": "execute_result"
    }
   ],
   "source": [
    "# your code here\n",
    "from scipy.stats import binom\n",
    "\n",
    "binom.pmf(\n",
    "    5, # target number of apples\n",
    "    20, # total number of trials\n",
    "    p, # probability of single apple\n",
    ")"
   ]
  },
  {
   "cell_type": "code",
   "execution_count": 21,
   "metadata": {},
   "outputs": [
    {
     "data": {
      "text/plain": [
       "0.001"
      ]
     },
     "execution_count": 21,
     "metadata": {},
     "output_type": "execute_result"
    }
   ],
   "source": [
    "round(binom.pmf(5, 20, p), 3)"
   ]
  },
  {
   "cell_type": "markdown",
   "metadata": {},
   "source": [
    "In the lesson we also discussed CDF (cumulative distribution function). In the context of the above problem, **what is the probability that less than 5 fruits picked are apples?**\n",
    "\n",
    "Write the formula and calculate the probability below."
   ]
  },
  {
   "cell_type": "code",
   "execution_count": 19,
   "metadata": {},
   "outputs": [
    {
     "data": {
      "text/plain": [
       "0.0003170311211686301"
      ]
     },
     "execution_count": 19,
     "metadata": {},
     "output_type": "execute_result"
    }
   ],
   "source": [
    "# your code here\n",
    "# binom.cdf(x, n, p) where x is the target, n is number of trials, and p is prob of success \n",
    "\n",
    "binom.cdf(\n",
    "    4, # x, used 4 because we are looking for less than 5 \"successes\"\n",
    "    20, # n, fruits are selected, this is the trials\n",
    "    p, # p, the probability of an apple being selected in a single outcome, 60/100 or 0.6\n",
    ")"
   ]
  },
  {
   "cell_type": "code",
   "execution_count": 22,
   "metadata": {},
   "outputs": [
    {
     "data": {
      "text/plain": [
       "0.0"
      ]
     },
     "execution_count": 22,
     "metadata": {},
     "output_type": "execute_result"
    }
   ],
   "source": [
    "round(binom.cdf(4, 20, p), 3)"
   ]
  },
  {
   "cell_type": "markdown",
   "metadata": {},
   "source": [
    "**Plot the PDF (probability distributiom function) for the above binomial distribution.**\n",
    "\n",
    "*Hint: The range of x in a binomial distribution is from `0` to `n`.*"
   ]
  },
  {
   "cell_type": "code",
   "execution_count": 11,
   "metadata": {},
   "outputs": [
    {
     "data": {
      "image/png": "[encoded data removed]",
      "text/plain": [
       "<Figure size 432x288 with 1 Axes>"
      ]
     },
     "metadata": {
      "needs_background": "light"
     },
     "output_type": "display_data"
    }
   ],
   "source": [
    "# your code here\n",
    "# Please label the axes and give a title to the plot \n",
    "import matplotlib.pyplot as plt\n",
    "\n",
    "# create the figure\n",
    "plt.title(\"Probability Distribution of Apple Selections\")\n",
    "plt.xlabel('Number of Apples')\n",
    "plt.ylabel('Probability')\n",
    "\n",
    "# enter the data\n",
    "n = 20 # number of trials\n",
    "plt.plot([binom.pmf(x, n, p) for x in range(n+1)])\n",
    "\n",
    "# trigger the chart\n",
    "plt.show()"
   ]
  },
  {
   "cell_type": "markdown",
   "metadata": {},
   "source": [
    "## Poisson Distribution\n",
    "\n",
    "In this challenge you are required to use the Math library in python to solve the problems.\n",
    "\n",
    "In the UEFA champions league tournament, the average number of goals scored in a match is 2.3. \n",
    "\n",
    "**What is the probability that the number of goals scored in a match is 5?**\n",
    "\n",
    "*Hint: Use the exp() in the math library*\n",
    "\n",
    "And to calculate the factorial, you can use the following code:\n",
    "\n",
    "```python\n",
    "import math\n",
    "math.factorial(n) # n is the number you want to find the factorial of\n",
    "```"
   ]
  },
  {
   "cell_type": "code",
   "execution_count": 13,
   "metadata": {},
   "outputs": [
    {
     "data": {
      "text/plain": [
       "0.053775025581946814"
      ]
     },
     "execution_count": 13,
     "metadata": {},
     "output_type": "execute_result"
    }
   ],
   "source": [
    "# your code here \n",
    "'''\n",
    "good practice to only import what you need, and here's how to calculate that by hand\n",
    "from math import factorial, exp\n",
    "mu, x = 2.3, 5\n",
    "((exp(1) ** (mu * -1)) * (mu ** x)) / factorial(x)\n",
    "'''  \n",
    "# and here's how to do it much more simply\n",
    "from scipy.stats import poisson\n",
    "\n",
    "mu = 2.3 # average number of goals scored in a UEFA champions league tournament match\n",
    "x = 5 # 5 goals, the target number we're looking for the probability of occurring\n",
    "\n",
    "poisson(mu).pmf(x)"
   ]
  },
  {
   "cell_type": "code",
   "execution_count": 23,
   "metadata": {},
   "outputs": [
    {
     "data": {
      "text/plain": [
       "0.054"
      ]
     },
     "execution_count": 23,
     "metadata": {},
     "output_type": "execute_result"
    }
   ],
   "source": [
    "round(poisson(mu).pmf(x), 3)"
   ]
  },
  {
   "cell_type": "markdown",
   "metadata": {},
   "source": [
    "**Draw a poisson probability distribution plot for the number of goals to be between 0 to 10.**"
   ]
  },
  {
   "cell_type": "code",
   "execution_count": 14,
   "metadata": {},
   "outputs": [
    {
     "data": {
      "image/png": "[encoded data removed]",
      "text/plain": [
       "<Figure size 432x288 with 1 Axes>"
      ]
     },
     "metadata": {
      "needs_background": "light"
     },
     "output_type": "display_data"
    }
   ],
   "source": [
    "# your code here\n",
    "# Please label the axes and give a title to the plot \n",
    "\n",
    "# create the figure\n",
    "plt.title(\"Probability Distribution of Goals Scored\")\n",
    "plt.xlabel('Goals Scored')\n",
    "plt.ylabel('Probability')\n",
    "\n",
    "# enter the data\n",
    "plt.plot([poisson(mu).pmf(x) for x in range(11)])\n",
    "\n",
    "# trigger the chart\n",
    "plt.show()"
   ]
  },
  {
   "cell_type": "code",
   "execution_count": null,
   "metadata": {},
   "outputs": [],
   "source": []
  }
 ],
 "metadata": {
  "kernelspec": {
   "display_name": "Python 3",
   "language": "python",
   "name": "python3"
  },
  "language_info": {
   "codemirror_mode": {
    "name": "ipython",
    "version": 3
   },
   "file_extension": ".py",
   "mimetype": "text/x-python",
   "name": "python",
   "nbconvert_exporter": "python",
   "pygments_lexer": "ipython3",
   "version": "3.7.3"
  }
 },
 "nbformat": 4,
 "nbformat_minor": 2
}
