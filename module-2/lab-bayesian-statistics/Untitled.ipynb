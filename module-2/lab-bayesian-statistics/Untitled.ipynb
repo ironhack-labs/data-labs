{
 "cells": [
  {
   "cell_type": "code",
   "execution_count": 4,
   "metadata": {},
   "outputs": [],
   "source": [
    "import pandas as pd\n",
    "import numpy as np"
   ]
  },
  {
   "cell_type": "code",
   "execution_count": 2,
   "metadata": {},
   "outputs": [
    {
     "data": {
      "text/plain": [
       "[1, 2, 3, 4, 1, 2, 3, 4, 1, 2, 3, 4, 1, 2, 3, 4, 1, 2, 3, 4]"
      ]
     },
     "execution_count": 2,
     "metadata": {},
     "output_type": "execute_result"
    }
   ],
   "source": [
    "[1,2,3,4] * 5"
   ]
  },
  {
   "cell_type": "code",
   "execution_count": 5,
   "metadata": {},
   "outputs": [
    {
     "data": {
      "text/plain": [
       "array([ 5, 10, 15, 20])"
      ]
     },
     "execution_count": 5,
     "metadata": {},
     "output_type": "execute_result"
    }
   ],
   "source": [
    "np.array([1,2,3,4])*5"
   ]
  },
  {
   "cell_type": "code",
   "execution_count": 6,
   "metadata": {},
   "outputs": [
    {
     "data": {
      "text/plain": [
       "array([ 5, 10, 15, 20])"
      ]
     },
     "execution_count": 6,
     "metadata": {},
     "output_type": "execute_result"
    }
   ],
   "source": [
    "np.multiply([1,2,3,4], 5)"
   ]
  },
  {
   "cell_type": "code",
   "execution_count": 7,
   "metadata": {},
   "outputs": [],
   "source": [
    "# np.random.binomial"
   ]
  },
  {
   "cell_type": "code",
   "execution_count": 12,
   "metadata": {},
   "outputs": [
    {
     "data": {
      "text/plain": [
       "[1, 0, 2, 0, 1]"
      ]
     },
     "execution_count": 12,
     "metadata": {},
     "output_type": "execute_result"
    }
   ],
   "source": [
    "def coin_flip(n):\n",
    "    return np.random.binomial(\n",
    "        n, # trials (flips)\n",
    "         1/6# prob of success (heads)\n",
    "        )\n",
    "\n",
    "[coin_flip(3) for _ in range(5)] #simulation of outcomes"
   ]
  },
  {
   "cell_type": "markdown",
   "metadata": {},
   "source": [
    "#Boolean masks"
   ]
  },
  {
   "cell_type": "code",
   "execution_count": 13,
   "metadata": {},
   "outputs": [
    {
     "data": {
      "text/plain": [
       "0    1\n",
       "2    3\n",
       "4    5\n",
       "dtype: int64"
      ]
     },
     "execution_count": 13,
     "metadata": {},
     "output_type": "execute_result"
    }
   ],
   "source": [
    "series = pd.Series([1,2,3,4,5])\n",
    "mask = [True, False, True, False, True]\n",
    "series[mask]"
   ]
  },
  {
   "cell_type": "markdown",
   "metadata": {},
   "source": [
    "# BAYES' Theorem\n",
    "\n",
    "Suppose we have 3 jars with 100 marbles in each.\n",
    "\n",
    "- Jar 1 has 40 blue marbles, 30 red marbles, and 30 green marbles.\n",
    "- Jar 2 has 60 blue marbles, 20 red marbles, and 20 green marbles.\n",
    "- Jar 3 has 10 blue marbles, 30 red marbles, and 60 green marbles.\n",
    "\n",
    "\n",
    "You pick a marble from one of the jars at random, and the marble is green. What are the probabilities that the marble came from each of the three jars?"
   ]
  },
  {
   "cell_type": "code",
   "execution_count": 14,
   "metadata": {},
   "outputs": [],
   "source": [
    "def bayes_theorem(priors: list, likelihoods: list) -> np.array: #list lits, should return an array\n",
    "    priors_x_likelihoods = np.multiply(priors, likelihoods)\n",
    "    marginal_prob = sum(priors_x_likelihoods)\n",
    "    return priors_x_likelihoods / marginal_prob # posterior probabilities"
   ]
  },
  {
   "cell_type": "code",
   "execution_count": 19,
   "metadata": {},
   "outputs": [
    {
     "data": {
      "text/plain": [
       "array([0.27272727, 0.18181818, 0.54545455])"
      ]
     },
     "execution_count": 19,
     "metadata": {},
     "output_type": "execute_result"
    }
   ],
   "source": [
    "jars = [1/3, 1/3, 1/3] # probability of selecting each jar\n",
    "greens = [.3, .2, .6] #probability of selecting a green from each jar \n",
    "\n",
    "bayes_theorem(jars, greens)"
   ]
  },
  {
   "cell_type": "markdown",
   "metadata": {},
   "source": [
    "Probabilities\n",
    "\n",
    "- Jar 1: 27%\n",
    "- Jar 2: 18.18%\n",
    "- Jar 3 54.5"
   ]
  },
  {
   "cell_type": "markdown",
   "metadata": {},
   "source": [
    "# Bayesian inference\n",
    "\n",
    "Suppose we have just launched an online store, and we are trying to estimate what % of visitors to our online store will make a purchase.\n",
    "\n",
    "1st day, 50 people visited our site  and 10 of them made a purchase, We can use this to predict average future sales:"
   ]
  },
  {
   "cell_type": "code",
   "execution_count": 25,
   "metadata": {},
   "outputs": [
    {
     "data": {
      "text/plain": [
       "count    1928.000000\n",
       "mean        0.209995\n",
       "std         0.055656\n",
       "min         0.067987\n",
       "25%         0.167973\n",
       "50%         0.207396\n",
       "75%         0.248033\n",
       "max         0.417793\n",
       "dtype: float64"
      ]
     },
     "execution_count": 25,
     "metadata": {},
     "output_type": "execute_result"
    }
   ],
   "source": [
    "n = 50 # total observations\n",
    "k = 10 # successful observations\n",
    "\n",
    "def posterior_dist(k, n, size = 100000): #\n",
    "    prior = pd.Series(np.random.uniform(0, 1, size = size))\n",
    "    outcomes = [np.random.binomial(n, p) for p in prior]\n",
    "    return prior[[x == k for x in outcomes]]\n",
    "\n",
    "posterior = posterior_dist(k, n)\n",
    "posterior.describe()  \n",
    "\n",
    "#based on the estimulations the 20% (mean) people will buy something"
   ]
  },
  {
   "cell_type": "code",
   "execution_count": 23,
   "metadata": {},
   "outputs": [
    {
     "data": {
      "text/plain": [
       "<matplotlib.axes._subplots.AxesSubplot at 0x11d9062e8>"
      ]
     },
     "execution_count": 23,
     "metadata": {},
     "output_type": "execute_result"
    },
    {
     "data": {
      "image/png": "[encoded data removed]",
      "text/plain": [
       "<Figure size 432x288 with 1 Axes>"
      ]
     },
     "metadata": {
      "needs_background": "light"
     },
     "output_type": "display_data"
    }
   ],
   "source": [
    "pd.Series(np.random.uniform(0, 1, size = 100000)).plot(kind = 'hist')"
   ]
  },
  {
   "cell_type": "code",
   "execution_count": 26,
   "metadata": {},
   "outputs": [
    {
     "data": {
      "text/plain": [
       "55       0.165271\n",
       "67       0.229875\n",
       "138      0.279169\n",
       "186      0.240920\n",
       "253      0.180884\n",
       "270      0.332503\n",
       "286      0.258772\n",
       "340      0.097310\n",
       "407      0.194959\n",
       "411      0.266215\n",
       "466      0.161110\n",
       "499      0.183972\n",
       "600      0.292417\n",
       "632      0.358976\n",
       "659      0.155265\n",
       "678      0.134821\n",
       "742      0.183230\n",
       "870      0.253986\n",
       "898      0.153117\n",
       "930      0.173975\n",
       "1017     0.278564\n",
       "1021     0.330185\n",
       "1043     0.174365\n",
       "1055     0.255969\n",
       "1155     0.265435\n",
       "1284     0.239762\n",
       "1312     0.163718\n",
       "1481     0.187130\n",
       "1552     0.119019\n",
       "1618     0.299990\n",
       "           ...   \n",
       "98440    0.200816\n",
       "98449    0.145027\n",
       "98452    0.168456\n",
       "98460    0.221194\n",
       "98548    0.195114\n",
       "98574    0.227951\n",
       "98581    0.218532\n",
       "98588    0.168786\n",
       "98781    0.160304\n",
       "98881    0.204597\n",
       "98899    0.324855\n",
       "99170    0.242183\n",
       "99179    0.155858\n",
       "99233    0.184080\n",
       "99287    0.152828\n",
       "99302    0.253416\n",
       "99347    0.106362\n",
       "99438    0.098559\n",
       "99467    0.183137\n",
       "99503    0.091175\n",
       "99572    0.226736\n",
       "99573    0.212370\n",
       "99574    0.148701\n",
       "99738    0.207712\n",
       "99753    0.197086\n",
       "99791    0.137247\n",
       "99792    0.115581\n",
       "99883    0.155394\n",
       "99894    0.273906\n",
       "99896    0.256025\n",
       "Length: 1928, dtype: float64"
      ]
     },
     "execution_count": 26,
     "metadata": {},
     "output_type": "execute_result"
    }
   ],
   "source": [
    "posterior"
   ]
  },
  {
   "cell_type": "markdown",
   "metadata": {},
   "source": [
    "# Confidence Interval"
   ]
  },
  {
   "cell_type": "code",
   "execution_count": 27,
   "metadata": {},
   "outputs": [
    {
     "data": {
      "text/plain": [
       "(0.20750874286808246, 0.2124805184257071)"
      ]
     },
     "execution_count": 27,
     "metadata": {},
     "output_type": "execute_result"
    }
   ],
   "source": [
    "from scipy.stats import sem, t\n",
    "\n",
    "def conf_interval(sample, confidence):\n",
    "    return t.interval(\n",
    "    confidence, #confidence level\n",
    "    len(sample) - 1, #degrees of freedom\n",
    "    loc = sample.mean(),\n",
    "    scale = sem(sample)\n",
    "    )\n",
    "\n",
    "conf_interval(posterior, .95)"
   ]
  },
  {
   "cell_type": "markdown",
   "metadata": {},
   "source": [
    "# Maximum likelihood estimate MLE"
   ]
  },
  {
   "cell_type": "code",
   "execution_count": 28,
   "metadata": {},
   "outputs": [
    {
     "data": {
      "text/plain": [
       "(0.21, 0.07520746887966805)"
      ]
     },
     "execution_count": 28,
     "metadata": {},
     "output_type": "execute_result"
    }
   ],
   "source": [
    "def mle(arr): #maximum likelihood estimate\n",
    "    rounded = arr.round(2)\n",
    "    mode = rounded.mode()[0]\n",
    "    prob = list(rounded).count(mode) / len(rounded)\n",
    "    return mode, prob\n",
    "\n",
    "mle(posterior) # 1 number is MLE which is the mean , then the prob that it will be exactly .2 within the distribution"
   ]
  },
  {
   "cell_type": "markdown",
   "metadata": {},
   "source": []
  },
  {
   "cell_type": "code",
   "execution_count": null,
   "metadata": {},
   "outputs": [],
   "source": []
  }
 ],
 "metadata": {
  "kernelspec": {
   "display_name": "Python 3",
   "language": "python",
   "name": "python3"
  },
  "language_info": {
   "codemirror_mode": {
    "name": "ipython",
    "version": 3
   },
   "file_extension": ".py",
   "mimetype": "text/x-python",
   "name": "python",
   "nbconvert_exporter": "python",
   "pygments_lexer": "ipython3",
   "version": "3.7.3"
  }
 },
 "nbformat": 4,
 "nbformat_minor": 2
}
