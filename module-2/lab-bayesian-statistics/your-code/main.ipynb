{
 "cells": [
  {
   "cell_type": "markdown",
   "metadata": {},
   "source": [
    "# Intro to Bayesian Statistics Lab\n",
    "\n",
    "Complete the following set of exercises to solidify your knowledge of Bayesian statistics and Bayesian data analysis."
   ]
  },
  {
   "cell_type": "code",
   "execution_count": 1,
   "metadata": {},
   "outputs": [],
   "source": [
    "import pandas as pd\n",
    "import numpy as np\n",
    "import matplotlib.pyplot as plt"
   ]
  },
  {
   "cell_type": "markdown",
   "metadata": {},
   "source": [
    "## 1. Cookie Problem\n",
    "\n",
    "Suppose we have two bowls of cookies. Bowl 1 contains 30 vanilla cookies and 10 chocolate cookies. Bowl 2 contains 20 of each. You randomly pick one cookie out of one of the bowls, and it is vanilla. Use Bayes Theorem to calculate the probability that the vanilla cookie you picked came from Bowl 1?"
   ]
  },
  {
   "cell_type": "code",
   "execution_count": 3,
   "metadata": {},
   "outputs": [
    {
     "name": "stdout",
     "output_type": "stream",
     "text": [
      "The Probability that the Vanilla cookie I selected was from bowl one is 0.6\n"
     ]
    }
   ],
   "source": [
    "bowls = [0.5, 0.5] # this will be my Priors, the probability of selecting each bowl\n",
    "vanilla = [30/40, 20/40] # Likelihoods, the probability of selecting vanilla from each bowl\n",
    "\n",
    "def bayes_theorem(priors: list, likelihoods: list) -> np.array: # each should be a list, returns an array\n",
    "    marginal_prob = sum(np.multiply(priors, likelihoods))\n",
    "    posterior_prob = np.divide(np.multiply(priors, likelihoods), marginal_prob)\n",
    "    return posterior_prob\n",
    "\n",
    "bayes_theorem(bowls, vanilla) # returns an array([0.6, 0.4]), so the first value is bowlOne, and second is bowlTwo\n",
    "\n",
    "print(\"The Probability that the Vanilla cookie I selected was from bowl one is \" + str(bayes_theorem(bowls, vanilla)[0]))"
   ]
  },
  {
   "cell_type": "markdown",
   "metadata": {},
   "source": [
    "What is the probability that it came from Bowl 2?"
   ]
  },
  {
   "cell_type": "code",
   "execution_count": 4,
   "metadata": {},
   "outputs": [
    {
     "name": "stdout",
     "output_type": "stream",
     "text": [
      "The Probability that the Vanilla cookie I selected was from bowl two is 0.4\n"
     ]
    }
   ],
   "source": [
    "# the second item from my output\n",
    "print(\"The Probability that the Vanilla cookie I selected was from bowl two is \" + str(bayes_theorem(bowls, vanilla)[1]))"
   ]
  },
  {
   "cell_type": "markdown",
   "metadata": {},
   "source": [
    "What if the cookie you had picked was chocolate? What are the probabilities that the chocolate cookie came from Bowl 1 and Bowl 2 respectively?"
   ]
  },
  {
   "cell_type": "code",
   "execution_count": 18,
   "metadata": {},
   "outputs": [
    {
     "name": "stdout",
     "output_type": "stream",
     "text": [
      "The Probability that the Chocolate cookie I selected was from bowl one is 0.3333333333333333\n",
      "The Probability that the Chocolate cookie I selected was from bowl one is 0.6666666666666666\n"
     ]
    }
   ],
   "source": [
    "chocolate = [1 - _ for _ in vanilla]\n",
    "\n",
    "print(\"The Probability that the Chocolate cookie I selected was from bowl one is \" + str(bayes_theorem(bowls, chocolate)[0]))\n",
    "\n",
    "print(\"The Probability that the Chocolate cookie I selected was from bowl one is \" + str(bayes_theorem(bowls, chocolate)[1]))"
   ]
  },
  {
   "cell_type": "markdown",
   "metadata": {},
   "source": [
    "## 2. Candy Problem\n",
    "\n",
    "Suppose you have two bags of candies:\n",
    "\n",
    "- In Bag 1, the mix of colors is:\n",
    "    - Brown - 30%\n",
    "    - Yellow - 20%\n",
    "    - Red - 20%\n",
    "    - Green - 10%\n",
    "    - Orange - 10%\n",
    "    - Tan - 10%\n",
    "    \n",
    "- In Bag 2, the mix of colors is:\n",
    "    - Blue - 24%\n",
    "    - Green - 20%\n",
    "    - Orange - 16%\n",
    "    - Yellow - 14%\n",
    "    - Red - 13%\n",
    "    - Brown - 13%\n",
    "    \n",
    "Not knowing which bag is which, you randomly draw one candy from each bag. One is yellow and one is green. What is the probability that the yellow one came from the Bag 1?\n",
    "\n",
    "*Hint: For the likelihoods, you will need to multiply the probabilities of drawing yellow from one bag and green from the other bag and vice versa.*"
   ]
  },
  {
   "cell_type": "code",
   "execution_count": 35,
   "metadata": {},
   "outputs": [],
   "source": [
    "bag = [0.5, 0.5]\n",
    "yellow = [0.2, 0.14]\n",
    "green = [0.1, 0.2]\n",
    "\n",
    "# first multiply P(yellow) * P(green), and then P(green) * P(yellow) ?\n",
    "# or, prob(yellow GIVEN that a green was selected) and prob(green GIVEN that a yellow was selected) ?\n",
    "\n",
    "def bayes_candy(priors: list, likelihoods: list) -> np.array: # each should be a list, returns an array\n",
    "    marginal_prob = sum(np.multiply(priors, likelihoods))\n",
    "    posterior_prob = np.divide(np.multiply(priors, likelihoods), marginal_prob)\n",
    "    return posterior_prob"
   ]
  },
  {
   "cell_type": "markdown",
   "metadata": {},
   "source": [
    "What is the probability that the yellow candy came from Bag 2?"
   ]
  },
  {
   "cell_type": "code",
   "execution_count": 36,
   "metadata": {},
   "outputs": [
    {
     "data": {
      "text/plain": [
       "0.411764705882353"
      ]
     },
     "execution_count": 36,
     "metadata": {},
     "output_type": "execute_result"
    }
   ],
   "source": [
    "# bayes_theorem(bag, yellow)[1]\n",
    "bayes_theorem(bag, yellow)[1]"
   ]
  },
  {
   "cell_type": "markdown",
   "metadata": {},
   "source": [
    "What are the probabilities that the green one came from Bag 1 and Bag 2 respectively?"
   ]
  },
  {
   "cell_type": "code",
   "execution_count": 22,
   "metadata": {},
   "outputs": [
    {
     "data": {
      "text/plain": [
       "array([0.33333333, 0.66666667])"
      ]
     },
     "execution_count": 22,
     "metadata": {},
     "output_type": "execute_result"
    }
   ],
   "source": [
    "bayes_theorem(bag, green)"
   ]
  },
  {
   "cell_type": "markdown",
   "metadata": {},
   "source": [
    "## 3. Monty Hall Problem\n",
    "\n",
    "Suppose you are a contestant on the popular game show *Let's Make a Deal*. The host of the show (Monty Hall) presents you with three doors - Door A, Door B, and Door C. He tells you that there is a sports car behind one of them and if you choose the correct one, you win the car!\n",
    "\n",
    "You select Door A, but then Monty makes things a little more interesting. He opens Door B to reveal that there is no sports car behind it and asks you if you would like to stick with your choice of Door A or switch your choice to Door C. Given this new information, what are the probabilities of you winning the car if you stick with Door A versus if you switch to Door C?"
   ]
  },
  {
   "cell_type": "code",
   "execution_count": 39,
   "metadata": {},
   "outputs": [
    {
     "data": {
      "text/plain": [
       "0.3333333333333333"
      ]
     },
     "execution_count": 39,
     "metadata": {},
     "output_type": "execute_result"
    }
   ],
   "source": [
    "doors = [1/3, 1/3, 1/3]\n",
    "sports_car = [1/3, 1/3, 1/3]\n",
    "\n",
    "bayes_theorem(doors, sports_car)[0]"
   ]
  },
  {
   "cell_type": "markdown",
   "metadata": {},
   "source": [
    "## 4. Bayesian Analysis \n",
    "\n",
    "Suppose you work for a landscaping company, and they want to advertise their service online. They create an ad and sit back waiting for the money to roll in. On the first day, the ad sends 100 visitors to the site and 14 of them sign up for landscaping services. Create a generative model to come up with the posterior distribution and produce a visualization of what the posterior distribution would look like given the observed data."
   ]
  },
  {
   "cell_type": "code",
   "execution_count": 26,
   "metadata": {},
   "outputs": [
    {
     "data": {
      "text/plain": [
       "<matplotlib.axes._subplots.AxesSubplot at 0x11b7a39d0>"
      ]
     },
     "execution_count": 26,
     "metadata": {},
     "output_type": "execute_result"
    },
    {
     "data": {
      "image/png": "[encoded data removed]",
      "text/plain": [
       "<Figure size 432x288 with 1 Axes>"
      ]
     },
     "metadata": {
      "needs_background": "light"
     },
     "output_type": "display_data"
    }
   ],
   "source": [
    "n = 100 # number of total observations\n",
    "k = 14 # number of observations with Success\n",
    "\n",
    "def posterior_dist(k, n, size = 100000): # add me to the Helper file too\n",
    "    '''\n",
    "    first: generate synthetic PRIORS using random uniform distribution, (probability of someone buying, a bunch of priors, these are the simulations of x% of people who visited the site bought something), so this might be something like [0.05, 0.5, 0.3, 0.8, etc.].\n",
    "    second: generate synthetic LIKELIHOODS, a random percentage for each value in PRIORS, a binomial distribution, where PRIORS is a decimal (essentially a probabilty), and runs that in a binomial against n=50. np.random.binomial will return a \"count\" of successes, so we use a listcomp to build a list of the outcomes (which is really our Likelihoods we'll be using in Bayesian Inference) -- generated a simulated number of sales, based on a simulated PROB of sales.\n",
    "    third: return a subset of our Series, pick all the simulated scenarios where we got 10 sales, that's what k equals, and we're saving the ones that match our distribution. so then we return a bunch of scenarios/probabilites that are likely to reproduce the OBSERVATION we have\n",
    "    \n",
    "    '''\n",
    "    prior = pd.Series(np.random.uniform(0, 1, size = size))\n",
    "    outcomes = [np.random.binomial(n, p) for p in prior]\n",
    "    return prior[[x == k for x in outcomes]]\n",
    "\n",
    "posterior_prob = posterior_dist(k, n)\n",
    "\n",
    "posterior_prob.plot(kind = 'hist')"
   ]
  },
  {
   "cell_type": "markdown",
   "metadata": {},
   "source": [
    "Produce a set of descriptive statistics for the posterior distribution."
   ]
  },
  {
   "cell_type": "code",
   "execution_count": 24,
   "metadata": {},
   "outputs": [
    {
     "data": {
      "text/plain": [
       "count    1029.000000\n",
       "mean        0.147484\n",
       "std         0.034641\n",
       "min         0.055010\n",
       "25%         0.121917\n",
       "50%         0.145794\n",
       "75%         0.170213\n",
       "max         0.258754\n",
       "dtype: float64"
      ]
     },
     "execution_count": 24,
     "metadata": {},
     "output_type": "execute_result"
    }
   ],
   "source": [
    "posterior_prob.describe()"
   ]
  },
  {
   "cell_type": "markdown",
   "metadata": {},
   "source": [
    "What is the 90% credible interval range?"
   ]
  },
  {
   "cell_type": "code",
   "execution_count": 27,
   "metadata": {},
   "outputs": [
    {
     "data": {
      "text/plain": [
       "(0.14683521600441143, 0.15061252942456424)"
      ]
     },
     "execution_count": 27,
     "metadata": {},
     "output_type": "execute_result"
    }
   ],
   "source": [
    "from scipy.stats import sem, t\n",
    "\n",
    "def conf_interval(sample, confidence):\n",
    "    return t.interval(\n",
    "        confidence, # confidence level, passed in as an argument\n",
    "        len(sample) - 1, # degrees of freedom\n",
    "        loc = sample.mean(),\n",
    "        scale = sem(sample),\n",
    "    )\n",
    "\n",
    "conf_interval(posterior_prob, 0.9) # 90% confidence"
   ]
  },
  {
   "cell_type": "markdown",
   "metadata": {},
   "source": [
    "What is the Maximum Likelihood Estimate?"
   ]
  },
  {
   "cell_type": "code",
   "execution_count": 29,
   "metadata": {},
   "outputs": [
    {
     "data": {
      "text/plain": [
       "0.15"
      ]
     },
     "execution_count": 29,
     "metadata": {},
     "output_type": "execute_result"
    }
   ],
   "source": [
    "def mle(arr): #maximum likelihood estimate, pass in an array\n",
    "    rounded = arr.round(2) # round each value in the array to 2 decimal values\n",
    "    mode = rounded.mode()[0] # find the mode,\n",
    "    prob = list(rounded).count(mode) / len(rounded) # and use the mode to calc a prob\n",
    "    return mode, prob\n",
    "\n",
    "mle(posterior_prob)[0] # returns a tuple, i just need item index zero"
   ]
  }
 ],
 "metadata": {
  "kernelspec": {
   "display_name": "Python 3",
   "language": "python",
   "name": "python3"
  },
  "language_info": {
   "codemirror_mode": {
    "name": "ipython",
    "version": 3
   },
   "file_extension": ".py",
   "mimetype": "text/x-python",
   "name": "python",
   "nbconvert_exporter": "python",
   "pygments_lexer": "ipython3",
   "version": "3.7.4"
  }
 },
 "nbformat": 4,
 "nbformat_minor": 2
}
