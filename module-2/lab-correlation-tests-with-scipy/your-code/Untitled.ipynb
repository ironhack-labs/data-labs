{
 "cells": [
  {
   "cell_type": "code",
   "execution_count": 5,
   "metadata": {},
   "outputs": [],
   "source": [
    "import pandas as pd\n",
    "import numpy as np\n",
    "np.random.seed(42)"
   ]
  },
  {
   "cell_type": "markdown",
   "metadata": {},
   "source": [
    "# Hypothesis Testing \n",
    "\n",
    "## Review\n",
    "\n",
    "* Hypothesis tests are used to compare datasets and determine whether any differences are the result of chance\n",
    "* Hypothesis tests return a **p-value**\n",
    "* The \"p\" stands for \"probability\"\n",
    "* The p-value tells us whether a dataset's mean is the result of chance\n",
    "* To choose the right test from `scipy.stats`, think in terms of your dataframe:\n",
    "    * To compare the mean of **1 column** to a predetermined mean: `ttest_1samp`\n",
    "        * *Null hypothesis: The column mean is equal to the predetermined mean*\n",
    "    * To compare the means of **two related columns**: `ttest_rel`\n",
    "        * *Null hypothesis: For each row, the values in the columns are equal*\n",
    "    * To compare the means of **two independent columns**: `ttest_ind`\n",
    "        * *Null hypothesis: The columns' means are equal*\n",
    "    * To compare the means of **three or more independent columns**: `f_oneway`\n",
    "        * *Null hypothesis: The columns' means are equal*\n",
    "    \n",
    "\n",
    "## ANOVA\n",
    "\n",
    "* <strong>AN</strong>alysis <strong>O</strong>f the <strong>VA</strong>riance\n",
    "* We'll be doing a \"1-way ANOVA\" test\n",
    "* Used to compare means of three or more groups\n",
    "* Groups do not necessarily have to be equal in length\n",
    "* Null hypothesis: groups' means are equal because they have all been drawn from the same population"
   ]
  },
  {
   "cell_type": "code",
   "execution_count": 7,
   "metadata": {},
   "outputs": [],
   "source": [
    "def decimal_str(x: float, decimals: int = 50) -> str:\n",
    "    return format(x, f\".{decimals}f\").lstrip().rstrip('0')\n",
    "\n",
    "def interpret(alpha, p_val):\n",
    "    print(f\"Probability results occurred by chance: {decimal_str(p_val, 30)}.\\nIs our p-value less than the alpha? {'Yes. We reject the null hypothesis! Kill it with fire!' if p_val < alpha else 'No. Our null hypothesis is correct.'}\")\n",
    "\n",
    "def roll(x):\n",
    "    fair = [1,2,3,4,5,6]\n",
    "    unfair = [6,2,3,4,5,6]\n",
    "    return np.random.choice(fair if x == 'fair' else unfair)"
   ]
  },
  {
   "cell_type": "code",
   "execution_count": 9,
   "metadata": {},
   "outputs": [
    {
     "data": {
      "text/html": [
       "<div>\n",
       "<style scoped>\n",
       "    .dataframe tbody tr th:only-of-type {\n",
       "        vertical-align: middle;\n",
       "    }\n",
       "\n",
       "    .dataframe tbody tr th {\n",
       "        vertical-align: top;\n",
       "    }\n",
       "\n",
       "    .dataframe thead th {\n",
       "        text-align: right;\n",
       "    }\n",
       "</style>\n",
       "<table border=\"1\" class=\"dataframe\">\n",
       "  <thead>\n",
       "    <tr style=\"text-align: right;\">\n",
       "      <th></th>\n",
       "      <th>A_1d</th>\n",
       "      <th>A_2d</th>\n",
       "      <th>A_3d</th>\n",
       "      <th>B_1d</th>\n",
       "      <th>B_2d</th>\n",
       "      <th>B_3d</th>\n",
       "    </tr>\n",
       "  </thead>\n",
       "  <tbody>\n",
       "    <tr>\n",
       "      <th>0</th>\n",
       "      <td>4</td>\n",
       "      <td>6</td>\n",
       "      <td>3</td>\n",
       "      <td>1</td>\n",
       "      <td>5</td>\n",
       "      <td>4</td>\n",
       "    </tr>\n",
       "    <tr>\n",
       "      <th>1</th>\n",
       "      <td>5</td>\n",
       "      <td>5</td>\n",
       "      <td>6</td>\n",
       "      <td>5</td>\n",
       "      <td>4</td>\n",
       "      <td>6</td>\n",
       "    </tr>\n",
       "    <tr>\n",
       "      <th>2</th>\n",
       "      <td>3</td>\n",
       "      <td>6</td>\n",
       "      <td>4</td>\n",
       "      <td>2</td>\n",
       "      <td>3</td>\n",
       "      <td>4</td>\n",
       "    </tr>\n",
       "    <tr>\n",
       "      <th>3</th>\n",
       "      <td>5</td>\n",
       "      <td>6</td>\n",
       "      <td>5</td>\n",
       "      <td>5</td>\n",
       "      <td>3</td>\n",
       "      <td>4</td>\n",
       "    </tr>\n",
       "    <tr>\n",
       "      <th>4</th>\n",
       "      <td>5</td>\n",
       "      <td>4</td>\n",
       "      <td>5</td>\n",
       "      <td>4</td>\n",
       "      <td>4</td>\n",
       "      <td>4</td>\n",
       "    </tr>\n",
       "  </tbody>\n",
       "</table>\n",
       "</div>"
      ],
      "text/plain": [
       "   A_1d  A_2d  A_3d  B_1d  B_2d  B_3d\n",
       "0     4     6     3     1     5     4\n",
       "1     5     5     6     5     4     6\n",
       "2     3     6     4     2     3     4\n",
       "3     5     6     5     5     3     4\n",
       "4     5     4     5     4     4     4"
      ]
     },
     "execution_count": 9,
     "metadata": {},
     "output_type": "execute_result"
    }
   ],
   "source": [
    "r = 1000\n",
    "\n",
    "df = pd.DataFrame({\n",
    "    'A_1d': [roll('fair') for _ in range(r)],\n",
    "    'A_2d': [roll('fair') for _ in range(r)],\n",
    "    'A_3d': [roll('fair') for _ in range(r)],\n",
    "    \n",
    "    'B_1d': [roll('fair') for _ in range(r)],\n",
    "    'B_2d': [roll('fair') for _ in range(r)],\n",
    "    'B_3d': [roll('unfair') for _ in range(r)]\n",
    "})\n",
    "\n",
    "df.head(5)"
   ]
  },
  {
   "cell_type": "markdown",
   "metadata": {},
   "source": [
    "One of these is not like the others"
   ]
  },
  {
   "cell_type": "code",
   "execution_count": 10,
   "metadata": {},
   "outputs": [
    {
     "data": {
      "text/plain": [
       "A_1d    3.457\n",
       "A_2d    3.500\n",
       "A_3d    3.568\n",
       "B_1d    3.502\n",
       "B_2d    3.439\n",
       "B_3d    4.333\n",
       "dtype: float64"
      ]
     },
     "execution_count": 10,
     "metadata": {},
     "output_type": "execute_result"
    }
   ],
   "source": [
    "df.mean()"
   ]
  },
  {
   "cell_type": "code",
   "execution_count": 11,
   "metadata": {},
   "outputs": [
    {
     "data": {
      "text/plain": [
       "'0.00000000000000000000000000000000000000000042671472'"
      ]
     },
     "execution_count": 11,
     "metadata": {},
     "output_type": "execute_result"
    }
   ],
   "source": [
    "from scipy.stats import f_oneway\n",
    "\n",
    "p_val = f_oneway(\n",
    "    df['A_1d'],\n",
    "    df['A_2d'],\n",
    "    df['A_3d'],\n",
    "    df['B_1d'],\n",
    "    df['B_2d'],\n",
    "    df['B_3d'],\n",
    ")[1]\n",
    "decimal_str(p_val) #this is significant small compared to 0.05 meaning something else is going on"
   ]
  },
  {
   "cell_type": "code",
   "execution_count": 12,
   "metadata": {},
   "outputs": [
    {
     "data": {
      "text/plain": [
       "True"
      ]
     },
     "execution_count": 12,
     "metadata": {},
     "output_type": "execute_result"
    }
   ],
   "source": [
    "p_val < 0.05"
   ]
  },
  {
   "cell_type": "markdown",
   "metadata": {},
   "source": [
    "An alternate sytnax that pases a list of all columns as *args:"
   ]
  },
  {
   "cell_type": "code",
   "execution_count": 15,
   "metadata": {},
   "outputs": [
    {
     "data": {
      "text/plain": [
       "'0.00000000000000000000000000000000000000000042671472'"
      ]
     },
     "execution_count": 15,
     "metadata": {},
     "output_type": "execute_result"
    }
   ],
   "source": [
    "decimal_str(f_oneway( *[df[col] for col in df])[1]) # * args , ** kwargs"
   ]
  },
  {
   "cell_type": "code",
   "execution_count": 18,
   "metadata": {},
   "outputs": [
    {
     "name": "stdout",
     "output_type": "stream",
     "text": [
      "0      4\n",
      "1      5\n",
      "2      3\n",
      "3      5\n",
      "4      5\n",
      "5      2\n",
      "6      3\n",
      "7      3\n",
      "8      3\n",
      "9      5\n",
      "10     4\n",
      "11     3\n",
      "12     6\n",
      "13     5\n",
      "14     2\n",
      "15     4\n",
      "16     6\n",
      "17     6\n",
      "18     2\n",
      "19     4\n",
      "20     5\n",
      "21     1\n",
      "22     4\n",
      "23     2\n",
      "24     6\n",
      "25     5\n",
      "26     4\n",
      "27     1\n",
      "28     1\n",
      "29     3\n",
      "      ..\n",
      "970    5\n",
      "971    4\n",
      "972    1\n",
      "973    4\n",
      "974    2\n",
      "975    3\n",
      "976    1\n",
      "977    5\n",
      "978    2\n",
      "979    4\n",
      "980    6\n",
      "981    2\n",
      "982    1\n",
      "983    4\n",
      "984    3\n",
      "985    2\n",
      "986    1\n",
      "987    5\n",
      "988    6\n",
      "989    4\n",
      "990    2\n",
      "991    2\n",
      "992    3\n",
      "993    3\n",
      "994    5\n",
      "995    6\n",
      "996    5\n",
      "997    1\n",
      "998    1\n",
      "999    5\n",
      "Name: A_1d, Length: 1000, dtype: int64\n"
     ]
    }
   ],
   "source": [
    "def arg(*args):\n",
    "    for arg in args:\n",
    "        print(arg)\n",
    "        \n",
    "arg(df['A_1d'])"
   ]
  },
  {
   "cell_type": "code",
   "execution_count": 19,
   "metadata": {},
   "outputs": [
    {
     "name": "stdout",
     "output_type": "stream",
     "text": [
      "1\n",
      "2\n"
     ]
    }
   ],
   "source": [
    "arg(*[1,2]) #treating them as separate arguments"
   ]
  },
  {
   "cell_type": "code",
   "execution_count": 20,
   "metadata": {},
   "outputs": [
    {
     "name": "stdout",
     "output_type": "stream",
     "text": [
      "[1, 2]\n"
     ]
    }
   ],
   "source": [
    "arg([1,2])"
   ]
  },
  {
   "cell_type": "code",
   "execution_count": 1,
   "metadata": {},
   "outputs": [],
   "source": [
    "import pandas as pd\n",
    "import numpy as np\n",
    "import seaborn as sns\n",
    "import matplotlib.pyplot as plt"
   ]
  },
  {
   "cell_type": "code",
   "execution_count": 2,
   "metadata": {},
   "outputs": [
    {
     "data": {
      "text/plain": [
       "<matplotlib.axes._subplots.AxesSubplot at 0x1a190ca278>"
      ]
     },
     "execution_count": 2,
     "metadata": {},
     "output_type": "execute_result"
    },
    {
     "data": {
      "image/png": "[encoded data removed]",
      "text/plain": [
       "<Figure size 432x288 with 1 Axes>"
      ]
     },
     "metadata": {
      "needs_background": "light"
     },
     "output_type": "display_data"
    }
   ],
   "source": [
    "df = pd.DataFrame({\n",
    "    'x' : range(10),\n",
    "    'y' : range(0, 20, 2)\n",
    "})\n",
    "\n",
    "df.plot('x', 'y', kind = 'scatter')"
   ]
  },
  {
   "cell_type": "code",
   "execution_count": 3,
   "metadata": {},
   "outputs": [
    {
     "data": {
      "text/plain": [
       "(2.0, 0.0, 1.0, 4.375000000000076e-80, 0.0)"
      ]
     },
     "execution_count": 3,
     "metadata": {},
     "output_type": "execute_result"
    }
   ],
   "source": [
    "from scipy.stats import linregress\n",
    "\n",
    "slope, intercept, r_squared, p_value, std_err = linregress(\n",
    "    df['x'],\n",
    "    df['y']\n",
    ")\n",
    "slope, intercept, r_squared, p_value, std_err"
   ]
  },
  {
   "cell_type": "code",
   "execution_count": 4,
   "metadata": {},
   "outputs": [
    {
     "data": {
      "text/plain": [
       "[<matplotlib.lines.Line2D at 0x1a19a50668>]"
      ]
     },
     "execution_count": 4,
     "metadata": {},
     "output_type": "execute_result"
    },
    {
     "data": {
      "image/png": "[encoded data removed]",
      "text/plain": [
       "<Figure size 432x288 with 1 Axes>"
      ]
     },
     "metadata": {
      "needs_background": "light"
     },
     "output_type": "display_data"
    }
   ],
   "source": [
    "plt.scatter(df['x'], df['y'])\n",
    "plt.plot(\n",
    "    df['x'],\n",
    "    (slope * df['x'])  + intercept, # y = mx + b\n",
    "    color = 'red',\n",
    "    alpha = .5,\n",
    "    linestyle = '--'\n",
    ")"
   ]
  },
  {
   "cell_type": "code",
   "execution_count": 6,
   "metadata": {},
   "outputs": [],
   "source": [
    "# R-square value of 1 means taht 100% of the variation in Y is explained by X. The closer\n",
    "# the R-square is to 1, the more yuor model fits your data and the closer are the observed\n",
    "# to the fitted values"
   ]
  },
  {
   "cell_type": "code",
   "execution_count": 5,
   "metadata": {},
   "outputs": [
    {
     "data": {
      "text/plain": [
       "array([ 0.61461523, -0.81761316,  0.1984065 ,  0.69891598, -0.44575319,\n",
       "       -0.6787337 ,  0.7804774 , -0.8290984 , -0.49494707, -0.83492031])"
      ]
     },
     "execution_count": 5,
     "metadata": {},
     "output_type": "execute_result"
    }
   ],
   "source": [
    "noise = (.5 - np.random.rand(10)) * 2\n",
    "noise"
   ]
  },
  {
   "cell_type": "code",
   "execution_count": 7,
   "metadata": {},
   "outputs": [
    {
     "data": {
      "text/html": [
       "<div>\n",
       "<style scoped>\n",
       "    .dataframe tbody tr th:only-of-type {\n",
       "        vertical-align: middle;\n",
       "    }\n",
       "\n",
       "    .dataframe tbody tr th {\n",
       "        vertical-align: top;\n",
       "    }\n",
       "\n",
       "    .dataframe thead th {\n",
       "        text-align: right;\n",
       "    }\n",
       "</style>\n",
       "<table border=\"1\" class=\"dataframe\">\n",
       "  <thead>\n",
       "    <tr style=\"text-align: right;\">\n",
       "      <th></th>\n",
       "      <th>x</th>\n",
       "      <th>y</th>\n",
       "    </tr>\n",
       "  </thead>\n",
       "  <tbody>\n",
       "    <tr>\n",
       "      <th>0</th>\n",
       "      <td>0</td>\n",
       "      <td>1.229230</td>\n",
       "    </tr>\n",
       "    <tr>\n",
       "      <th>1</th>\n",
       "      <td>1</td>\n",
       "      <td>0.364774</td>\n",
       "    </tr>\n",
       "    <tr>\n",
       "      <th>2</th>\n",
       "      <td>2</td>\n",
       "      <td>4.396813</td>\n",
       "    </tr>\n",
       "    <tr>\n",
       "      <th>3</th>\n",
       "      <td>3</td>\n",
       "      <td>7.397832</td>\n",
       "    </tr>\n",
       "    <tr>\n",
       "      <th>4</th>\n",
       "      <td>4</td>\n",
       "      <td>7.108494</td>\n",
       "    </tr>\n",
       "  </tbody>\n",
       "</table>\n",
       "</div>"
      ],
      "text/plain": [
       "   x         y\n",
       "0  0  1.229230\n",
       "1  1  0.364774\n",
       "2  2  4.396813\n",
       "3  3  7.397832\n",
       "4  4  7.108494"
      ]
     },
     "execution_count": 7,
     "metadata": {},
     "output_type": "execute_result"
    }
   ],
   "source": [
    "df2 = pd.DataFrame({\n",
    "    'x': df['x'],\n",
    "    'y': (df['x'] + noise) * 2\n",
    "})\n",
    "\n",
    "df2.head()"
   ]
  },
  {
   "cell_type": "code",
   "execution_count": 8,
   "metadata": {},
   "outputs": [
    {
     "data": {
      "text/plain": [
       "<matplotlib.axes._subplots.AxesSubplot at 0x1a1a0c0198>"
      ]
     },
     "execution_count": 8,
     "metadata": {},
     "output_type": "execute_result"
    },
    {
     "data": {
      "image/png": "[encoded data removed]",
      "text/plain": [
       "<Figure size 432x288 with 1 Axes>"
      ]
     },
     "metadata": {
      "needs_background": "light"
     },
     "output_type": "display_data"
    }
   ],
   "source": [
    "df2.plot('x', 'y', kind = 'scatter')"
   ]
  },
  {
   "cell_type": "code",
   "execution_count": 11,
   "metadata": {},
   "outputs": [
    {
     "data": {
      "text/plain": [
       "(1.807115419077248,\n",
       " 0.5062504695358196,\n",
       " 0.9758317824580359,\n",
       " 1.4497899830624541e-06,\n",
       " 0.1430748283140399)"
      ]
     },
     "execution_count": 11,
     "metadata": {},
     "output_type": "execute_result"
    }
   ],
   "source": [
    "from scipy.stats import linregress\n",
    "\n",
    "slope, intercept, r_squared, p_value, std_err = linregress(\n",
    "    df2['x'],\n",
    "    df2['y']\n",
    ")\n",
    "slope, intercept, r_squared, p_value, std_err"
   ]
  },
  {
   "cell_type": "code",
   "execution_count": 12,
   "metadata": {},
   "outputs": [
    {
     "data": {
      "text/plain": [
       "[<matplotlib.lines.Line2D at 0x1a1a1f70f0>]"
      ]
     },
     "execution_count": 12,
     "metadata": {},
     "output_type": "execute_result"
    },
    {
     "data": {
      "image/png": "[encoded data removed]",
      "text/plain": [
       "<Figure size 432x288 with 1 Axes>"
      ]
     },
     "metadata": {
      "needs_background": "light"
     },
     "output_type": "display_data"
    }
   ],
   "source": [
    "plt.scatter(df2['x'], df2['y'])\n",
    "plt.plot(\n",
    "    df2['x'],\n",
    "    (slope * df2['x'])  + intercept, # y = mx + b\n",
    "    color = 'red',\n",
    "    alpha = .5,\n",
    "    linestyle = '--'\n",
    ")"
   ]
  },
  {
   "cell_type": "code",
   "execution_count": 13,
   "metadata": {},
   "outputs": [
    {
     "data": {
      "text/plain": [
       "<matplotlib.axes._subplots.AxesSubplot at 0x1a1a2cf400>"
      ]
     },
     "execution_count": 13,
     "metadata": {},
     "output_type": "execute_result"
    },
    {
     "data": {
      "image/png": "[encoded data removed]",
      "text/plain": [
       "<Figure size 432x288 with 1 Axes>"
      ]
     },
     "metadata": {
      "needs_background": "light"
     },
     "output_type": "display_data"
    }
   ],
   "source": [
    "import seaborn as sns\n",
    "\n",
    "sns.regplot( x = 'x', y = 'y', data = df2)"
   ]
  },
  {
   "cell_type": "code",
   "execution_count": null,
   "metadata": {},
   "outputs": [],
   "source": []
  }
 ],
 "metadata": {
  "kernelspec": {
   "display_name": "Python 3",
   "language": "python",
   "name": "python3"
  },
  "language_info": {
   "codemirror_mode": {
    "name": "ipython",
    "version": 3
   },
   "file_extension": ".py",
   "mimetype": "text/x-python",
   "name": "python",
   "nbconvert_exporter": "python",
   "pygments_lexer": "ipython3",
   "version": "3.7.3"
  }
 },
 "nbformat": 4,
 "nbformat_minor": 2
}
