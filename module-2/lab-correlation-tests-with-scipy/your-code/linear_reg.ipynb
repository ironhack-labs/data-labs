import pandas as pd
import numpy as np
import seaborn as sns
import matplotlib.pyplot as plt

%matplotlib inline

df = pd.DataFrame({
    'x': range(10),
    'y': range(0, 20, 2)
})

df.plot('x', 'y', kind = 'scatter')